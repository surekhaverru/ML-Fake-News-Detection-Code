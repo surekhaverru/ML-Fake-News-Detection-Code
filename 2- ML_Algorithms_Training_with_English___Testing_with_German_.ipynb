{
  "cells": [
    {
      "cell_type": "code",
      "execution_count": 1,
      "metadata": {
        "colab": {
          "base_uri": "https://localhost:8080/",
          "height": 423
        },
        "id": "ePD-7CbyT9WK",
        "outputId": "1c936e47-dbdc-49b7-f09a-1ac2fceb9644"
      },
      "outputs": [
        {
          "output_type": "execute_result",
          "data": {
            "text/plain": [
              "                                                    text  label\n",
              "0      comment expected barack obama members fyf fuky...      1\n",
              "1                             post votes hillary already      1\n",
              "2      demonstrators gathered last night exercising c...      1\n",
              "3      dozen politically active pastors came private ...      0\n",
              "4      rs sarmat missile dubbed satan replace ss flie...      1\n",
              "...                                                  ...    ...\n",
              "29995  washington reuters u president donald trump fa...      0\n",
              "29996  thank goodness mandatory financial disclosures...      1\n",
              "29997  washington reuters vice president mike pence t...      0\n",
              "29998  share joe giambrone everything printed year do...      1\n",
              "29999  lima reuters former authoritarian leader alber...      0\n",
              "\n",
              "[30000 rows x 2 columns]"
            ],
            "text/html": [
              "\n",
              "  <div id=\"df-cf5254fe-17ee-4add-9cc0-8c4a7c66ff73\" class=\"colab-df-container\">\n",
              "    <div>\n",
              "<style scoped>\n",
              "    .dataframe tbody tr th:only-of-type {\n",
              "        vertical-align: middle;\n",
              "    }\n",
              "\n",
              "    .dataframe tbody tr th {\n",
              "        vertical-align: top;\n",
              "    }\n",
              "\n",
              "    .dataframe thead th {\n",
              "        text-align: right;\n",
              "    }\n",
              "</style>\n",
              "<table border=\"1\" class=\"dataframe\">\n",
              "  <thead>\n",
              "    <tr style=\"text-align: right;\">\n",
              "      <th></th>\n",
              "      <th>text</th>\n",
              "      <th>label</th>\n",
              "    </tr>\n",
              "  </thead>\n",
              "  <tbody>\n",
              "    <tr>\n",
              "      <th>0</th>\n",
              "      <td>comment expected barack obama members fyf fuky...</td>\n",
              "      <td>1</td>\n",
              "    </tr>\n",
              "    <tr>\n",
              "      <th>1</th>\n",
              "      <td>post votes hillary already</td>\n",
              "      <td>1</td>\n",
              "    </tr>\n",
              "    <tr>\n",
              "      <th>2</th>\n",
              "      <td>demonstrators gathered last night exercising c...</td>\n",
              "      <td>1</td>\n",
              "    </tr>\n",
              "    <tr>\n",
              "      <th>3</th>\n",
              "      <td>dozen politically active pastors came private ...</td>\n",
              "      <td>0</td>\n",
              "    </tr>\n",
              "    <tr>\n",
              "      <th>4</th>\n",
              "      <td>rs sarmat missile dubbed satan replace ss flie...</td>\n",
              "      <td>1</td>\n",
              "    </tr>\n",
              "    <tr>\n",
              "      <th>...</th>\n",
              "      <td>...</td>\n",
              "      <td>...</td>\n",
              "    </tr>\n",
              "    <tr>\n",
              "      <th>29995</th>\n",
              "      <td>washington reuters u president donald trump fa...</td>\n",
              "      <td>0</td>\n",
              "    </tr>\n",
              "    <tr>\n",
              "      <th>29996</th>\n",
              "      <td>thank goodness mandatory financial disclosures...</td>\n",
              "      <td>1</td>\n",
              "    </tr>\n",
              "    <tr>\n",
              "      <th>29997</th>\n",
              "      <td>washington reuters vice president mike pence t...</td>\n",
              "      <td>0</td>\n",
              "    </tr>\n",
              "    <tr>\n",
              "      <th>29998</th>\n",
              "      <td>share joe giambrone everything printed year do...</td>\n",
              "      <td>1</td>\n",
              "    </tr>\n",
              "    <tr>\n",
              "      <th>29999</th>\n",
              "      <td>lima reuters former authoritarian leader alber...</td>\n",
              "      <td>0</td>\n",
              "    </tr>\n",
              "  </tbody>\n",
              "</table>\n",
              "<p>30000 rows × 2 columns</p>\n",
              "</div>\n",
              "    <div class=\"colab-df-buttons\">\n",
              "\n",
              "  <div class=\"colab-df-container\">\n",
              "    <button class=\"colab-df-convert\" onclick=\"convertToInteractive('df-cf5254fe-17ee-4add-9cc0-8c4a7c66ff73')\"\n",
              "            title=\"Convert this dataframe to an interactive table.\"\n",
              "            style=\"display:none;\">\n",
              "\n",
              "  <svg xmlns=\"http://www.w3.org/2000/svg\" height=\"24px\" viewBox=\"0 -960 960 960\">\n",
              "    <path d=\"M120-120v-720h720v720H120Zm60-500h600v-160H180v160Zm220 220h160v-160H400v160Zm0 220h160v-160H400v160ZM180-400h160v-160H180v160Zm440 0h160v-160H620v160ZM180-180h160v-160H180v160Zm440 0h160v-160H620v160Z\"/>\n",
              "  </svg>\n",
              "    </button>\n",
              "\n",
              "  <style>\n",
              "    .colab-df-container {\n",
              "      display:flex;\n",
              "      gap: 12px;\n",
              "    }\n",
              "\n",
              "    .colab-df-convert {\n",
              "      background-color: #E8F0FE;\n",
              "      border: none;\n",
              "      border-radius: 50%;\n",
              "      cursor: pointer;\n",
              "      display: none;\n",
              "      fill: #1967D2;\n",
              "      height: 32px;\n",
              "      padding: 0 0 0 0;\n",
              "      width: 32px;\n",
              "    }\n",
              "\n",
              "    .colab-df-convert:hover {\n",
              "      background-color: #E2EBFA;\n",
              "      box-shadow: 0px 1px 2px rgba(60, 64, 67, 0.3), 0px 1px 3px 1px rgba(60, 64, 67, 0.15);\n",
              "      fill: #174EA6;\n",
              "    }\n",
              "\n",
              "    .colab-df-buttons div {\n",
              "      margin-bottom: 4px;\n",
              "    }\n",
              "\n",
              "    [theme=dark] .colab-df-convert {\n",
              "      background-color: #3B4455;\n",
              "      fill: #D2E3FC;\n",
              "    }\n",
              "\n",
              "    [theme=dark] .colab-df-convert:hover {\n",
              "      background-color: #434B5C;\n",
              "      box-shadow: 0px 1px 3px 1px rgba(0, 0, 0, 0.15);\n",
              "      filter: drop-shadow(0px 1px 2px rgba(0, 0, 0, 0.3));\n",
              "      fill: #FFFFFF;\n",
              "    }\n",
              "  </style>\n",
              "\n",
              "    <script>\n",
              "      const buttonEl =\n",
              "        document.querySelector('#df-cf5254fe-17ee-4add-9cc0-8c4a7c66ff73 button.colab-df-convert');\n",
              "      buttonEl.style.display =\n",
              "        google.colab.kernel.accessAllowed ? 'block' : 'none';\n",
              "\n",
              "      async function convertToInteractive(key) {\n",
              "        const element = document.querySelector('#df-cf5254fe-17ee-4add-9cc0-8c4a7c66ff73');\n",
              "        const dataTable =\n",
              "          await google.colab.kernel.invokeFunction('convertToInteractive',\n",
              "                                                    [key], {});\n",
              "        if (!dataTable) return;\n",
              "\n",
              "        const docLinkHtml = 'Like what you see? Visit the ' +\n",
              "          '<a target=\"_blank\" href=https://colab.research.google.com/notebooks/data_table.ipynb>data table notebook</a>'\n",
              "          + ' to learn more about interactive tables.';\n",
              "        element.innerHTML = '';\n",
              "        dataTable['output_type'] = 'display_data';\n",
              "        await google.colab.output.renderOutput(dataTable, element);\n",
              "        const docLink = document.createElement('div');\n",
              "        docLink.innerHTML = docLinkHtml;\n",
              "        element.appendChild(docLink);\n",
              "      }\n",
              "    </script>\n",
              "  </div>\n",
              "\n",
              "\n",
              "<div id=\"df-a5942011-3591-4067-b8e6-7366961e12a8\">\n",
              "  <button class=\"colab-df-quickchart\" onclick=\"quickchart('df-a5942011-3591-4067-b8e6-7366961e12a8')\"\n",
              "            title=\"Suggest charts\"\n",
              "            style=\"display:none;\">\n",
              "\n",
              "<svg xmlns=\"http://www.w3.org/2000/svg\" height=\"24px\"viewBox=\"0 0 24 24\"\n",
              "     width=\"24px\">\n",
              "    <g>\n",
              "        <path d=\"M19 3H5c-1.1 0-2 .9-2 2v14c0 1.1.9 2 2 2h14c1.1 0 2-.9 2-2V5c0-1.1-.9-2-2-2zM9 17H7v-7h2v7zm4 0h-2V7h2v10zm4 0h-2v-4h2v4z\"/>\n",
              "    </g>\n",
              "</svg>\n",
              "  </button>\n",
              "\n",
              "<style>\n",
              "  .colab-df-quickchart {\n",
              "      --bg-color: #E8F0FE;\n",
              "      --fill-color: #1967D2;\n",
              "      --hover-bg-color: #E2EBFA;\n",
              "      --hover-fill-color: #174EA6;\n",
              "      --disabled-fill-color: #AAA;\n",
              "      --disabled-bg-color: #DDD;\n",
              "  }\n",
              "\n",
              "  [theme=dark] .colab-df-quickchart {\n",
              "      --bg-color: #3B4455;\n",
              "      --fill-color: #D2E3FC;\n",
              "      --hover-bg-color: #434B5C;\n",
              "      --hover-fill-color: #FFFFFF;\n",
              "      --disabled-bg-color: #3B4455;\n",
              "      --disabled-fill-color: #666;\n",
              "  }\n",
              "\n",
              "  .colab-df-quickchart {\n",
              "    background-color: var(--bg-color);\n",
              "    border: none;\n",
              "    border-radius: 50%;\n",
              "    cursor: pointer;\n",
              "    display: none;\n",
              "    fill: var(--fill-color);\n",
              "    height: 32px;\n",
              "    padding: 0;\n",
              "    width: 32px;\n",
              "  }\n",
              "\n",
              "  .colab-df-quickchart:hover {\n",
              "    background-color: var(--hover-bg-color);\n",
              "    box-shadow: 0 1px 2px rgba(60, 64, 67, 0.3), 0 1px 3px 1px rgba(60, 64, 67, 0.15);\n",
              "    fill: var(--button-hover-fill-color);\n",
              "  }\n",
              "\n",
              "  .colab-df-quickchart-complete:disabled,\n",
              "  .colab-df-quickchart-complete:disabled:hover {\n",
              "    background-color: var(--disabled-bg-color);\n",
              "    fill: var(--disabled-fill-color);\n",
              "    box-shadow: none;\n",
              "  }\n",
              "\n",
              "  .colab-df-spinner {\n",
              "    border: 2px solid var(--fill-color);\n",
              "    border-color: transparent;\n",
              "    border-bottom-color: var(--fill-color);\n",
              "    animation:\n",
              "      spin 1s steps(1) infinite;\n",
              "  }\n",
              "\n",
              "  @keyframes spin {\n",
              "    0% {\n",
              "      border-color: transparent;\n",
              "      border-bottom-color: var(--fill-color);\n",
              "      border-left-color: var(--fill-color);\n",
              "    }\n",
              "    20% {\n",
              "      border-color: transparent;\n",
              "      border-left-color: var(--fill-color);\n",
              "      border-top-color: var(--fill-color);\n",
              "    }\n",
              "    30% {\n",
              "      border-color: transparent;\n",
              "      border-left-color: var(--fill-color);\n",
              "      border-top-color: var(--fill-color);\n",
              "      border-right-color: var(--fill-color);\n",
              "    }\n",
              "    40% {\n",
              "      border-color: transparent;\n",
              "      border-right-color: var(--fill-color);\n",
              "      border-top-color: var(--fill-color);\n",
              "    }\n",
              "    60% {\n",
              "      border-color: transparent;\n",
              "      border-right-color: var(--fill-color);\n",
              "    }\n",
              "    80% {\n",
              "      border-color: transparent;\n",
              "      border-right-color: var(--fill-color);\n",
              "      border-bottom-color: var(--fill-color);\n",
              "    }\n",
              "    90% {\n",
              "      border-color: transparent;\n",
              "      border-bottom-color: var(--fill-color);\n",
              "    }\n",
              "  }\n",
              "</style>\n",
              "\n",
              "  <script>\n",
              "    async function quickchart(key) {\n",
              "      const quickchartButtonEl =\n",
              "        document.querySelector('#' + key + ' button');\n",
              "      quickchartButtonEl.disabled = true;  // To prevent multiple clicks.\n",
              "      quickchartButtonEl.classList.add('colab-df-spinner');\n",
              "      try {\n",
              "        const charts = await google.colab.kernel.invokeFunction(\n",
              "            'suggestCharts', [key], {});\n",
              "      } catch (error) {\n",
              "        console.error('Error during call to suggestCharts:', error);\n",
              "      }\n",
              "      quickchartButtonEl.classList.remove('colab-df-spinner');\n",
              "      quickchartButtonEl.classList.add('colab-df-quickchart-complete');\n",
              "    }\n",
              "    (() => {\n",
              "      let quickchartButtonEl =\n",
              "        document.querySelector('#df-a5942011-3591-4067-b8e6-7366961e12a8 button');\n",
              "      quickchartButtonEl.style.display =\n",
              "        google.colab.kernel.accessAllowed ? 'block' : 'none';\n",
              "    })();\n",
              "  </script>\n",
              "</div>\n",
              "    </div>\n",
              "  </div>\n"
            ]
          },
          "metadata": {},
          "execution_count": 1
        }
      ],
      "source": [
        "import pandas as mulgul_engpd\n",
        "\n",
        "mulgul_eng = mulgul_engpd.read_csv('mulgul_eng.csv',nrows=30000) # read English data\n",
        "mulgul_eng"
      ]
    },
    {
      "cell_type": "code",
      "execution_count": 2,
      "metadata": {
        "colab": {
          "base_uri": "https://localhost:8080/",
          "height": 423
        },
        "id": "UodRIhXvqaOt",
        "outputId": "ff34e06f-173c-4251-88f3-c0cae2127b23"
      },
      "outputs": [
        {
          "output_type": "execute_result",
          "data": {
            "text/plain": [
              "                                                    Body  Fake\n",
              "0      sondierungsgespr che union spd endeten komprom...     1\n",
              "1      medizinisch offiziell best tigt milit r rztlic...     1\n",
              "2      z he verhandlungen freien demokraten k nnen zu...     1\n",
              "3      treibt immer sp t nacht herum joachim sauer be...     1\n",
              "4      parteivorstand dr ckt nochmal auge nachdem noa...     1\n",
              "...                                                  ...   ...\n",
              "29995  krisengebeutelte europ ische automobilmarkt ta...     0\n",
              "29996  us kabelkonzern liberty global bieterrennen ka...     0\n",
              "29997  angesichts tiefen rezession euro zone fasst ez...     0\n",
              "29998  commerzbank fallen n chsten jahren voraussicht...     0\n",
              "29999  bundesbank chef jens weidmann weiche auslegung...     0\n",
              "\n",
              "[30000 rows x 2 columns]"
            ],
            "text/html": [
              "\n",
              "  <div id=\"df-e9416f8f-79ec-4679-8715-7168bf1994b4\" class=\"colab-df-container\">\n",
              "    <div>\n",
              "<style scoped>\n",
              "    .dataframe tbody tr th:only-of-type {\n",
              "        vertical-align: middle;\n",
              "    }\n",
              "\n",
              "    .dataframe tbody tr th {\n",
              "        vertical-align: top;\n",
              "    }\n",
              "\n",
              "    .dataframe thead th {\n",
              "        text-align: right;\n",
              "    }\n",
              "</style>\n",
              "<table border=\"1\" class=\"dataframe\">\n",
              "  <thead>\n",
              "    <tr style=\"text-align: right;\">\n",
              "      <th></th>\n",
              "      <th>Body</th>\n",
              "      <th>Fake</th>\n",
              "    </tr>\n",
              "  </thead>\n",
              "  <tbody>\n",
              "    <tr>\n",
              "      <th>0</th>\n",
              "      <td>sondierungsgespr che union spd endeten komprom...</td>\n",
              "      <td>1</td>\n",
              "    </tr>\n",
              "    <tr>\n",
              "      <th>1</th>\n",
              "      <td>medizinisch offiziell best tigt milit r rztlic...</td>\n",
              "      <td>1</td>\n",
              "    </tr>\n",
              "    <tr>\n",
              "      <th>2</th>\n",
              "      <td>z he verhandlungen freien demokraten k nnen zu...</td>\n",
              "      <td>1</td>\n",
              "    </tr>\n",
              "    <tr>\n",
              "      <th>3</th>\n",
              "      <td>treibt immer sp t nacht herum joachim sauer be...</td>\n",
              "      <td>1</td>\n",
              "    </tr>\n",
              "    <tr>\n",
              "      <th>4</th>\n",
              "      <td>parteivorstand dr ckt nochmal auge nachdem noa...</td>\n",
              "      <td>1</td>\n",
              "    </tr>\n",
              "    <tr>\n",
              "      <th>...</th>\n",
              "      <td>...</td>\n",
              "      <td>...</td>\n",
              "    </tr>\n",
              "    <tr>\n",
              "      <th>29995</th>\n",
              "      <td>krisengebeutelte europ ische automobilmarkt ta...</td>\n",
              "      <td>0</td>\n",
              "    </tr>\n",
              "    <tr>\n",
              "      <th>29996</th>\n",
              "      <td>us kabelkonzern liberty global bieterrennen ka...</td>\n",
              "      <td>0</td>\n",
              "    </tr>\n",
              "    <tr>\n",
              "      <th>29997</th>\n",
              "      <td>angesichts tiefen rezession euro zone fasst ez...</td>\n",
              "      <td>0</td>\n",
              "    </tr>\n",
              "    <tr>\n",
              "      <th>29998</th>\n",
              "      <td>commerzbank fallen n chsten jahren voraussicht...</td>\n",
              "      <td>0</td>\n",
              "    </tr>\n",
              "    <tr>\n",
              "      <th>29999</th>\n",
              "      <td>bundesbank chef jens weidmann weiche auslegung...</td>\n",
              "      <td>0</td>\n",
              "    </tr>\n",
              "  </tbody>\n",
              "</table>\n",
              "<p>30000 rows × 2 columns</p>\n",
              "</div>\n",
              "    <div class=\"colab-df-buttons\">\n",
              "\n",
              "  <div class=\"colab-df-container\">\n",
              "    <button class=\"colab-df-convert\" onclick=\"convertToInteractive('df-e9416f8f-79ec-4679-8715-7168bf1994b4')\"\n",
              "            title=\"Convert this dataframe to an interactive table.\"\n",
              "            style=\"display:none;\">\n",
              "\n",
              "  <svg xmlns=\"http://www.w3.org/2000/svg\" height=\"24px\" viewBox=\"0 -960 960 960\">\n",
              "    <path d=\"M120-120v-720h720v720H120Zm60-500h600v-160H180v160Zm220 220h160v-160H400v160Zm0 220h160v-160H400v160ZM180-400h160v-160H180v160Zm440 0h160v-160H620v160ZM180-180h160v-160H180v160Zm440 0h160v-160H620v160Z\"/>\n",
              "  </svg>\n",
              "    </button>\n",
              "\n",
              "  <style>\n",
              "    .colab-df-container {\n",
              "      display:flex;\n",
              "      gap: 12px;\n",
              "    }\n",
              "\n",
              "    .colab-df-convert {\n",
              "      background-color: #E8F0FE;\n",
              "      border: none;\n",
              "      border-radius: 50%;\n",
              "      cursor: pointer;\n",
              "      display: none;\n",
              "      fill: #1967D2;\n",
              "      height: 32px;\n",
              "      padding: 0 0 0 0;\n",
              "      width: 32px;\n",
              "    }\n",
              "\n",
              "    .colab-df-convert:hover {\n",
              "      background-color: #E2EBFA;\n",
              "      box-shadow: 0px 1px 2px rgba(60, 64, 67, 0.3), 0px 1px 3px 1px rgba(60, 64, 67, 0.15);\n",
              "      fill: #174EA6;\n",
              "    }\n",
              "\n",
              "    .colab-df-buttons div {\n",
              "      margin-bottom: 4px;\n",
              "    }\n",
              "\n",
              "    [theme=dark] .colab-df-convert {\n",
              "      background-color: #3B4455;\n",
              "      fill: #D2E3FC;\n",
              "    }\n",
              "\n",
              "    [theme=dark] .colab-df-convert:hover {\n",
              "      background-color: #434B5C;\n",
              "      box-shadow: 0px 1px 3px 1px rgba(0, 0, 0, 0.15);\n",
              "      filter: drop-shadow(0px 1px 2px rgba(0, 0, 0, 0.3));\n",
              "      fill: #FFFFFF;\n",
              "    }\n",
              "  </style>\n",
              "\n",
              "    <script>\n",
              "      const buttonEl =\n",
              "        document.querySelector('#df-e9416f8f-79ec-4679-8715-7168bf1994b4 button.colab-df-convert');\n",
              "      buttonEl.style.display =\n",
              "        google.colab.kernel.accessAllowed ? 'block' : 'none';\n",
              "\n",
              "      async function convertToInteractive(key) {\n",
              "        const element = document.querySelector('#df-e9416f8f-79ec-4679-8715-7168bf1994b4');\n",
              "        const dataTable =\n",
              "          await google.colab.kernel.invokeFunction('convertToInteractive',\n",
              "                                                    [key], {});\n",
              "        if (!dataTable) return;\n",
              "\n",
              "        const docLinkHtml = 'Like what you see? Visit the ' +\n",
              "          '<a target=\"_blank\" href=https://colab.research.google.com/notebooks/data_table.ipynb>data table notebook</a>'\n",
              "          + ' to learn more about interactive tables.';\n",
              "        element.innerHTML = '';\n",
              "        dataTable['output_type'] = 'display_data';\n",
              "        await google.colab.output.renderOutput(dataTable, element);\n",
              "        const docLink = document.createElement('div');\n",
              "        docLink.innerHTML = docLinkHtml;\n",
              "        element.appendChild(docLink);\n",
              "      }\n",
              "    </script>\n",
              "  </div>\n",
              "\n",
              "\n",
              "<div id=\"df-12e66dd9-cd19-4d03-80db-7165faf36e7c\">\n",
              "  <button class=\"colab-df-quickchart\" onclick=\"quickchart('df-12e66dd9-cd19-4d03-80db-7165faf36e7c')\"\n",
              "            title=\"Suggest charts\"\n",
              "            style=\"display:none;\">\n",
              "\n",
              "<svg xmlns=\"http://www.w3.org/2000/svg\" height=\"24px\"viewBox=\"0 0 24 24\"\n",
              "     width=\"24px\">\n",
              "    <g>\n",
              "        <path d=\"M19 3H5c-1.1 0-2 .9-2 2v14c0 1.1.9 2 2 2h14c1.1 0 2-.9 2-2V5c0-1.1-.9-2-2-2zM9 17H7v-7h2v7zm4 0h-2V7h2v10zm4 0h-2v-4h2v4z\"/>\n",
              "    </g>\n",
              "</svg>\n",
              "  </button>\n",
              "\n",
              "<style>\n",
              "  .colab-df-quickchart {\n",
              "      --bg-color: #E8F0FE;\n",
              "      --fill-color: #1967D2;\n",
              "      --hover-bg-color: #E2EBFA;\n",
              "      --hover-fill-color: #174EA6;\n",
              "      --disabled-fill-color: #AAA;\n",
              "      --disabled-bg-color: #DDD;\n",
              "  }\n",
              "\n",
              "  [theme=dark] .colab-df-quickchart {\n",
              "      --bg-color: #3B4455;\n",
              "      --fill-color: #D2E3FC;\n",
              "      --hover-bg-color: #434B5C;\n",
              "      --hover-fill-color: #FFFFFF;\n",
              "      --disabled-bg-color: #3B4455;\n",
              "      --disabled-fill-color: #666;\n",
              "  }\n",
              "\n",
              "  .colab-df-quickchart {\n",
              "    background-color: var(--bg-color);\n",
              "    border: none;\n",
              "    border-radius: 50%;\n",
              "    cursor: pointer;\n",
              "    display: none;\n",
              "    fill: var(--fill-color);\n",
              "    height: 32px;\n",
              "    padding: 0;\n",
              "    width: 32px;\n",
              "  }\n",
              "\n",
              "  .colab-df-quickchart:hover {\n",
              "    background-color: var(--hover-bg-color);\n",
              "    box-shadow: 0 1px 2px rgba(60, 64, 67, 0.3), 0 1px 3px 1px rgba(60, 64, 67, 0.15);\n",
              "    fill: var(--button-hover-fill-color);\n",
              "  }\n",
              "\n",
              "  .colab-df-quickchart-complete:disabled,\n",
              "  .colab-df-quickchart-complete:disabled:hover {\n",
              "    background-color: var(--disabled-bg-color);\n",
              "    fill: var(--disabled-fill-color);\n",
              "    box-shadow: none;\n",
              "  }\n",
              "\n",
              "  .colab-df-spinner {\n",
              "    border: 2px solid var(--fill-color);\n",
              "    border-color: transparent;\n",
              "    border-bottom-color: var(--fill-color);\n",
              "    animation:\n",
              "      spin 1s steps(1) infinite;\n",
              "  }\n",
              "\n",
              "  @keyframes spin {\n",
              "    0% {\n",
              "      border-color: transparent;\n",
              "      border-bottom-color: var(--fill-color);\n",
              "      border-left-color: var(--fill-color);\n",
              "    }\n",
              "    20% {\n",
              "      border-color: transparent;\n",
              "      border-left-color: var(--fill-color);\n",
              "      border-top-color: var(--fill-color);\n",
              "    }\n",
              "    30% {\n",
              "      border-color: transparent;\n",
              "      border-left-color: var(--fill-color);\n",
              "      border-top-color: var(--fill-color);\n",
              "      border-right-color: var(--fill-color);\n",
              "    }\n",
              "    40% {\n",
              "      border-color: transparent;\n",
              "      border-right-color: var(--fill-color);\n",
              "      border-top-color: var(--fill-color);\n",
              "    }\n",
              "    60% {\n",
              "      border-color: transparent;\n",
              "      border-right-color: var(--fill-color);\n",
              "    }\n",
              "    80% {\n",
              "      border-color: transparent;\n",
              "      border-right-color: var(--fill-color);\n",
              "      border-bottom-color: var(--fill-color);\n",
              "    }\n",
              "    90% {\n",
              "      border-color: transparent;\n",
              "      border-bottom-color: var(--fill-color);\n",
              "    }\n",
              "  }\n",
              "</style>\n",
              "\n",
              "  <script>\n",
              "    async function quickchart(key) {\n",
              "      const quickchartButtonEl =\n",
              "        document.querySelector('#' + key + ' button');\n",
              "      quickchartButtonEl.disabled = true;  // To prevent multiple clicks.\n",
              "      quickchartButtonEl.classList.add('colab-df-spinner');\n",
              "      try {\n",
              "        const charts = await google.colab.kernel.invokeFunction(\n",
              "            'suggestCharts', [key], {});\n",
              "      } catch (error) {\n",
              "        console.error('Error during call to suggestCharts:', error);\n",
              "      }\n",
              "      quickchartButtonEl.classList.remove('colab-df-spinner');\n",
              "      quickchartButtonEl.classList.add('colab-df-quickchart-complete');\n",
              "    }\n",
              "    (() => {\n",
              "      let quickchartButtonEl =\n",
              "        document.querySelector('#df-12e66dd9-cd19-4d03-80db-7165faf36e7c button');\n",
              "      quickchartButtonEl.style.display =\n",
              "        google.colab.kernel.accessAllowed ? 'block' : 'none';\n",
              "    })();\n",
              "  </script>\n",
              "</div>\n",
              "    </div>\n",
              "  </div>\n"
            ]
          },
          "metadata": {},
          "execution_count": 2
        }
      ],
      "source": [
        "import pandas as mulgul_engpd\n",
        "\n",
        "mulgul_ger = mulgul_engpd.read_csv('mulgul_german.csv',nrows=30000)\n",
        "mulgul_ger"
      ]
    },
    {
      "cell_type": "code",
      "execution_count": 3,
      "metadata": {
        "colab": {
          "base_uri": "https://localhost:8080/"
        },
        "id": "9M-hwz5DUsoP",
        "outputId": "be2076f6-3675-4458-9b1c-c65ea93fd47d"
      },
      "outputs": [
        {
          "output_type": "execute_result",
          "data": {
            "text/plain": [
              "0    15432\n",
              "1    14568\n",
              "Name: label, dtype: int64"
            ]
          },
          "metadata": {},
          "execution_count": 3
        }
      ],
      "source": [
        "mulgul_eng['label'].value_counts()"
      ]
    },
    {
      "cell_type": "code",
      "execution_count": 4,
      "metadata": {
        "colab": {
          "base_uri": "https://localhost:8080/"
        },
        "id": "ph9aCM7Kq8tJ",
        "outputId": "27959e0d-4836-47ce-96b7-fcaa773cd5f2"
      },
      "outputs": [
        {
          "output_type": "execute_result",
          "data": {
            "text/plain": [
              "0    27960\n",
              "1     2040\n",
              "Name: Fake, dtype: int64"
            ]
          },
          "metadata": {},
          "execution_count": 4
        }
      ],
      "source": [
        "mulgul_ger['Fake'].value_counts()"
      ]
    },
    {
      "cell_type": "code",
      "execution_count": 5,
      "metadata": {
        "colab": {
          "base_uri": "https://localhost:8080/",
          "height": 423
        },
        "id": "7aiovJFpWZSD",
        "outputId": "4deb1c79-db14-422d-969e-5ab50c23bcc3"
      },
      "outputs": [
        {
          "output_type": "execute_result",
          "data": {
            "text/plain": [
              "                                                    text\n",
              "0      comment expected barack obama members fyf fuky...\n",
              "1                             post votes hillary already\n",
              "2      demonstrators gathered last night exercising c...\n",
              "3      dozen politically active pastors came private ...\n",
              "4      rs sarmat missile dubbed satan replace ss flie...\n",
              "...                                                  ...\n",
              "29995  washington reuters u president donald trump fa...\n",
              "29996  thank goodness mandatory financial disclosures...\n",
              "29997  washington reuters vice president mike pence t...\n",
              "29998  share joe giambrone everything printed year do...\n",
              "29999  lima reuters former authoritarian leader alber...\n",
              "\n",
              "[30000 rows x 1 columns]"
            ],
            "text/html": [
              "\n",
              "  <div id=\"df-3077efca-c15a-44d2-b883-9d673c39a8dd\" class=\"colab-df-container\">\n",
              "    <div>\n",
              "<style scoped>\n",
              "    .dataframe tbody tr th:only-of-type {\n",
              "        vertical-align: middle;\n",
              "    }\n",
              "\n",
              "    .dataframe tbody tr th {\n",
              "        vertical-align: top;\n",
              "    }\n",
              "\n",
              "    .dataframe thead th {\n",
              "        text-align: right;\n",
              "    }\n",
              "</style>\n",
              "<table border=\"1\" class=\"dataframe\">\n",
              "  <thead>\n",
              "    <tr style=\"text-align: right;\">\n",
              "      <th></th>\n",
              "      <th>text</th>\n",
              "    </tr>\n",
              "  </thead>\n",
              "  <tbody>\n",
              "    <tr>\n",
              "      <th>0</th>\n",
              "      <td>comment expected barack obama members fyf fuky...</td>\n",
              "    </tr>\n",
              "    <tr>\n",
              "      <th>1</th>\n",
              "      <td>post votes hillary already</td>\n",
              "    </tr>\n",
              "    <tr>\n",
              "      <th>2</th>\n",
              "      <td>demonstrators gathered last night exercising c...</td>\n",
              "    </tr>\n",
              "    <tr>\n",
              "      <th>3</th>\n",
              "      <td>dozen politically active pastors came private ...</td>\n",
              "    </tr>\n",
              "    <tr>\n",
              "      <th>4</th>\n",
              "      <td>rs sarmat missile dubbed satan replace ss flie...</td>\n",
              "    </tr>\n",
              "    <tr>\n",
              "      <th>...</th>\n",
              "      <td>...</td>\n",
              "    </tr>\n",
              "    <tr>\n",
              "      <th>29995</th>\n",
              "      <td>washington reuters u president donald trump fa...</td>\n",
              "    </tr>\n",
              "    <tr>\n",
              "      <th>29996</th>\n",
              "      <td>thank goodness mandatory financial disclosures...</td>\n",
              "    </tr>\n",
              "    <tr>\n",
              "      <th>29997</th>\n",
              "      <td>washington reuters vice president mike pence t...</td>\n",
              "    </tr>\n",
              "    <tr>\n",
              "      <th>29998</th>\n",
              "      <td>share joe giambrone everything printed year do...</td>\n",
              "    </tr>\n",
              "    <tr>\n",
              "      <th>29999</th>\n",
              "      <td>lima reuters former authoritarian leader alber...</td>\n",
              "    </tr>\n",
              "  </tbody>\n",
              "</table>\n",
              "<p>30000 rows × 1 columns</p>\n",
              "</div>\n",
              "    <div class=\"colab-df-buttons\">\n",
              "\n",
              "  <div class=\"colab-df-container\">\n",
              "    <button class=\"colab-df-convert\" onclick=\"convertToInteractive('df-3077efca-c15a-44d2-b883-9d673c39a8dd')\"\n",
              "            title=\"Convert this dataframe to an interactive table.\"\n",
              "            style=\"display:none;\">\n",
              "\n",
              "  <svg xmlns=\"http://www.w3.org/2000/svg\" height=\"24px\" viewBox=\"0 -960 960 960\">\n",
              "    <path d=\"M120-120v-720h720v720H120Zm60-500h600v-160H180v160Zm220 220h160v-160H400v160Zm0 220h160v-160H400v160ZM180-400h160v-160H180v160Zm440 0h160v-160H620v160ZM180-180h160v-160H180v160Zm440 0h160v-160H620v160Z\"/>\n",
              "  </svg>\n",
              "    </button>\n",
              "\n",
              "  <style>\n",
              "    .colab-df-container {\n",
              "      display:flex;\n",
              "      gap: 12px;\n",
              "    }\n",
              "\n",
              "    .colab-df-convert {\n",
              "      background-color: #E8F0FE;\n",
              "      border: none;\n",
              "      border-radius: 50%;\n",
              "      cursor: pointer;\n",
              "      display: none;\n",
              "      fill: #1967D2;\n",
              "      height: 32px;\n",
              "      padding: 0 0 0 0;\n",
              "      width: 32px;\n",
              "    }\n",
              "\n",
              "    .colab-df-convert:hover {\n",
              "      background-color: #E2EBFA;\n",
              "      box-shadow: 0px 1px 2px rgba(60, 64, 67, 0.3), 0px 1px 3px 1px rgba(60, 64, 67, 0.15);\n",
              "      fill: #174EA6;\n",
              "    }\n",
              "\n",
              "    .colab-df-buttons div {\n",
              "      margin-bottom: 4px;\n",
              "    }\n",
              "\n",
              "    [theme=dark] .colab-df-convert {\n",
              "      background-color: #3B4455;\n",
              "      fill: #D2E3FC;\n",
              "    }\n",
              "\n",
              "    [theme=dark] .colab-df-convert:hover {\n",
              "      background-color: #434B5C;\n",
              "      box-shadow: 0px 1px 3px 1px rgba(0, 0, 0, 0.15);\n",
              "      filter: drop-shadow(0px 1px 2px rgba(0, 0, 0, 0.3));\n",
              "      fill: #FFFFFF;\n",
              "    }\n",
              "  </style>\n",
              "\n",
              "    <script>\n",
              "      const buttonEl =\n",
              "        document.querySelector('#df-3077efca-c15a-44d2-b883-9d673c39a8dd button.colab-df-convert');\n",
              "      buttonEl.style.display =\n",
              "        google.colab.kernel.accessAllowed ? 'block' : 'none';\n",
              "\n",
              "      async function convertToInteractive(key) {\n",
              "        const element = document.querySelector('#df-3077efca-c15a-44d2-b883-9d673c39a8dd');\n",
              "        const dataTable =\n",
              "          await google.colab.kernel.invokeFunction('convertToInteractive',\n",
              "                                                    [key], {});\n",
              "        if (!dataTable) return;\n",
              "\n",
              "        const docLinkHtml = 'Like what you see? Visit the ' +\n",
              "          '<a target=\"_blank\" href=https://colab.research.google.com/notebooks/data_table.ipynb>data table notebook</a>'\n",
              "          + ' to learn more about interactive tables.';\n",
              "        element.innerHTML = '';\n",
              "        dataTable['output_type'] = 'display_data';\n",
              "        await google.colab.output.renderOutput(dataTable, element);\n",
              "        const docLink = document.createElement('div');\n",
              "        docLink.innerHTML = docLinkHtml;\n",
              "        element.appendChild(docLink);\n",
              "      }\n",
              "    </script>\n",
              "  </div>\n",
              "\n",
              "\n",
              "<div id=\"df-e90ec52c-3cc9-4293-9741-d73242400973\">\n",
              "  <button class=\"colab-df-quickchart\" onclick=\"quickchart('df-e90ec52c-3cc9-4293-9741-d73242400973')\"\n",
              "            title=\"Suggest charts\"\n",
              "            style=\"display:none;\">\n",
              "\n",
              "<svg xmlns=\"http://www.w3.org/2000/svg\" height=\"24px\"viewBox=\"0 0 24 24\"\n",
              "     width=\"24px\">\n",
              "    <g>\n",
              "        <path d=\"M19 3H5c-1.1 0-2 .9-2 2v14c0 1.1.9 2 2 2h14c1.1 0 2-.9 2-2V5c0-1.1-.9-2-2-2zM9 17H7v-7h2v7zm4 0h-2V7h2v10zm4 0h-2v-4h2v4z\"/>\n",
              "    </g>\n",
              "</svg>\n",
              "  </button>\n",
              "\n",
              "<style>\n",
              "  .colab-df-quickchart {\n",
              "      --bg-color: #E8F0FE;\n",
              "      --fill-color: #1967D2;\n",
              "      --hover-bg-color: #E2EBFA;\n",
              "      --hover-fill-color: #174EA6;\n",
              "      --disabled-fill-color: #AAA;\n",
              "      --disabled-bg-color: #DDD;\n",
              "  }\n",
              "\n",
              "  [theme=dark] .colab-df-quickchart {\n",
              "      --bg-color: #3B4455;\n",
              "      --fill-color: #D2E3FC;\n",
              "      --hover-bg-color: #434B5C;\n",
              "      --hover-fill-color: #FFFFFF;\n",
              "      --disabled-bg-color: #3B4455;\n",
              "      --disabled-fill-color: #666;\n",
              "  }\n",
              "\n",
              "  .colab-df-quickchart {\n",
              "    background-color: var(--bg-color);\n",
              "    border: none;\n",
              "    border-radius: 50%;\n",
              "    cursor: pointer;\n",
              "    display: none;\n",
              "    fill: var(--fill-color);\n",
              "    height: 32px;\n",
              "    padding: 0;\n",
              "    width: 32px;\n",
              "  }\n",
              "\n",
              "  .colab-df-quickchart:hover {\n",
              "    background-color: var(--hover-bg-color);\n",
              "    box-shadow: 0 1px 2px rgba(60, 64, 67, 0.3), 0 1px 3px 1px rgba(60, 64, 67, 0.15);\n",
              "    fill: var(--button-hover-fill-color);\n",
              "  }\n",
              "\n",
              "  .colab-df-quickchart-complete:disabled,\n",
              "  .colab-df-quickchart-complete:disabled:hover {\n",
              "    background-color: var(--disabled-bg-color);\n",
              "    fill: var(--disabled-fill-color);\n",
              "    box-shadow: none;\n",
              "  }\n",
              "\n",
              "  .colab-df-spinner {\n",
              "    border: 2px solid var(--fill-color);\n",
              "    border-color: transparent;\n",
              "    border-bottom-color: var(--fill-color);\n",
              "    animation:\n",
              "      spin 1s steps(1) infinite;\n",
              "  }\n",
              "\n",
              "  @keyframes spin {\n",
              "    0% {\n",
              "      border-color: transparent;\n",
              "      border-bottom-color: var(--fill-color);\n",
              "      border-left-color: var(--fill-color);\n",
              "    }\n",
              "    20% {\n",
              "      border-color: transparent;\n",
              "      border-left-color: var(--fill-color);\n",
              "      border-top-color: var(--fill-color);\n",
              "    }\n",
              "    30% {\n",
              "      border-color: transparent;\n",
              "      border-left-color: var(--fill-color);\n",
              "      border-top-color: var(--fill-color);\n",
              "      border-right-color: var(--fill-color);\n",
              "    }\n",
              "    40% {\n",
              "      border-color: transparent;\n",
              "      border-right-color: var(--fill-color);\n",
              "      border-top-color: var(--fill-color);\n",
              "    }\n",
              "    60% {\n",
              "      border-color: transparent;\n",
              "      border-right-color: var(--fill-color);\n",
              "    }\n",
              "    80% {\n",
              "      border-color: transparent;\n",
              "      border-right-color: var(--fill-color);\n",
              "      border-bottom-color: var(--fill-color);\n",
              "    }\n",
              "    90% {\n",
              "      border-color: transparent;\n",
              "      border-bottom-color: var(--fill-color);\n",
              "    }\n",
              "  }\n",
              "</style>\n",
              "\n",
              "  <script>\n",
              "    async function quickchart(key) {\n",
              "      const quickchartButtonEl =\n",
              "        document.querySelector('#' + key + ' button');\n",
              "      quickchartButtonEl.disabled = true;  // To prevent multiple clicks.\n",
              "      quickchartButtonEl.classList.add('colab-df-spinner');\n",
              "      try {\n",
              "        const charts = await google.colab.kernel.invokeFunction(\n",
              "            'suggestCharts', [key], {});\n",
              "      } catch (error) {\n",
              "        console.error('Error during call to suggestCharts:', error);\n",
              "      }\n",
              "      quickchartButtonEl.classList.remove('colab-df-spinner');\n",
              "      quickchartButtonEl.classList.add('colab-df-quickchart-complete');\n",
              "    }\n",
              "    (() => {\n",
              "      let quickchartButtonEl =\n",
              "        document.querySelector('#df-e90ec52c-3cc9-4293-9741-d73242400973 button');\n",
              "      quickchartButtonEl.style.display =\n",
              "        google.colab.kernel.accessAllowed ? 'block' : 'none';\n",
              "    })();\n",
              "  </script>\n",
              "</div>\n",
              "    </div>\n",
              "  </div>\n"
            ]
          },
          "metadata": {},
          "execution_count": 5
        }
      ],
      "source": [
        "mulgul_engX = mulgul_eng.drop('label',axis=1)\n",
        "mulgul_engX"
      ]
    },
    {
      "cell_type": "code",
      "execution_count": 6,
      "metadata": {
        "colab": {
          "base_uri": "https://localhost:8080/"
        },
        "id": "XrO11F-cWdj5",
        "outputId": "631d643f-5db1-4615-dd21-63874dfcdf19"
      },
      "outputs": [
        {
          "output_type": "execute_result",
          "data": {
            "text/plain": [
              "0        1\n",
              "1        1\n",
              "2        1\n",
              "3        0\n",
              "4        1\n",
              "        ..\n",
              "29995    0\n",
              "29996    1\n",
              "29997    0\n",
              "29998    1\n",
              "29999    0\n",
              "Name: label, Length: 30000, dtype: int64"
            ]
          },
          "metadata": {},
          "execution_count": 6
        }
      ],
      "source": [
        "mulgul_engY = mulgul_eng['label']\n",
        "mulgul_engY"
      ]
    },
    {
      "cell_type": "code",
      "execution_count": 7,
      "metadata": {
        "id": "Bdntoczrr7kw"
      },
      "outputs": [],
      "source": [
        "from sklearn.feature_extraction.text import TfidfVectorizer as mulgul_engcvt\n",
        "\n",
        "mulgul_eng_AY = mulgul_engcvt(analyzer='char', ngram_range= (1,1))\n",
        "mulgul_engX = mulgul_eng_AY.fit_transform(mulgul_eng['text'].values.astype('U')).toarray()"
      ]
    },
    {
      "cell_type": "code",
      "execution_count": 8,
      "metadata": {
        "colab": {
          "base_uri": "https://localhost:8080/"
        },
        "id": "i8MUk89wsYw4",
        "outputId": "5c3acf6c-ce6c-4a27-9561-8364c67703ae"
      },
      "outputs": [
        {
          "output_type": "stream",
          "name": "stdout",
          "text": [
            "[[0.57892077 0.2611502  0.0672667  ... 0.01424629 0.06197869 0.00488827]\n",
            " [0.39981329 0.39977331 0.         ... 0.         0.26913124 0.        ]\n",
            " [0.4510741  0.24806595 0.         ... 0.02669597 0.02277278 0.        ]\n",
            " ...\n",
            " [0.49078218 0.26848079 0.05059424 ... 0.00420957 0.04488672 0.        ]\n",
            " [0.52501742 0.28544968 0.04668153 ... 0.00699124 0.07222846 0.00799625]\n",
            " [0.51391005 0.24052959 0.0296293  ... 0.01294247 0.04416186 0.01973731]]\n"
          ]
        }
      ],
      "source": [
        "print(mulgul_engX)"
      ]
    },
    {
      "cell_type": "code",
      "execution_count": 9,
      "metadata": {
        "colab": {
          "base_uri": "https://localhost:8080/",
          "height": 423
        },
        "id": "Lxxk2xvyIziq",
        "outputId": "d8c20fe3-cd72-48eb-e8fe-f47e9b570b9d"
      },
      "outputs": [
        {
          "output_type": "execute_result",
          "data": {
            "text/plain": [
              "                                                    Body\n",
              "0      sondierungsgespr che union spd endeten komprom...\n",
              "1      medizinisch offiziell best tigt milit r rztlic...\n",
              "2      z he verhandlungen freien demokraten k nnen zu...\n",
              "3      treibt immer sp t nacht herum joachim sauer be...\n",
              "4      parteivorstand dr ckt nochmal auge nachdem noa...\n",
              "...                                                  ...\n",
              "29995  krisengebeutelte europ ische automobilmarkt ta...\n",
              "29996  us kabelkonzern liberty global bieterrennen ka...\n",
              "29997  angesichts tiefen rezession euro zone fasst ez...\n",
              "29998  commerzbank fallen n chsten jahren voraussicht...\n",
              "29999  bundesbank chef jens weidmann weiche auslegung...\n",
              "\n",
              "[30000 rows x 1 columns]"
            ],
            "text/html": [
              "\n",
              "  <div id=\"df-4117b1a9-7d64-42ee-9ff3-a565dc8448ff\" class=\"colab-df-container\">\n",
              "    <div>\n",
              "<style scoped>\n",
              "    .dataframe tbody tr th:only-of-type {\n",
              "        vertical-align: middle;\n",
              "    }\n",
              "\n",
              "    .dataframe tbody tr th {\n",
              "        vertical-align: top;\n",
              "    }\n",
              "\n",
              "    .dataframe thead th {\n",
              "        text-align: right;\n",
              "    }\n",
              "</style>\n",
              "<table border=\"1\" class=\"dataframe\">\n",
              "  <thead>\n",
              "    <tr style=\"text-align: right;\">\n",
              "      <th></th>\n",
              "      <th>Body</th>\n",
              "    </tr>\n",
              "  </thead>\n",
              "  <tbody>\n",
              "    <tr>\n",
              "      <th>0</th>\n",
              "      <td>sondierungsgespr che union spd endeten komprom...</td>\n",
              "    </tr>\n",
              "    <tr>\n",
              "      <th>1</th>\n",
              "      <td>medizinisch offiziell best tigt milit r rztlic...</td>\n",
              "    </tr>\n",
              "    <tr>\n",
              "      <th>2</th>\n",
              "      <td>z he verhandlungen freien demokraten k nnen zu...</td>\n",
              "    </tr>\n",
              "    <tr>\n",
              "      <th>3</th>\n",
              "      <td>treibt immer sp t nacht herum joachim sauer be...</td>\n",
              "    </tr>\n",
              "    <tr>\n",
              "      <th>4</th>\n",
              "      <td>parteivorstand dr ckt nochmal auge nachdem noa...</td>\n",
              "    </tr>\n",
              "    <tr>\n",
              "      <th>...</th>\n",
              "      <td>...</td>\n",
              "    </tr>\n",
              "    <tr>\n",
              "      <th>29995</th>\n",
              "      <td>krisengebeutelte europ ische automobilmarkt ta...</td>\n",
              "    </tr>\n",
              "    <tr>\n",
              "      <th>29996</th>\n",
              "      <td>us kabelkonzern liberty global bieterrennen ka...</td>\n",
              "    </tr>\n",
              "    <tr>\n",
              "      <th>29997</th>\n",
              "      <td>angesichts tiefen rezession euro zone fasst ez...</td>\n",
              "    </tr>\n",
              "    <tr>\n",
              "      <th>29998</th>\n",
              "      <td>commerzbank fallen n chsten jahren voraussicht...</td>\n",
              "    </tr>\n",
              "    <tr>\n",
              "      <th>29999</th>\n",
              "      <td>bundesbank chef jens weidmann weiche auslegung...</td>\n",
              "    </tr>\n",
              "  </tbody>\n",
              "</table>\n",
              "<p>30000 rows × 1 columns</p>\n",
              "</div>\n",
              "    <div class=\"colab-df-buttons\">\n",
              "\n",
              "  <div class=\"colab-df-container\">\n",
              "    <button class=\"colab-df-convert\" onclick=\"convertToInteractive('df-4117b1a9-7d64-42ee-9ff3-a565dc8448ff')\"\n",
              "            title=\"Convert this dataframe to an interactive table.\"\n",
              "            style=\"display:none;\">\n",
              "\n",
              "  <svg xmlns=\"http://www.w3.org/2000/svg\" height=\"24px\" viewBox=\"0 -960 960 960\">\n",
              "    <path d=\"M120-120v-720h720v720H120Zm60-500h600v-160H180v160Zm220 220h160v-160H400v160Zm0 220h160v-160H400v160ZM180-400h160v-160H180v160Zm440 0h160v-160H620v160ZM180-180h160v-160H180v160Zm440 0h160v-160H620v160Z\"/>\n",
              "  </svg>\n",
              "    </button>\n",
              "\n",
              "  <style>\n",
              "    .colab-df-container {\n",
              "      display:flex;\n",
              "      gap: 12px;\n",
              "    }\n",
              "\n",
              "    .colab-df-convert {\n",
              "      background-color: #E8F0FE;\n",
              "      border: none;\n",
              "      border-radius: 50%;\n",
              "      cursor: pointer;\n",
              "      display: none;\n",
              "      fill: #1967D2;\n",
              "      height: 32px;\n",
              "      padding: 0 0 0 0;\n",
              "      width: 32px;\n",
              "    }\n",
              "\n",
              "    .colab-df-convert:hover {\n",
              "      background-color: #E2EBFA;\n",
              "      box-shadow: 0px 1px 2px rgba(60, 64, 67, 0.3), 0px 1px 3px 1px rgba(60, 64, 67, 0.15);\n",
              "      fill: #174EA6;\n",
              "    }\n",
              "\n",
              "    .colab-df-buttons div {\n",
              "      margin-bottom: 4px;\n",
              "    }\n",
              "\n",
              "    [theme=dark] .colab-df-convert {\n",
              "      background-color: #3B4455;\n",
              "      fill: #D2E3FC;\n",
              "    }\n",
              "\n",
              "    [theme=dark] .colab-df-convert:hover {\n",
              "      background-color: #434B5C;\n",
              "      box-shadow: 0px 1px 3px 1px rgba(0, 0, 0, 0.15);\n",
              "      filter: drop-shadow(0px 1px 2px rgba(0, 0, 0, 0.3));\n",
              "      fill: #FFFFFF;\n",
              "    }\n",
              "  </style>\n",
              "\n",
              "    <script>\n",
              "      const buttonEl =\n",
              "        document.querySelector('#df-4117b1a9-7d64-42ee-9ff3-a565dc8448ff button.colab-df-convert');\n",
              "      buttonEl.style.display =\n",
              "        google.colab.kernel.accessAllowed ? 'block' : 'none';\n",
              "\n",
              "      async function convertToInteractive(key) {\n",
              "        const element = document.querySelector('#df-4117b1a9-7d64-42ee-9ff3-a565dc8448ff');\n",
              "        const dataTable =\n",
              "          await google.colab.kernel.invokeFunction('convertToInteractive',\n",
              "                                                    [key], {});\n",
              "        if (!dataTable) return;\n",
              "\n",
              "        const docLinkHtml = 'Like what you see? Visit the ' +\n",
              "          '<a target=\"_blank\" href=https://colab.research.google.com/notebooks/data_table.ipynb>data table notebook</a>'\n",
              "          + ' to learn more about interactive tables.';\n",
              "        element.innerHTML = '';\n",
              "        dataTable['output_type'] = 'display_data';\n",
              "        await google.colab.output.renderOutput(dataTable, element);\n",
              "        const docLink = document.createElement('div');\n",
              "        docLink.innerHTML = docLinkHtml;\n",
              "        element.appendChild(docLink);\n",
              "      }\n",
              "    </script>\n",
              "  </div>\n",
              "\n",
              "\n",
              "<div id=\"df-c50ee323-c26e-4613-a5af-411b5dc247da\">\n",
              "  <button class=\"colab-df-quickchart\" onclick=\"quickchart('df-c50ee323-c26e-4613-a5af-411b5dc247da')\"\n",
              "            title=\"Suggest charts\"\n",
              "            style=\"display:none;\">\n",
              "\n",
              "<svg xmlns=\"http://www.w3.org/2000/svg\" height=\"24px\"viewBox=\"0 0 24 24\"\n",
              "     width=\"24px\">\n",
              "    <g>\n",
              "        <path d=\"M19 3H5c-1.1 0-2 .9-2 2v14c0 1.1.9 2 2 2h14c1.1 0 2-.9 2-2V5c0-1.1-.9-2-2-2zM9 17H7v-7h2v7zm4 0h-2V7h2v10zm4 0h-2v-4h2v4z\"/>\n",
              "    </g>\n",
              "</svg>\n",
              "  </button>\n",
              "\n",
              "<style>\n",
              "  .colab-df-quickchart {\n",
              "      --bg-color: #E8F0FE;\n",
              "      --fill-color: #1967D2;\n",
              "      --hover-bg-color: #E2EBFA;\n",
              "      --hover-fill-color: #174EA6;\n",
              "      --disabled-fill-color: #AAA;\n",
              "      --disabled-bg-color: #DDD;\n",
              "  }\n",
              "\n",
              "  [theme=dark] .colab-df-quickchart {\n",
              "      --bg-color: #3B4455;\n",
              "      --fill-color: #D2E3FC;\n",
              "      --hover-bg-color: #434B5C;\n",
              "      --hover-fill-color: #FFFFFF;\n",
              "      --disabled-bg-color: #3B4455;\n",
              "      --disabled-fill-color: #666;\n",
              "  }\n",
              "\n",
              "  .colab-df-quickchart {\n",
              "    background-color: var(--bg-color);\n",
              "    border: none;\n",
              "    border-radius: 50%;\n",
              "    cursor: pointer;\n",
              "    display: none;\n",
              "    fill: var(--fill-color);\n",
              "    height: 32px;\n",
              "    padding: 0;\n",
              "    width: 32px;\n",
              "  }\n",
              "\n",
              "  .colab-df-quickchart:hover {\n",
              "    background-color: var(--hover-bg-color);\n",
              "    box-shadow: 0 1px 2px rgba(60, 64, 67, 0.3), 0 1px 3px 1px rgba(60, 64, 67, 0.15);\n",
              "    fill: var(--button-hover-fill-color);\n",
              "  }\n",
              "\n",
              "  .colab-df-quickchart-complete:disabled,\n",
              "  .colab-df-quickchart-complete:disabled:hover {\n",
              "    background-color: var(--disabled-bg-color);\n",
              "    fill: var(--disabled-fill-color);\n",
              "    box-shadow: none;\n",
              "  }\n",
              "\n",
              "  .colab-df-spinner {\n",
              "    border: 2px solid var(--fill-color);\n",
              "    border-color: transparent;\n",
              "    border-bottom-color: var(--fill-color);\n",
              "    animation:\n",
              "      spin 1s steps(1) infinite;\n",
              "  }\n",
              "\n",
              "  @keyframes spin {\n",
              "    0% {\n",
              "      border-color: transparent;\n",
              "      border-bottom-color: var(--fill-color);\n",
              "      border-left-color: var(--fill-color);\n",
              "    }\n",
              "    20% {\n",
              "      border-color: transparent;\n",
              "      border-left-color: var(--fill-color);\n",
              "      border-top-color: var(--fill-color);\n",
              "    }\n",
              "    30% {\n",
              "      border-color: transparent;\n",
              "      border-left-color: var(--fill-color);\n",
              "      border-top-color: var(--fill-color);\n",
              "      border-right-color: var(--fill-color);\n",
              "    }\n",
              "    40% {\n",
              "      border-color: transparent;\n",
              "      border-right-color: var(--fill-color);\n",
              "      border-top-color: var(--fill-color);\n",
              "    }\n",
              "    60% {\n",
              "      border-color: transparent;\n",
              "      border-right-color: var(--fill-color);\n",
              "    }\n",
              "    80% {\n",
              "      border-color: transparent;\n",
              "      border-right-color: var(--fill-color);\n",
              "      border-bottom-color: var(--fill-color);\n",
              "    }\n",
              "    90% {\n",
              "      border-color: transparent;\n",
              "      border-bottom-color: var(--fill-color);\n",
              "    }\n",
              "  }\n",
              "</style>\n",
              "\n",
              "  <script>\n",
              "    async function quickchart(key) {\n",
              "      const quickchartButtonEl =\n",
              "        document.querySelector('#' + key + ' button');\n",
              "      quickchartButtonEl.disabled = true;  // To prevent multiple clicks.\n",
              "      quickchartButtonEl.classList.add('colab-df-spinner');\n",
              "      try {\n",
              "        const charts = await google.colab.kernel.invokeFunction(\n",
              "            'suggestCharts', [key], {});\n",
              "      } catch (error) {\n",
              "        console.error('Error during call to suggestCharts:', error);\n",
              "      }\n",
              "      quickchartButtonEl.classList.remove('colab-df-spinner');\n",
              "      quickchartButtonEl.classList.add('colab-df-quickchart-complete');\n",
              "    }\n",
              "    (() => {\n",
              "      let quickchartButtonEl =\n",
              "        document.querySelector('#df-c50ee323-c26e-4613-a5af-411b5dc247da button');\n",
              "      quickchartButtonEl.style.display =\n",
              "        google.colab.kernel.accessAllowed ? 'block' : 'none';\n",
              "    })();\n",
              "  </script>\n",
              "</div>\n",
              "    </div>\n",
              "  </div>\n"
            ]
          },
          "metadata": {},
          "execution_count": 9
        }
      ],
      "source": [
        "mulgul_gerX = mulgul_ger.drop('Fake',axis=1)\n",
        "mulgul_gerX"
      ]
    },
    {
      "cell_type": "code",
      "execution_count": 10,
      "metadata": {
        "colab": {
          "base_uri": "https://localhost:8080/"
        },
        "id": "A4w2bpRKJjrc",
        "outputId": "7f2f5c03-5483-4880-b84e-54881c27838d"
      },
      "outputs": [
        {
          "output_type": "execute_result",
          "data": {
            "text/plain": [
              "0        1\n",
              "1        1\n",
              "2        1\n",
              "3        1\n",
              "4        1\n",
              "        ..\n",
              "29995    0\n",
              "29996    0\n",
              "29997    0\n",
              "29998    0\n",
              "29999    0\n",
              "Name: Fake, Length: 30000, dtype: int64"
            ]
          },
          "metadata": {},
          "execution_count": 10
        }
      ],
      "source": [
        "mulgul_gerY = mulgul_ger['Fake']\n",
        "mulgul_gerY"
      ]
    },
    {
      "cell_type": "code",
      "execution_count": 11,
      "metadata": {
        "id": "r1jHWXFNKBUJ"
      },
      "outputs": [],
      "source": [
        "mulgul_ger_AY = mulgul_engcvt(analyzer='char', ngram_range= (1,1))\n",
        "mulgul_gerX = mulgul_ger_AY.fit_transform(mulgul_ger['Body'].values.astype('U')).toarray()"
      ]
    },
    {
      "cell_type": "code",
      "execution_count": 12,
      "metadata": {
        "colab": {
          "base_uri": "https://localhost:8080/"
        },
        "id": "-Q6ENXYIKtfX",
        "outputId": "c11d0609-1bed-4737-d4cd-33f91250c2d2"
      },
      "outputs": [
        {
          "output_type": "stream",
          "name": "stdout",
          "text": [
            "[[0.43000932 0.20495771 0.04822856 ... 0.00622332 0.01132334 0.03620037]\n",
            " [0.51844098 0.16040163 0.05442561 ... 0.0133067  0.00807052 0.03440158]\n",
            " [0.53275549 0.1717627  0.03202569 ... 0.         0.         0.07284391]\n",
            " ...\n",
            " [0.47660857 0.19210243 0.07052332 ... 0.0037656  0.         0.09005003]\n",
            " [0.44799407 0.2315475  0.14598533 ... 0.         0.01418283 0.06045607]\n",
            " [0.48860776 0.19906242 0.06635856 ... 0.         0.         0.08452394]]\n"
          ]
        }
      ],
      "source": [
        "print(mulgul_gerX)"
      ]
    },
    {
      "cell_type": "code",
      "execution_count": 13,
      "metadata": {
        "colab": {
          "base_uri": "https://localhost:8080/"
        },
        "id": "zyjnVXCD6xKa",
        "outputId": "e2f83ab6-a71c-4e47-fd1c-ded2f6901fc6"
      },
      "outputs": [
        {
          "output_type": "stream",
          "name": "stdout",
          "text": [
            "In starting mulgul_ger datashape Counter({0: 27960, 1: 2040})\n",
            "After applying random oversampling mulgul_ger datashape Counter({1: 27960, 0: 27960})\n"
          ]
        }
      ],
      "source": [
        "from imblearn.over_sampling import RandomOverSampler as mulgul_gerrmo\n",
        "from collections import Counter as mulgul_gerctr\n",
        "\n",
        "\n",
        "print('In starting mulgul_ger datashape %s' % mulgul_gerctr(mulgul_gerY))\n",
        "Mdd= mulgul_gerrmo()\n",
        "mulgul_gerX, mulgul_gerY = Mdd.fit_resample(mulgul_gerX, mulgul_gerY)\n",
        "print('After applying random oversampling mulgul_ger datashape %s' % mulgul_gerctr(mulgul_gerY))"
      ]
    },
    {
      "cell_type": "code",
      "execution_count": 14,
      "metadata": {
        "id": "n7g25HI7W5TT"
      },
      "outputs": [],
      "source": [
        "from sklearn.model_selection import train_test_split as mulgul_engnst\n",
        "from sklearn.metrics import classification_report as mulgul_engcla\n",
        "from sklearn.metrics import confusion_matrix as mulgul_engcon\n",
        "from sklearn.metrics import ConfusionMatrixDisplay as mulgul_engcma\n",
        "import time as mulgul_engtim\n",
        "from sklearn.model_selection import GridSearchCV as mulgul_enggri"
      ]
    },
    {
      "cell_type": "code",
      "execution_count": 15,
      "metadata": {
        "id": "AkmYQPTRWz8M"
      },
      "outputs": [],
      "source": [
        "ger_rast= 42\n",
        "ger_tze=0.5\n",
        "# {{{test,validation=50%,50%}}}\n",
        "mulgul_gerXL, mulgul_gerXE, mulgul_gerYL, mulgul_gerYE = mulgul_engnst(mulgul_gerX, mulgul_gerY, test_size= ger_tze, random_state= ger_rast)"
      ]
    },
    {
      "cell_type": "code",
      "execution_count": 16,
      "metadata": {
        "colab": {
          "base_uri": "https://localhost:8080/"
        },
        "id": "Hh9jHYA1YqVe",
        "outputId": "bb0470a4-053d-493b-ad2b-4907b8be3751"
      },
      "outputs": [
        {
          "output_type": "stream",
          "name": "stdout",
          "text": [
            "(27960, 27)\n",
            "(27960, 27)\n"
          ]
        }
      ],
      "source": [
        "print(mulgul_gerXL.shape)\n",
        "print(mulgul_gerXE.shape)"
      ]
    },
    {
      "cell_type": "code",
      "execution_count": 17,
      "metadata": {
        "id": "IwHnQsBdbzVN"
      },
      "outputs": [],
      "source": [
        "import warnings as mulgul_engww\n",
        "mulgul_engww.filterwarnings(\"ignore\")"
      ]
    },
    {
      "cell_type": "markdown",
      "metadata": {
        "id": "btdyUujWY6Pp"
      },
      "source": [
        "#### ML algorithm"
      ]
    },
    {
      "cell_type": "markdown",
      "metadata": {
        "id": "n_ugM1dXZGmI"
      },
      "source": [
        "#### svm"
      ]
    },
    {
      "cell_type": "code",
      "execution_count": 18,
      "metadata": {
        "colab": {
          "base_uri": "https://localhost:8080/"
        },
        "id": "MuVA3t2kY9HE",
        "outputId": "86e1892b-ba6c-4dc3-d8fb-f9f74dddf920"
      },
      "outputs": [
        {
          "output_type": "stream",
          "name": "stdout",
          "text": [
            "Fitting 2 folds for each of 40 candidates, totalling 80 fits\n",
            "{'C': 2.0, 'gamma': 'scale', 'kernel': 'rbf'}\n",
            "Best Score-mulgul_eng :  0.5700000000000001\n"
          ]
        }
      ],
      "source": [
        "from sklearn.svm import SVC as mulgul_engsvet\n",
        "\n",
        "mulgul_Pa = {'kernel': ['sigmoid','linear','poly','rbf'],\n",
        "            'gamma': ['scale','auto'],\n",
        "            'C': [1.0,2.0,3.0,4.0,5.0]}\n",
        "\n",
        "mulgul_Pa_Vbs = mulgul_engsvet(random_state= ger_rast)\n",
        "mulgul_Pa_Vbs = mulgul_enggri(mulgul_Pa_Vbs, mulgul_Pa,\n",
        "                         cv=2,\n",
        "                         verbose=1)\n",
        "mulgul_Pa_Vbs.fit(mulgul_engX[:100],mulgul_engY[:100])\n",
        "\n",
        "print(mulgul_Pa_Vbs.best_params_)\n",
        "print(\"Best Score-mulgul_eng : \", mulgul_Pa_Vbs.best_score_)"
      ]
    },
    {
      "cell_type": "code",
      "execution_count": 19,
      "metadata": {
        "colab": {
          "base_uri": "https://localhost:8080/",
          "height": 723
        },
        "id": "SaXOgsLYNtae",
        "outputId": "0d66748b-004d-42a3-96b3-4d864e665f5d"
      },
      "outputs": [
        {
          "output_type": "stream",
          "name": "stdout",
          "text": [
            "\n",
            " training duration : 46.198406457901 \n",
            "\n",
            "              precision    recall  f1-score   support\n",
            "\n",
            "           0       0.82      0.05      0.10     14006\n",
            "           1       0.51      0.99      0.67     13954\n",
            "\n",
            "    accuracy                           0.52     27960\n",
            "   macro avg       0.67      0.52      0.39     27960\n",
            "weighted avg       0.67      0.52      0.38     27960\n",
            "\n",
            "\n",
            " validation duration : 45.97819375991821 \n",
            "\n"
          ]
        },
        {
          "output_type": "display_data",
          "data": {
            "text/plain": [
              "<Figure size 640x480 with 2 Axes>"
            ],
            "image/png": "[encoded data removed]"
          },
          "metadata": {}
        }
      ],
      "source": [
        "mul_pd1 = mulgul_engtim.time()\n",
        "mulgul_Mll1 = mulgul_engsvet(**mulgul_Pa_Vbs.best_params_)\n",
        "mulgul_Mll1.fit(mulgul_engX,mulgul_engY)\n",
        "mul_pd2 = mulgul_engtim.time()\n",
        "print(\"\\n training duration :\", mul_pd2-mul_pd1,\"\\n\")\n",
        "\n",
        "mul_pd1 = mulgul_engtim.time()\n",
        "\n",
        "mulgul_Pcet = mulgul_Mll1.predict(mulgul_gerXL)\n",
        "print(mulgul_engcla(mulgul_gerYL,mulgul_Pcet))\n",
        "mul_pl = mulgul_engcon(mulgul_gerYL,mulgul_Pcet)\n",
        "mul_wd = mulgul_engcma(confusion_matrix = mul_pl, display_labels = [0, 1])\n",
        "mul_wd.plot()\n",
        "\n",
        "mul_pd2 = mulgul_engtim.time()\n",
        "print(\"\\n validation duration :\", mul_pd2-mul_pd1,\"\\n\")"
      ]
    },
    {
      "cell_type": "code",
      "execution_count": 20,
      "metadata": {
        "colab": {
          "base_uri": "https://localhost:8080/",
          "height": 668
        },
        "id": "ZARHoDGVSD_z",
        "outputId": "caf99009-0653-400a-bd6d-d0ebdb184219"
      },
      "outputs": [
        {
          "output_type": "stream",
          "name": "stdout",
          "text": [
            "              precision    recall  f1-score   support\n",
            "\n",
            "           0       0.84      0.05      0.10     13954\n",
            "           1       0.51      0.99      0.67     14006\n",
            "\n",
            "    accuracy                           0.52     27960\n",
            "   macro avg       0.68      0.52      0.39     27960\n",
            "weighted avg       0.68      0.52      0.39     27960\n",
            "\n",
            "\n",
            " testing duration : 49.16344904899597 \n",
            "\n"
          ]
        },
        {
          "output_type": "display_data",
          "data": {
            "text/plain": [
              "<Figure size 640x480 with 2 Axes>"
            ],
            "image/png": "[encoded data removed]"
          },
          "metadata": {}
        }
      ],
      "source": [
        "mul_pd1 = mulgul_engtim.time()\n",
        "\n",
        "mulgul_Pcet = mulgul_Mll1.predict(mulgul_gerXE)\n",
        "print(mulgul_engcla(mulgul_gerYE,mulgul_Pcet))\n",
        "mul_pl = mulgul_engcon(mulgul_gerYE,mulgul_Pcet)\n",
        "mul_wd = mulgul_engcma(confusion_matrix = mul_pl, display_labels = [0, 1])\n",
        "mul_wd.plot()\n",
        "\n",
        "mul_pd2 = mulgul_engtim.time()\n",
        "print(\"\\n testing duration :\", mul_pd2-mul_pd1,\"\\n\")"
      ]
    },
    {
      "cell_type": "markdown",
      "metadata": {
        "id": "V5ujET_1VFw0"
      },
      "source": [
        "#### Naive bayes"
      ]
    },
    {
      "cell_type": "code",
      "execution_count": 21,
      "metadata": {
        "colab": {
          "base_uri": "https://localhost:8080/"
        },
        "id": "v5xC1svfVGFv",
        "outputId": "114b5d51-85b5-4806-fb56-9fdafe1e96a2"
      },
      "outputs": [
        {
          "output_type": "stream",
          "name": "stdout",
          "text": [
            "Fitting 2 folds for each of 5 candidates, totalling 10 fits\n",
            "{'var_smoothing': 1e-09}\n",
            "Best Score-mulgul_eng :  0.5936666666666667\n"
          ]
        }
      ],
      "source": [
        "from sklearn.naive_bayes import GaussianNB as mulgulnvbs\n",
        "\n",
        "mulgul_Pa = {'var_smoothing': [1e-9,1e-7,1e-5,1e-3,1e-1]}\n",
        "\n",
        "mulgul_Pa_Vbs = mulgulnvbs()\n",
        "mulgul_Pa_Vbs = mulgul_enggri(mulgul_Pa_Vbs, mulgul_Pa,\n",
        "                         cv=2,\n",
        "                         verbose=1)\n",
        "mulgul_Pa_Vbs.fit(mulgul_engX[:3000],mulgul_engY[:3000])\n",
        "\n",
        "print(mulgul_Pa_Vbs.best_params_)\n",
        "print(\"Best Score-mulgul_eng : \", mulgul_Pa_Vbs.best_score_)"
      ]
    },
    {
      "cell_type": "code",
      "execution_count": 22,
      "metadata": {
        "colab": {
          "base_uri": "https://localhost:8080/",
          "height": 729
        },
        "id": "RtKGbeKzVGHE",
        "outputId": "b13ddbfd-def7-4558-db8a-0788d2c91fdd"
      },
      "outputs": [
        {
          "output_type": "stream",
          "name": "stdout",
          "text": [
            "\n",
            " training duration : 0.01657390594482422 \n",
            "\n",
            "              precision    recall  f1-score   support\n",
            "\n",
            "           0       0.00      0.00      0.00     14006\n",
            "           1       0.50      1.00      0.67     13954\n",
            "\n",
            "    accuracy                           0.50     27960\n",
            "   macro avg       0.25      0.50      0.33     27960\n",
            "weighted avg       0.25      0.50      0.33     27960\n",
            "\n",
            "\n",
            " validation duration : 0.11810874938964844 \n",
            "\n"
          ]
        },
        {
          "output_type": "display_data",
          "data": {
            "text/plain": [
              "<Figure size 640x480 with 2 Axes>"
            ],
            "image/png": "[encoded data removed]"
          },
          "metadata": {}
        }
      ],
      "source": [
        "mul_pd1 = mulgul_engtim.time()\n",
        "mulgul_Mll2 = mulgulnvbs(**mulgul_Pa_Vbs.best_params_)\n",
        "mulgul_Mll2.fit(mulgul_engX,mulgul_engY)\n",
        "mul_pd2 = mulgul_engtim.time()\n",
        "print(\"\\n training duration :\", mul_pd2-mul_pd1,\"\\n\")\n",
        "\n",
        "mul_pd1 = mulgul_engtim.time()\n",
        "\n",
        "mulgul_Pcet = mulgul_Mll2.predict(mulgul_gerXL)\n",
        "print(mulgul_engcla(mulgul_gerYL,mulgul_Pcet))\n",
        "mul_pl = mulgul_engcon(mulgul_gerYL,mulgul_Pcet)\n",
        "mul_wd = mulgul_engcma(confusion_matrix = mul_pl, display_labels = [0, 1])\n",
        "mul_wd.plot()\n",
        "\n",
        "mul_pd2 = mulgul_engtim.time()\n",
        "print(\"\\n validation duration :\", mul_pd2-mul_pd1,\"\\n\")"
      ]
    },
    {
      "cell_type": "code",
      "execution_count": 23,
      "metadata": {
        "colab": {
          "base_uri": "https://localhost:8080/",
          "height": 674
        },
        "id": "dYWTguUtVGM8",
        "outputId": "587a9180-9169-45a9-cd2d-a8baba465836"
      },
      "outputs": [
        {
          "output_type": "stream",
          "name": "stdout",
          "text": [
            "              precision    recall  f1-score   support\n",
            "\n",
            "           0       0.00      0.00      0.00     13954\n",
            "           1       0.50      1.00      0.67     14006\n",
            "\n",
            "    accuracy                           0.50     27960\n",
            "   macro avg       0.25      0.50      0.33     27960\n",
            "weighted avg       0.25      0.50      0.33     27960\n",
            "\n",
            "\n",
            " testing duration : 0.11880731582641602 \n",
            "\n"
          ]
        },
        {
          "output_type": "display_data",
          "data": {
            "text/plain": [
              "<Figure size 640x480 with 2 Axes>"
            ],
            "image/png": "[encoded data removed]"
          },
          "metadata": {}
        }
      ],
      "source": [
        "mul_pd1 = mulgul_engtim.time()\n",
        "\n",
        "mulgul_Pcet = mulgul_Mll2.predict(mulgul_gerXE)\n",
        "print(mulgul_engcla(mulgul_gerYE,mulgul_Pcet))\n",
        "mul_pl = mulgul_engcon(mulgul_gerYE,mulgul_Pcet)\n",
        "mul_wd = mulgul_engcma(confusion_matrix = mul_pl, display_labels = [0, 1])\n",
        "mul_wd.plot()\n",
        "\n",
        "mul_pd2 = mulgul_engtim.time()\n",
        "print(\"\\n testing duration :\", mul_pd2-mul_pd1,\"\\n\")"
      ]
    },
    {
      "cell_type": "markdown",
      "metadata": {
        "id": "YPahW8C4XZD_"
      },
      "source": [
        "#### Decision tree"
      ]
    },
    {
      "cell_type": "code",
      "execution_count": 24,
      "metadata": {
        "colab": {
          "base_uri": "https://localhost:8080/"
        },
        "id": "pYUhxi45XZYk",
        "outputId": "8fdc5d0d-9491-4dee-8516-48b9e677bfc5"
      },
      "outputs": [
        {
          "output_type": "stream",
          "name": "stdout",
          "text": [
            "Fitting 2 folds for each of 18 candidates, totalling 36 fits\n",
            "{'criterion': 'gini', 'max_features': 'sqrt', 'splitter': 'best'}\n",
            "Best Score-mulgul_eng :  0.6063333333333334\n"
          ]
        }
      ],
      "source": [
        "from sklearn.tree import DecisionTreeClassifier as mulguldesi\n",
        "\n",
        "mulgul_Pa = {'max_features': ['sqrt','auto','log2'],\n",
        "            'criterion': ['entropy','gini','log_loss'],\n",
        "            'splitter': ['random','best']}\n",
        "\n",
        "mulgul_Pa_Vbs = mulguldesi(random_state= ger_rast)\n",
        "mulgul_Pa_Vbs = mulgul_enggri(mulgul_Pa_Vbs, mulgul_Pa,\n",
        "                         cv=2,\n",
        "                         verbose=1)\n",
        "mulgul_Pa_Vbs.fit(mulgul_engX[:3000],mulgul_engY[:3000])\n",
        "\n",
        "print(mulgul_Pa_Vbs.best_params_)\n",
        "print(\"Best Score-mulgul_eng : \", mulgul_Pa_Vbs.best_score_)"
      ]
    },
    {
      "cell_type": "code",
      "execution_count": 25,
      "metadata": {
        "colab": {
          "base_uri": "https://localhost:8080/",
          "height": 723
        },
        "id": "cM2RIAXSXZZ-",
        "outputId": "04789536-d3e9-406c-d9a8-424bf42ecd8d"
      },
      "outputs": [
        {
          "output_type": "stream",
          "name": "stdout",
          "text": [
            "\n",
            " training duration : 0.30520105361938477 \n",
            "\n",
            "              precision    recall  f1-score   support\n",
            "\n",
            "           0       0.54      0.34      0.42     14006\n",
            "           1       0.52      0.70      0.60     13954\n",
            "\n",
            "    accuracy                           0.52     27960\n",
            "   macro avg       0.53      0.52      0.51     27960\n",
            "weighted avg       0.53      0.52      0.51     27960\n",
            "\n",
            "\n",
            " validation duration : 0.10717034339904785 \n",
            "\n"
          ]
        },
        {
          "output_type": "display_data",
          "data": {
            "text/plain": [
              "<Figure size 640x480 with 2 Axes>"
            ],
            "image/png": "[encoded data removed]"
          },
          "metadata": {}
        }
      ],
      "source": [
        "mul_pd1 = mulgul_engtim.time()\n",
        "mulgul_Mll3 = mulguldesi(**mulgul_Pa_Vbs.best_params_)\n",
        "mulgul_Mll3.fit(mulgul_engX,mulgul_engY)\n",
        "mul_pd2 = mulgul_engtim.time()\n",
        "print(\"\\n training duration :\", mul_pd2-mul_pd1,\"\\n\")\n",
        "\n",
        "mul_pd1 = mulgul_engtim.time()\n",
        "\n",
        "mulgul_Pcet = mulgul_Mll3.predict(mulgul_gerXL)\n",
        "print(mulgul_engcla(mulgul_gerYL,mulgul_Pcet))\n",
        "mul_pl = mulgul_engcon(mulgul_gerYL,mulgul_Pcet)\n",
        "mul_wd = mulgul_engcma(confusion_matrix = mul_pl, display_labels = [0, 1])\n",
        "mul_wd.plot()\n",
        "\n",
        "mul_pd2 = mulgul_engtim.time()\n",
        "print(\"\\n validation duration :\", mul_pd2-mul_pd1,\"\\n\")"
      ]
    },
    {
      "cell_type": "code",
      "execution_count": 26,
      "metadata": {
        "colab": {
          "base_uri": "https://localhost:8080/",
          "height": 668
        },
        "id": "NPCLTlqwXZgh",
        "outputId": "198b77bb-87a1-459e-ee81-3de02b1c7fc9"
      },
      "outputs": [
        {
          "output_type": "stream",
          "name": "stdout",
          "text": [
            "              precision    recall  f1-score   support\n",
            "\n",
            "           0       0.53      0.34      0.41     13954\n",
            "           1       0.51      0.70      0.59     14006\n",
            "\n",
            "    accuracy                           0.52     27960\n",
            "   macro avg       0.52      0.52      0.50     27960\n",
            "weighted avg       0.52      0.52      0.50     27960\n",
            "\n",
            "\n",
            " testing duration : 0.11091494560241699 \n",
            "\n"
          ]
        },
        {
          "output_type": "display_data",
          "data": {
            "text/plain": [
              "<Figure size 640x480 with 2 Axes>"
            ],
            "image/png": "[encoded data removed]"
          },
          "metadata": {}
        }
      ],
      "source": [
        "mul_pd1 = mulgul_engtim.time()\n",
        "\n",
        "mulgul_Pcet = mulgul_Mll3.predict(mulgul_gerXE)\n",
        "print(mulgul_engcla(mulgul_gerYE,mulgul_Pcet))\n",
        "mul_pl = mulgul_engcon(mulgul_gerYE,mulgul_Pcet)\n",
        "mul_wd = mulgul_engcma(confusion_matrix = mul_pl, display_labels = [0, 1])\n",
        "mul_wd.plot()\n",
        "\n",
        "mul_pd2 = mulgul_engtim.time()\n",
        "print(\"\\n testing duration :\", mul_pd2-mul_pd1,\"\\n\")"
      ]
    },
    {
      "cell_type": "markdown",
      "metadata": {
        "id": "YRvKqAe1YpyM"
      },
      "source": [
        "#### Random forest"
      ]
    },
    {
      "cell_type": "code",
      "execution_count": 27,
      "metadata": {
        "colab": {
          "base_uri": "https://localhost:8080/"
        },
        "id": "zueeI38VYqEN",
        "outputId": "9699169b-b1e6-4dcd-e62e-b4c351e06730"
      },
      "outputs": [
        {
          "output_type": "stream",
          "name": "stdout",
          "text": [
            "Fitting 2 folds for each of 45 candidates, totalling 90 fits\n",
            "{'criterion': 'gini', 'max_features': 'log2', 'n_estimators': 200}\n",
            "Best Score-mulgul_eng :  0.696\n"
          ]
        }
      ],
      "source": [
        "from sklearn.ensemble import RandomForestClassifier as mulgulromf\n",
        "\n",
        "mulgul_Pa = {'criterion': ['log_loss','entropy','gini'],\n",
        "            'n_estimators': [100,200,300,400,500],\n",
        "            'max_features': ['log2','sqrt',None]}\n",
        "\n",
        "mulgul_Pa_Vbs = mulgulromf(random_state= ger_rast)\n",
        "mulgul_Pa_Vbs = mulgul_enggri(mulgul_Pa_Vbs, mulgul_Pa,\n",
        "                         cv=2,\n",
        "                         verbose=1)\n",
        "mulgul_Pa_Vbs.fit(mulgul_engX[:500],mulgul_engY[:500])\n",
        "\n",
        "print(mulgul_Pa_Vbs.best_params_)\n",
        "print(\"Best Score-mulgul_eng : \", mulgul_Pa_Vbs.best_score_)"
      ]
    },
    {
      "cell_type": "code",
      "execution_count": 28,
      "metadata": {
        "colab": {
          "base_uri": "https://localhost:8080/",
          "height": 723
        },
        "id": "-qP_sUoMYqFq",
        "outputId": "322c954c-e6f7-4e6e-cc33-418c229b3fbe"
      },
      "outputs": [
        {
          "output_type": "stream",
          "name": "stdout",
          "text": [
            "\n",
            " training duration : 35.07415771484375 \n",
            "\n",
            "              precision    recall  f1-score   support\n",
            "\n",
            "           0       0.75      0.04      0.08     14006\n",
            "           1       0.51      0.98      0.67     13954\n",
            "\n",
            "    accuracy                           0.51     27960\n",
            "   macro avg       0.63      0.51      0.38     27960\n",
            "weighted avg       0.63      0.51      0.38     27960\n",
            "\n",
            "\n",
            " validation duration : 0.6994855403900146 \n",
            "\n"
          ]
        },
        {
          "output_type": "display_data",
          "data": {
            "text/plain": [
              "<Figure size 640x480 with 2 Axes>"
            ],
            "image/png": "[encoded data removed]"
          },
          "metadata": {}
        }
      ],
      "source": [
        "mul_pd1 = mulgul_engtim.time()\n",
        "mulgul_Mll4 = mulgulromf(**mulgul_Pa_Vbs.best_params_)\n",
        "mulgul_Mll4.fit(mulgul_engX,mulgul_engY)\n",
        "mul_pd2 = mulgul_engtim.time()\n",
        "print(\"\\n training duration :\", mul_pd2-mul_pd1,\"\\n\")\n",
        "\n",
        "mul_pd1 = mulgul_engtim.time()\n",
        "\n",
        "mulgul_Pcet = mulgul_Mll4.predict(mulgul_gerXL)\n",
        "print(mulgul_engcla(mulgul_gerYL,mulgul_Pcet))\n",
        "mul_pl = mulgul_engcon(mulgul_gerYL,mulgul_Pcet)\n",
        "mul_wd = mulgul_engcma(confusion_matrix = mul_pl, display_labels = [0, 1])\n",
        "mul_wd.plot()\n",
        "\n",
        "mul_pd2 = mulgul_engtim.time()\n",
        "print(\"\\n validation duration :\", mul_pd2-mul_pd1,\"\\n\")"
      ]
    },
    {
      "cell_type": "code",
      "execution_count": 29,
      "metadata": {
        "colab": {
          "base_uri": "https://localhost:8080/",
          "height": 668
        },
        "id": "RuttynV4YqLp",
        "outputId": "71e123a8-aca0-4dc8-cb26-18690ad1eb47"
      },
      "outputs": [
        {
          "output_type": "stream",
          "name": "stdout",
          "text": [
            "              precision    recall  f1-score   support\n",
            "\n",
            "           0       0.76      0.05      0.09     13954\n",
            "           1       0.51      0.99      0.67     14006\n",
            "\n",
            "    accuracy                           0.52     27960\n",
            "   macro avg       0.63      0.52      0.38     27960\n",
            "weighted avg       0.63      0.52      0.38     27960\n",
            "\n",
            "\n",
            " testing duration : 0.8324830532073975 \n",
            "\n"
          ]
        },
        {
          "output_type": "display_data",
          "data": {
            "text/plain": [
              "<Figure size 640x480 with 2 Axes>"
            ],
            "image/png": "[encoded data removed]"
          },
          "metadata": {}
        }
      ],
      "source": [
        "mul_pd1 = mulgul_engtim.time()\n",
        "\n",
        "mulgul_Pcet = mulgul_Mll4.predict(mulgul_gerXE)\n",
        "print(mulgul_engcla(mulgul_gerYE,mulgul_Pcet))\n",
        "mul_pl = mulgul_engcon(mulgul_gerYE,mulgul_Pcet)\n",
        "mul_wd = mulgul_engcma(confusion_matrix = mul_pl, display_labels = [0, 1])\n",
        "mul_wd.plot()\n",
        "\n",
        "mul_pd2 = mulgul_engtim.time()\n",
        "print(\"\\n testing duration :\", mul_pd2-mul_pd1,\"\\n\")"
      ]
    },
    {
      "cell_type": "markdown",
      "metadata": {
        "id": "68X7zziCZ95F"
      },
      "source": [
        "#### KNN"
      ]
    },
    {
      "cell_type": "code",
      "execution_count": 30,
      "metadata": {
        "colab": {
          "base_uri": "https://localhost:8080/"
        },
        "id": "MMCIjWT2Z-H5",
        "outputId": "999a4229-07b9-4485-f46a-7c4f853d4561"
      },
      "outputs": [
        {
          "output_type": "stream",
          "name": "stdout",
          "text": [
            "Fitting 2 folds for each of 40 candidates, totalling 80 fits\n",
            "{'algorithm': 'ball_tree', 'n_neighbors': 8, 'weights': 'distance'}\n",
            "Best Score-mulgul_eng :  0.6413333333333333\n"
          ]
        }
      ],
      "source": [
        "from sklearn.neighbors import KNeighborsClassifier as mulgulkgh\n",
        "\n",
        "mulgul_Pa = {'weights': ['distance','uniform'],\n",
        "            'n_neighbors': [5,6,7,8,9],\n",
        "            'algorithm': ['ball_tree','kd_tree','auto','brute']}\n",
        "\n",
        "mulgul_Pa_Vbs = mulgulkgh()\n",
        "mulgul_Pa_Vbs = mulgul_enggri(mulgul_Pa_Vbs, mulgul_Pa,\n",
        "                         cv=2,\n",
        "                         verbose=1)\n",
        "mulgul_Pa_Vbs.fit(mulgul_engX[:3000],mulgul_engY[:3000])\n",
        "\n",
        "print(mulgul_Pa_Vbs.best_params_)\n",
        "print(\"Best Score-mulgul_eng : \", mulgul_Pa_Vbs.best_score_)"
      ]
    },
    {
      "cell_type": "code",
      "execution_count": 31,
      "metadata": {
        "colab": {
          "base_uri": "https://localhost:8080/",
          "height": 723
        },
        "id": "YtIZ_z5IZ-Ja",
        "outputId": "479775d8-e4d6-4e5c-cbe4-092840505627"
      },
      "outputs": [
        {
          "output_type": "stream",
          "name": "stdout",
          "text": [
            "\n",
            " training duration : 0.07913827896118164 \n",
            "\n",
            "              precision    recall  f1-score   support\n",
            "\n",
            "           0       0.76      0.06      0.10     14006\n",
            "           1       0.51      0.98      0.67     13954\n",
            "\n",
            "    accuracy                           0.52     27960\n",
            "   macro avg       0.63      0.52      0.39     27960\n",
            "weighted avg       0.63      0.52      0.39     27960\n",
            "\n",
            "\n",
            " validation duration : 57.68951606750488 \n",
            "\n"
          ]
        },
        {
          "output_type": "display_data",
          "data": {
            "text/plain": [
              "<Figure size 640x480 with 2 Axes>"
            ],
            "image/png": "[encoded data removed]"
          },
          "metadata": {}
        }
      ],
      "source": [
        "mul_pd1 = mulgul_engtim.time()\n",
        "mulgul_Mll5 = mulgulkgh(**mulgul_Pa_Vbs.best_params_)\n",
        "mulgul_Mll5.fit(mulgul_engX,mulgul_engY)\n",
        "mul_pd2 = mulgul_engtim.time()\n",
        "print(\"\\n training duration :\", mul_pd2-mul_pd1,\"\\n\")\n",
        "\n",
        "mul_pd1 = mulgul_engtim.time()\n",
        "\n",
        "mulgul_Pcet = mulgul_Mll5.predict(mulgul_gerXL)\n",
        "print(mulgul_engcla(mulgul_gerYL,mulgul_Pcet))\n",
        "mul_pl = mulgul_engcon(mulgul_gerYL,mulgul_Pcet)\n",
        "mul_wd = mulgul_engcma(confusion_matrix = mul_pl, display_labels = [0, 1])\n",
        "mul_wd.plot()\n",
        "\n",
        "mul_pd2 = mulgul_engtim.time()\n",
        "print(\"\\n validation duration :\", mul_pd2-mul_pd1,\"\\n\")"
      ]
    },
    {
      "cell_type": "code",
      "execution_count": 32,
      "metadata": {
        "colab": {
          "base_uri": "https://localhost:8080/",
          "height": 668
        },
        "id": "huMhnfADZ-Ou",
        "outputId": "a7636fe5-33c8-40fa-b94f-91a7412a6a31"
      },
      "outputs": [
        {
          "output_type": "stream",
          "name": "stdout",
          "text": [
            "              precision    recall  f1-score   support\n",
            "\n",
            "           0       0.74      0.05      0.10     13954\n",
            "           1       0.51      0.98      0.67     14006\n",
            "\n",
            "    accuracy                           0.52     27960\n",
            "   macro avg       0.62      0.52      0.38     27960\n",
            "weighted avg       0.62      0.52      0.38     27960\n",
            "\n",
            "\n",
            " testing duration : 42.65972948074341 \n",
            "\n"
          ]
        },
        {
          "output_type": "display_data",
          "data": {
            "text/plain": [
              "<Figure size 640x480 with 2 Axes>"
            ],
            "image/png": "[encoded data removed]"
          },
          "metadata": {}
        }
      ],
      "source": [
        "mul_pd1 = mulgul_engtim.time()\n",
        "\n",
        "mulgul_Pcet = mulgul_Mll5.predict(mulgul_gerXE)\n",
        "print(mulgul_engcla(mulgul_gerYE,mulgul_Pcet))\n",
        "mul_pl = mulgul_engcon(mulgul_gerYE,mulgul_Pcet)\n",
        "mul_wd = mulgul_engcma(confusion_matrix = mul_pl, display_labels = [0, 1])\n",
        "mul_wd.plot()\n",
        "\n",
        "mul_pd2 = mulgul_engtim.time()\n",
        "print(\"\\n testing duration :\", mul_pd2-mul_pd1,\"\\n\")"
      ]
    },
    {
      "cell_type": "markdown",
      "metadata": {
        "id": "hcrEWp6wa7Sl"
      },
      "source": [
        "#### MLP"
      ]
    },
    {
      "cell_type": "code",
      "execution_count": 33,
      "metadata": {
        "colab": {
          "base_uri": "https://localhost:8080/"
        },
        "id": "nLMIWnb5a7hr",
        "outputId": "85badd90-1dbb-4a86-91f6-973120df63f6"
      },
      "outputs": [
        {
          "output_type": "stream",
          "name": "stdout",
          "text": [
            "Fitting 2 folds for each of 36 candidates, totalling 72 fits\n",
            "{'activation': 'logistic', 'learning_rate': 'constant', 'solver': 'adam'}\n",
            "Best Score-mulgul_eng :  0.5800000000000001\n"
          ]
        }
      ],
      "source": [
        "from sklearn.neural_network import MLPClassifier as mulgulmlt\n",
        "\n",
        "mulgul_Pa = {'solver': ['lbfgs','adam','sgd'],\n",
        "            'learning_rate': ['constant','adaptive','invscaling'],\n",
        "            'activation': ['tanh','relu','logistic','identity']}\n",
        "\n",
        "mulgul_Pa_Vbs = mulgulmlt(random_state= ger_rast)\n",
        "mulgul_Pa_Vbs = mulgul_enggri(mulgul_Pa_Vbs, mulgul_Pa,\n",
        "                         cv=2,\n",
        "                         verbose=1)\n",
        "mulgul_Pa_Vbs.fit(mulgul_engX[:100],mulgul_engY[:100])\n",
        "\n",
        "print(mulgul_Pa_Vbs.best_params_)\n",
        "print(\"Best Score-mulgul_eng : \", mulgul_Pa_Vbs.best_score_)"
      ]
    },
    {
      "cell_type": "code",
      "execution_count": 34,
      "metadata": {
        "colab": {
          "base_uri": "https://localhost:8080/",
          "height": 723
        },
        "id": "iNLwuiHoa7jK",
        "outputId": "3414172b-f0a1-43a9-aafe-9492bc8a9241"
      },
      "outputs": [
        {
          "output_type": "stream",
          "name": "stdout",
          "text": [
            "\n",
            " training duration : 32.4563570022583 \n",
            "\n",
            "              precision    recall  f1-score   support\n",
            "\n",
            "           0       0.78      0.30      0.43     14006\n",
            "           1       0.57      0.91      0.70     13954\n",
            "\n",
            "    accuracy                           0.61     27960\n",
            "   macro avg       0.67      0.61      0.57     27960\n",
            "weighted avg       0.67      0.61      0.56     27960\n",
            "\n",
            "\n",
            " validation duration : 0.2346818447113037 \n",
            "\n"
          ]
        },
        {
          "output_type": "display_data",
          "data": {
            "text/plain": [
              "<Figure size 640x480 with 2 Axes>"
            ],
            "image/png": "[encoded data removed]"
          },
          "metadata": {}
        }
      ],
      "source": [
        "mul_pd1 = mulgul_engtim.time()\n",
        "mulgul_Mll6 = mulgulmlt(**mulgul_Pa_Vbs.best_params_)\n",
        "mulgul_Mll6.fit(mulgul_engX,mulgul_engY)\n",
        "mul_pd2 = mulgul_engtim.time()\n",
        "print(\"\\n training duration :\", mul_pd2-mul_pd1,\"\\n\")\n",
        "\n",
        "mul_pd1 = mulgul_engtim.time()\n",
        "\n",
        "mulgul_Pcet = mulgul_Mll6.predict(mulgul_gerXL)\n",
        "print(mulgul_engcla(mulgul_gerYL,mulgul_Pcet))\n",
        "mul_pl = mulgul_engcon(mulgul_gerYL,mulgul_Pcet)\n",
        "mul_wd = mulgul_engcma(confusion_matrix = mul_pl, display_labels = [0, 1])\n",
        "mul_wd.plot()\n",
        "\n",
        "mul_pd2 = mulgul_engtim.time()\n",
        "print(\"\\n validation duration :\", mul_pd2-mul_pd1,\"\\n\")"
      ]
    },
    {
      "cell_type": "code",
      "execution_count": 35,
      "metadata": {
        "colab": {
          "base_uri": "https://localhost:8080/",
          "height": 668
        },
        "id": "nUvs4HQQa7pC",
        "outputId": "07f2e462-55dc-44d6-cfb2-c3eef1d325bb"
      },
      "outputs": [
        {
          "output_type": "stream",
          "name": "stdout",
          "text": [
            "              precision    recall  f1-score   support\n",
            "\n",
            "           0       0.77      0.29      0.42     13954\n",
            "           1       0.56      0.91      0.70     14006\n",
            "\n",
            "    accuracy                           0.60     27960\n",
            "   macro avg       0.66      0.60      0.56     27960\n",
            "weighted avg       0.66      0.60      0.56     27960\n",
            "\n",
            "\n",
            " testing duration : 0.21749114990234375 \n",
            "\n"
          ]
        },
        {
          "output_type": "display_data",
          "data": {
            "text/plain": [
              "<Figure size 640x480 with 2 Axes>"
            ],
            "image/png": "[encoded data removed]"
          },
          "metadata": {}
        }
      ],
      "source": [
        "mul_pd1 = mulgul_engtim.time()\n",
        "\n",
        "mulgul_Pcet = mulgul_Mll6.predict(mulgul_gerXE)\n",
        "print(mulgul_engcla(mulgul_gerYE,mulgul_Pcet))\n",
        "mul_pl = mulgul_engcon(mulgul_gerYE,mulgul_Pcet)\n",
        "mul_wd = mulgul_engcma(confusion_matrix = mul_pl, display_labels = [0, 1])\n",
        "mul_wd.plot()\n",
        "\n",
        "mul_pd2 = mulgul_engtim.time()\n",
        "print(\"\\n testing duration :\", mul_pd2-mul_pd1,\"\\n\")"
      ]
    }
  ],
  "metadata": {
    "colab": {
      "provenance": []
    },
    "kernelspec": {
      "display_name": "Python 3",
      "name": "python3"
    },
    "language_info": {
      "name": "python"
    }
  },
  "nbformat": 4,
  "nbformat_minor": 0
}