{
  "nbformat": 4,
  "nbformat_minor": 0,
  "metadata": {
    "colab": {
      "provenance": []
    },
    "kernelspec": {
      "name": "python3",
      "display_name": "Python 3"
    },
    "language_info": {
      "name": "python"
    }
  },
  "cells": [
    {
      "cell_type": "code",
      "execution_count": 1,
      "metadata": {
        "id": "ePD-7CbyT9WK",
        "colab": {
          "base_uri": "https://localhost:8080/",
          "height": 423
        },
        "outputId": "bee9bc93-ed73-4db2-8443-d6add47ec90c"
      },
      "outputs": [
        {
          "output_type": "execute_result",
          "data": {
            "text/plain": [
              "                                                    text  label\n",
              "0      comment expected barack obama members fyf fuky...      1\n",
              "1                             post votes hillary already      1\n",
              "2      demonstrators gathered last night exercising c...      1\n",
              "3      dozen politically active pastors came private ...      0\n",
              "4      rs sarmat missile dubbed satan replace ss flie...      1\n",
              "...                                                  ...    ...\n",
              "29995  washington reuters u president donald trump fa...      0\n",
              "29996  thank goodness mandatory financial disclosures...      1\n",
              "29997  washington reuters vice president mike pence t...      0\n",
              "29998  share joe giambrone everything printed year do...      1\n",
              "29999  lima reuters former authoritarian leader alber...      0\n",
              "\n",
              "[30000 rows x 2 columns]"
            ],
            "text/html": [
              "\n",
              "  <div id=\"df-061dd2aa-3ace-4302-a795-a12da3db366e\" class=\"colab-df-container\">\n",
              "    <div>\n",
              "<style scoped>\n",
              "    .dataframe tbody tr th:only-of-type {\n",
              "        vertical-align: middle;\n",
              "    }\n",
              "\n",
              "    .dataframe tbody tr th {\n",
              "        vertical-align: top;\n",
              "    }\n",
              "\n",
              "    .dataframe thead th {\n",
              "        text-align: right;\n",
              "    }\n",
              "</style>\n",
              "<table border=\"1\" class=\"dataframe\">\n",
              "  <thead>\n",
              "    <tr style=\"text-align: right;\">\n",
              "      <th></th>\n",
              "      <th>text</th>\n",
              "      <th>label</th>\n",
              "    </tr>\n",
              "  </thead>\n",
              "  <tbody>\n",
              "    <tr>\n",
              "      <th>0</th>\n",
              "      <td>comment expected barack obama members fyf fuky...</td>\n",
              "      <td>1</td>\n",
              "    </tr>\n",
              "    <tr>\n",
              "      <th>1</th>\n",
              "      <td>post votes hillary already</td>\n",
              "      <td>1</td>\n",
              "    </tr>\n",
              "    <tr>\n",
              "      <th>2</th>\n",
              "      <td>demonstrators gathered last night exercising c...</td>\n",
              "      <td>1</td>\n",
              "    </tr>\n",
              "    <tr>\n",
              "      <th>3</th>\n",
              "      <td>dozen politically active pastors came private ...</td>\n",
              "      <td>0</td>\n",
              "    </tr>\n",
              "    <tr>\n",
              "      <th>4</th>\n",
              "      <td>rs sarmat missile dubbed satan replace ss flie...</td>\n",
              "      <td>1</td>\n",
              "    </tr>\n",
              "    <tr>\n",
              "      <th>...</th>\n",
              "      <td>...</td>\n",
              "      <td>...</td>\n",
              "    </tr>\n",
              "    <tr>\n",
              "      <th>29995</th>\n",
              "      <td>washington reuters u president donald trump fa...</td>\n",
              "      <td>0</td>\n",
              "    </tr>\n",
              "    <tr>\n",
              "      <th>29996</th>\n",
              "      <td>thank goodness mandatory financial disclosures...</td>\n",
              "      <td>1</td>\n",
              "    </tr>\n",
              "    <tr>\n",
              "      <th>29997</th>\n",
              "      <td>washington reuters vice president mike pence t...</td>\n",
              "      <td>0</td>\n",
              "    </tr>\n",
              "    <tr>\n",
              "      <th>29998</th>\n",
              "      <td>share joe giambrone everything printed year do...</td>\n",
              "      <td>1</td>\n",
              "    </tr>\n",
              "    <tr>\n",
              "      <th>29999</th>\n",
              "      <td>lima reuters former authoritarian leader alber...</td>\n",
              "      <td>0</td>\n",
              "    </tr>\n",
              "  </tbody>\n",
              "</table>\n",
              "<p>30000 rows × 2 columns</p>\n",
              "</div>\n",
              "    <div class=\"colab-df-buttons\">\n",
              "\n",
              "  <div class=\"colab-df-container\">\n",
              "    <button class=\"colab-df-convert\" onclick=\"convertToInteractive('df-061dd2aa-3ace-4302-a795-a12da3db366e')\"\n",
              "            title=\"Convert this dataframe to an interactive table.\"\n",
              "            style=\"display:none;\">\n",
              "\n",
              "  <svg xmlns=\"http://www.w3.org/2000/svg\" height=\"24px\" viewBox=\"0 -960 960 960\">\n",
              "    <path d=\"M120-120v-720h720v720H120Zm60-500h600v-160H180v160Zm220 220h160v-160H400v160Zm0 220h160v-160H400v160ZM180-400h160v-160H180v160Zm440 0h160v-160H620v160ZM180-180h160v-160H180v160Zm440 0h160v-160H620v160Z\"/>\n",
              "  </svg>\n",
              "    </button>\n",
              "\n",
              "  <style>\n",
              "    .colab-df-container {\n",
              "      display:flex;\n",
              "      gap: 12px;\n",
              "    }\n",
              "\n",
              "    .colab-df-convert {\n",
              "      background-color: #E8F0FE;\n",
              "      border: none;\n",
              "      border-radius: 50%;\n",
              "      cursor: pointer;\n",
              "      display: none;\n",
              "      fill: #1967D2;\n",
              "      height: 32px;\n",
              "      padding: 0 0 0 0;\n",
              "      width: 32px;\n",
              "    }\n",
              "\n",
              "    .colab-df-convert:hover {\n",
              "      background-color: #E2EBFA;\n",
              "      box-shadow: 0px 1px 2px rgba(60, 64, 67, 0.3), 0px 1px 3px 1px rgba(60, 64, 67, 0.15);\n",
              "      fill: #174EA6;\n",
              "    }\n",
              "\n",
              "    .colab-df-buttons div {\n",
              "      margin-bottom: 4px;\n",
              "    }\n",
              "\n",
              "    [theme=dark] .colab-df-convert {\n",
              "      background-color: #3B4455;\n",
              "      fill: #D2E3FC;\n",
              "    }\n",
              "\n",
              "    [theme=dark] .colab-df-convert:hover {\n",
              "      background-color: #434B5C;\n",
              "      box-shadow: 0px 1px 3px 1px rgba(0, 0, 0, 0.15);\n",
              "      filter: drop-shadow(0px 1px 2px rgba(0, 0, 0, 0.3));\n",
              "      fill: #FFFFFF;\n",
              "    }\n",
              "  </style>\n",
              "\n",
              "    <script>\n",
              "      const buttonEl =\n",
              "        document.querySelector('#df-061dd2aa-3ace-4302-a795-a12da3db366e button.colab-df-convert');\n",
              "      buttonEl.style.display =\n",
              "        google.colab.kernel.accessAllowed ? 'block' : 'none';\n",
              "\n",
              "      async function convertToInteractive(key) {\n",
              "        const element = document.querySelector('#df-061dd2aa-3ace-4302-a795-a12da3db366e');\n",
              "        const dataTable =\n",
              "          await google.colab.kernel.invokeFunction('convertToInteractive',\n",
              "                                                    [key], {});\n",
              "        if (!dataTable) return;\n",
              "\n",
              "        const docLinkHtml = 'Like what you see? Visit the ' +\n",
              "          '<a target=\"_blank\" href=https://colab.research.google.com/notebooks/data_table.ipynb>data table notebook</a>'\n",
              "          + ' to learn more about interactive tables.';\n",
              "        element.innerHTML = '';\n",
              "        dataTable['output_type'] = 'display_data';\n",
              "        await google.colab.output.renderOutput(dataTable, element);\n",
              "        const docLink = document.createElement('div');\n",
              "        docLink.innerHTML = docLinkHtml;\n",
              "        element.appendChild(docLink);\n",
              "      }\n",
              "    </script>\n",
              "  </div>\n",
              "\n",
              "\n",
              "<div id=\"df-f6a3c4b9-5d71-4c30-9978-5a868544ba81\">\n",
              "  <button class=\"colab-df-quickchart\" onclick=\"quickchart('df-f6a3c4b9-5d71-4c30-9978-5a868544ba81')\"\n",
              "            title=\"Suggest charts\"\n",
              "            style=\"display:none;\">\n",
              "\n",
              "<svg xmlns=\"http://www.w3.org/2000/svg\" height=\"24px\"viewBox=\"0 0 24 24\"\n",
              "     width=\"24px\">\n",
              "    <g>\n",
              "        <path d=\"M19 3H5c-1.1 0-2 .9-2 2v14c0 1.1.9 2 2 2h14c1.1 0 2-.9 2-2V5c0-1.1-.9-2-2-2zM9 17H7v-7h2v7zm4 0h-2V7h2v10zm4 0h-2v-4h2v4z\"/>\n",
              "    </g>\n",
              "</svg>\n",
              "  </button>\n",
              "\n",
              "<style>\n",
              "  .colab-df-quickchart {\n",
              "      --bg-color: #E8F0FE;\n",
              "      --fill-color: #1967D2;\n",
              "      --hover-bg-color: #E2EBFA;\n",
              "      --hover-fill-color: #174EA6;\n",
              "      --disabled-fill-color: #AAA;\n",
              "      --disabled-bg-color: #DDD;\n",
              "  }\n",
              "\n",
              "  [theme=dark] .colab-df-quickchart {\n",
              "      --bg-color: #3B4455;\n",
              "      --fill-color: #D2E3FC;\n",
              "      --hover-bg-color: #434B5C;\n",
              "      --hover-fill-color: #FFFFFF;\n",
              "      --disabled-bg-color: #3B4455;\n",
              "      --disabled-fill-color: #666;\n",
              "  }\n",
              "\n",
              "  .colab-df-quickchart {\n",
              "    background-color: var(--bg-color);\n",
              "    border: none;\n",
              "    border-radius: 50%;\n",
              "    cursor: pointer;\n",
              "    display: none;\n",
              "    fill: var(--fill-color);\n",
              "    height: 32px;\n",
              "    padding: 0;\n",
              "    width: 32px;\n",
              "  }\n",
              "\n",
              "  .colab-df-quickchart:hover {\n",
              "    background-color: var(--hover-bg-color);\n",
              "    box-shadow: 0 1px 2px rgba(60, 64, 67, 0.3), 0 1px 3px 1px rgba(60, 64, 67, 0.15);\n",
              "    fill: var(--button-hover-fill-color);\n",
              "  }\n",
              "\n",
              "  .colab-df-quickchart-complete:disabled,\n",
              "  .colab-df-quickchart-complete:disabled:hover {\n",
              "    background-color: var(--disabled-bg-color);\n",
              "    fill: var(--disabled-fill-color);\n",
              "    box-shadow: none;\n",
              "  }\n",
              "\n",
              "  .colab-df-spinner {\n",
              "    border: 2px solid var(--fill-color);\n",
              "    border-color: transparent;\n",
              "    border-bottom-color: var(--fill-color);\n",
              "    animation:\n",
              "      spin 1s steps(1) infinite;\n",
              "  }\n",
              "\n",
              "  @keyframes spin {\n",
              "    0% {\n",
              "      border-color: transparent;\n",
              "      border-bottom-color: var(--fill-color);\n",
              "      border-left-color: var(--fill-color);\n",
              "    }\n",
              "    20% {\n",
              "      border-color: transparent;\n",
              "      border-left-color: var(--fill-color);\n",
              "      border-top-color: var(--fill-color);\n",
              "    }\n",
              "    30% {\n",
              "      border-color: transparent;\n",
              "      border-left-color: var(--fill-color);\n",
              "      border-top-color: var(--fill-color);\n",
              "      border-right-color: var(--fill-color);\n",
              "    }\n",
              "    40% {\n",
              "      border-color: transparent;\n",
              "      border-right-color: var(--fill-color);\n",
              "      border-top-color: var(--fill-color);\n",
              "    }\n",
              "    60% {\n",
              "      border-color: transparent;\n",
              "      border-right-color: var(--fill-color);\n",
              "    }\n",
              "    80% {\n",
              "      border-color: transparent;\n",
              "      border-right-color: var(--fill-color);\n",
              "      border-bottom-color: var(--fill-color);\n",
              "    }\n",
              "    90% {\n",
              "      border-color: transparent;\n",
              "      border-bottom-color: var(--fill-color);\n",
              "    }\n",
              "  }\n",
              "</style>\n",
              "\n",
              "  <script>\n",
              "    async function quickchart(key) {\n",
              "      const quickchartButtonEl =\n",
              "        document.querySelector('#' + key + ' button');\n",
              "      quickchartButtonEl.disabled = true;  // To prevent multiple clicks.\n",
              "      quickchartButtonEl.classList.add('colab-df-spinner');\n",
              "      try {\n",
              "        const charts = await google.colab.kernel.invokeFunction(\n",
              "            'suggestCharts', [key], {});\n",
              "      } catch (error) {\n",
              "        console.error('Error during call to suggestCharts:', error);\n",
              "      }\n",
              "      quickchartButtonEl.classList.remove('colab-df-spinner');\n",
              "      quickchartButtonEl.classList.add('colab-df-quickchart-complete');\n",
              "    }\n",
              "    (() => {\n",
              "      let quickchartButtonEl =\n",
              "        document.querySelector('#df-f6a3c4b9-5d71-4c30-9978-5a868544ba81 button');\n",
              "      quickchartButtonEl.style.display =\n",
              "        google.colab.kernel.accessAllowed ? 'block' : 'none';\n",
              "    })();\n",
              "  </script>\n",
              "</div>\n",
              "    </div>\n",
              "  </div>\n"
            ]
          },
          "metadata": {},
          "execution_count": 1
        }
      ],
      "source": [
        "import pandas as mulgul_engpd\n",
        "\n",
        "mulgul_eng = mulgul_engpd.read_csv('mulgul_eng.csv',nrows=30000) # read English data\n",
        "mulgul_eng"
      ]
    },
    {
      "cell_type": "code",
      "source": [
        "import pandas as mulgul_engpd\n",
        "\n",
        "mulgul_ger = mulgul_engpd.read_csv('mulgul_german.csv',nrows=30000)\n",
        "mulgul_ger"
      ],
      "metadata": {
        "id": "UodRIhXvqaOt",
        "colab": {
          "base_uri": "https://localhost:8080/",
          "height": 423
        },
        "outputId": "3b912fb3-18c2-47b0-8db3-a387d5a50c60"
      },
      "execution_count": 2,
      "outputs": [
        {
          "output_type": "execute_result",
          "data": {
            "text/plain": [
              "                                                    Body  Fake\n",
              "0      sondierungsgespr che union spd endeten komprom...     1\n",
              "1      medizinisch offiziell best tigt milit r rztlic...     1\n",
              "2      z he verhandlungen freien demokraten k nnen zu...     1\n",
              "3      treibt immer sp t nacht herum joachim sauer be...     1\n",
              "4      parteivorstand dr ckt nochmal auge nachdem noa...     1\n",
              "...                                                  ...   ...\n",
              "29995  krisengebeutelte europ ische automobilmarkt ta...     0\n",
              "29996  us kabelkonzern liberty global bieterrennen ka...     0\n",
              "29997  angesichts tiefen rezession euro zone fasst ez...     0\n",
              "29998  commerzbank fallen n chsten jahren voraussicht...     0\n",
              "29999  bundesbank chef jens weidmann weiche auslegung...     0\n",
              "\n",
              "[30000 rows x 2 columns]"
            ],
            "text/html": [
              "\n",
              "  <div id=\"df-5021a6a0-d568-45d7-a536-4aedd36176c8\" class=\"colab-df-container\">\n",
              "    <div>\n",
              "<style scoped>\n",
              "    .dataframe tbody tr th:only-of-type {\n",
              "        vertical-align: middle;\n",
              "    }\n",
              "\n",
              "    .dataframe tbody tr th {\n",
              "        vertical-align: top;\n",
              "    }\n",
              "\n",
              "    .dataframe thead th {\n",
              "        text-align: right;\n",
              "    }\n",
              "</style>\n",
              "<table border=\"1\" class=\"dataframe\">\n",
              "  <thead>\n",
              "    <tr style=\"text-align: right;\">\n",
              "      <th></th>\n",
              "      <th>Body</th>\n",
              "      <th>Fake</th>\n",
              "    </tr>\n",
              "  </thead>\n",
              "  <tbody>\n",
              "    <tr>\n",
              "      <th>0</th>\n",
              "      <td>sondierungsgespr che union spd endeten komprom...</td>\n",
              "      <td>1</td>\n",
              "    </tr>\n",
              "    <tr>\n",
              "      <th>1</th>\n",
              "      <td>medizinisch offiziell best tigt milit r rztlic...</td>\n",
              "      <td>1</td>\n",
              "    </tr>\n",
              "    <tr>\n",
              "      <th>2</th>\n",
              "      <td>z he verhandlungen freien demokraten k nnen zu...</td>\n",
              "      <td>1</td>\n",
              "    </tr>\n",
              "    <tr>\n",
              "      <th>3</th>\n",
              "      <td>treibt immer sp t nacht herum joachim sauer be...</td>\n",
              "      <td>1</td>\n",
              "    </tr>\n",
              "    <tr>\n",
              "      <th>4</th>\n",
              "      <td>parteivorstand dr ckt nochmal auge nachdem noa...</td>\n",
              "      <td>1</td>\n",
              "    </tr>\n",
              "    <tr>\n",
              "      <th>...</th>\n",
              "      <td>...</td>\n",
              "      <td>...</td>\n",
              "    </tr>\n",
              "    <tr>\n",
              "      <th>29995</th>\n",
              "      <td>krisengebeutelte europ ische automobilmarkt ta...</td>\n",
              "      <td>0</td>\n",
              "    </tr>\n",
              "    <tr>\n",
              "      <th>29996</th>\n",
              "      <td>us kabelkonzern liberty global bieterrennen ka...</td>\n",
              "      <td>0</td>\n",
              "    </tr>\n",
              "    <tr>\n",
              "      <th>29997</th>\n",
              "      <td>angesichts tiefen rezession euro zone fasst ez...</td>\n",
              "      <td>0</td>\n",
              "    </tr>\n",
              "    <tr>\n",
              "      <th>29998</th>\n",
              "      <td>commerzbank fallen n chsten jahren voraussicht...</td>\n",
              "      <td>0</td>\n",
              "    </tr>\n",
              "    <tr>\n",
              "      <th>29999</th>\n",
              "      <td>bundesbank chef jens weidmann weiche auslegung...</td>\n",
              "      <td>0</td>\n",
              "    </tr>\n",
              "  </tbody>\n",
              "</table>\n",
              "<p>30000 rows × 2 columns</p>\n",
              "</div>\n",
              "    <div class=\"colab-df-buttons\">\n",
              "\n",
              "  <div class=\"colab-df-container\">\n",
              "    <button class=\"colab-df-convert\" onclick=\"convertToInteractive('df-5021a6a0-d568-45d7-a536-4aedd36176c8')\"\n",
              "            title=\"Convert this dataframe to an interactive table.\"\n",
              "            style=\"display:none;\">\n",
              "\n",
              "  <svg xmlns=\"http://www.w3.org/2000/svg\" height=\"24px\" viewBox=\"0 -960 960 960\">\n",
              "    <path d=\"M120-120v-720h720v720H120Zm60-500h600v-160H180v160Zm220 220h160v-160H400v160Zm0 220h160v-160H400v160ZM180-400h160v-160H180v160Zm440 0h160v-160H620v160ZM180-180h160v-160H180v160Zm440 0h160v-160H620v160Z\"/>\n",
              "  </svg>\n",
              "    </button>\n",
              "\n",
              "  <style>\n",
              "    .colab-df-container {\n",
              "      display:flex;\n",
              "      gap: 12px;\n",
              "    }\n",
              "\n",
              "    .colab-df-convert {\n",
              "      background-color: #E8F0FE;\n",
              "      border: none;\n",
              "      border-radius: 50%;\n",
              "      cursor: pointer;\n",
              "      display: none;\n",
              "      fill: #1967D2;\n",
              "      height: 32px;\n",
              "      padding: 0 0 0 0;\n",
              "      width: 32px;\n",
              "    }\n",
              "\n",
              "    .colab-df-convert:hover {\n",
              "      background-color: #E2EBFA;\n",
              "      box-shadow: 0px 1px 2px rgba(60, 64, 67, 0.3), 0px 1px 3px 1px rgba(60, 64, 67, 0.15);\n",
              "      fill: #174EA6;\n",
              "    }\n",
              "\n",
              "    .colab-df-buttons div {\n",
              "      margin-bottom: 4px;\n",
              "    }\n",
              "\n",
              "    [theme=dark] .colab-df-convert {\n",
              "      background-color: #3B4455;\n",
              "      fill: #D2E3FC;\n",
              "    }\n",
              "\n",
              "    [theme=dark] .colab-df-convert:hover {\n",
              "      background-color: #434B5C;\n",
              "      box-shadow: 0px 1px 3px 1px rgba(0, 0, 0, 0.15);\n",
              "      filter: drop-shadow(0px 1px 2px rgba(0, 0, 0, 0.3));\n",
              "      fill: #FFFFFF;\n",
              "    }\n",
              "  </style>\n",
              "\n",
              "    <script>\n",
              "      const buttonEl =\n",
              "        document.querySelector('#df-5021a6a0-d568-45d7-a536-4aedd36176c8 button.colab-df-convert');\n",
              "      buttonEl.style.display =\n",
              "        google.colab.kernel.accessAllowed ? 'block' : 'none';\n",
              "\n",
              "      async function convertToInteractive(key) {\n",
              "        const element = document.querySelector('#df-5021a6a0-d568-45d7-a536-4aedd36176c8');\n",
              "        const dataTable =\n",
              "          await google.colab.kernel.invokeFunction('convertToInteractive',\n",
              "                                                    [key], {});\n",
              "        if (!dataTable) return;\n",
              "\n",
              "        const docLinkHtml = 'Like what you see? Visit the ' +\n",
              "          '<a target=\"_blank\" href=https://colab.research.google.com/notebooks/data_table.ipynb>data table notebook</a>'\n",
              "          + ' to learn more about interactive tables.';\n",
              "        element.innerHTML = '';\n",
              "        dataTable['output_type'] = 'display_data';\n",
              "        await google.colab.output.renderOutput(dataTable, element);\n",
              "        const docLink = document.createElement('div');\n",
              "        docLink.innerHTML = docLinkHtml;\n",
              "        element.appendChild(docLink);\n",
              "      }\n",
              "    </script>\n",
              "  </div>\n",
              "\n",
              "\n",
              "<div id=\"df-a48c4801-5678-4b8a-ad7a-6011f7056b9e\">\n",
              "  <button class=\"colab-df-quickchart\" onclick=\"quickchart('df-a48c4801-5678-4b8a-ad7a-6011f7056b9e')\"\n",
              "            title=\"Suggest charts\"\n",
              "            style=\"display:none;\">\n",
              "\n",
              "<svg xmlns=\"http://www.w3.org/2000/svg\" height=\"24px\"viewBox=\"0 0 24 24\"\n",
              "     width=\"24px\">\n",
              "    <g>\n",
              "        <path d=\"M19 3H5c-1.1 0-2 .9-2 2v14c0 1.1.9 2 2 2h14c1.1 0 2-.9 2-2V5c0-1.1-.9-2-2-2zM9 17H7v-7h2v7zm4 0h-2V7h2v10zm4 0h-2v-4h2v4z\"/>\n",
              "    </g>\n",
              "</svg>\n",
              "  </button>\n",
              "\n",
              "<style>\n",
              "  .colab-df-quickchart {\n",
              "      --bg-color: #E8F0FE;\n",
              "      --fill-color: #1967D2;\n",
              "      --hover-bg-color: #E2EBFA;\n",
              "      --hover-fill-color: #174EA6;\n",
              "      --disabled-fill-color: #AAA;\n",
              "      --disabled-bg-color: #DDD;\n",
              "  }\n",
              "\n",
              "  [theme=dark] .colab-df-quickchart {\n",
              "      --bg-color: #3B4455;\n",
              "      --fill-color: #D2E3FC;\n",
              "      --hover-bg-color: #434B5C;\n",
              "      --hover-fill-color: #FFFFFF;\n",
              "      --disabled-bg-color: #3B4455;\n",
              "      --disabled-fill-color: #666;\n",
              "  }\n",
              "\n",
              "  .colab-df-quickchart {\n",
              "    background-color: var(--bg-color);\n",
              "    border: none;\n",
              "    border-radius: 50%;\n",
              "    cursor: pointer;\n",
              "    display: none;\n",
              "    fill: var(--fill-color);\n",
              "    height: 32px;\n",
              "    padding: 0;\n",
              "    width: 32px;\n",
              "  }\n",
              "\n",
              "  .colab-df-quickchart:hover {\n",
              "    background-color: var(--hover-bg-color);\n",
              "    box-shadow: 0 1px 2px rgba(60, 64, 67, 0.3), 0 1px 3px 1px rgba(60, 64, 67, 0.15);\n",
              "    fill: var(--button-hover-fill-color);\n",
              "  }\n",
              "\n",
              "  .colab-df-quickchart-complete:disabled,\n",
              "  .colab-df-quickchart-complete:disabled:hover {\n",
              "    background-color: var(--disabled-bg-color);\n",
              "    fill: var(--disabled-fill-color);\n",
              "    box-shadow: none;\n",
              "  }\n",
              "\n",
              "  .colab-df-spinner {\n",
              "    border: 2px solid var(--fill-color);\n",
              "    border-color: transparent;\n",
              "    border-bottom-color: var(--fill-color);\n",
              "    animation:\n",
              "      spin 1s steps(1) infinite;\n",
              "  }\n",
              "\n",
              "  @keyframes spin {\n",
              "    0% {\n",
              "      border-color: transparent;\n",
              "      border-bottom-color: var(--fill-color);\n",
              "      border-left-color: var(--fill-color);\n",
              "    }\n",
              "    20% {\n",
              "      border-color: transparent;\n",
              "      border-left-color: var(--fill-color);\n",
              "      border-top-color: var(--fill-color);\n",
              "    }\n",
              "    30% {\n",
              "      border-color: transparent;\n",
              "      border-left-color: var(--fill-color);\n",
              "      border-top-color: var(--fill-color);\n",
              "      border-right-color: var(--fill-color);\n",
              "    }\n",
              "    40% {\n",
              "      border-color: transparent;\n",
              "      border-right-color: var(--fill-color);\n",
              "      border-top-color: var(--fill-color);\n",
              "    }\n",
              "    60% {\n",
              "      border-color: transparent;\n",
              "      border-right-color: var(--fill-color);\n",
              "    }\n",
              "    80% {\n",
              "      border-color: transparent;\n",
              "      border-right-color: var(--fill-color);\n",
              "      border-bottom-color: var(--fill-color);\n",
              "    }\n",
              "    90% {\n",
              "      border-color: transparent;\n",
              "      border-bottom-color: var(--fill-color);\n",
              "    }\n",
              "  }\n",
              "</style>\n",
              "\n",
              "  <script>\n",
              "    async function quickchart(key) {\n",
              "      const quickchartButtonEl =\n",
              "        document.querySelector('#' + key + ' button');\n",
              "      quickchartButtonEl.disabled = true;  // To prevent multiple clicks.\n",
              "      quickchartButtonEl.classList.add('colab-df-spinner');\n",
              "      try {\n",
              "        const charts = await google.colab.kernel.invokeFunction(\n",
              "            'suggestCharts', [key], {});\n",
              "      } catch (error) {\n",
              "        console.error('Error during call to suggestCharts:', error);\n",
              "      }\n",
              "      quickchartButtonEl.classList.remove('colab-df-spinner');\n",
              "      quickchartButtonEl.classList.add('colab-df-quickchart-complete');\n",
              "    }\n",
              "    (() => {\n",
              "      let quickchartButtonEl =\n",
              "        document.querySelector('#df-a48c4801-5678-4b8a-ad7a-6011f7056b9e button');\n",
              "      quickchartButtonEl.style.display =\n",
              "        google.colab.kernel.accessAllowed ? 'block' : 'none';\n",
              "    })();\n",
              "  </script>\n",
              "</div>\n",
              "    </div>\n",
              "  </div>\n"
            ]
          },
          "metadata": {},
          "execution_count": 2
        }
      ]
    },
    {
      "cell_type": "code",
      "source": [
        "mulgul_eng['label'].value_counts()"
      ],
      "metadata": {
        "id": "9M-hwz5DUsoP",
        "colab": {
          "base_uri": "https://localhost:8080/"
        },
        "outputId": "36f157c6-848b-4708-c5e5-fdc314c80ab6"
      },
      "execution_count": 3,
      "outputs": [
        {
          "output_type": "execute_result",
          "data": {
            "text/plain": [
              "0    15432\n",
              "1    14568\n",
              "Name: label, dtype: int64"
            ]
          },
          "metadata": {},
          "execution_count": 3
        }
      ]
    },
    {
      "cell_type": "code",
      "source": [
        "mulgul_ger['Fake'].value_counts()"
      ],
      "metadata": {
        "id": "ph9aCM7Kq8tJ",
        "colab": {
          "base_uri": "https://localhost:8080/"
        },
        "outputId": "e9c7341f-d302-4302-f7aa-b69a0cbe3302"
      },
      "execution_count": 4,
      "outputs": [
        {
          "output_type": "execute_result",
          "data": {
            "text/plain": [
              "0    27960\n",
              "1     2040\n",
              "Name: Fake, dtype: int64"
            ]
          },
          "metadata": {},
          "execution_count": 4
        }
      ]
    },
    {
      "cell_type": "code",
      "source": [
        "mulgul_engX = mulgul_eng.drop('label',axis=1)\n",
        "mulgul_engX"
      ],
      "metadata": {
        "id": "7aiovJFpWZSD",
        "colab": {
          "base_uri": "https://localhost:8080/",
          "height": 423
        },
        "outputId": "016c69d2-35fe-4de8-8114-31818c523f60"
      },
      "execution_count": 5,
      "outputs": [
        {
          "output_type": "execute_result",
          "data": {
            "text/plain": [
              "                                                    text\n",
              "0      comment expected barack obama members fyf fuky...\n",
              "1                             post votes hillary already\n",
              "2      demonstrators gathered last night exercising c...\n",
              "3      dozen politically active pastors came private ...\n",
              "4      rs sarmat missile dubbed satan replace ss flie...\n",
              "...                                                  ...\n",
              "29995  washington reuters u president donald trump fa...\n",
              "29996  thank goodness mandatory financial disclosures...\n",
              "29997  washington reuters vice president mike pence t...\n",
              "29998  share joe giambrone everything printed year do...\n",
              "29999  lima reuters former authoritarian leader alber...\n",
              "\n",
              "[30000 rows x 1 columns]"
            ],
            "text/html": [
              "\n",
              "  <div id=\"df-11158876-831a-484a-ad6e-6fdb44893240\" class=\"colab-df-container\">\n",
              "    <div>\n",
              "<style scoped>\n",
              "    .dataframe tbody tr th:only-of-type {\n",
              "        vertical-align: middle;\n",
              "    }\n",
              "\n",
              "    .dataframe tbody tr th {\n",
              "        vertical-align: top;\n",
              "    }\n",
              "\n",
              "    .dataframe thead th {\n",
              "        text-align: right;\n",
              "    }\n",
              "</style>\n",
              "<table border=\"1\" class=\"dataframe\">\n",
              "  <thead>\n",
              "    <tr style=\"text-align: right;\">\n",
              "      <th></th>\n",
              "      <th>text</th>\n",
              "    </tr>\n",
              "  </thead>\n",
              "  <tbody>\n",
              "    <tr>\n",
              "      <th>0</th>\n",
              "      <td>comment expected barack obama members fyf fuky...</td>\n",
              "    </tr>\n",
              "    <tr>\n",
              "      <th>1</th>\n",
              "      <td>post votes hillary already</td>\n",
              "    </tr>\n",
              "    <tr>\n",
              "      <th>2</th>\n",
              "      <td>demonstrators gathered last night exercising c...</td>\n",
              "    </tr>\n",
              "    <tr>\n",
              "      <th>3</th>\n",
              "      <td>dozen politically active pastors came private ...</td>\n",
              "    </tr>\n",
              "    <tr>\n",
              "      <th>4</th>\n",
              "      <td>rs sarmat missile dubbed satan replace ss flie...</td>\n",
              "    </tr>\n",
              "    <tr>\n",
              "      <th>...</th>\n",
              "      <td>...</td>\n",
              "    </tr>\n",
              "    <tr>\n",
              "      <th>29995</th>\n",
              "      <td>washington reuters u president donald trump fa...</td>\n",
              "    </tr>\n",
              "    <tr>\n",
              "      <th>29996</th>\n",
              "      <td>thank goodness mandatory financial disclosures...</td>\n",
              "    </tr>\n",
              "    <tr>\n",
              "      <th>29997</th>\n",
              "      <td>washington reuters vice president mike pence t...</td>\n",
              "    </tr>\n",
              "    <tr>\n",
              "      <th>29998</th>\n",
              "      <td>share joe giambrone everything printed year do...</td>\n",
              "    </tr>\n",
              "    <tr>\n",
              "      <th>29999</th>\n",
              "      <td>lima reuters former authoritarian leader alber...</td>\n",
              "    </tr>\n",
              "  </tbody>\n",
              "</table>\n",
              "<p>30000 rows × 1 columns</p>\n",
              "</div>\n",
              "    <div class=\"colab-df-buttons\">\n",
              "\n",
              "  <div class=\"colab-df-container\">\n",
              "    <button class=\"colab-df-convert\" onclick=\"convertToInteractive('df-11158876-831a-484a-ad6e-6fdb44893240')\"\n",
              "            title=\"Convert this dataframe to an interactive table.\"\n",
              "            style=\"display:none;\">\n",
              "\n",
              "  <svg xmlns=\"http://www.w3.org/2000/svg\" height=\"24px\" viewBox=\"0 -960 960 960\">\n",
              "    <path d=\"M120-120v-720h720v720H120Zm60-500h600v-160H180v160Zm220 220h160v-160H400v160Zm0 220h160v-160H400v160ZM180-400h160v-160H180v160Zm440 0h160v-160H620v160ZM180-180h160v-160H180v160Zm440 0h160v-160H620v160Z\"/>\n",
              "  </svg>\n",
              "    </button>\n",
              "\n",
              "  <style>\n",
              "    .colab-df-container {\n",
              "      display:flex;\n",
              "      gap: 12px;\n",
              "    }\n",
              "\n",
              "    .colab-df-convert {\n",
              "      background-color: #E8F0FE;\n",
              "      border: none;\n",
              "      border-radius: 50%;\n",
              "      cursor: pointer;\n",
              "      display: none;\n",
              "      fill: #1967D2;\n",
              "      height: 32px;\n",
              "      padding: 0 0 0 0;\n",
              "      width: 32px;\n",
              "    }\n",
              "\n",
              "    .colab-df-convert:hover {\n",
              "      background-color: #E2EBFA;\n",
              "      box-shadow: 0px 1px 2px rgba(60, 64, 67, 0.3), 0px 1px 3px 1px rgba(60, 64, 67, 0.15);\n",
              "      fill: #174EA6;\n",
              "    }\n",
              "\n",
              "    .colab-df-buttons div {\n",
              "      margin-bottom: 4px;\n",
              "    }\n",
              "\n",
              "    [theme=dark] .colab-df-convert {\n",
              "      background-color: #3B4455;\n",
              "      fill: #D2E3FC;\n",
              "    }\n",
              "\n",
              "    [theme=dark] .colab-df-convert:hover {\n",
              "      background-color: #434B5C;\n",
              "      box-shadow: 0px 1px 3px 1px rgba(0, 0, 0, 0.15);\n",
              "      filter: drop-shadow(0px 1px 2px rgba(0, 0, 0, 0.3));\n",
              "      fill: #FFFFFF;\n",
              "    }\n",
              "  </style>\n",
              "\n",
              "    <script>\n",
              "      const buttonEl =\n",
              "        document.querySelector('#df-11158876-831a-484a-ad6e-6fdb44893240 button.colab-df-convert');\n",
              "      buttonEl.style.display =\n",
              "        google.colab.kernel.accessAllowed ? 'block' : 'none';\n",
              "\n",
              "      async function convertToInteractive(key) {\n",
              "        const element = document.querySelector('#df-11158876-831a-484a-ad6e-6fdb44893240');\n",
              "        const dataTable =\n",
              "          await google.colab.kernel.invokeFunction('convertToInteractive',\n",
              "                                                    [key], {});\n",
              "        if (!dataTable) return;\n",
              "\n",
              "        const docLinkHtml = 'Like what you see? Visit the ' +\n",
              "          '<a target=\"_blank\" href=https://colab.research.google.com/notebooks/data_table.ipynb>data table notebook</a>'\n",
              "          + ' to learn more about interactive tables.';\n",
              "        element.innerHTML = '';\n",
              "        dataTable['output_type'] = 'display_data';\n",
              "        await google.colab.output.renderOutput(dataTable, element);\n",
              "        const docLink = document.createElement('div');\n",
              "        docLink.innerHTML = docLinkHtml;\n",
              "        element.appendChild(docLink);\n",
              "      }\n",
              "    </script>\n",
              "  </div>\n",
              "\n",
              "\n",
              "<div id=\"df-a48d19c8-3cd6-479e-9887-2df361909d27\">\n",
              "  <button class=\"colab-df-quickchart\" onclick=\"quickchart('df-a48d19c8-3cd6-479e-9887-2df361909d27')\"\n",
              "            title=\"Suggest charts\"\n",
              "            style=\"display:none;\">\n",
              "\n",
              "<svg xmlns=\"http://www.w3.org/2000/svg\" height=\"24px\"viewBox=\"0 0 24 24\"\n",
              "     width=\"24px\">\n",
              "    <g>\n",
              "        <path d=\"M19 3H5c-1.1 0-2 .9-2 2v14c0 1.1.9 2 2 2h14c1.1 0 2-.9 2-2V5c0-1.1-.9-2-2-2zM9 17H7v-7h2v7zm4 0h-2V7h2v10zm4 0h-2v-4h2v4z\"/>\n",
              "    </g>\n",
              "</svg>\n",
              "  </button>\n",
              "\n",
              "<style>\n",
              "  .colab-df-quickchart {\n",
              "      --bg-color: #E8F0FE;\n",
              "      --fill-color: #1967D2;\n",
              "      --hover-bg-color: #E2EBFA;\n",
              "      --hover-fill-color: #174EA6;\n",
              "      --disabled-fill-color: #AAA;\n",
              "      --disabled-bg-color: #DDD;\n",
              "  }\n",
              "\n",
              "  [theme=dark] .colab-df-quickchart {\n",
              "      --bg-color: #3B4455;\n",
              "      --fill-color: #D2E3FC;\n",
              "      --hover-bg-color: #434B5C;\n",
              "      --hover-fill-color: #FFFFFF;\n",
              "      --disabled-bg-color: #3B4455;\n",
              "      --disabled-fill-color: #666;\n",
              "  }\n",
              "\n",
              "  .colab-df-quickchart {\n",
              "    background-color: var(--bg-color);\n",
              "    border: none;\n",
              "    border-radius: 50%;\n",
              "    cursor: pointer;\n",
              "    display: none;\n",
              "    fill: var(--fill-color);\n",
              "    height: 32px;\n",
              "    padding: 0;\n",
              "    width: 32px;\n",
              "  }\n",
              "\n",
              "  .colab-df-quickchart:hover {\n",
              "    background-color: var(--hover-bg-color);\n",
              "    box-shadow: 0 1px 2px rgba(60, 64, 67, 0.3), 0 1px 3px 1px rgba(60, 64, 67, 0.15);\n",
              "    fill: var(--button-hover-fill-color);\n",
              "  }\n",
              "\n",
              "  .colab-df-quickchart-complete:disabled,\n",
              "  .colab-df-quickchart-complete:disabled:hover {\n",
              "    background-color: var(--disabled-bg-color);\n",
              "    fill: var(--disabled-fill-color);\n",
              "    box-shadow: none;\n",
              "  }\n",
              "\n",
              "  .colab-df-spinner {\n",
              "    border: 2px solid var(--fill-color);\n",
              "    border-color: transparent;\n",
              "    border-bottom-color: var(--fill-color);\n",
              "    animation:\n",
              "      spin 1s steps(1) infinite;\n",
              "  }\n",
              "\n",
              "  @keyframes spin {\n",
              "    0% {\n",
              "      border-color: transparent;\n",
              "      border-bottom-color: var(--fill-color);\n",
              "      border-left-color: var(--fill-color);\n",
              "    }\n",
              "    20% {\n",
              "      border-color: transparent;\n",
              "      border-left-color: var(--fill-color);\n",
              "      border-top-color: var(--fill-color);\n",
              "    }\n",
              "    30% {\n",
              "      border-color: transparent;\n",
              "      border-left-color: var(--fill-color);\n",
              "      border-top-color: var(--fill-color);\n",
              "      border-right-color: var(--fill-color);\n",
              "    }\n",
              "    40% {\n",
              "      border-color: transparent;\n",
              "      border-right-color: var(--fill-color);\n",
              "      border-top-color: var(--fill-color);\n",
              "    }\n",
              "    60% {\n",
              "      border-color: transparent;\n",
              "      border-right-color: var(--fill-color);\n",
              "    }\n",
              "    80% {\n",
              "      border-color: transparent;\n",
              "      border-right-color: var(--fill-color);\n",
              "      border-bottom-color: var(--fill-color);\n",
              "    }\n",
              "    90% {\n",
              "      border-color: transparent;\n",
              "      border-bottom-color: var(--fill-color);\n",
              "    }\n",
              "  }\n",
              "</style>\n",
              "\n",
              "  <script>\n",
              "    async function quickchart(key) {\n",
              "      const quickchartButtonEl =\n",
              "        document.querySelector('#' + key + ' button');\n",
              "      quickchartButtonEl.disabled = true;  // To prevent multiple clicks.\n",
              "      quickchartButtonEl.classList.add('colab-df-spinner');\n",
              "      try {\n",
              "        const charts = await google.colab.kernel.invokeFunction(\n",
              "            'suggestCharts', [key], {});\n",
              "      } catch (error) {\n",
              "        console.error('Error during call to suggestCharts:', error);\n",
              "      }\n",
              "      quickchartButtonEl.classList.remove('colab-df-spinner');\n",
              "      quickchartButtonEl.classList.add('colab-df-quickchart-complete');\n",
              "    }\n",
              "    (() => {\n",
              "      let quickchartButtonEl =\n",
              "        document.querySelector('#df-a48d19c8-3cd6-479e-9887-2df361909d27 button');\n",
              "      quickchartButtonEl.style.display =\n",
              "        google.colab.kernel.accessAllowed ? 'block' : 'none';\n",
              "    })();\n",
              "  </script>\n",
              "</div>\n",
              "    </div>\n",
              "  </div>\n"
            ]
          },
          "metadata": {},
          "execution_count": 5
        }
      ]
    },
    {
      "cell_type": "code",
      "source": [
        "mulgul_engY = mulgul_eng['label']\n",
        "mulgul_engY"
      ],
      "metadata": {
        "id": "XrO11F-cWdj5",
        "colab": {
          "base_uri": "https://localhost:8080/"
        },
        "outputId": "afad509d-eca0-4be3-d553-878edfc4b42a"
      },
      "execution_count": 6,
      "outputs": [
        {
          "output_type": "execute_result",
          "data": {
            "text/plain": [
              "0        1\n",
              "1        1\n",
              "2        1\n",
              "3        0\n",
              "4        1\n",
              "        ..\n",
              "29995    0\n",
              "29996    1\n",
              "29997    0\n",
              "29998    1\n",
              "29999    0\n",
              "Name: label, Length: 30000, dtype: int64"
            ]
          },
          "metadata": {},
          "execution_count": 6
        }
      ]
    },
    {
      "cell_type": "code",
      "source": [
        "from sklearn.feature_extraction.text import TfidfVectorizer as mulgul_engcvt\n",
        "\n",
        "mulgul_eng_AY = mulgul_engcvt(analyzer='char', ngram_range= (1,1))\n",
        "mulgul_engX = mulgul_eng_AY.fit_transform(mulgul_eng['text'].values.astype('U')).toarray()"
      ],
      "metadata": {
        "id": "Bdntoczrr7kw"
      },
      "execution_count": 7,
      "outputs": []
    },
    {
      "cell_type": "code",
      "source": [
        "print(mulgul_engX)"
      ],
      "metadata": {
        "id": "i8MUk89wsYw4",
        "colab": {
          "base_uri": "https://localhost:8080/"
        },
        "outputId": "b8960750-b926-4084-ceae-d63802b9eace"
      },
      "execution_count": 8,
      "outputs": [
        {
          "output_type": "stream",
          "name": "stdout",
          "text": [
            "[[0.57892077 0.2611502  0.0672667  ... 0.01424629 0.06197869 0.00488827]\n",
            " [0.39981329 0.39977331 0.         ... 0.         0.26913124 0.        ]\n",
            " [0.4510741  0.24806595 0.         ... 0.02669597 0.02277278 0.        ]\n",
            " ...\n",
            " [0.49078218 0.26848079 0.05059424 ... 0.00420957 0.04488672 0.        ]\n",
            " [0.52501742 0.28544968 0.04668153 ... 0.00699124 0.07222846 0.00799625]\n",
            " [0.51391005 0.24052959 0.0296293  ... 0.01294247 0.04416186 0.01973731]]\n"
          ]
        }
      ]
    },
    {
      "cell_type": "code",
      "source": [
        "mulgul_gerX = mulgul_ger.drop('Fake',axis=1)\n",
        "mulgul_gerX"
      ],
      "metadata": {
        "colab": {
          "base_uri": "https://localhost:8080/",
          "height": 423
        },
        "id": "Lxxk2xvyIziq",
        "outputId": "e5fbbed4-e89e-4a20-882a-e6fb0639ecf7"
      },
      "execution_count": 9,
      "outputs": [
        {
          "output_type": "execute_result",
          "data": {
            "text/plain": [
              "                                                    Body\n",
              "0      sondierungsgespr che union spd endeten komprom...\n",
              "1      medizinisch offiziell best tigt milit r rztlic...\n",
              "2      z he verhandlungen freien demokraten k nnen zu...\n",
              "3      treibt immer sp t nacht herum joachim sauer be...\n",
              "4      parteivorstand dr ckt nochmal auge nachdem noa...\n",
              "...                                                  ...\n",
              "29995  krisengebeutelte europ ische automobilmarkt ta...\n",
              "29996  us kabelkonzern liberty global bieterrennen ka...\n",
              "29997  angesichts tiefen rezession euro zone fasst ez...\n",
              "29998  commerzbank fallen n chsten jahren voraussicht...\n",
              "29999  bundesbank chef jens weidmann weiche auslegung...\n",
              "\n",
              "[30000 rows x 1 columns]"
            ],
            "text/html": [
              "\n",
              "  <div id=\"df-fb1ca353-17c4-4a2e-a1ed-d1f4875cdb35\" class=\"colab-df-container\">\n",
              "    <div>\n",
              "<style scoped>\n",
              "    .dataframe tbody tr th:only-of-type {\n",
              "        vertical-align: middle;\n",
              "    }\n",
              "\n",
              "    .dataframe tbody tr th {\n",
              "        vertical-align: top;\n",
              "    }\n",
              "\n",
              "    .dataframe thead th {\n",
              "        text-align: right;\n",
              "    }\n",
              "</style>\n",
              "<table border=\"1\" class=\"dataframe\">\n",
              "  <thead>\n",
              "    <tr style=\"text-align: right;\">\n",
              "      <th></th>\n",
              "      <th>Body</th>\n",
              "    </tr>\n",
              "  </thead>\n",
              "  <tbody>\n",
              "    <tr>\n",
              "      <th>0</th>\n",
              "      <td>sondierungsgespr che union spd endeten komprom...</td>\n",
              "    </tr>\n",
              "    <tr>\n",
              "      <th>1</th>\n",
              "      <td>medizinisch offiziell best tigt milit r rztlic...</td>\n",
              "    </tr>\n",
              "    <tr>\n",
              "      <th>2</th>\n",
              "      <td>z he verhandlungen freien demokraten k nnen zu...</td>\n",
              "    </tr>\n",
              "    <tr>\n",
              "      <th>3</th>\n",
              "      <td>treibt immer sp t nacht herum joachim sauer be...</td>\n",
              "    </tr>\n",
              "    <tr>\n",
              "      <th>4</th>\n",
              "      <td>parteivorstand dr ckt nochmal auge nachdem noa...</td>\n",
              "    </tr>\n",
              "    <tr>\n",
              "      <th>...</th>\n",
              "      <td>...</td>\n",
              "    </tr>\n",
              "    <tr>\n",
              "      <th>29995</th>\n",
              "      <td>krisengebeutelte europ ische automobilmarkt ta...</td>\n",
              "    </tr>\n",
              "    <tr>\n",
              "      <th>29996</th>\n",
              "      <td>us kabelkonzern liberty global bieterrennen ka...</td>\n",
              "    </tr>\n",
              "    <tr>\n",
              "      <th>29997</th>\n",
              "      <td>angesichts tiefen rezession euro zone fasst ez...</td>\n",
              "    </tr>\n",
              "    <tr>\n",
              "      <th>29998</th>\n",
              "      <td>commerzbank fallen n chsten jahren voraussicht...</td>\n",
              "    </tr>\n",
              "    <tr>\n",
              "      <th>29999</th>\n",
              "      <td>bundesbank chef jens weidmann weiche auslegung...</td>\n",
              "    </tr>\n",
              "  </tbody>\n",
              "</table>\n",
              "<p>30000 rows × 1 columns</p>\n",
              "</div>\n",
              "    <div class=\"colab-df-buttons\">\n",
              "\n",
              "  <div class=\"colab-df-container\">\n",
              "    <button class=\"colab-df-convert\" onclick=\"convertToInteractive('df-fb1ca353-17c4-4a2e-a1ed-d1f4875cdb35')\"\n",
              "            title=\"Convert this dataframe to an interactive table.\"\n",
              "            style=\"display:none;\">\n",
              "\n",
              "  <svg xmlns=\"http://www.w3.org/2000/svg\" height=\"24px\" viewBox=\"0 -960 960 960\">\n",
              "    <path d=\"M120-120v-720h720v720H120Zm60-500h600v-160H180v160Zm220 220h160v-160H400v160Zm0 220h160v-160H400v160ZM180-400h160v-160H180v160Zm440 0h160v-160H620v160ZM180-180h160v-160H180v160Zm440 0h160v-160H620v160Z\"/>\n",
              "  </svg>\n",
              "    </button>\n",
              "\n",
              "  <style>\n",
              "    .colab-df-container {\n",
              "      display:flex;\n",
              "      gap: 12px;\n",
              "    }\n",
              "\n",
              "    .colab-df-convert {\n",
              "      background-color: #E8F0FE;\n",
              "      border: none;\n",
              "      border-radius: 50%;\n",
              "      cursor: pointer;\n",
              "      display: none;\n",
              "      fill: #1967D2;\n",
              "      height: 32px;\n",
              "      padding: 0 0 0 0;\n",
              "      width: 32px;\n",
              "    }\n",
              "\n",
              "    .colab-df-convert:hover {\n",
              "      background-color: #E2EBFA;\n",
              "      box-shadow: 0px 1px 2px rgba(60, 64, 67, 0.3), 0px 1px 3px 1px rgba(60, 64, 67, 0.15);\n",
              "      fill: #174EA6;\n",
              "    }\n",
              "\n",
              "    .colab-df-buttons div {\n",
              "      margin-bottom: 4px;\n",
              "    }\n",
              "\n",
              "    [theme=dark] .colab-df-convert {\n",
              "      background-color: #3B4455;\n",
              "      fill: #D2E3FC;\n",
              "    }\n",
              "\n",
              "    [theme=dark] .colab-df-convert:hover {\n",
              "      background-color: #434B5C;\n",
              "      box-shadow: 0px 1px 3px 1px rgba(0, 0, 0, 0.15);\n",
              "      filter: drop-shadow(0px 1px 2px rgba(0, 0, 0, 0.3));\n",
              "      fill: #FFFFFF;\n",
              "    }\n",
              "  </style>\n",
              "\n",
              "    <script>\n",
              "      const buttonEl =\n",
              "        document.querySelector('#df-fb1ca353-17c4-4a2e-a1ed-d1f4875cdb35 button.colab-df-convert');\n",
              "      buttonEl.style.display =\n",
              "        google.colab.kernel.accessAllowed ? 'block' : 'none';\n",
              "\n",
              "      async function convertToInteractive(key) {\n",
              "        const element = document.querySelector('#df-fb1ca353-17c4-4a2e-a1ed-d1f4875cdb35');\n",
              "        const dataTable =\n",
              "          await google.colab.kernel.invokeFunction('convertToInteractive',\n",
              "                                                    [key], {});\n",
              "        if (!dataTable) return;\n",
              "\n",
              "        const docLinkHtml = 'Like what you see? Visit the ' +\n",
              "          '<a target=\"_blank\" href=https://colab.research.google.com/notebooks/data_table.ipynb>data table notebook</a>'\n",
              "          + ' to learn more about interactive tables.';\n",
              "        element.innerHTML = '';\n",
              "        dataTable['output_type'] = 'display_data';\n",
              "        await google.colab.output.renderOutput(dataTable, element);\n",
              "        const docLink = document.createElement('div');\n",
              "        docLink.innerHTML = docLinkHtml;\n",
              "        element.appendChild(docLink);\n",
              "      }\n",
              "    </script>\n",
              "  </div>\n",
              "\n",
              "\n",
              "<div id=\"df-3c4831fe-e383-491c-8255-bc77ad1e8d3a\">\n",
              "  <button class=\"colab-df-quickchart\" onclick=\"quickchart('df-3c4831fe-e383-491c-8255-bc77ad1e8d3a')\"\n",
              "            title=\"Suggest charts\"\n",
              "            style=\"display:none;\">\n",
              "\n",
              "<svg xmlns=\"http://www.w3.org/2000/svg\" height=\"24px\"viewBox=\"0 0 24 24\"\n",
              "     width=\"24px\">\n",
              "    <g>\n",
              "        <path d=\"M19 3H5c-1.1 0-2 .9-2 2v14c0 1.1.9 2 2 2h14c1.1 0 2-.9 2-2V5c0-1.1-.9-2-2-2zM9 17H7v-7h2v7zm4 0h-2V7h2v10zm4 0h-2v-4h2v4z\"/>\n",
              "    </g>\n",
              "</svg>\n",
              "  </button>\n",
              "\n",
              "<style>\n",
              "  .colab-df-quickchart {\n",
              "      --bg-color: #E8F0FE;\n",
              "      --fill-color: #1967D2;\n",
              "      --hover-bg-color: #E2EBFA;\n",
              "      --hover-fill-color: #174EA6;\n",
              "      --disabled-fill-color: #AAA;\n",
              "      --disabled-bg-color: #DDD;\n",
              "  }\n",
              "\n",
              "  [theme=dark] .colab-df-quickchart {\n",
              "      --bg-color: #3B4455;\n",
              "      --fill-color: #D2E3FC;\n",
              "      --hover-bg-color: #434B5C;\n",
              "      --hover-fill-color: #FFFFFF;\n",
              "      --disabled-bg-color: #3B4455;\n",
              "      --disabled-fill-color: #666;\n",
              "  }\n",
              "\n",
              "  .colab-df-quickchart {\n",
              "    background-color: var(--bg-color);\n",
              "    border: none;\n",
              "    border-radius: 50%;\n",
              "    cursor: pointer;\n",
              "    display: none;\n",
              "    fill: var(--fill-color);\n",
              "    height: 32px;\n",
              "    padding: 0;\n",
              "    width: 32px;\n",
              "  }\n",
              "\n",
              "  .colab-df-quickchart:hover {\n",
              "    background-color: var(--hover-bg-color);\n",
              "    box-shadow: 0 1px 2px rgba(60, 64, 67, 0.3), 0 1px 3px 1px rgba(60, 64, 67, 0.15);\n",
              "    fill: var(--button-hover-fill-color);\n",
              "  }\n",
              "\n",
              "  .colab-df-quickchart-complete:disabled,\n",
              "  .colab-df-quickchart-complete:disabled:hover {\n",
              "    background-color: var(--disabled-bg-color);\n",
              "    fill: var(--disabled-fill-color);\n",
              "    box-shadow: none;\n",
              "  }\n",
              "\n",
              "  .colab-df-spinner {\n",
              "    border: 2px solid var(--fill-color);\n",
              "    border-color: transparent;\n",
              "    border-bottom-color: var(--fill-color);\n",
              "    animation:\n",
              "      spin 1s steps(1) infinite;\n",
              "  }\n",
              "\n",
              "  @keyframes spin {\n",
              "    0% {\n",
              "      border-color: transparent;\n",
              "      border-bottom-color: var(--fill-color);\n",
              "      border-left-color: var(--fill-color);\n",
              "    }\n",
              "    20% {\n",
              "      border-color: transparent;\n",
              "      border-left-color: var(--fill-color);\n",
              "      border-top-color: var(--fill-color);\n",
              "    }\n",
              "    30% {\n",
              "      border-color: transparent;\n",
              "      border-left-color: var(--fill-color);\n",
              "      border-top-color: var(--fill-color);\n",
              "      border-right-color: var(--fill-color);\n",
              "    }\n",
              "    40% {\n",
              "      border-color: transparent;\n",
              "      border-right-color: var(--fill-color);\n",
              "      border-top-color: var(--fill-color);\n",
              "    }\n",
              "    60% {\n",
              "      border-color: transparent;\n",
              "      border-right-color: var(--fill-color);\n",
              "    }\n",
              "    80% {\n",
              "      border-color: transparent;\n",
              "      border-right-color: var(--fill-color);\n",
              "      border-bottom-color: var(--fill-color);\n",
              "    }\n",
              "    90% {\n",
              "      border-color: transparent;\n",
              "      border-bottom-color: var(--fill-color);\n",
              "    }\n",
              "  }\n",
              "</style>\n",
              "\n",
              "  <script>\n",
              "    async function quickchart(key) {\n",
              "      const quickchartButtonEl =\n",
              "        document.querySelector('#' + key + ' button');\n",
              "      quickchartButtonEl.disabled = true;  // To prevent multiple clicks.\n",
              "      quickchartButtonEl.classList.add('colab-df-spinner');\n",
              "      try {\n",
              "        const charts = await google.colab.kernel.invokeFunction(\n",
              "            'suggestCharts', [key], {});\n",
              "      } catch (error) {\n",
              "        console.error('Error during call to suggestCharts:', error);\n",
              "      }\n",
              "      quickchartButtonEl.classList.remove('colab-df-spinner');\n",
              "      quickchartButtonEl.classList.add('colab-df-quickchart-complete');\n",
              "    }\n",
              "    (() => {\n",
              "      let quickchartButtonEl =\n",
              "        document.querySelector('#df-3c4831fe-e383-491c-8255-bc77ad1e8d3a button');\n",
              "      quickchartButtonEl.style.display =\n",
              "        google.colab.kernel.accessAllowed ? 'block' : 'none';\n",
              "    })();\n",
              "  </script>\n",
              "</div>\n",
              "    </div>\n",
              "  </div>\n"
            ]
          },
          "metadata": {},
          "execution_count": 9
        }
      ]
    },
    {
      "cell_type": "code",
      "source": [
        "mulgul_gerY = mulgul_ger['Fake']\n",
        "mulgul_gerY"
      ],
      "metadata": {
        "colab": {
          "base_uri": "https://localhost:8080/"
        },
        "id": "A4w2bpRKJjrc",
        "outputId": "104ff8c4-cf2f-4ea6-9341-f8f0a913b775"
      },
      "execution_count": 10,
      "outputs": [
        {
          "output_type": "execute_result",
          "data": {
            "text/plain": [
              "0        1\n",
              "1        1\n",
              "2        1\n",
              "3        1\n",
              "4        1\n",
              "        ..\n",
              "29995    0\n",
              "29996    0\n",
              "29997    0\n",
              "29998    0\n",
              "29999    0\n",
              "Name: Fake, Length: 30000, dtype: int64"
            ]
          },
          "metadata": {},
          "execution_count": 10
        }
      ]
    },
    {
      "cell_type": "code",
      "source": [
        "mulgul_ger_AY = mulgul_engcvt(analyzer='char', ngram_range= (1,1))\n",
        "mulgul_gerX = mulgul_ger_AY.fit_transform(mulgul_ger['Body'].values.astype('U')).toarray()"
      ],
      "metadata": {
        "id": "r1jHWXFNKBUJ"
      },
      "execution_count": 11,
      "outputs": []
    },
    {
      "cell_type": "code",
      "source": [
        "print(mulgul_gerX)"
      ],
      "metadata": {
        "colab": {
          "base_uri": "https://localhost:8080/"
        },
        "id": "-Q6ENXYIKtfX",
        "outputId": "c82794d9-7373-408e-e609-f6b7662da3dc"
      },
      "execution_count": 12,
      "outputs": [
        {
          "output_type": "stream",
          "name": "stdout",
          "text": [
            "[[0.43000932 0.20495771 0.04822856 ... 0.00622332 0.01132334 0.03620037]\n",
            " [0.51844098 0.16040163 0.05442561 ... 0.0133067  0.00807052 0.03440158]\n",
            " [0.53275549 0.1717627  0.03202569 ... 0.         0.         0.07284391]\n",
            " ...\n",
            " [0.47660857 0.19210243 0.07052332 ... 0.0037656  0.         0.09005003]\n",
            " [0.44799407 0.2315475  0.14598533 ... 0.         0.01418283 0.06045607]\n",
            " [0.48860776 0.19906242 0.06635856 ... 0.         0.         0.08452394]]\n"
          ]
        }
      ]
    },
    {
      "cell_type": "code",
      "source": [
        "from imblearn.over_sampling import RandomOverSampler as mulgul_gerrmo\n",
        "from collections import Counter as mulgul_gerctr\n",
        "print('In starting mulgul_ger datashape %s' % mulgul_gerctr(mulgul_gerY))\n",
        "Mdd= mulgul_gerrmo()\n",
        "mulgul_gerX, mulgul_gerY = Mdd.fit_resample(mulgul_gerX, mulgul_gerY)\n",
        "print('After applying random oversampling mulgul_ger datashape %s' % mulgul_gerctr(mulgul_gerY))"
      ],
      "metadata": {
        "colab": {
          "base_uri": "https://localhost:8080/"
        },
        "id": "YnI19izCuNK3",
        "outputId": "04609649-ceab-4afa-8862-fb36c2d46f83"
      },
      "execution_count": 13,
      "outputs": [
        {
          "output_type": "stream",
          "name": "stdout",
          "text": [
            "In starting mulgul_ger datashape Counter({0: 27960, 1: 2040})\n",
            "After applying random oversampling mulgul_ger datashape Counter({1: 27960, 0: 27960})\n"
          ]
        }
      ]
    },
    {
      "cell_type": "code",
      "source": [
        "from sklearn.model_selection import train_test_split as mulgul_engnst\n",
        "from sklearn.metrics import classification_report as mulgul_engcla\n",
        "from sklearn.metrics import confusion_matrix as mulgul_engcon\n",
        "from sklearn.metrics import ConfusionMatrixDisplay as mulgul_engcma\n",
        "import time as mulgul_engtim\n",
        "from sklearn.model_selection import GridSearchCV as mulgul_enggri\n",
        "from sklearn.ensemble import VotingClassifier as mulgul_engvtg\n",
        "import numpy as mulgul_engny\n",
        "from sklearn.svm import SVC as mulgul_engsvet\n",
        "from sklearn.naive_bayes import GaussianNB as mulgulnvbs\n",
        "from sklearn.tree import DecisionTreeClassifier as mulguldesi\n",
        "from sklearn.ensemble import RandomForestClassifier as mulgulromf\n",
        "from sklearn.neighbors import KNeighborsClassifier as mulgulkgh\n",
        "from sklearn.neural_network import MLPClassifier as mulgulmlt"
      ],
      "metadata": {
        "id": "n7g25HI7W5TT"
      },
      "execution_count": 14,
      "outputs": []
    },
    {
      "cell_type": "code",
      "source": [
        "eng_rast= 42\n",
        "eng_tze=0.5\n",
        "# {{{test,validation=50%,50%}}}\n",
        "mulgul_engXL, mulgul_engXE, mulgul_engYL, mulgul_engYE = mulgul_engnst(mulgul_engX, mulgul_engY, test_size= eng_tze, random_state= eng_rast)"
      ],
      "metadata": {
        "id": "AkmYQPTRWz8M"
      },
      "execution_count": 15,
      "outputs": []
    },
    {
      "cell_type": "code",
      "source": [
        "print(mulgul_engXL.shape)\n",
        "print(mulgul_engXE.shape)"
      ],
      "metadata": {
        "colab": {
          "base_uri": "https://localhost:8080/"
        },
        "id": "Hh9jHYA1YqVe",
        "outputId": "52680499-ba7c-46f2-c108-6f96e1bb0300"
      },
      "execution_count": 16,
      "outputs": [
        {
          "output_type": "stream",
          "name": "stdout",
          "text": [
            "(15000, 27)\n",
            "(15000, 27)\n"
          ]
        }
      ]
    },
    {
      "cell_type": "code",
      "source": [
        "import warnings as mulgul_engww\n",
        "mulgul_engww.filterwarnings(\"ignore\")"
      ],
      "metadata": {
        "id": "IwHnQsBdbzVN"
      },
      "execution_count": 17,
      "outputs": []
    },
    {
      "cell_type": "markdown",
      "source": [
        "#### Voting algorithm"
      ],
      "metadata": {
        "id": "btdyUujWY6Pp"
      }
    },
    {
      "cell_type": "markdown",
      "source": [
        "#### SVM & Naive bayes"
      ],
      "metadata": {
        "id": "n_ugM1dXZGmI"
      }
    },
    {
      "cell_type": "code",
      "source": [
        "mulgul_Bst = {'voting': ['hard', 'soft']}\n",
        "\n",
        "mulgul_Mll1 = mulgul_engsvet(C=3.0,gamma='scale',kernel='poly')\n",
        "\n",
        "mulgul_Mll2 = mulgulnvbs(var_smoothing=0.1)\n",
        "\n",
        "mulgul_Mll = mulgul_engvtg(estimators=[('SVM', mulgul_Mll1), ('NB', mulgul_Mll2)])\n",
        "\n",
        "mulgul_Bst_Mll = mulgul_enggri(mulgul_Mll, mulgul_Bst,\n",
        "                         cv=2,\n",
        "                         verbose=1)\n",
        "mulgul_Bst_Mll.fit(mulgul_gerX[:3000],mulgul_gerY[:3000])\n",
        "\n",
        "print(\"Best parameters-mulgul_ger :\", mulgul_Bst_Mll.best_params_)\n",
        "print(\"Best Score : \", mulgul_Bst_Mll.best_score_)"
      ],
      "metadata": {
        "colab": {
          "base_uri": "https://localhost:8080/"
        },
        "id": "PSQQcRadIOFt",
        "outputId": "40a22619-ca9e-415e-9564-e605540d104e"
      },
      "execution_count": 19,
      "outputs": [
        {
          "output_type": "stream",
          "name": "stdout",
          "text": [
            "Fitting 2 folds for each of 2 candidates, totalling 4 fits\n",
            "Best parameters-mulgul_ger : {'voting': 'hard'}\n",
            "Best Score :  0.758\n"
          ]
        }
      ]
    },
    {
      "cell_type": "code",
      "source": [
        "mulgul_Bst_Mll.best_params_"
      ],
      "metadata": {
        "colab": {
          "base_uri": "https://localhost:8080/"
        },
        "id": "3QOM2gHnIfFZ",
        "outputId": "c4507d98-5181-4c0a-c9a5-018132631393"
      },
      "execution_count": 20,
      "outputs": [
        {
          "output_type": "execute_result",
          "data": {
            "text/plain": [
              "{'voting': 'hard'}"
            ]
          },
          "metadata": {},
          "execution_count": 20
        }
      ]
    },
    {
      "cell_type": "code",
      "source": [
        "mul_pd1 = mulgul_engtim.time()\n",
        "\n",
        "mulgul_Mll = mulgul_engvtg(estimators=[('SVM', mulgul_Mll1), ('NB', mulgul_Mll2)], voting='hard')\n",
        "mulgul_Mll.fit(mulgul_gerX,mulgul_gerY)\n",
        "\n",
        "mul_pd2 = mulgul_engtim.time()\n",
        "print(\"\\n training duration :\", mul_pd2-mul_pd1,\"\\n\")\n",
        "\n",
        "mul_pd1 = mulgul_engtim.time()\n",
        "\n",
        "mulgul_Pcet = mulgul_Mll.predict(mulgul_engXL)\n",
        "print(mulgul_engcla(mulgul_engYL,mulgul_Pcet))\n",
        "mul_pl = mulgul_engcon(mulgul_engYL,mulgul_Pcet)\n",
        "mul_wd = mulgul_engcma(confusion_matrix = mul_pl, display_labels = [0, 1])\n",
        "mul_wd.plot()\n",
        "\n",
        "mul_pd2 = mulgul_engtim.time()\n",
        "print(\"\\n validation duration :\", mul_pd2-mul_pd1,\"\\n\")"
      ],
      "metadata": {
        "colab": {
          "base_uri": "https://localhost:8080/",
          "height": 723
        },
        "id": "t8riWguxIOVI",
        "outputId": "44c67dcf-3135-455e-ab97-507efb0a82c8"
      },
      "execution_count": 21,
      "outputs": [
        {
          "output_type": "stream",
          "name": "stdout",
          "text": [
            "\n",
            " training duration : 130.9868335723877 \n",
            "\n",
            "              precision    recall  f1-score   support\n",
            "\n",
            "           0       0.67      0.01      0.02      7768\n",
            "           1       0.48      1.00      0.65      7232\n",
            "\n",
            "    accuracy                           0.48     15000\n",
            "   macro avg       0.57      0.50      0.33     15000\n",
            "weighted avg       0.58      0.48      0.32     15000\n",
            "\n",
            "\n",
            " validation duration : 20.497904777526855 \n",
            "\n"
          ]
        },
        {
          "output_type": "display_data",
          "data": {
            "text/plain": [
              "<Figure size 640x480 with 2 Axes>"
            ],
            "image/png": "[encoded data removed]"
          },
          "metadata": {}
        }
      ]
    },
    {
      "cell_type": "code",
      "source": [
        "mul_pd1 = mulgul_engtim.time()\n",
        "\n",
        "mulgul_Pcet = mulgul_Mll.predict(mulgul_engXE)\n",
        "print(mulgul_engcla(mulgul_engYE,mulgul_Pcet))\n",
        "mul_pl = mulgul_engcon(mulgul_engYE,mulgul_Pcet)\n",
        "mul_wd = mulgul_engcma(confusion_matrix = mul_pl, display_labels = [0, 1])\n",
        "mul_wd.plot()\n",
        "\n",
        "mul_pd2 = mulgul_engtim.time()\n",
        "print(\"\\n testing duration :\", mul_pd2-mul_pd1,\"\\n\")"
      ],
      "metadata": {
        "colab": {
          "base_uri": "https://localhost:8080/",
          "height": 668
        },
        "id": "cRPtMXD0I0AP",
        "outputId": "dc494d68-a0df-4083-f93c-4dd7739542d4"
      },
      "execution_count": 22,
      "outputs": [
        {
          "output_type": "stream",
          "name": "stdout",
          "text": [
            "              precision    recall  f1-score   support\n",
            "\n",
            "           0       0.68      0.01      0.02      7664\n",
            "           1       0.49      1.00      0.66      7336\n",
            "\n",
            "    accuracy                           0.49     15000\n",
            "   macro avg       0.58      0.50      0.34     15000\n",
            "weighted avg       0.59      0.49      0.33     15000\n",
            "\n",
            "\n",
            " testing duration : 17.03173565864563 \n",
            "\n"
          ]
        },
        {
          "output_type": "display_data",
          "data": {
            "text/plain": [
              "<Figure size 640x480 with 2 Axes>"
            ],
            "image/png": "[encoded data removed]"
          },
          "metadata": {}
        }
      ]
    },
    {
      "cell_type": "markdown",
      "source": [
        "#### Naive bayes & Decision tree"
      ],
      "metadata": {
        "id": "x3lFR3LeJrHb"
      }
    },
    {
      "cell_type": "code",
      "source": [
        "mulgul_Bst = {'voting': ['hard', 'soft']}\n",
        "\n",
        "mulgul_Mll1 = mulgulnvbs(var_smoothing=0.1)\n",
        "\n",
        "mulgul_Mll2 = mulguldesi(criterion='gini',max_features='sqrt',splitter='best')\n",
        "\n",
        "mulgul_Mll = mulgul_engvtg(estimators=[('NB', mulgul_Mll1), ('DT', mulgul_Mll2)])\n",
        "\n",
        "mulgul_Bst_Mll = mulgul_enggri(mulgul_Mll, mulgul_Bst,\n",
        "                         cv=2,\n",
        "                         verbose=1)\n",
        "mulgul_Bst_Mll.fit(mulgul_gerX[:3000],mulgul_gerY[:3000])\n",
        "\n",
        "print(\"Best parameters-mulgul_ger :\", mulgul_Bst_Mll.best_params_)\n",
        "print(\"Best Score : \", mulgul_Bst_Mll.best_score_)"
      ],
      "metadata": {
        "colab": {
          "base_uri": "https://localhost:8080/"
        },
        "id": "qiKSAegJJxTj",
        "outputId": "b42fd844-2b4a-4c0f-9fe6-cc44fa331199"
      },
      "execution_count": 23,
      "outputs": [
        {
          "output_type": "stream",
          "name": "stdout",
          "text": [
            "Fitting 2 folds for each of 2 candidates, totalling 4 fits\n",
            "Best parameters-mulgul_ger : {'voting': 'hard'}\n",
            "Best Score :  0.688\n"
          ]
        }
      ]
    },
    {
      "cell_type": "code",
      "source": [
        "mulgul_Bst_Mll.best_params_"
      ],
      "metadata": {
        "colab": {
          "base_uri": "https://localhost:8080/"
        },
        "id": "JGHn5nfCJxlU",
        "outputId": "3a7b6095-6164-4a05-d5a6-23f759bd78f5"
      },
      "execution_count": 24,
      "outputs": [
        {
          "output_type": "execute_result",
          "data": {
            "text/plain": [
              "{'voting': 'hard'}"
            ]
          },
          "metadata": {},
          "execution_count": 24
        }
      ]
    },
    {
      "cell_type": "code",
      "source": [
        "mul_pd1 = mulgul_engtim.time()\n",
        "\n",
        "mulgul_Mll = mulgul_engvtg(estimators=[('NB', mulgul_Mll1), ('DT', mulgul_Mll2)], voting='hard')\n",
        "mulgul_Mll.fit(mulgul_gerX,mulgul_gerY)\n",
        "\n",
        "mul_pd2 = mulgul_engtim.time()\n",
        "print(\"\\n training duration :\", mul_pd2-mul_pd1,\"\\n\")\n",
        "\n",
        "mul_pd1 = mulgul_engtim.time()\n",
        "\n",
        "mulgul_Pcet = mulgul_Mll.predict(mulgul_engXL)\n",
        "print(mulgul_engcla(mulgul_engYL,mulgul_Pcet))\n",
        "mul_pl = mulgul_engcon(mulgul_engYL,mulgul_Pcet)\n",
        "mul_wd = mulgul_engcma(confusion_matrix = mul_pl, display_labels = [0, 1])\n",
        "mul_wd.plot()\n",
        "\n",
        "mul_pd2 = mulgul_engtim.time()\n",
        "print(\"\\n validation duration :\", mul_pd2-mul_pd1,\"\\n\")"
      ],
      "metadata": {
        "colab": {
          "base_uri": "https://localhost:8080/",
          "height": 723
        },
        "id": "tGaw7WGEKIXt",
        "outputId": "d558ce98-bf79-404a-dbb7-54496a70ed80"
      },
      "execution_count": 25,
      "outputs": [
        {
          "output_type": "stream",
          "name": "stdout",
          "text": [
            "\n",
            " training duration : 0.5800213813781738 \n",
            "\n",
            "              precision    recall  f1-score   support\n",
            "\n",
            "           0       0.51      0.88      0.65      7768\n",
            "           1       0.45      0.10      0.17      7232\n",
            "\n",
            "    accuracy                           0.51     15000\n",
            "   macro avg       0.48      0.49      0.41     15000\n",
            "weighted avg       0.48      0.51      0.42     15000\n",
            "\n",
            "\n",
            " validation duration : 0.3042271137237549 \n",
            "\n"
          ]
        },
        {
          "output_type": "display_data",
          "data": {
            "text/plain": [
              "<Figure size 640x480 with 2 Axes>"
            ],
            "image/png": "[encoded data removed]"
          },
          "metadata": {}
        }
      ]
    },
    {
      "cell_type": "code",
      "source": [
        "mul_pd1 = mulgul_engtim.time()\n",
        "\n",
        "mulgul_Pcet = mulgul_Mll.predict(mulgul_engXE)\n",
        "print(mulgul_engcla(mulgul_engYE,mulgul_Pcet))\n",
        "mul_pl = mulgul_engcon(mulgul_engYE,mulgul_Pcet)\n",
        "mul_wd = mulgul_engcma(confusion_matrix = mul_pl, display_labels = [0, 1])\n",
        "mul_wd.plot()\n",
        "\n",
        "mul_pd2 = mulgul_engtim.time()\n",
        "print(\"\\n testing duration :\", mul_pd2-mul_pd1,\"\\n\")"
      ],
      "metadata": {
        "colab": {
          "base_uri": "https://localhost:8080/",
          "height": 668
        },
        "id": "01kuNR_xKIZd",
        "outputId": "8c899f2c-4bb6-4d21-cdb0-81899adc80de"
      },
      "execution_count": 26,
      "outputs": [
        {
          "output_type": "stream",
          "name": "stdout",
          "text": [
            "              precision    recall  f1-score   support\n",
            "\n",
            "           0       0.51      0.87      0.64      7664\n",
            "           1       0.45      0.11      0.18      7336\n",
            "\n",
            "    accuracy                           0.50     15000\n",
            "   macro avg       0.48      0.49      0.41     15000\n",
            "weighted avg       0.48      0.50      0.41     15000\n",
            "\n",
            "\n",
            " testing duration : 0.30809783935546875 \n",
            "\n"
          ]
        },
        {
          "output_type": "display_data",
          "data": {
            "text/plain": [
              "<Figure size 640x480 with 2 Axes>"
            ],
            "image/png": "[encoded data removed]"
          },
          "metadata": {}
        }
      ]
    },
    {
      "cell_type": "markdown",
      "source": [
        "#### Decision tree & Random forest"
      ],
      "metadata": {
        "id": "87mhoZpbKdNs"
      }
    },
    {
      "cell_type": "code",
      "source": [
        "mulgul_Bst = {'voting': ['hard', 'soft']}\n",
        "\n",
        "mulgul_Mll1 = mulguldesi(criterion='gini',max_features='sqrt',splitter='best')\n",
        "\n",
        "mulgul_Mll2 = mulgulromf(criterion='gini',max_features='sqrt',n_estimators=200)\n",
        "\n",
        "mulgul_Mll = mulgul_engvtg(estimators=[('DT', mulgul_Mll1), ('RF', mulgul_Mll2)])\n",
        "\n",
        "mulgul_Bst_Mll = mulgul_enggri(mulgul_Mll, mulgul_Bst,\n",
        "                         cv=2,\n",
        "                         verbose=1)\n",
        "mulgul_Bst_Mll.fit(mulgul_gerX[:3000],mulgul_gerY[:3000])\n",
        "\n",
        "print(\"Best parameters-mulgul_ger :\", mulgul_Bst_Mll.best_params_)\n",
        "print(\"Best Score : \", mulgul_Bst_Mll.best_score_)"
      ],
      "metadata": {
        "colab": {
          "base_uri": "https://localhost:8080/"
        },
        "id": "qyn9w19WKiKX",
        "outputId": "09d0edf6-0b27-472e-b935-1d261d624e55"
      },
      "execution_count": 27,
      "outputs": [
        {
          "output_type": "stream",
          "name": "stdout",
          "text": [
            "Fitting 2 folds for each of 2 candidates, totalling 4 fits\n",
            "Best parameters-mulgul_ger : {'voting': 'hard'}\n",
            "Best Score :  0.7176666666666667\n"
          ]
        }
      ]
    },
    {
      "cell_type": "code",
      "source": [
        "mulgul_Bst_Mll.best_params_"
      ],
      "metadata": {
        "colab": {
          "base_uri": "https://localhost:8080/"
        },
        "id": "1x0z7wFxKiT2",
        "outputId": "6b74e6f3-e816-4088-b043-6ec2e111b0aa"
      },
      "execution_count": 28,
      "outputs": [
        {
          "output_type": "execute_result",
          "data": {
            "text/plain": [
              "{'voting': 'hard'}"
            ]
          },
          "metadata": {},
          "execution_count": 28
        }
      ]
    },
    {
      "cell_type": "code",
      "source": [
        "mul_pd1 = mulgul_engtim.time()\n",
        "\n",
        "mulgul_Mll = mulgul_engvtg(estimators=[('DT', mulgul_Mll1), ('RF', mulgul_Mll2)], voting='hard')\n",
        "mulgul_Mll.fit(mulgul_gerX,mulgul_gerY)\n",
        "\n",
        "mul_pd2 = mulgul_engtim.time()\n",
        "print(\"\\n training duration :\", mul_pd2-mul_pd1,\"\\n\")\n",
        "\n",
        "mul_pd1 = mulgul_engtim.time()\n",
        "\n",
        "mulgul_Pcet = mulgul_Mll.predict(mulgul_engXL)\n",
        "print(mulgul_engcla(mulgul_engYL,mulgul_Pcet))\n",
        "mul_pl = mulgul_engcon(mulgul_engYL,mulgul_Pcet)\n",
        "mul_wd = mulgul_engcma(confusion_matrix = mul_pl, display_labels = [0, 1])\n",
        "mul_wd.plot()\n",
        "\n",
        "mul_pd2 = mulgul_engtim.time()\n",
        "print(\"\\n validation duration :\", mul_pd2-mul_pd1,\"\\n\")"
      ],
      "metadata": {
        "colab": {
          "base_uri": "https://localhost:8080/",
          "height": 723
        },
        "id": "-hMPf36QO6bq",
        "outputId": "2b1ef262-27b9-4c2d-aec4-849f7e4bc91c"
      },
      "execution_count": 29,
      "outputs": [
        {
          "output_type": "stream",
          "name": "stdout",
          "text": [
            "\n",
            " training duration : 55.80881953239441 \n",
            "\n",
            "              precision    recall  f1-score   support\n",
            "\n",
            "           0       0.52      1.00      0.68      7768\n",
            "           1       0.63      0.00      0.01      7232\n",
            "\n",
            "    accuracy                           0.52     15000\n",
            "   macro avg       0.57      0.50      0.34     15000\n",
            "weighted avg       0.57      0.52      0.36     15000\n",
            "\n",
            "\n",
            " validation duration : 0.5258035659790039 \n",
            "\n"
          ]
        },
        {
          "output_type": "display_data",
          "data": {
            "text/plain": [
              "<Figure size 640x480 with 2 Axes>"
            ],
            "image/png": "[encoded data removed]"
          },
          "metadata": {}
        }
      ]
    },
    {
      "cell_type": "code",
      "source": [
        "mul_pd1 = mulgul_engtim.time()\n",
        "\n",
        "mulgul_Pcet = mulgul_Mll.predict(mulgul_engXE)\n",
        "print(mulgul_engcla(mulgul_engYE,mulgul_Pcet))\n",
        "mul_pl = mulgul_engcon(mulgul_engYE,mulgul_Pcet)\n",
        "mul_wd = mulgul_engcma(confusion_matrix = mul_pl, display_labels = [0, 1])\n",
        "mul_wd.plot()\n",
        "\n",
        "mul_pd2 = mulgul_engtim.time()\n",
        "print(\"\\n testing duration :\", mul_pd2-mul_pd1,\"\\n\")"
      ],
      "metadata": {
        "colab": {
          "base_uri": "https://localhost:8080/",
          "height": 668
        },
        "id": "oKP2Ox_aPMVZ",
        "outputId": "b22369b8-6e47-44c4-e510-b421b7e58105"
      },
      "execution_count": 30,
      "outputs": [
        {
          "output_type": "stream",
          "name": "stdout",
          "text": [
            "              precision    recall  f1-score   support\n",
            "\n",
            "           0       0.51      1.00      0.68      7664\n",
            "           1       0.80      0.01      0.01      7336\n",
            "\n",
            "    accuracy                           0.51     15000\n",
            "   macro avg       0.65      0.50      0.34     15000\n",
            "weighted avg       0.65      0.51      0.35     15000\n",
            "\n",
            "\n",
            " testing duration : 0.532562255859375 \n",
            "\n"
          ]
        },
        {
          "output_type": "display_data",
          "data": {
            "text/plain": [
              "<Figure size 640x480 with 2 Axes>"
            ],
            "image/png": "[encoded data removed]"
          },
          "metadata": {}
        }
      ]
    },
    {
      "cell_type": "markdown",
      "source": [
        "#### Random forest & KNN"
      ],
      "metadata": {
        "id": "XiKjwpEJPPNM"
      }
    },
    {
      "cell_type": "code",
      "source": [
        "mulgul_Bst = {'voting': ['hard', 'soft']}\n",
        "\n",
        "mulgul_Mll1 = mulgulromf(criterion='gini',max_features='sqrt',n_estimators=200)\n",
        "\n",
        "mulgul_Mll2 = mulgulkgh(algorithm='ball_tree',n_neighbors=9,weights='distance')\n",
        "\n",
        "mulgul_Mll = mulgul_engvtg(estimators=[('RF', mulgul_Mll1), ('KNN', mulgul_Mll2)])\n",
        "\n",
        "mulgul_Bst_Mll = mulgul_enggri(mulgul_Mll, mulgul_Bst,\n",
        "                         cv=2,\n",
        "                         verbose=1)\n",
        "mulgul_Bst_Mll.fit(mulgul_gerX[:3000],mulgul_gerY[:3000])\n",
        "\n",
        "print(\"Best parameters-mulgul_ger :\", mulgul_Bst_Mll.best_params_)\n",
        "print(\"Best Score : \", mulgul_Bst_Mll.best_score_)"
      ],
      "metadata": {
        "colab": {
          "base_uri": "https://localhost:8080/"
        },
        "id": "PaStG-iTPON3",
        "outputId": "a3de197e-f3b7-4cd7-da68-ada2f74eef99"
      },
      "execution_count": 31,
      "outputs": [
        {
          "output_type": "stream",
          "name": "stdout",
          "text": [
            "Fitting 2 folds for each of 2 candidates, totalling 4 fits\n",
            "Best parameters-mulgul_ger : {'voting': 'soft'}\n",
            "Best Score :  0.792\n"
          ]
        }
      ]
    },
    {
      "cell_type": "code",
      "source": [
        "mulgul_Bst_Mll.best_params_"
      ],
      "metadata": {
        "colab": {
          "base_uri": "https://localhost:8080/"
        },
        "id": "geOnLhVPPuQJ",
        "outputId": "74592e2b-fb2d-4691-f51c-503bf8c608ec"
      },
      "execution_count": 32,
      "outputs": [
        {
          "output_type": "execute_result",
          "data": {
            "text/plain": [
              "{'voting': 'soft'}"
            ]
          },
          "metadata": {},
          "execution_count": 32
        }
      ]
    },
    {
      "cell_type": "code",
      "source": [
        "mul_pd1 = mulgul_engtim.time()\n",
        "\n",
        "mulgul_Mll = mulgul_engvtg(estimators=[('RF', mulgul_Mll1), ('KNN', mulgul_Mll2)], voting='soft')\n",
        "mulgul_Mll.fit(mulgul_gerX,mulgul_gerY)\n",
        "\n",
        "mul_pd2 = mulgul_engtim.time()\n",
        "print(\"\\n training duration :\", mul_pd2-mul_pd1,\"\\n\")\n",
        "\n",
        "mul_pd1 = mulgul_engtim.time()\n",
        "\n",
        "mulgul_Pcet = mulgul_Mll.predict(mulgul_engXL)\n",
        "print(mulgul_engcla(mulgul_engYL,mulgul_Pcet))\n",
        "mul_pl = mulgul_engcon(mulgul_engYL,mulgul_Pcet)\n",
        "mul_wd = mulgul_engcma(confusion_matrix = mul_pl, display_labels = [0, 1])\n",
        "mul_wd.plot()\n",
        "\n",
        "mul_pd2 = mulgul_engtim.time()\n",
        "print(\"\\n validation duration :\", mul_pd2-mul_pd1,\"\\n\")"
      ],
      "metadata": {
        "colab": {
          "base_uri": "https://localhost:8080/",
          "height": 723
        },
        "id": "01KPKdWsPyLH",
        "outputId": "0b6bfead-f346-4dfe-c4b3-501a48c48308"
      },
      "execution_count": 33,
      "outputs": [
        {
          "output_type": "stream",
          "name": "stdout",
          "text": [
            "\n",
            " training duration : 55.48746204376221 \n",
            "\n",
            "              precision    recall  f1-score   support\n",
            "\n",
            "           0       0.62      0.39      0.48      7768\n",
            "           1       0.53      0.75      0.62      7232\n",
            "\n",
            "    accuracy                           0.56     15000\n",
            "   macro avg       0.58      0.57      0.55     15000\n",
            "weighted avg       0.58      0.56      0.55     15000\n",
            "\n",
            "\n",
            " validation duration : 103.4445571899414 \n",
            "\n"
          ]
        },
        {
          "output_type": "display_data",
          "data": {
            "text/plain": [
              "<Figure size 640x480 with 2 Axes>"
            ],
            "image/png": "[encoded data removed]"
          },
          "metadata": {}
        }
      ]
    },
    {
      "cell_type": "code",
      "source": [
        "mul_pd1 = mulgul_engtim.time()\n",
        "\n",
        "mulgul_Pcet = mulgul_Mll.predict(mulgul_engXE)\n",
        "print(mulgul_engcla(mulgul_engYE,mulgul_Pcet))\n",
        "mul_pl = mulgul_engcon(mulgul_engYE,mulgul_Pcet)\n",
        "mul_wd = mulgul_engcma(confusion_matrix = mul_pl, display_labels = [0, 1])\n",
        "mul_wd.plot()\n",
        "\n",
        "mul_pd2 = mulgul_engtim.time()\n",
        "print(\"\\n testing duration :\", mul_pd2-mul_pd1,\"\\n\")"
      ],
      "metadata": {
        "colab": {
          "base_uri": "https://localhost:8080/",
          "height": 670
        },
        "id": "O_re4ODgP-8L",
        "outputId": "c4f9e23d-296f-4a3a-b3ed-5eba8bef7561"
      },
      "execution_count": 34,
      "outputs": [
        {
          "output_type": "stream",
          "name": "stdout",
          "text": [
            "              precision    recall  f1-score   support\n",
            "\n",
            "           0       0.63      0.40      0.49      7664\n",
            "           1       0.54      0.76      0.63      7336\n",
            "\n",
            "    accuracy                           0.57     15000\n",
            "   macro avg       0.59      0.58      0.56     15000\n",
            "weighted avg       0.59      0.57      0.56     15000\n",
            "\n",
            "\n",
            " testing duration : 108.9041976928711 \n",
            "\n"
          ]
        },
        {
          "output_type": "display_data",
          "data": {
            "text/plain": [
              "<Figure size 640x480 with 2 Axes>"
            ],
            "image/png": "[encoded data removed]"
          },
          "metadata": {}
        }
      ]
    },
    {
      "cell_type": "markdown",
      "source": [
        "#### KNN & MLP"
      ],
      "metadata": {
        "id": "IlilEwK4QGe7"
      }
    },
    {
      "cell_type": "code",
      "source": [
        "mulgul_Bst = {'voting': ['hard', 'soft']}\n",
        "\n",
        "mulgul_Mll1 = mulgulkgh(algorithm='ball_tree',n_neighbors=9,weights='distance')\n",
        "\n",
        "mulgul_Mll2 = mulgulmlt(activation='tanh',learning_rate='constant',solver='lbfgs')\n",
        "\n",
        "mulgul_Mll = mulgul_engvtg(estimators=[('KNN', mulgul_Mll1), ('MLP', mulgul_Mll2)])\n",
        "\n",
        "mulgul_Bst_Mll = mulgul_enggri(mulgul_Mll, mulgul_Bst,\n",
        "                         cv=2,\n",
        "                         verbose=1)\n",
        "mulgul_Bst_Mll.fit(mulgul_gerX[:3000],mulgul_gerY[:3000])\n",
        "\n",
        "print(\"Best parameters-mulgul_ger :\", mulgul_Bst_Mll.best_params_)\n",
        "print(\"Best Score : \", mulgul_Bst_Mll.best_score_)"
      ],
      "metadata": {
        "colab": {
          "base_uri": "https://localhost:8080/"
        },
        "id": "i96wG5xrQLg2",
        "outputId": "5736b17c-acb7-4ebe-f7ce-aa5a417cf2e3"
      },
      "execution_count": 35,
      "outputs": [
        {
          "output_type": "stream",
          "name": "stdout",
          "text": [
            "Fitting 2 folds for each of 2 candidates, totalling 4 fits\n",
            "Best parameters-mulgul_ger : {'voting': 'soft'}\n",
            "Best Score :  0.7863333333333333\n"
          ]
        }
      ]
    },
    {
      "cell_type": "code",
      "source": [
        "mulgul_Bst_Mll.best_params_"
      ],
      "metadata": {
        "colab": {
          "base_uri": "https://localhost:8080/"
        },
        "id": "Z3Td4myyQWg0",
        "outputId": "4c9b113e-29a1-4e7e-afb7-2dfa90277840"
      },
      "execution_count": 36,
      "outputs": [
        {
          "output_type": "execute_result",
          "data": {
            "text/plain": [
              "{'voting': 'soft'}"
            ]
          },
          "metadata": {},
          "execution_count": 36
        }
      ]
    },
    {
      "cell_type": "code",
      "source": [
        "mul_pd1 = mulgul_engtim.time()\n",
        "\n",
        "mulgul_Mll = mulgul_engvtg(estimators=[('KNN', mulgul_Mll1), ('MLP', mulgul_Mll2)], voting='soft')\n",
        "mulgul_Mll.fit(mulgul_gerX,mulgul_gerY)\n",
        "\n",
        "mul_pd2 = mulgul_engtim.time()\n",
        "print(\"\\n training duration :\", mul_pd2-mul_pd1,\"\\n\")\n",
        "\n",
        "mul_pd1 = mulgul_engtim.time()\n",
        "\n",
        "mulgul_Pcet = mulgul_Mll.predict(mulgul_engXL)\n",
        "print(mulgul_engcla(mulgul_engYL,mulgul_Pcet))\n",
        "mul_pl = mulgul_engcon(mulgul_engYL,mulgul_Pcet)\n",
        "mul_wd = mulgul_engcma(confusion_matrix = mul_pl, display_labels = [0, 1])\n",
        "mul_wd.plot()\n",
        "\n",
        "mul_pd2 = mulgul_engtim.time()\n",
        "print(\"\\n validation duration :\", mul_pd2-mul_pd1,\"\\n\")"
      ],
      "metadata": {
        "colab": {
          "base_uri": "https://localhost:8080/",
          "height": 723
        },
        "id": "ERt6ZmtwQZun",
        "outputId": "cf9412e7-bf75-4c9f-c8c3-18f67cdc8301"
      },
      "execution_count": 37,
      "outputs": [
        {
          "output_type": "stream",
          "name": "stdout",
          "text": [
            "\n",
            " training duration : 135.48039412498474 \n",
            "\n",
            "              precision    recall  f1-score   support\n",
            "\n",
            "           0       0.68      0.12      0.20      7768\n",
            "           1       0.50      0.94      0.65      7232\n",
            "\n",
            "    accuracy                           0.51     15000\n",
            "   macro avg       0.59      0.53      0.43     15000\n",
            "weighted avg       0.59      0.51      0.42     15000\n",
            "\n",
            "\n",
            " validation duration : 107.93416357040405 \n",
            "\n"
          ]
        },
        {
          "output_type": "display_data",
          "data": {
            "text/plain": [
              "<Figure size 640x480 with 2 Axes>"
            ],
            "image/png": "[encoded data removed]"
          },
          "metadata": {}
        }
      ]
    },
    {
      "cell_type": "code",
      "source": [
        "mul_pd1 = mulgul_engtim.time()\n",
        "\n",
        "mulgul_Pcet = mulgul_Mll.predict(mulgul_engXE)\n",
        "print(mulgul_engcla(mulgul_engYE,mulgul_Pcet))\n",
        "mul_pl = mulgul_engcon(mulgul_engYE,mulgul_Pcet)\n",
        "mul_wd = mulgul_engcma(confusion_matrix = mul_pl, display_labels = [0, 1])\n",
        "mul_wd.plot()\n",
        "\n",
        "mul_pd2 = mulgul_engtim.time()\n",
        "print(\"\\n testing duration :\", mul_pd2-mul_pd1,\"\\n\")"
      ],
      "metadata": {
        "colab": {
          "base_uri": "https://localhost:8080/",
          "height": 668
        },
        "id": "YXtZtp8tQkO1",
        "outputId": "d0509a32-8d6e-479e-a71e-f83f7f70f75e"
      },
      "execution_count": 38,
      "outputs": [
        {
          "output_type": "stream",
          "name": "stdout",
          "text": [
            "              precision    recall  f1-score   support\n",
            "\n",
            "           0       0.68      0.11      0.19      7664\n",
            "           1       0.50      0.94      0.66      7336\n",
            "\n",
            "    accuracy                           0.52     15000\n",
            "   macro avg       0.59      0.53      0.43     15000\n",
            "weighted avg       0.59      0.52      0.42     15000\n",
            "\n",
            "\n",
            " testing duration : 105.41100287437439 \n",
            "\n"
          ]
        },
        {
          "output_type": "display_data",
          "data": {
            "text/plain": [
              "<Figure size 640x480 with 2 Axes>"
            ],
            "image/png": "[encoded data removed]"
          },
          "metadata": {}
        }
      ]
    },
    {
      "cell_type": "markdown",
      "source": [
        "#### SVM, Naive bayes & Decision tree"
      ],
      "metadata": {
        "id": "6QISlgnyQpPw"
      }
    },
    {
      "cell_type": "code",
      "source": [
        "mulgul_Bst = {'voting': ['hard', 'soft']}\n",
        "\n",
        "mulgul_Mll1 = mulgul_engsvet(C=3.0,gamma='scale',kernel='poly')\n",
        "\n",
        "mulgul_Mll2 = mulgulnvbs(var_smoothing=0.1)\n",
        "\n",
        "mulgul_Mll3 = mulguldesi(criterion='gini',max_features='sqrt',splitter='best')\n",
        "\n",
        "mulgul_Mll = mulgul_engvtg(estimators=[('SVM', mulgul_Mll1), ('NB', mulgul_Mll2), ('DT', mulgul_Mll3)])\n",
        "\n",
        "mulgul_Bst_Mll = mulgul_enggri(mulgul_Mll, mulgul_Bst,\n",
        "                         cv=2,\n",
        "                         verbose=1)\n",
        "mulgul_Bst_Mll.fit(mulgul_gerX[:3000],mulgul_gerY[:3000])\n",
        "\n",
        "print(\"Best parameters-mulgul_ger :\", mulgul_Bst_Mll.best_params_)\n",
        "print(\"Best Score : \", mulgul_Bst_Mll.best_score_)"
      ],
      "metadata": {
        "colab": {
          "base_uri": "https://localhost:8080/"
        },
        "id": "qWlFNkaTQogQ",
        "outputId": "51a90b11-1c20-4298-80ac-ae899c5056ed"
      },
      "execution_count": 39,
      "outputs": [
        {
          "output_type": "stream",
          "name": "stdout",
          "text": [
            "Fitting 2 folds for each of 2 candidates, totalling 4 fits\n",
            "Best parameters-mulgul_ger : {'voting': 'hard'}\n",
            "Best Score :  0.7749999999999999\n"
          ]
        }
      ]
    },
    {
      "cell_type": "code",
      "source": [
        "mulgul_Bst_Mll.best_params_"
      ],
      "metadata": {
        "colab": {
          "base_uri": "https://localhost:8080/"
        },
        "id": "TN2QHOiHRIBc",
        "outputId": "2445cde1-bedc-47cb-aaca-5ec08e8cafd5"
      },
      "execution_count": 40,
      "outputs": [
        {
          "output_type": "execute_result",
          "data": {
            "text/plain": [
              "{'voting': 'hard'}"
            ]
          },
          "metadata": {},
          "execution_count": 40
        }
      ]
    },
    {
      "cell_type": "code",
      "source": [
        "mul_pd1 = mulgul_engtim.time()\n",
        "\n",
        "mulgul_Mll = mulgul_engvtg(estimators=[('SVM', mulgul_Mll1), ('NB', mulgul_Mll2), ('DT', mulgul_Mll3)], voting='hard')\n",
        "mulgul_Mll.fit(mulgul_gerX,mulgul_gerY)\n",
        "\n",
        "mul_pd2 = mulgul_engtim.time()\n",
        "print(\"\\n training duration :\", mul_pd2-mul_pd1,\"\\n\")\n",
        "\n",
        "mul_pd1 = mulgul_engtim.time()\n",
        "\n",
        "mulgul_Pcet = mulgul_Mll.predict(mulgul_engXL)\n",
        "print(mulgul_engcla(mulgul_engYL,mulgul_Pcet))\n",
        "mul_pl = mulgul_engcon(mulgul_engYL,mulgul_Pcet)\n",
        "mul_wd = mulgul_engcma(confusion_matrix = mul_pl, display_labels = [0, 1])\n",
        "mul_wd.plot()\n",
        "\n",
        "mul_pd2 = mulgul_engtim.time()\n",
        "print(\"\\n validation duration :\", mul_pd2-mul_pd1,\"\\n\")"
      ],
      "metadata": {
        "colab": {
          "base_uri": "https://localhost:8080/",
          "height": 723
        },
        "id": "hvqjwLVORITb",
        "outputId": "93d3baaf-b317-4317-cca8-410f47d72f25"
      },
      "execution_count": 41,
      "outputs": [
        {
          "output_type": "stream",
          "name": "stdout",
          "text": [
            "\n",
            " training duration : 137.09803223609924 \n",
            "\n",
            "              precision    recall  f1-score   support\n",
            "\n",
            "           0       0.66      0.01      0.02      7768\n",
            "           1       0.48      1.00      0.65      7232\n",
            "\n",
            "    accuracy                           0.48     15000\n",
            "   macro avg       0.57      0.50      0.33     15000\n",
            "weighted avg       0.58      0.48      0.32     15000\n",
            "\n",
            "\n",
            " validation duration : 19.439772605895996 \n",
            "\n"
          ]
        },
        {
          "output_type": "display_data",
          "data": {
            "text/plain": [
              "<Figure size 640x480 with 2 Axes>"
            ],
            "image/png": "[encoded data removed]"
          },
          "metadata": {}
        }
      ]
    },
    {
      "cell_type": "code",
      "source": [
        "mul_pd1 = mulgul_engtim.time()\n",
        "\n",
        "mulgul_Pcet = mulgul_Mll.predict(mulgul_engXE)\n",
        "print(mulgul_engcla(mulgul_engYE,mulgul_Pcet))\n",
        "mul_pl = mulgul_engcon(mulgul_engYE,mulgul_Pcet)\n",
        "mul_wd = mulgul_engcma(confusion_matrix = mul_pl, display_labels = [0, 1])\n",
        "mul_wd.plot()\n",
        "\n",
        "mul_pd2 = mulgul_engtim.time()\n",
        "print(\"\\n testing duration :\", mul_pd2-mul_pd1,\"\\n\")"
      ],
      "metadata": {
        "colab": {
          "base_uri": "https://localhost:8080/",
          "height": 668
        },
        "id": "ht-egEtDRIli",
        "outputId": "d1e498b5-8543-4404-b583-0b7786fcc54a"
      },
      "execution_count": 42,
      "outputs": [
        {
          "output_type": "stream",
          "name": "stdout",
          "text": [
            "              precision    recall  f1-score   support\n",
            "\n",
            "           0       0.69      0.01      0.02      7664\n",
            "           1       0.49      1.00      0.66      7336\n",
            "\n",
            "    accuracy                           0.49     15000\n",
            "   macro avg       0.59      0.50      0.34     15000\n",
            "weighted avg       0.59      0.49      0.33     15000\n",
            "\n",
            "\n",
            " testing duration : 17.551480770111084 \n",
            "\n"
          ]
        },
        {
          "output_type": "display_data",
          "data": {
            "text/plain": [
              "<Figure size 640x480 with 2 Axes>"
            ],
            "image/png": "[encoded data removed]"
          },
          "metadata": {}
        }
      ]
    },
    {
      "cell_type": "markdown",
      "source": [
        "#### Random forest, KNN & MLP"
      ],
      "metadata": {
        "id": "FH0OnmIqRcwU"
      }
    },
    {
      "cell_type": "code",
      "source": [
        "mulgul_Bst = {'voting': ['hard', 'soft']}\n",
        "\n",
        "mulgul_Mll1 = mulgulromf(criterion='gini',max_features='sqrt',n_estimators=200)\n",
        "\n",
        "mulgul_Mll2 = mulgulkgh(algorithm='ball_tree',n_neighbors=9,weights='distance')\n",
        "\n",
        "mulgul_Mll3 = mulgulmlt(activation='tanh',learning_rate='constant',solver='lbfgs')\n",
        "\n",
        "mulgul_Mll = mulgul_engvtg(estimators=[('RF', mulgul_Mll1), ('KNN', mulgul_Mll2), ('MLP', mulgul_Mll3)])\n",
        "\n",
        "mulgul_Bst_Mll = mulgul_enggri(mulgul_Mll, mulgul_Bst,\n",
        "                         cv=2,\n",
        "                         verbose=1)\n",
        "mulgul_Bst_Mll.fit(mulgul_gerX[:3000],mulgul_gerY[:3000])\n",
        "\n",
        "print(\"Best parameters-mulgul_ger :\", mulgul_Bst_Mll.best_params_)\n",
        "print(\"Best Score : \", mulgul_Bst_Mll.best_score_)"
      ],
      "metadata": {
        "colab": {
          "base_uri": "https://localhost:8080/"
        },
        "id": "rNrX64tHRhhB",
        "outputId": "0709a2e0-a1b9-4421-9a53-6839f988d1bf"
      },
      "execution_count": 43,
      "outputs": [
        {
          "output_type": "stream",
          "name": "stdout",
          "text": [
            "Fitting 2 folds for each of 2 candidates, totalling 4 fits\n",
            "Best parameters-mulgul_ger : {'voting': 'soft'}\n",
            "Best Score :  0.792\n"
          ]
        }
      ]
    },
    {
      "cell_type": "code",
      "source": [
        "mulgul_Bst_Mll.best_params_"
      ],
      "metadata": {
        "colab": {
          "base_uri": "https://localhost:8080/"
        },
        "id": "vig7tNioRpEK",
        "outputId": "9267d73b-96bd-40e2-ac16-a6b47558e54d"
      },
      "execution_count": 44,
      "outputs": [
        {
          "output_type": "execute_result",
          "data": {
            "text/plain": [
              "{'voting': 'soft'}"
            ]
          },
          "metadata": {},
          "execution_count": 44
        }
      ]
    },
    {
      "cell_type": "code",
      "source": [
        "mul_pd1 = mulgul_engtim.time()\n",
        "\n",
        "mulgul_Mll = mulgul_engvtg(estimators=[('RF', mulgul_Mll1), ('KNN', mulgul_Mll2), ('MLP', mulgul_Mll3)], voting='soft')\n",
        "mulgul_Mll.fit(mulgul_gerX,mulgul_gerY)\n",
        "\n",
        "mul_pd2 = mulgul_engtim.time()\n",
        "print(\"\\n training duration :\", mul_pd2-mul_pd1,\"\\n\")\n",
        "\n",
        "mul_pd1 = mulgul_engtim.time()\n",
        "\n",
        "mulgul_Pcet = mulgul_Mll.predict(mulgul_engXL)\n",
        "print(mulgul_engcla(mulgul_engYL,mulgul_Pcet))\n",
        "mul_pl = mulgul_engcon(mulgul_engYL,mulgul_Pcet)\n",
        "mul_wd = mulgul_engcma(confusion_matrix = mul_pl, display_labels = [0, 1])\n",
        "mul_wd.plot()\n",
        "\n",
        "mul_pd2 = mulgul_engtim.time()\n",
        "print(\"\\n validation duration :\", mul_pd2-mul_pd1,\"\\n\")"
      ],
      "metadata": {
        "colab": {
          "base_uri": "https://localhost:8080/",
          "height": 723
        },
        "id": "tCsydkwURp06",
        "outputId": "cd527e55-0857-451d-f24c-63c4f7b4c5ea"
      },
      "execution_count": 45,
      "outputs": [
        {
          "output_type": "stream",
          "name": "stdout",
          "text": [
            "\n",
            " training duration : 200.21690392494202 \n",
            "\n",
            "              precision    recall  f1-score   support\n",
            "\n",
            "           0       0.66      0.16      0.26      7768\n",
            "           1       0.50      0.91      0.65      7232\n",
            "\n",
            "    accuracy                           0.52     15000\n",
            "   macro avg       0.58      0.54      0.45     15000\n",
            "weighted avg       0.59      0.52      0.45     15000\n",
            "\n",
            "\n",
            " validation duration : 120.46450138092041 \n",
            "\n"
          ]
        },
        {
          "output_type": "display_data",
          "data": {
            "text/plain": [
              "<Figure size 640x480 with 2 Axes>"
            ],
            "image/png": "[encoded data removed]"
          },
          "metadata": {}
        }
      ]
    },
    {
      "cell_type": "code",
      "source": [
        "mul_pd1 = mulgul_engtim.time()\n",
        "\n",
        "mulgul_Pcet = mulgul_Mll.predict(mulgul_engXE)\n",
        "print(mulgul_engcla(mulgul_engYE,mulgul_Pcet))\n",
        "mul_pl = mulgul_engcon(mulgul_engYE,mulgul_Pcet)\n",
        "mul_wd = mulgul_engcma(confusion_matrix = mul_pl, display_labels = [0, 1])\n",
        "mul_wd.plot()\n",
        "\n",
        "mul_pd2 = mulgul_engtim.time()\n",
        "print(\"\\n testing duration :\", mul_pd2-mul_pd1,\"\\n\")"
      ],
      "metadata": {
        "colab": {
          "base_uri": "https://localhost:8080/",
          "height": 668
        },
        "id": "Z8P7wbzER3QI",
        "outputId": "34b93c50-8132-42a5-95b5-fb96066a6ff9"
      },
      "execution_count": 46,
      "outputs": [
        {
          "output_type": "stream",
          "name": "stdout",
          "text": [
            "              precision    recall  f1-score   support\n",
            "\n",
            "           0       0.67      0.16      0.26      7664\n",
            "           1       0.51      0.92      0.66      7336\n",
            "\n",
            "    accuracy                           0.53     15000\n",
            "   macro avg       0.59      0.54      0.46     15000\n",
            "weighted avg       0.59      0.53      0.45     15000\n",
            "\n",
            "\n",
            " testing duration : 114.6065080165863 \n",
            "\n"
          ]
        },
        {
          "output_type": "display_data",
          "data": {
            "text/plain": [
              "<Figure size 640x480 with 2 Axes>"
            ],
            "image/png": "[encoded data removed]"
          },
          "metadata": {}
        }
      ]
    }
  ]
}