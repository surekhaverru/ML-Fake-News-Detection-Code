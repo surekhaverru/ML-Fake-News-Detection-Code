{
  "nbformat": 4,
  "nbformat_minor": 0,
  "metadata": {
    "colab": {
      "provenance": []
    },
    "kernelspec": {
      "name": "python3",
      "display_name": "Python 3"
    },
    "language_info": {
      "name": "python"
    }
  },
  "cells": [
    {
      "cell_type": "code",
      "execution_count": 1,
      "metadata": {
        "id": "ePD-7CbyT9WK",
        "colab": {
          "base_uri": "https://localhost:8080/",
          "height": 423
        },
        "outputId": "0bfe4b1a-7ba9-485d-e1d8-8f2b6bc76cd1"
      },
      "outputs": [
        {
          "output_type": "execute_result",
          "data": {
            "text/plain": [
              "                                                    text  label\n",
              "0      comment expected barack obama members fyf fuky...      1\n",
              "1                             post votes hillary already      1\n",
              "2      demonstrators gathered last night exercising c...      1\n",
              "3      dozen politically active pastors came private ...      0\n",
              "4      rs sarmat missile dubbed satan replace ss flie...      1\n",
              "...                                                  ...    ...\n",
              "29995  washington reuters u president donald trump fa...      0\n",
              "29996  thank goodness mandatory financial disclosures...      1\n",
              "29997  washington reuters vice president mike pence t...      0\n",
              "29998  share joe giambrone everything printed year do...      1\n",
              "29999  lima reuters former authoritarian leader alber...      0\n",
              "\n",
              "[30000 rows x 2 columns]"
            ],
            "text/html": [
              "\n",
              "  <div id=\"df-3e39a4c9-d93c-4d0c-b1f1-e44c81c901c1\" class=\"colab-df-container\">\n",
              "    <div>\n",
              "<style scoped>\n",
              "    .dataframe tbody tr th:only-of-type {\n",
              "        vertical-align: middle;\n",
              "    }\n",
              "\n",
              "    .dataframe tbody tr th {\n",
              "        vertical-align: top;\n",
              "    }\n",
              "\n",
              "    .dataframe thead th {\n",
              "        text-align: right;\n",
              "    }\n",
              "</style>\n",
              "<table border=\"1\" class=\"dataframe\">\n",
              "  <thead>\n",
              "    <tr style=\"text-align: right;\">\n",
              "      <th></th>\n",
              "      <th>text</th>\n",
              "      <th>label</th>\n",
              "    </tr>\n",
              "  </thead>\n",
              "  <tbody>\n",
              "    <tr>\n",
              "      <th>0</th>\n",
              "      <td>comment expected barack obama members fyf fuky...</td>\n",
              "      <td>1</td>\n",
              "    </tr>\n",
              "    <tr>\n",
              "      <th>1</th>\n",
              "      <td>post votes hillary already</td>\n",
              "      <td>1</td>\n",
              "    </tr>\n",
              "    <tr>\n",
              "      <th>2</th>\n",
              "      <td>demonstrators gathered last night exercising c...</td>\n",
              "      <td>1</td>\n",
              "    </tr>\n",
              "    <tr>\n",
              "      <th>3</th>\n",
              "      <td>dozen politically active pastors came private ...</td>\n",
              "      <td>0</td>\n",
              "    </tr>\n",
              "    <tr>\n",
              "      <th>4</th>\n",
              "      <td>rs sarmat missile dubbed satan replace ss flie...</td>\n",
              "      <td>1</td>\n",
              "    </tr>\n",
              "    <tr>\n",
              "      <th>...</th>\n",
              "      <td>...</td>\n",
              "      <td>...</td>\n",
              "    </tr>\n",
              "    <tr>\n",
              "      <th>29995</th>\n",
              "      <td>washington reuters u president donald trump fa...</td>\n",
              "      <td>0</td>\n",
              "    </tr>\n",
              "    <tr>\n",
              "      <th>29996</th>\n",
              "      <td>thank goodness mandatory financial disclosures...</td>\n",
              "      <td>1</td>\n",
              "    </tr>\n",
              "    <tr>\n",
              "      <th>29997</th>\n",
              "      <td>washington reuters vice president mike pence t...</td>\n",
              "      <td>0</td>\n",
              "    </tr>\n",
              "    <tr>\n",
              "      <th>29998</th>\n",
              "      <td>share joe giambrone everything printed year do...</td>\n",
              "      <td>1</td>\n",
              "    </tr>\n",
              "    <tr>\n",
              "      <th>29999</th>\n",
              "      <td>lima reuters former authoritarian leader alber...</td>\n",
              "      <td>0</td>\n",
              "    </tr>\n",
              "  </tbody>\n",
              "</table>\n",
              "<p>30000 rows × 2 columns</p>\n",
              "</div>\n",
              "    <div class=\"colab-df-buttons\">\n",
              "\n",
              "  <div class=\"colab-df-container\">\n",
              "    <button class=\"colab-df-convert\" onclick=\"convertToInteractive('df-3e39a4c9-d93c-4d0c-b1f1-e44c81c901c1')\"\n",
              "            title=\"Convert this dataframe to an interactive table.\"\n",
              "            style=\"display:none;\">\n",
              "\n",
              "  <svg xmlns=\"http://www.w3.org/2000/svg\" height=\"24px\" viewBox=\"0 -960 960 960\">\n",
              "    <path d=\"M120-120v-720h720v720H120Zm60-500h600v-160H180v160Zm220 220h160v-160H400v160Zm0 220h160v-160H400v160ZM180-400h160v-160H180v160Zm440 0h160v-160H620v160ZM180-180h160v-160H180v160Zm440 0h160v-160H620v160Z\"/>\n",
              "  </svg>\n",
              "    </button>\n",
              "\n",
              "  <style>\n",
              "    .colab-df-container {\n",
              "      display:flex;\n",
              "      gap: 12px;\n",
              "    }\n",
              "\n",
              "    .colab-df-convert {\n",
              "      background-color: #E8F0FE;\n",
              "      border: none;\n",
              "      border-radius: 50%;\n",
              "      cursor: pointer;\n",
              "      display: none;\n",
              "      fill: #1967D2;\n",
              "      height: 32px;\n",
              "      padding: 0 0 0 0;\n",
              "      width: 32px;\n",
              "    }\n",
              "\n",
              "    .colab-df-convert:hover {\n",
              "      background-color: #E2EBFA;\n",
              "      box-shadow: 0px 1px 2px rgba(60, 64, 67, 0.3), 0px 1px 3px 1px rgba(60, 64, 67, 0.15);\n",
              "      fill: #174EA6;\n",
              "    }\n",
              "\n",
              "    .colab-df-buttons div {\n",
              "      margin-bottom: 4px;\n",
              "    }\n",
              "\n",
              "    [theme=dark] .colab-df-convert {\n",
              "      background-color: #3B4455;\n",
              "      fill: #D2E3FC;\n",
              "    }\n",
              "\n",
              "    [theme=dark] .colab-df-convert:hover {\n",
              "      background-color: #434B5C;\n",
              "      box-shadow: 0px 1px 3px 1px rgba(0, 0, 0, 0.15);\n",
              "      filter: drop-shadow(0px 1px 2px rgba(0, 0, 0, 0.3));\n",
              "      fill: #FFFFFF;\n",
              "    }\n",
              "  </style>\n",
              "\n",
              "    <script>\n",
              "      const buttonEl =\n",
              "        document.querySelector('#df-3e39a4c9-d93c-4d0c-b1f1-e44c81c901c1 button.colab-df-convert');\n",
              "      buttonEl.style.display =\n",
              "        google.colab.kernel.accessAllowed ? 'block' : 'none';\n",
              "\n",
              "      async function convertToInteractive(key) {\n",
              "        const element = document.querySelector('#df-3e39a4c9-d93c-4d0c-b1f1-e44c81c901c1');\n",
              "        const dataTable =\n",
              "          await google.colab.kernel.invokeFunction('convertToInteractive',\n",
              "                                                    [key], {});\n",
              "        if (!dataTable) return;\n",
              "\n",
              "        const docLinkHtml = 'Like what you see? Visit the ' +\n",
              "          '<a target=\"_blank\" href=https://colab.research.google.com/notebooks/data_table.ipynb>data table notebook</a>'\n",
              "          + ' to learn more about interactive tables.';\n",
              "        element.innerHTML = '';\n",
              "        dataTable['output_type'] = 'display_data';\n",
              "        await google.colab.output.renderOutput(dataTable, element);\n",
              "        const docLink = document.createElement('div');\n",
              "        docLink.innerHTML = docLinkHtml;\n",
              "        element.appendChild(docLink);\n",
              "      }\n",
              "    </script>\n",
              "  </div>\n",
              "\n",
              "\n",
              "<div id=\"df-d9787ad4-9edd-4042-8ef1-c64e84436aef\">\n",
              "  <button class=\"colab-df-quickchart\" onclick=\"quickchart('df-d9787ad4-9edd-4042-8ef1-c64e84436aef')\"\n",
              "            title=\"Suggest charts\"\n",
              "            style=\"display:none;\">\n",
              "\n",
              "<svg xmlns=\"http://www.w3.org/2000/svg\" height=\"24px\"viewBox=\"0 0 24 24\"\n",
              "     width=\"24px\">\n",
              "    <g>\n",
              "        <path d=\"M19 3H5c-1.1 0-2 .9-2 2v14c0 1.1.9 2 2 2h14c1.1 0 2-.9 2-2V5c0-1.1-.9-2-2-2zM9 17H7v-7h2v7zm4 0h-2V7h2v10zm4 0h-2v-4h2v4z\"/>\n",
              "    </g>\n",
              "</svg>\n",
              "  </button>\n",
              "\n",
              "<style>\n",
              "  .colab-df-quickchart {\n",
              "      --bg-color: #E8F0FE;\n",
              "      --fill-color: #1967D2;\n",
              "      --hover-bg-color: #E2EBFA;\n",
              "      --hover-fill-color: #174EA6;\n",
              "      --disabled-fill-color: #AAA;\n",
              "      --disabled-bg-color: #DDD;\n",
              "  }\n",
              "\n",
              "  [theme=dark] .colab-df-quickchart {\n",
              "      --bg-color: #3B4455;\n",
              "      --fill-color: #D2E3FC;\n",
              "      --hover-bg-color: #434B5C;\n",
              "      --hover-fill-color: #FFFFFF;\n",
              "      --disabled-bg-color: #3B4455;\n",
              "      --disabled-fill-color: #666;\n",
              "  }\n",
              "\n",
              "  .colab-df-quickchart {\n",
              "    background-color: var(--bg-color);\n",
              "    border: none;\n",
              "    border-radius: 50%;\n",
              "    cursor: pointer;\n",
              "    display: none;\n",
              "    fill: var(--fill-color);\n",
              "    height: 32px;\n",
              "    padding: 0;\n",
              "    width: 32px;\n",
              "  }\n",
              "\n",
              "  .colab-df-quickchart:hover {\n",
              "    background-color: var(--hover-bg-color);\n",
              "    box-shadow: 0 1px 2px rgba(60, 64, 67, 0.3), 0 1px 3px 1px rgba(60, 64, 67, 0.15);\n",
              "    fill: var(--button-hover-fill-color);\n",
              "  }\n",
              "\n",
              "  .colab-df-quickchart-complete:disabled,\n",
              "  .colab-df-quickchart-complete:disabled:hover {\n",
              "    background-color: var(--disabled-bg-color);\n",
              "    fill: var(--disabled-fill-color);\n",
              "    box-shadow: none;\n",
              "  }\n",
              "\n",
              "  .colab-df-spinner {\n",
              "    border: 2px solid var(--fill-color);\n",
              "    border-color: transparent;\n",
              "    border-bottom-color: var(--fill-color);\n",
              "    animation:\n",
              "      spin 1s steps(1) infinite;\n",
              "  }\n",
              "\n",
              "  @keyframes spin {\n",
              "    0% {\n",
              "      border-color: transparent;\n",
              "      border-bottom-color: var(--fill-color);\n",
              "      border-left-color: var(--fill-color);\n",
              "    }\n",
              "    20% {\n",
              "      border-color: transparent;\n",
              "      border-left-color: var(--fill-color);\n",
              "      border-top-color: var(--fill-color);\n",
              "    }\n",
              "    30% {\n",
              "      border-color: transparent;\n",
              "      border-left-color: var(--fill-color);\n",
              "      border-top-color: var(--fill-color);\n",
              "      border-right-color: var(--fill-color);\n",
              "    }\n",
              "    40% {\n",
              "      border-color: transparent;\n",
              "      border-right-color: var(--fill-color);\n",
              "      border-top-color: var(--fill-color);\n",
              "    }\n",
              "    60% {\n",
              "      border-color: transparent;\n",
              "      border-right-color: var(--fill-color);\n",
              "    }\n",
              "    80% {\n",
              "      border-color: transparent;\n",
              "      border-right-color: var(--fill-color);\n",
              "      border-bottom-color: var(--fill-color);\n",
              "    }\n",
              "    90% {\n",
              "      border-color: transparent;\n",
              "      border-bottom-color: var(--fill-color);\n",
              "    }\n",
              "  }\n",
              "</style>\n",
              "\n",
              "  <script>\n",
              "    async function quickchart(key) {\n",
              "      const quickchartButtonEl =\n",
              "        document.querySelector('#' + key + ' button');\n",
              "      quickchartButtonEl.disabled = true;  // To prevent multiple clicks.\n",
              "      quickchartButtonEl.classList.add('colab-df-spinner');\n",
              "      try {\n",
              "        const charts = await google.colab.kernel.invokeFunction(\n",
              "            'suggestCharts', [key], {});\n",
              "      } catch (error) {\n",
              "        console.error('Error during call to suggestCharts:', error);\n",
              "      }\n",
              "      quickchartButtonEl.classList.remove('colab-df-spinner');\n",
              "      quickchartButtonEl.classList.add('colab-df-quickchart-complete');\n",
              "    }\n",
              "    (() => {\n",
              "      let quickchartButtonEl =\n",
              "        document.querySelector('#df-d9787ad4-9edd-4042-8ef1-c64e84436aef button');\n",
              "      quickchartButtonEl.style.display =\n",
              "        google.colab.kernel.accessAllowed ? 'block' : 'none';\n",
              "    })();\n",
              "  </script>\n",
              "</div>\n",
              "    </div>\n",
              "  </div>\n"
            ]
          },
          "metadata": {},
          "execution_count": 1
        }
      ],
      "source": [
        "import pandas as mulgul_engpd\n",
        "\n",
        "mulgul_eng = mulgul_engpd.read_csv('mulgul_eng.csv',nrows=30000) # read English data\n",
        "mulgul_eng"
      ]
    },
    {
      "cell_type": "code",
      "source": [
        "import pandas as mulgul_engpd\n",
        "\n",
        "mulgul_ger = mulgul_engpd.read_csv('mulgul_german.csv',nrows=30000)\n",
        "mulgul_ger"
      ],
      "metadata": {
        "id": "UodRIhXvqaOt",
        "colab": {
          "base_uri": "https://localhost:8080/",
          "height": 423
        },
        "outputId": "16811fe4-85c4-4fa2-9976-28388cb8b9cb"
      },
      "execution_count": 2,
      "outputs": [
        {
          "output_type": "execute_result",
          "data": {
            "text/plain": [
              "                                                    Body  Fake\n",
              "0      sondierungsgespr che union spd endeten komprom...     1\n",
              "1      medizinisch offiziell best tigt milit r rztlic...     1\n",
              "2      z he verhandlungen freien demokraten k nnen zu...     1\n",
              "3      treibt immer sp t nacht herum joachim sauer be...     1\n",
              "4      parteivorstand dr ckt nochmal auge nachdem noa...     1\n",
              "...                                                  ...   ...\n",
              "29995  krisengebeutelte europ ische automobilmarkt ta...     0\n",
              "29996  us kabelkonzern liberty global bieterrennen ka...     0\n",
              "29997  angesichts tiefen rezession euro zone fasst ez...     0\n",
              "29998  commerzbank fallen n chsten jahren voraussicht...     0\n",
              "29999  bundesbank chef jens weidmann weiche auslegung...     0\n",
              "\n",
              "[30000 rows x 2 columns]"
            ],
            "text/html": [
              "\n",
              "  <div id=\"df-7f183cfc-cec4-4f65-ae04-e35f377b8093\" class=\"colab-df-container\">\n",
              "    <div>\n",
              "<style scoped>\n",
              "    .dataframe tbody tr th:only-of-type {\n",
              "        vertical-align: middle;\n",
              "    }\n",
              "\n",
              "    .dataframe tbody tr th {\n",
              "        vertical-align: top;\n",
              "    }\n",
              "\n",
              "    .dataframe thead th {\n",
              "        text-align: right;\n",
              "    }\n",
              "</style>\n",
              "<table border=\"1\" class=\"dataframe\">\n",
              "  <thead>\n",
              "    <tr style=\"text-align: right;\">\n",
              "      <th></th>\n",
              "      <th>Body</th>\n",
              "      <th>Fake</th>\n",
              "    </tr>\n",
              "  </thead>\n",
              "  <tbody>\n",
              "    <tr>\n",
              "      <th>0</th>\n",
              "      <td>sondierungsgespr che union spd endeten komprom...</td>\n",
              "      <td>1</td>\n",
              "    </tr>\n",
              "    <tr>\n",
              "      <th>1</th>\n",
              "      <td>medizinisch offiziell best tigt milit r rztlic...</td>\n",
              "      <td>1</td>\n",
              "    </tr>\n",
              "    <tr>\n",
              "      <th>2</th>\n",
              "      <td>z he verhandlungen freien demokraten k nnen zu...</td>\n",
              "      <td>1</td>\n",
              "    </tr>\n",
              "    <tr>\n",
              "      <th>3</th>\n",
              "      <td>treibt immer sp t nacht herum joachim sauer be...</td>\n",
              "      <td>1</td>\n",
              "    </tr>\n",
              "    <tr>\n",
              "      <th>4</th>\n",
              "      <td>parteivorstand dr ckt nochmal auge nachdem noa...</td>\n",
              "      <td>1</td>\n",
              "    </tr>\n",
              "    <tr>\n",
              "      <th>...</th>\n",
              "      <td>...</td>\n",
              "      <td>...</td>\n",
              "    </tr>\n",
              "    <tr>\n",
              "      <th>29995</th>\n",
              "      <td>krisengebeutelte europ ische automobilmarkt ta...</td>\n",
              "      <td>0</td>\n",
              "    </tr>\n",
              "    <tr>\n",
              "      <th>29996</th>\n",
              "      <td>us kabelkonzern liberty global bieterrennen ka...</td>\n",
              "      <td>0</td>\n",
              "    </tr>\n",
              "    <tr>\n",
              "      <th>29997</th>\n",
              "      <td>angesichts tiefen rezession euro zone fasst ez...</td>\n",
              "      <td>0</td>\n",
              "    </tr>\n",
              "    <tr>\n",
              "      <th>29998</th>\n",
              "      <td>commerzbank fallen n chsten jahren voraussicht...</td>\n",
              "      <td>0</td>\n",
              "    </tr>\n",
              "    <tr>\n",
              "      <th>29999</th>\n",
              "      <td>bundesbank chef jens weidmann weiche auslegung...</td>\n",
              "      <td>0</td>\n",
              "    </tr>\n",
              "  </tbody>\n",
              "</table>\n",
              "<p>30000 rows × 2 columns</p>\n",
              "</div>\n",
              "    <div class=\"colab-df-buttons\">\n",
              "\n",
              "  <div class=\"colab-df-container\">\n",
              "    <button class=\"colab-df-convert\" onclick=\"convertToInteractive('df-7f183cfc-cec4-4f65-ae04-e35f377b8093')\"\n",
              "            title=\"Convert this dataframe to an interactive table.\"\n",
              "            style=\"display:none;\">\n",
              "\n",
              "  <svg xmlns=\"http://www.w3.org/2000/svg\" height=\"24px\" viewBox=\"0 -960 960 960\">\n",
              "    <path d=\"M120-120v-720h720v720H120Zm60-500h600v-160H180v160Zm220 220h160v-160H400v160Zm0 220h160v-160H400v160ZM180-400h160v-160H180v160Zm440 0h160v-160H620v160ZM180-180h160v-160H180v160Zm440 0h160v-160H620v160Z\"/>\n",
              "  </svg>\n",
              "    </button>\n",
              "\n",
              "  <style>\n",
              "    .colab-df-container {\n",
              "      display:flex;\n",
              "      gap: 12px;\n",
              "    }\n",
              "\n",
              "    .colab-df-convert {\n",
              "      background-color: #E8F0FE;\n",
              "      border: none;\n",
              "      border-radius: 50%;\n",
              "      cursor: pointer;\n",
              "      display: none;\n",
              "      fill: #1967D2;\n",
              "      height: 32px;\n",
              "      padding: 0 0 0 0;\n",
              "      width: 32px;\n",
              "    }\n",
              "\n",
              "    .colab-df-convert:hover {\n",
              "      background-color: #E2EBFA;\n",
              "      box-shadow: 0px 1px 2px rgba(60, 64, 67, 0.3), 0px 1px 3px 1px rgba(60, 64, 67, 0.15);\n",
              "      fill: #174EA6;\n",
              "    }\n",
              "\n",
              "    .colab-df-buttons div {\n",
              "      margin-bottom: 4px;\n",
              "    }\n",
              "\n",
              "    [theme=dark] .colab-df-convert {\n",
              "      background-color: #3B4455;\n",
              "      fill: #D2E3FC;\n",
              "    }\n",
              "\n",
              "    [theme=dark] .colab-df-convert:hover {\n",
              "      background-color: #434B5C;\n",
              "      box-shadow: 0px 1px 3px 1px rgba(0, 0, 0, 0.15);\n",
              "      filter: drop-shadow(0px 1px 2px rgba(0, 0, 0, 0.3));\n",
              "      fill: #FFFFFF;\n",
              "    }\n",
              "  </style>\n",
              "\n",
              "    <script>\n",
              "      const buttonEl =\n",
              "        document.querySelector('#df-7f183cfc-cec4-4f65-ae04-e35f377b8093 button.colab-df-convert');\n",
              "      buttonEl.style.display =\n",
              "        google.colab.kernel.accessAllowed ? 'block' : 'none';\n",
              "\n",
              "      async function convertToInteractive(key) {\n",
              "        const element = document.querySelector('#df-7f183cfc-cec4-4f65-ae04-e35f377b8093');\n",
              "        const dataTable =\n",
              "          await google.colab.kernel.invokeFunction('convertToInteractive',\n",
              "                                                    [key], {});\n",
              "        if (!dataTable) return;\n",
              "\n",
              "        const docLinkHtml = 'Like what you see? Visit the ' +\n",
              "          '<a target=\"_blank\" href=https://colab.research.google.com/notebooks/data_table.ipynb>data table notebook</a>'\n",
              "          + ' to learn more about interactive tables.';\n",
              "        element.innerHTML = '';\n",
              "        dataTable['output_type'] = 'display_data';\n",
              "        await google.colab.output.renderOutput(dataTable, element);\n",
              "        const docLink = document.createElement('div');\n",
              "        docLink.innerHTML = docLinkHtml;\n",
              "        element.appendChild(docLink);\n",
              "      }\n",
              "    </script>\n",
              "  </div>\n",
              "\n",
              "\n",
              "<div id=\"df-d1bda547-0bf2-4a4c-ae47-8884f84f72a0\">\n",
              "  <button class=\"colab-df-quickchart\" onclick=\"quickchart('df-d1bda547-0bf2-4a4c-ae47-8884f84f72a0')\"\n",
              "            title=\"Suggest charts\"\n",
              "            style=\"display:none;\">\n",
              "\n",
              "<svg xmlns=\"http://www.w3.org/2000/svg\" height=\"24px\"viewBox=\"0 0 24 24\"\n",
              "     width=\"24px\">\n",
              "    <g>\n",
              "        <path d=\"M19 3H5c-1.1 0-2 .9-2 2v14c0 1.1.9 2 2 2h14c1.1 0 2-.9 2-2V5c0-1.1-.9-2-2-2zM9 17H7v-7h2v7zm4 0h-2V7h2v10zm4 0h-2v-4h2v4z\"/>\n",
              "    </g>\n",
              "</svg>\n",
              "  </button>\n",
              "\n",
              "<style>\n",
              "  .colab-df-quickchart {\n",
              "      --bg-color: #E8F0FE;\n",
              "      --fill-color: #1967D2;\n",
              "      --hover-bg-color: #E2EBFA;\n",
              "      --hover-fill-color: #174EA6;\n",
              "      --disabled-fill-color: #AAA;\n",
              "      --disabled-bg-color: #DDD;\n",
              "  }\n",
              "\n",
              "  [theme=dark] .colab-df-quickchart {\n",
              "      --bg-color: #3B4455;\n",
              "      --fill-color: #D2E3FC;\n",
              "      --hover-bg-color: #434B5C;\n",
              "      --hover-fill-color: #FFFFFF;\n",
              "      --disabled-bg-color: #3B4455;\n",
              "      --disabled-fill-color: #666;\n",
              "  }\n",
              "\n",
              "  .colab-df-quickchart {\n",
              "    background-color: var(--bg-color);\n",
              "    border: none;\n",
              "    border-radius: 50%;\n",
              "    cursor: pointer;\n",
              "    display: none;\n",
              "    fill: var(--fill-color);\n",
              "    height: 32px;\n",
              "    padding: 0;\n",
              "    width: 32px;\n",
              "  }\n",
              "\n",
              "  .colab-df-quickchart:hover {\n",
              "    background-color: var(--hover-bg-color);\n",
              "    box-shadow: 0 1px 2px rgba(60, 64, 67, 0.3), 0 1px 3px 1px rgba(60, 64, 67, 0.15);\n",
              "    fill: var(--button-hover-fill-color);\n",
              "  }\n",
              "\n",
              "  .colab-df-quickchart-complete:disabled,\n",
              "  .colab-df-quickchart-complete:disabled:hover {\n",
              "    background-color: var(--disabled-bg-color);\n",
              "    fill: var(--disabled-fill-color);\n",
              "    box-shadow: none;\n",
              "  }\n",
              "\n",
              "  .colab-df-spinner {\n",
              "    border: 2px solid var(--fill-color);\n",
              "    border-color: transparent;\n",
              "    border-bottom-color: var(--fill-color);\n",
              "    animation:\n",
              "      spin 1s steps(1) infinite;\n",
              "  }\n",
              "\n",
              "  @keyframes spin {\n",
              "    0% {\n",
              "      border-color: transparent;\n",
              "      border-bottom-color: var(--fill-color);\n",
              "      border-left-color: var(--fill-color);\n",
              "    }\n",
              "    20% {\n",
              "      border-color: transparent;\n",
              "      border-left-color: var(--fill-color);\n",
              "      border-top-color: var(--fill-color);\n",
              "    }\n",
              "    30% {\n",
              "      border-color: transparent;\n",
              "      border-left-color: var(--fill-color);\n",
              "      border-top-color: var(--fill-color);\n",
              "      border-right-color: var(--fill-color);\n",
              "    }\n",
              "    40% {\n",
              "      border-color: transparent;\n",
              "      border-right-color: var(--fill-color);\n",
              "      border-top-color: var(--fill-color);\n",
              "    }\n",
              "    60% {\n",
              "      border-color: transparent;\n",
              "      border-right-color: var(--fill-color);\n",
              "    }\n",
              "    80% {\n",
              "      border-color: transparent;\n",
              "      border-right-color: var(--fill-color);\n",
              "      border-bottom-color: var(--fill-color);\n",
              "    }\n",
              "    90% {\n",
              "      border-color: transparent;\n",
              "      border-bottom-color: var(--fill-color);\n",
              "    }\n",
              "  }\n",
              "</style>\n",
              "\n",
              "  <script>\n",
              "    async function quickchart(key) {\n",
              "      const quickchartButtonEl =\n",
              "        document.querySelector('#' + key + ' button');\n",
              "      quickchartButtonEl.disabled = true;  // To prevent multiple clicks.\n",
              "      quickchartButtonEl.classList.add('colab-df-spinner');\n",
              "      try {\n",
              "        const charts = await google.colab.kernel.invokeFunction(\n",
              "            'suggestCharts', [key], {});\n",
              "      } catch (error) {\n",
              "        console.error('Error during call to suggestCharts:', error);\n",
              "      }\n",
              "      quickchartButtonEl.classList.remove('colab-df-spinner');\n",
              "      quickchartButtonEl.classList.add('colab-df-quickchart-complete');\n",
              "    }\n",
              "    (() => {\n",
              "      let quickchartButtonEl =\n",
              "        document.querySelector('#df-d1bda547-0bf2-4a4c-ae47-8884f84f72a0 button');\n",
              "      quickchartButtonEl.style.display =\n",
              "        google.colab.kernel.accessAllowed ? 'block' : 'none';\n",
              "    })();\n",
              "  </script>\n",
              "</div>\n",
              "    </div>\n",
              "  </div>\n"
            ]
          },
          "metadata": {},
          "execution_count": 2
        }
      ]
    },
    {
      "cell_type": "code",
      "source": [
        "mulgul_eng['label'].value_counts()"
      ],
      "metadata": {
        "id": "9M-hwz5DUsoP",
        "colab": {
          "base_uri": "https://localhost:8080/"
        },
        "outputId": "62d806fb-68bd-455e-ac5a-367337da1c24"
      },
      "execution_count": 3,
      "outputs": [
        {
          "output_type": "execute_result",
          "data": {
            "text/plain": [
              "0    15432\n",
              "1    14568\n",
              "Name: label, dtype: int64"
            ]
          },
          "metadata": {},
          "execution_count": 3
        }
      ]
    },
    {
      "cell_type": "code",
      "source": [
        "mulgul_ger['Fake'].value_counts()"
      ],
      "metadata": {
        "id": "ph9aCM7Kq8tJ",
        "colab": {
          "base_uri": "https://localhost:8080/"
        },
        "outputId": "bbdcde3a-1d8e-4ba7-b4a6-dd8bc65e00f6"
      },
      "execution_count": 4,
      "outputs": [
        {
          "output_type": "execute_result",
          "data": {
            "text/plain": [
              "0    27960\n",
              "1     2040\n",
              "Name: Fake, dtype: int64"
            ]
          },
          "metadata": {},
          "execution_count": 4
        }
      ]
    },
    {
      "cell_type": "code",
      "source": [
        "mulgul_engX = mulgul_eng.drop('label',axis=1)\n",
        "mulgul_engX"
      ],
      "metadata": {
        "id": "7aiovJFpWZSD",
        "colab": {
          "base_uri": "https://localhost:8080/",
          "height": 423
        },
        "outputId": "cba9fc0a-ac32-4c20-9337-0cdc126297dd"
      },
      "execution_count": 5,
      "outputs": [
        {
          "output_type": "execute_result",
          "data": {
            "text/plain": [
              "                                                    text\n",
              "0      comment expected barack obama members fyf fuky...\n",
              "1                             post votes hillary already\n",
              "2      demonstrators gathered last night exercising c...\n",
              "3      dozen politically active pastors came private ...\n",
              "4      rs sarmat missile dubbed satan replace ss flie...\n",
              "...                                                  ...\n",
              "29995  washington reuters u president donald trump fa...\n",
              "29996  thank goodness mandatory financial disclosures...\n",
              "29997  washington reuters vice president mike pence t...\n",
              "29998  share joe giambrone everything printed year do...\n",
              "29999  lima reuters former authoritarian leader alber...\n",
              "\n",
              "[30000 rows x 1 columns]"
            ],
            "text/html": [
              "\n",
              "  <div id=\"df-e939475e-b10d-41fb-9cd9-982ada46676f\" class=\"colab-df-container\">\n",
              "    <div>\n",
              "<style scoped>\n",
              "    .dataframe tbody tr th:only-of-type {\n",
              "        vertical-align: middle;\n",
              "    }\n",
              "\n",
              "    .dataframe tbody tr th {\n",
              "        vertical-align: top;\n",
              "    }\n",
              "\n",
              "    .dataframe thead th {\n",
              "        text-align: right;\n",
              "    }\n",
              "</style>\n",
              "<table border=\"1\" class=\"dataframe\">\n",
              "  <thead>\n",
              "    <tr style=\"text-align: right;\">\n",
              "      <th></th>\n",
              "      <th>text</th>\n",
              "    </tr>\n",
              "  </thead>\n",
              "  <tbody>\n",
              "    <tr>\n",
              "      <th>0</th>\n",
              "      <td>comment expected barack obama members fyf fuky...</td>\n",
              "    </tr>\n",
              "    <tr>\n",
              "      <th>1</th>\n",
              "      <td>post votes hillary already</td>\n",
              "    </tr>\n",
              "    <tr>\n",
              "      <th>2</th>\n",
              "      <td>demonstrators gathered last night exercising c...</td>\n",
              "    </tr>\n",
              "    <tr>\n",
              "      <th>3</th>\n",
              "      <td>dozen politically active pastors came private ...</td>\n",
              "    </tr>\n",
              "    <tr>\n",
              "      <th>4</th>\n",
              "      <td>rs sarmat missile dubbed satan replace ss flie...</td>\n",
              "    </tr>\n",
              "    <tr>\n",
              "      <th>...</th>\n",
              "      <td>...</td>\n",
              "    </tr>\n",
              "    <tr>\n",
              "      <th>29995</th>\n",
              "      <td>washington reuters u president donald trump fa...</td>\n",
              "    </tr>\n",
              "    <tr>\n",
              "      <th>29996</th>\n",
              "      <td>thank goodness mandatory financial disclosures...</td>\n",
              "    </tr>\n",
              "    <tr>\n",
              "      <th>29997</th>\n",
              "      <td>washington reuters vice president mike pence t...</td>\n",
              "    </tr>\n",
              "    <tr>\n",
              "      <th>29998</th>\n",
              "      <td>share joe giambrone everything printed year do...</td>\n",
              "    </tr>\n",
              "    <tr>\n",
              "      <th>29999</th>\n",
              "      <td>lima reuters former authoritarian leader alber...</td>\n",
              "    </tr>\n",
              "  </tbody>\n",
              "</table>\n",
              "<p>30000 rows × 1 columns</p>\n",
              "</div>\n",
              "    <div class=\"colab-df-buttons\">\n",
              "\n",
              "  <div class=\"colab-df-container\">\n",
              "    <button class=\"colab-df-convert\" onclick=\"convertToInteractive('df-e939475e-b10d-41fb-9cd9-982ada46676f')\"\n",
              "            title=\"Convert this dataframe to an interactive table.\"\n",
              "            style=\"display:none;\">\n",
              "\n",
              "  <svg xmlns=\"http://www.w3.org/2000/svg\" height=\"24px\" viewBox=\"0 -960 960 960\">\n",
              "    <path d=\"M120-120v-720h720v720H120Zm60-500h600v-160H180v160Zm220 220h160v-160H400v160Zm0 220h160v-160H400v160ZM180-400h160v-160H180v160Zm440 0h160v-160H620v160ZM180-180h160v-160H180v160Zm440 0h160v-160H620v160Z\"/>\n",
              "  </svg>\n",
              "    </button>\n",
              "\n",
              "  <style>\n",
              "    .colab-df-container {\n",
              "      display:flex;\n",
              "      gap: 12px;\n",
              "    }\n",
              "\n",
              "    .colab-df-convert {\n",
              "      background-color: #E8F0FE;\n",
              "      border: none;\n",
              "      border-radius: 50%;\n",
              "      cursor: pointer;\n",
              "      display: none;\n",
              "      fill: #1967D2;\n",
              "      height: 32px;\n",
              "      padding: 0 0 0 0;\n",
              "      width: 32px;\n",
              "    }\n",
              "\n",
              "    .colab-df-convert:hover {\n",
              "      background-color: #E2EBFA;\n",
              "      box-shadow: 0px 1px 2px rgba(60, 64, 67, 0.3), 0px 1px 3px 1px rgba(60, 64, 67, 0.15);\n",
              "      fill: #174EA6;\n",
              "    }\n",
              "\n",
              "    .colab-df-buttons div {\n",
              "      margin-bottom: 4px;\n",
              "    }\n",
              "\n",
              "    [theme=dark] .colab-df-convert {\n",
              "      background-color: #3B4455;\n",
              "      fill: #D2E3FC;\n",
              "    }\n",
              "\n",
              "    [theme=dark] .colab-df-convert:hover {\n",
              "      background-color: #434B5C;\n",
              "      box-shadow: 0px 1px 3px 1px rgba(0, 0, 0, 0.15);\n",
              "      filter: drop-shadow(0px 1px 2px rgba(0, 0, 0, 0.3));\n",
              "      fill: #FFFFFF;\n",
              "    }\n",
              "  </style>\n",
              "\n",
              "    <script>\n",
              "      const buttonEl =\n",
              "        document.querySelector('#df-e939475e-b10d-41fb-9cd9-982ada46676f button.colab-df-convert');\n",
              "      buttonEl.style.display =\n",
              "        google.colab.kernel.accessAllowed ? 'block' : 'none';\n",
              "\n",
              "      async function convertToInteractive(key) {\n",
              "        const element = document.querySelector('#df-e939475e-b10d-41fb-9cd9-982ada46676f');\n",
              "        const dataTable =\n",
              "          await google.colab.kernel.invokeFunction('convertToInteractive',\n",
              "                                                    [key], {});\n",
              "        if (!dataTable) return;\n",
              "\n",
              "        const docLinkHtml = 'Like what you see? Visit the ' +\n",
              "          '<a target=\"_blank\" href=https://colab.research.google.com/notebooks/data_table.ipynb>data table notebook</a>'\n",
              "          + ' to learn more about interactive tables.';\n",
              "        element.innerHTML = '';\n",
              "        dataTable['output_type'] = 'display_data';\n",
              "        await google.colab.output.renderOutput(dataTable, element);\n",
              "        const docLink = document.createElement('div');\n",
              "        docLink.innerHTML = docLinkHtml;\n",
              "        element.appendChild(docLink);\n",
              "      }\n",
              "    </script>\n",
              "  </div>\n",
              "\n",
              "\n",
              "<div id=\"df-b4fb46e9-0220-42b5-9881-f8b1d5bc41fb\">\n",
              "  <button class=\"colab-df-quickchart\" onclick=\"quickchart('df-b4fb46e9-0220-42b5-9881-f8b1d5bc41fb')\"\n",
              "            title=\"Suggest charts\"\n",
              "            style=\"display:none;\">\n",
              "\n",
              "<svg xmlns=\"http://www.w3.org/2000/svg\" height=\"24px\"viewBox=\"0 0 24 24\"\n",
              "     width=\"24px\">\n",
              "    <g>\n",
              "        <path d=\"M19 3H5c-1.1 0-2 .9-2 2v14c0 1.1.9 2 2 2h14c1.1 0 2-.9 2-2V5c0-1.1-.9-2-2-2zM9 17H7v-7h2v7zm4 0h-2V7h2v10zm4 0h-2v-4h2v4z\"/>\n",
              "    </g>\n",
              "</svg>\n",
              "  </button>\n",
              "\n",
              "<style>\n",
              "  .colab-df-quickchart {\n",
              "      --bg-color: #E8F0FE;\n",
              "      --fill-color: #1967D2;\n",
              "      --hover-bg-color: #E2EBFA;\n",
              "      --hover-fill-color: #174EA6;\n",
              "      --disabled-fill-color: #AAA;\n",
              "      --disabled-bg-color: #DDD;\n",
              "  }\n",
              "\n",
              "  [theme=dark] .colab-df-quickchart {\n",
              "      --bg-color: #3B4455;\n",
              "      --fill-color: #D2E3FC;\n",
              "      --hover-bg-color: #434B5C;\n",
              "      --hover-fill-color: #FFFFFF;\n",
              "      --disabled-bg-color: #3B4455;\n",
              "      --disabled-fill-color: #666;\n",
              "  }\n",
              "\n",
              "  .colab-df-quickchart {\n",
              "    background-color: var(--bg-color);\n",
              "    border: none;\n",
              "    border-radius: 50%;\n",
              "    cursor: pointer;\n",
              "    display: none;\n",
              "    fill: var(--fill-color);\n",
              "    height: 32px;\n",
              "    padding: 0;\n",
              "    width: 32px;\n",
              "  }\n",
              "\n",
              "  .colab-df-quickchart:hover {\n",
              "    background-color: var(--hover-bg-color);\n",
              "    box-shadow: 0 1px 2px rgba(60, 64, 67, 0.3), 0 1px 3px 1px rgba(60, 64, 67, 0.15);\n",
              "    fill: var(--button-hover-fill-color);\n",
              "  }\n",
              "\n",
              "  .colab-df-quickchart-complete:disabled,\n",
              "  .colab-df-quickchart-complete:disabled:hover {\n",
              "    background-color: var(--disabled-bg-color);\n",
              "    fill: var(--disabled-fill-color);\n",
              "    box-shadow: none;\n",
              "  }\n",
              "\n",
              "  .colab-df-spinner {\n",
              "    border: 2px solid var(--fill-color);\n",
              "    border-color: transparent;\n",
              "    border-bottom-color: var(--fill-color);\n",
              "    animation:\n",
              "      spin 1s steps(1) infinite;\n",
              "  }\n",
              "\n",
              "  @keyframes spin {\n",
              "    0% {\n",
              "      border-color: transparent;\n",
              "      border-bottom-color: var(--fill-color);\n",
              "      border-left-color: var(--fill-color);\n",
              "    }\n",
              "    20% {\n",
              "      border-color: transparent;\n",
              "      border-left-color: var(--fill-color);\n",
              "      border-top-color: var(--fill-color);\n",
              "    }\n",
              "    30% {\n",
              "      border-color: transparent;\n",
              "      border-left-color: var(--fill-color);\n",
              "      border-top-color: var(--fill-color);\n",
              "      border-right-color: var(--fill-color);\n",
              "    }\n",
              "    40% {\n",
              "      border-color: transparent;\n",
              "      border-right-color: var(--fill-color);\n",
              "      border-top-color: var(--fill-color);\n",
              "    }\n",
              "    60% {\n",
              "      border-color: transparent;\n",
              "      border-right-color: var(--fill-color);\n",
              "    }\n",
              "    80% {\n",
              "      border-color: transparent;\n",
              "      border-right-color: var(--fill-color);\n",
              "      border-bottom-color: var(--fill-color);\n",
              "    }\n",
              "    90% {\n",
              "      border-color: transparent;\n",
              "      border-bottom-color: var(--fill-color);\n",
              "    }\n",
              "  }\n",
              "</style>\n",
              "\n",
              "  <script>\n",
              "    async function quickchart(key) {\n",
              "      const quickchartButtonEl =\n",
              "        document.querySelector('#' + key + ' button');\n",
              "      quickchartButtonEl.disabled = true;  // To prevent multiple clicks.\n",
              "      quickchartButtonEl.classList.add('colab-df-spinner');\n",
              "      try {\n",
              "        const charts = await google.colab.kernel.invokeFunction(\n",
              "            'suggestCharts', [key], {});\n",
              "      } catch (error) {\n",
              "        console.error('Error during call to suggestCharts:', error);\n",
              "      }\n",
              "      quickchartButtonEl.classList.remove('colab-df-spinner');\n",
              "      quickchartButtonEl.classList.add('colab-df-quickchart-complete');\n",
              "    }\n",
              "    (() => {\n",
              "      let quickchartButtonEl =\n",
              "        document.querySelector('#df-b4fb46e9-0220-42b5-9881-f8b1d5bc41fb button');\n",
              "      quickchartButtonEl.style.display =\n",
              "        google.colab.kernel.accessAllowed ? 'block' : 'none';\n",
              "    })();\n",
              "  </script>\n",
              "</div>\n",
              "    </div>\n",
              "  </div>\n"
            ]
          },
          "metadata": {},
          "execution_count": 5
        }
      ]
    },
    {
      "cell_type": "code",
      "source": [
        "mulgul_engY = mulgul_eng['label']\n",
        "mulgul_engY"
      ],
      "metadata": {
        "id": "XrO11F-cWdj5",
        "colab": {
          "base_uri": "https://localhost:8080/"
        },
        "outputId": "60003cbf-dced-445e-f864-f0ab58826a4f"
      },
      "execution_count": 6,
      "outputs": [
        {
          "output_type": "execute_result",
          "data": {
            "text/plain": [
              "0        1\n",
              "1        1\n",
              "2        1\n",
              "3        0\n",
              "4        1\n",
              "        ..\n",
              "29995    0\n",
              "29996    1\n",
              "29997    0\n",
              "29998    1\n",
              "29999    0\n",
              "Name: label, Length: 30000, dtype: int64"
            ]
          },
          "metadata": {},
          "execution_count": 6
        }
      ]
    },
    {
      "cell_type": "code",
      "source": [
        "from sklearn.feature_extraction.text import TfidfVectorizer as mulgul_engcvt\n",
        "\n",
        "mulgul_eng_AY = mulgul_engcvt(analyzer='char', ngram_range= (1,1))\n",
        "mulgul_engX = mulgul_eng_AY.fit_transform(mulgul_eng['text'].values.astype('U')).toarray()"
      ],
      "metadata": {
        "id": "Bdntoczrr7kw"
      },
      "execution_count": 7,
      "outputs": []
    },
    {
      "cell_type": "code",
      "source": [
        "print(mulgul_engX)"
      ],
      "metadata": {
        "id": "i8MUk89wsYw4",
        "colab": {
          "base_uri": "https://localhost:8080/"
        },
        "outputId": "4a29e7e2-8ece-49a7-c31f-27832b03a96d"
      },
      "execution_count": 8,
      "outputs": [
        {
          "output_type": "stream",
          "name": "stdout",
          "text": [
            "[[0.57892077 0.2611502  0.0672667  ... 0.01424629 0.06197869 0.00488827]\n",
            " [0.39981329 0.39977331 0.         ... 0.         0.26913124 0.        ]\n",
            " [0.4510741  0.24806595 0.         ... 0.02669597 0.02277278 0.        ]\n",
            " ...\n",
            " [0.49078218 0.26848079 0.05059424 ... 0.00420957 0.04488672 0.        ]\n",
            " [0.52501742 0.28544968 0.04668153 ... 0.00699124 0.07222846 0.00799625]\n",
            " [0.51391005 0.24052959 0.0296293  ... 0.01294247 0.04416186 0.01973731]]\n"
          ]
        }
      ]
    },
    {
      "cell_type": "code",
      "source": [
        "mulgul_gerX = mulgul_ger.drop('Fake',axis=1)\n",
        "mulgul_gerX"
      ],
      "metadata": {
        "colab": {
          "base_uri": "https://localhost:8080/",
          "height": 423
        },
        "id": "Lxxk2xvyIziq",
        "outputId": "60eaf09f-8e33-40bc-9cd3-00d5b1b70ab1"
      },
      "execution_count": 9,
      "outputs": [
        {
          "output_type": "execute_result",
          "data": {
            "text/plain": [
              "                                                    Body\n",
              "0      sondierungsgespr che union spd endeten komprom...\n",
              "1      medizinisch offiziell best tigt milit r rztlic...\n",
              "2      z he verhandlungen freien demokraten k nnen zu...\n",
              "3      treibt immer sp t nacht herum joachim sauer be...\n",
              "4      parteivorstand dr ckt nochmal auge nachdem noa...\n",
              "...                                                  ...\n",
              "29995  krisengebeutelte europ ische automobilmarkt ta...\n",
              "29996  us kabelkonzern liberty global bieterrennen ka...\n",
              "29997  angesichts tiefen rezession euro zone fasst ez...\n",
              "29998  commerzbank fallen n chsten jahren voraussicht...\n",
              "29999  bundesbank chef jens weidmann weiche auslegung...\n",
              "\n",
              "[30000 rows x 1 columns]"
            ],
            "text/html": [
              "\n",
              "  <div id=\"df-a0f9a04b-baef-4968-8823-4b57579444b2\" class=\"colab-df-container\">\n",
              "    <div>\n",
              "<style scoped>\n",
              "    .dataframe tbody tr th:only-of-type {\n",
              "        vertical-align: middle;\n",
              "    }\n",
              "\n",
              "    .dataframe tbody tr th {\n",
              "        vertical-align: top;\n",
              "    }\n",
              "\n",
              "    .dataframe thead th {\n",
              "        text-align: right;\n",
              "    }\n",
              "</style>\n",
              "<table border=\"1\" class=\"dataframe\">\n",
              "  <thead>\n",
              "    <tr style=\"text-align: right;\">\n",
              "      <th></th>\n",
              "      <th>Body</th>\n",
              "    </tr>\n",
              "  </thead>\n",
              "  <tbody>\n",
              "    <tr>\n",
              "      <th>0</th>\n",
              "      <td>sondierungsgespr che union spd endeten komprom...</td>\n",
              "    </tr>\n",
              "    <tr>\n",
              "      <th>1</th>\n",
              "      <td>medizinisch offiziell best tigt milit r rztlic...</td>\n",
              "    </tr>\n",
              "    <tr>\n",
              "      <th>2</th>\n",
              "      <td>z he verhandlungen freien demokraten k nnen zu...</td>\n",
              "    </tr>\n",
              "    <tr>\n",
              "      <th>3</th>\n",
              "      <td>treibt immer sp t nacht herum joachim sauer be...</td>\n",
              "    </tr>\n",
              "    <tr>\n",
              "      <th>4</th>\n",
              "      <td>parteivorstand dr ckt nochmal auge nachdem noa...</td>\n",
              "    </tr>\n",
              "    <tr>\n",
              "      <th>...</th>\n",
              "      <td>...</td>\n",
              "    </tr>\n",
              "    <tr>\n",
              "      <th>29995</th>\n",
              "      <td>krisengebeutelte europ ische automobilmarkt ta...</td>\n",
              "    </tr>\n",
              "    <tr>\n",
              "      <th>29996</th>\n",
              "      <td>us kabelkonzern liberty global bieterrennen ka...</td>\n",
              "    </tr>\n",
              "    <tr>\n",
              "      <th>29997</th>\n",
              "      <td>angesichts tiefen rezession euro zone fasst ez...</td>\n",
              "    </tr>\n",
              "    <tr>\n",
              "      <th>29998</th>\n",
              "      <td>commerzbank fallen n chsten jahren voraussicht...</td>\n",
              "    </tr>\n",
              "    <tr>\n",
              "      <th>29999</th>\n",
              "      <td>bundesbank chef jens weidmann weiche auslegung...</td>\n",
              "    </tr>\n",
              "  </tbody>\n",
              "</table>\n",
              "<p>30000 rows × 1 columns</p>\n",
              "</div>\n",
              "    <div class=\"colab-df-buttons\">\n",
              "\n",
              "  <div class=\"colab-df-container\">\n",
              "    <button class=\"colab-df-convert\" onclick=\"convertToInteractive('df-a0f9a04b-baef-4968-8823-4b57579444b2')\"\n",
              "            title=\"Convert this dataframe to an interactive table.\"\n",
              "            style=\"display:none;\">\n",
              "\n",
              "  <svg xmlns=\"http://www.w3.org/2000/svg\" height=\"24px\" viewBox=\"0 -960 960 960\">\n",
              "    <path d=\"M120-120v-720h720v720H120Zm60-500h600v-160H180v160Zm220 220h160v-160H400v160Zm0 220h160v-160H400v160ZM180-400h160v-160H180v160Zm440 0h160v-160H620v160ZM180-180h160v-160H180v160Zm440 0h160v-160H620v160Z\"/>\n",
              "  </svg>\n",
              "    </button>\n",
              "\n",
              "  <style>\n",
              "    .colab-df-container {\n",
              "      display:flex;\n",
              "      gap: 12px;\n",
              "    }\n",
              "\n",
              "    .colab-df-convert {\n",
              "      background-color: #E8F0FE;\n",
              "      border: none;\n",
              "      border-radius: 50%;\n",
              "      cursor: pointer;\n",
              "      display: none;\n",
              "      fill: #1967D2;\n",
              "      height: 32px;\n",
              "      padding: 0 0 0 0;\n",
              "      width: 32px;\n",
              "    }\n",
              "\n",
              "    .colab-df-convert:hover {\n",
              "      background-color: #E2EBFA;\n",
              "      box-shadow: 0px 1px 2px rgba(60, 64, 67, 0.3), 0px 1px 3px 1px rgba(60, 64, 67, 0.15);\n",
              "      fill: #174EA6;\n",
              "    }\n",
              "\n",
              "    .colab-df-buttons div {\n",
              "      margin-bottom: 4px;\n",
              "    }\n",
              "\n",
              "    [theme=dark] .colab-df-convert {\n",
              "      background-color: #3B4455;\n",
              "      fill: #D2E3FC;\n",
              "    }\n",
              "\n",
              "    [theme=dark] .colab-df-convert:hover {\n",
              "      background-color: #434B5C;\n",
              "      box-shadow: 0px 1px 3px 1px rgba(0, 0, 0, 0.15);\n",
              "      filter: drop-shadow(0px 1px 2px rgba(0, 0, 0, 0.3));\n",
              "      fill: #FFFFFF;\n",
              "    }\n",
              "  </style>\n",
              "\n",
              "    <script>\n",
              "      const buttonEl =\n",
              "        document.querySelector('#df-a0f9a04b-baef-4968-8823-4b57579444b2 button.colab-df-convert');\n",
              "      buttonEl.style.display =\n",
              "        google.colab.kernel.accessAllowed ? 'block' : 'none';\n",
              "\n",
              "      async function convertToInteractive(key) {\n",
              "        const element = document.querySelector('#df-a0f9a04b-baef-4968-8823-4b57579444b2');\n",
              "        const dataTable =\n",
              "          await google.colab.kernel.invokeFunction('convertToInteractive',\n",
              "                                                    [key], {});\n",
              "        if (!dataTable) return;\n",
              "\n",
              "        const docLinkHtml = 'Like what you see? Visit the ' +\n",
              "          '<a target=\"_blank\" href=https://colab.research.google.com/notebooks/data_table.ipynb>data table notebook</a>'\n",
              "          + ' to learn more about interactive tables.';\n",
              "        element.innerHTML = '';\n",
              "        dataTable['output_type'] = 'display_data';\n",
              "        await google.colab.output.renderOutput(dataTable, element);\n",
              "        const docLink = document.createElement('div');\n",
              "        docLink.innerHTML = docLinkHtml;\n",
              "        element.appendChild(docLink);\n",
              "      }\n",
              "    </script>\n",
              "  </div>\n",
              "\n",
              "\n",
              "<div id=\"df-62cc7d9e-2905-4c8d-8977-b472c77c03cd\">\n",
              "  <button class=\"colab-df-quickchart\" onclick=\"quickchart('df-62cc7d9e-2905-4c8d-8977-b472c77c03cd')\"\n",
              "            title=\"Suggest charts\"\n",
              "            style=\"display:none;\">\n",
              "\n",
              "<svg xmlns=\"http://www.w3.org/2000/svg\" height=\"24px\"viewBox=\"0 0 24 24\"\n",
              "     width=\"24px\">\n",
              "    <g>\n",
              "        <path d=\"M19 3H5c-1.1 0-2 .9-2 2v14c0 1.1.9 2 2 2h14c1.1 0 2-.9 2-2V5c0-1.1-.9-2-2-2zM9 17H7v-7h2v7zm4 0h-2V7h2v10zm4 0h-2v-4h2v4z\"/>\n",
              "    </g>\n",
              "</svg>\n",
              "  </button>\n",
              "\n",
              "<style>\n",
              "  .colab-df-quickchart {\n",
              "      --bg-color: #E8F0FE;\n",
              "      --fill-color: #1967D2;\n",
              "      --hover-bg-color: #E2EBFA;\n",
              "      --hover-fill-color: #174EA6;\n",
              "      --disabled-fill-color: #AAA;\n",
              "      --disabled-bg-color: #DDD;\n",
              "  }\n",
              "\n",
              "  [theme=dark] .colab-df-quickchart {\n",
              "      --bg-color: #3B4455;\n",
              "      --fill-color: #D2E3FC;\n",
              "      --hover-bg-color: #434B5C;\n",
              "      --hover-fill-color: #FFFFFF;\n",
              "      --disabled-bg-color: #3B4455;\n",
              "      --disabled-fill-color: #666;\n",
              "  }\n",
              "\n",
              "  .colab-df-quickchart {\n",
              "    background-color: var(--bg-color);\n",
              "    border: none;\n",
              "    border-radius: 50%;\n",
              "    cursor: pointer;\n",
              "    display: none;\n",
              "    fill: var(--fill-color);\n",
              "    height: 32px;\n",
              "    padding: 0;\n",
              "    width: 32px;\n",
              "  }\n",
              "\n",
              "  .colab-df-quickchart:hover {\n",
              "    background-color: var(--hover-bg-color);\n",
              "    box-shadow: 0 1px 2px rgba(60, 64, 67, 0.3), 0 1px 3px 1px rgba(60, 64, 67, 0.15);\n",
              "    fill: var(--button-hover-fill-color);\n",
              "  }\n",
              "\n",
              "  .colab-df-quickchart-complete:disabled,\n",
              "  .colab-df-quickchart-complete:disabled:hover {\n",
              "    background-color: var(--disabled-bg-color);\n",
              "    fill: var(--disabled-fill-color);\n",
              "    box-shadow: none;\n",
              "  }\n",
              "\n",
              "  .colab-df-spinner {\n",
              "    border: 2px solid var(--fill-color);\n",
              "    border-color: transparent;\n",
              "    border-bottom-color: var(--fill-color);\n",
              "    animation:\n",
              "      spin 1s steps(1) infinite;\n",
              "  }\n",
              "\n",
              "  @keyframes spin {\n",
              "    0% {\n",
              "      border-color: transparent;\n",
              "      border-bottom-color: var(--fill-color);\n",
              "      border-left-color: var(--fill-color);\n",
              "    }\n",
              "    20% {\n",
              "      border-color: transparent;\n",
              "      border-left-color: var(--fill-color);\n",
              "      border-top-color: var(--fill-color);\n",
              "    }\n",
              "    30% {\n",
              "      border-color: transparent;\n",
              "      border-left-color: var(--fill-color);\n",
              "      border-top-color: var(--fill-color);\n",
              "      border-right-color: var(--fill-color);\n",
              "    }\n",
              "    40% {\n",
              "      border-color: transparent;\n",
              "      border-right-color: var(--fill-color);\n",
              "      border-top-color: var(--fill-color);\n",
              "    }\n",
              "    60% {\n",
              "      border-color: transparent;\n",
              "      border-right-color: var(--fill-color);\n",
              "    }\n",
              "    80% {\n",
              "      border-color: transparent;\n",
              "      border-right-color: var(--fill-color);\n",
              "      border-bottom-color: var(--fill-color);\n",
              "    }\n",
              "    90% {\n",
              "      border-color: transparent;\n",
              "      border-bottom-color: var(--fill-color);\n",
              "    }\n",
              "  }\n",
              "</style>\n",
              "\n",
              "  <script>\n",
              "    async function quickchart(key) {\n",
              "      const quickchartButtonEl =\n",
              "        document.querySelector('#' + key + ' button');\n",
              "      quickchartButtonEl.disabled = true;  // To prevent multiple clicks.\n",
              "      quickchartButtonEl.classList.add('colab-df-spinner');\n",
              "      try {\n",
              "        const charts = await google.colab.kernel.invokeFunction(\n",
              "            'suggestCharts', [key], {});\n",
              "      } catch (error) {\n",
              "        console.error('Error during call to suggestCharts:', error);\n",
              "      }\n",
              "      quickchartButtonEl.classList.remove('colab-df-spinner');\n",
              "      quickchartButtonEl.classList.add('colab-df-quickchart-complete');\n",
              "    }\n",
              "    (() => {\n",
              "      let quickchartButtonEl =\n",
              "        document.querySelector('#df-62cc7d9e-2905-4c8d-8977-b472c77c03cd button');\n",
              "      quickchartButtonEl.style.display =\n",
              "        google.colab.kernel.accessAllowed ? 'block' : 'none';\n",
              "    })();\n",
              "  </script>\n",
              "</div>\n",
              "    </div>\n",
              "  </div>\n"
            ]
          },
          "metadata": {},
          "execution_count": 9
        }
      ]
    },
    {
      "cell_type": "code",
      "source": [
        "mulgul_gerY = mulgul_ger['Fake']\n",
        "mulgul_gerY"
      ],
      "metadata": {
        "colab": {
          "base_uri": "https://localhost:8080/"
        },
        "id": "A4w2bpRKJjrc",
        "outputId": "579a52ae-129d-415a-c9b7-522b3ca81fc8"
      },
      "execution_count": 10,
      "outputs": [
        {
          "output_type": "execute_result",
          "data": {
            "text/plain": [
              "0        1\n",
              "1        1\n",
              "2        1\n",
              "3        1\n",
              "4        1\n",
              "        ..\n",
              "29995    0\n",
              "29996    0\n",
              "29997    0\n",
              "29998    0\n",
              "29999    0\n",
              "Name: Fake, Length: 30000, dtype: int64"
            ]
          },
          "metadata": {},
          "execution_count": 10
        }
      ]
    },
    {
      "cell_type": "code",
      "source": [
        "mulgul_ger_AY = mulgul_engcvt(analyzer='char', ngram_range= (1,1))\n",
        "mulgul_gerX = mulgul_ger_AY.fit_transform(mulgul_ger['Body'].values.astype('U')).toarray()"
      ],
      "metadata": {
        "id": "r1jHWXFNKBUJ"
      },
      "execution_count": 11,
      "outputs": []
    },
    {
      "cell_type": "code",
      "source": [
        "print(mulgul_gerX)"
      ],
      "metadata": {
        "colab": {
          "base_uri": "https://localhost:8080/"
        },
        "id": "-Q6ENXYIKtfX",
        "outputId": "392f82cd-3014-4b61-8bf4-553410231fea"
      },
      "execution_count": 12,
      "outputs": [
        {
          "output_type": "stream",
          "name": "stdout",
          "text": [
            "[[0.43000932 0.20495771 0.04822856 ... 0.00622332 0.01132334 0.03620037]\n",
            " [0.51844098 0.16040163 0.05442561 ... 0.0133067  0.00807052 0.03440158]\n",
            " [0.53275549 0.1717627  0.03202569 ... 0.         0.         0.07284391]\n",
            " ...\n",
            " [0.47660857 0.19210243 0.07052332 ... 0.0037656  0.         0.09005003]\n",
            " [0.44799407 0.2315475  0.14598533 ... 0.         0.01418283 0.06045607]\n",
            " [0.48860776 0.19906242 0.06635856 ... 0.         0.         0.08452394]]\n"
          ]
        }
      ]
    },
    {
      "cell_type": "code",
      "source": [
        "from imblearn.over_sampling import RandomOverSampler as mulgul_gerrmo\n",
        "from collections import Counter as mulgul_gerctr\n",
        "print('In starting mulgul_ger datashape %s' % mulgul_gerctr(mulgul_gerY))\n",
        "Mdd= mulgul_gerrmo()\n",
        "mulgul_gerX, mulgul_gerY = Mdd.fit_resample(mulgul_gerX, mulgul_gerY)\n",
        "print('After applying random oversampling mulgul_ger datashape %s' % mulgul_gerctr(mulgul_gerY))"
      ],
      "metadata": {
        "colab": {
          "base_uri": "https://localhost:8080/"
        },
        "id": "YnI19izCuNK3",
        "outputId": "a06479ca-4774-4726-a0cf-bb8a5b6a9ffe"
      },
      "execution_count": 13,
      "outputs": [
        {
          "output_type": "stream",
          "name": "stdout",
          "text": [
            "In starting mulgul_ger datashape Counter({0: 27960, 1: 2040})\n",
            "After applying random oversampling mulgul_ger datashape Counter({1: 27960, 0: 27960})\n"
          ]
        }
      ]
    },
    {
      "cell_type": "code",
      "source": [
        "from sklearn.model_selection import train_test_split as mulgul_engnst\n",
        "from sklearn.metrics import classification_report as mulgul_engcla\n",
        "from sklearn.metrics import confusion_matrix as mulgul_engcon\n",
        "from sklearn.metrics import ConfusionMatrixDisplay as mulgul_engcma\n",
        "import time as mulgul_engtim\n",
        "from sklearn.model_selection import GridSearchCV as mulgul_enggri"
      ],
      "metadata": {
        "id": "n7g25HI7W5TT"
      },
      "execution_count": 14,
      "outputs": []
    },
    {
      "cell_type": "code",
      "source": [
        "eng_rast= 42\n",
        "eng_tze=0.5\n",
        "# {{{test,validation=50%,50%}}}\n",
        "mulgul_engXL, mulgul_engXE, mulgul_engYL, mulgul_engYE = mulgul_engnst(mulgul_engX, mulgul_engY, test_size= eng_tze, random_state= eng_rast)"
      ],
      "metadata": {
        "id": "AkmYQPTRWz8M"
      },
      "execution_count": 15,
      "outputs": []
    },
    {
      "cell_type": "code",
      "source": [
        "print(mulgul_engXL.shape)\n",
        "print(mulgul_engXE.shape)"
      ],
      "metadata": {
        "colab": {
          "base_uri": "https://localhost:8080/"
        },
        "id": "Hh9jHYA1YqVe",
        "outputId": "86f4eaee-7980-4ad3-a1eb-78c42a3ce0e7"
      },
      "execution_count": 16,
      "outputs": [
        {
          "output_type": "stream",
          "name": "stdout",
          "text": [
            "(15000, 27)\n",
            "(15000, 27)\n"
          ]
        }
      ]
    },
    {
      "cell_type": "code",
      "source": [
        "import warnings as mulgul_engww\n",
        "mulgul_engww.filterwarnings(\"ignore\")"
      ],
      "metadata": {
        "id": "IwHnQsBdbzVN"
      },
      "execution_count": 17,
      "outputs": []
    },
    {
      "cell_type": "markdown",
      "source": [
        "#### ML algorithm"
      ],
      "metadata": {
        "id": "btdyUujWY6Pp"
      }
    },
    {
      "cell_type": "markdown",
      "source": [
        "#### svm"
      ],
      "metadata": {
        "id": "n_ugM1dXZGmI"
      }
    },
    {
      "cell_type": "code",
      "source": [
        "from sklearn.svm import SVC as mulgul_engsvet\n",
        "\n",
        "mulgul_Pa = {'kernel': ['sigmoid','linear','poly','rbf'],\n",
        "            'gamma': ['scale','auto'],\n",
        "            'C': [1.0,2.0,3.0,4.0,5.0]}\n",
        "\n",
        "mulgul_Pa_Vbs = mulgul_engsvet(random_state= eng_rast)\n",
        "mulgul_Pa_Vbs = mulgul_enggri(mulgul_Pa_Vbs, mulgul_Pa,\n",
        "                         cv=2,\n",
        "                         verbose=1)\n",
        "mulgul_Pa_Vbs.fit(mulgul_gerX[2000:2100],mulgul_gerY[2000:2100])\n",
        "\n",
        "print(mulgul_Pa_Vbs.best_params_)\n",
        "print(\"Best Score-mulgul_ger : \", mulgul_Pa_Vbs.best_score_)"
      ],
      "metadata": {
        "colab": {
          "base_uri": "https://localhost:8080/"
        },
        "id": "MuVA3t2kY9HE",
        "outputId": "0ac61201-2d6c-448f-ab21-e9167f04a3f5"
      },
      "execution_count": 18,
      "outputs": [
        {
          "output_type": "stream",
          "name": "stdout",
          "text": [
            "Fitting 2 folds for each of 40 candidates, totalling 80 fits\n",
            "{'C': 3.0, 'gamma': 'scale', 'kernel': 'poly'}\n",
            "Best Score-mulgul_ger :  0.79\n"
          ]
        }
      ]
    },
    {
      "cell_type": "code",
      "source": [
        "mul_pd1 = mulgul_engtim.time()\n",
        "mulgul_Mll1 = mulgul_engsvet(**mulgul_Pa_Vbs.best_params_)\n",
        "mulgul_Mll1.fit(mulgul_gerX[2000:2500],mulgul_gerY[2000:2500])\n",
        "mul_pd2 = mulgul_engtim.time()\n",
        "print(\"\\n training duration :\", mul_pd2-mul_pd1,\"\\n\")\n",
        "\n",
        "mul_pd1 = mulgul_engtim.time()\n",
        "\n",
        "mulgul_Pcet = mulgul_Mll1.predict(mulgul_engXL)\n",
        "print(mulgul_engcla(mulgul_engYL,mulgul_Pcet))\n",
        "mul_pl = mulgul_engcon(mulgul_engYL,mulgul_Pcet)\n",
        "mul_wd = mulgul_engcma(confusion_matrix = mul_pl, display_labels = [0, 1])\n",
        "mul_wd.plot()\n",
        "\n",
        "mul_pd2 = mulgul_engtim.time()\n",
        "print(\"\\n validation duration :\", mul_pd2-mul_pd1,\"\\n\")"
      ],
      "metadata": {
        "colab": {
          "base_uri": "https://localhost:8080/",
          "height": 723
        },
        "id": "SaXOgsLYNtae",
        "outputId": "bb8977f9-36f2-41b1-fdae-092be4713634"
      },
      "execution_count": 19,
      "outputs": [
        {
          "output_type": "stream",
          "name": "stdout",
          "text": [
            "\n",
            " training duration : 0.01062154769897461 \n",
            "\n",
            "              precision    recall  f1-score   support\n",
            "\n",
            "           0       0.52      1.00      0.68      7768\n",
            "           1       1.00      0.01      0.01      7232\n",
            "\n",
            "    accuracy                           0.52     15000\n",
            "   macro avg       0.76      0.50      0.35     15000\n",
            "weighted avg       0.75      0.52      0.36     15000\n",
            "\n",
            "\n",
            " validation duration : 0.1525282859802246 \n",
            "\n"
          ]
        },
        {
          "output_type": "display_data",
          "data": {
            "text/plain": [
              "<Figure size 640x480 with 2 Axes>"
            ],
            "image/png": "[encoded data removed]"
          },
          "metadata": {}
        }
      ]
    },
    {
      "cell_type": "code",
      "source": [
        "mul_pd1 = mulgul_engtim.time()\n",
        "\n",
        "mulgul_Pcet = mulgul_Mll1.predict(mulgul_engXE)\n",
        "print(mulgul_engcla(mulgul_engYE,mulgul_Pcet))\n",
        "mul_pl = mulgul_engcon(mulgul_engYE,mulgul_Pcet)\n",
        "mul_wd = mulgul_engcma(confusion_matrix = mul_pl, display_labels = [0, 1])\n",
        "mul_wd.plot()\n",
        "\n",
        "mul_pd2 = mulgul_engtim.time()\n",
        "print(\"\\n testing duration :\", mul_pd2-mul_pd1,\"\\n\")"
      ],
      "metadata": {
        "colab": {
          "base_uri": "https://localhost:8080/",
          "height": 668
        },
        "id": "ZARHoDGVSD_z",
        "outputId": "f3fe9c3f-7a37-4eca-89ed-ff9fd0cccc61"
      },
      "execution_count": 20,
      "outputs": [
        {
          "output_type": "stream",
          "name": "stdout",
          "text": [
            "              precision    recall  f1-score   support\n",
            "\n",
            "           0       0.51      1.00      0.68      7664\n",
            "           1       0.97      0.01      0.02      7336\n",
            "\n",
            "    accuracy                           0.52     15000\n",
            "   macro avg       0.74      0.50      0.35     15000\n",
            "weighted avg       0.74      0.52      0.36     15000\n",
            "\n",
            "\n",
            " testing duration : 0.13841676712036133 \n",
            "\n"
          ]
        },
        {
          "output_type": "display_data",
          "data": {
            "text/plain": [
              "<Figure size 640x480 with 2 Axes>"
            ],
            "image/png": "[encoded data removed]"
          },
          "metadata": {}
        }
      ]
    },
    {
      "cell_type": "markdown",
      "source": [
        "#### Naive bayes"
      ],
      "metadata": {
        "id": "V5ujET_1VFw0"
      }
    },
    {
      "cell_type": "code",
      "source": [
        "from sklearn.naive_bayes import GaussianNB as mulgulnvbs\n",
        "\n",
        "mulgul_Pa = {'var_smoothing': [1e-9,1e-7,1e-5,1e-3,1e-1]}\n",
        "\n",
        "mulgul_Pa_Vbs = mulgulnvbs()\n",
        "mulgul_Pa_Vbs = mulgul_enggri(mulgul_Pa_Vbs, mulgul_Pa,\n",
        "                         cv=2,\n",
        "                         verbose=1)\n",
        "mulgul_Pa_Vbs.fit(mulgul_gerX[:3000],mulgul_gerY[:3000])\n",
        "\n",
        "print(mulgul_Pa_Vbs.best_params_)\n",
        "print(\"Best Score-mulgul_ger : \", mulgul_Pa_Vbs.best_score_)"
      ],
      "metadata": {
        "colab": {
          "base_uri": "https://localhost:8080/"
        },
        "id": "v5xC1svfVGFv",
        "outputId": "00da0d3c-4842-4887-a1a9-25a2dcc79b37"
      },
      "execution_count": 21,
      "outputs": [
        {
          "output_type": "stream",
          "name": "stdout",
          "text": [
            "Fitting 2 folds for each of 5 candidates, totalling 10 fits\n",
            "{'var_smoothing': 0.1}\n",
            "Best Score-mulgul_ger :  0.759\n"
          ]
        }
      ]
    },
    {
      "cell_type": "code",
      "source": [
        "mul_pd1 = mulgul_engtim.time()\n",
        "mulgul_Mll2 = mulgulnvbs(**mulgul_Pa_Vbs.best_params_)\n",
        "mulgul_Mll2.fit(mulgul_gerX,mulgul_gerY)\n",
        "mul_pd2 = mulgul_engtim.time()\n",
        "print(\"\\n training duration :\", mul_pd2-mul_pd1,\"\\n\")\n",
        "\n",
        "mul_pd1 = mulgul_engtim.time()\n",
        "\n",
        "mulgul_Pcet = mulgul_Mll2.predict(mulgul_engXL)\n",
        "print(mulgul_engcla(mulgul_engYL,mulgul_Pcet))\n",
        "mul_pl = mulgul_engcon(mulgul_engYL,mulgul_Pcet)\n",
        "mul_wd = mulgul_engcma(confusion_matrix = mul_pl, display_labels = [0, 1])\n",
        "mul_wd.plot()\n",
        "\n",
        "mul_pd2 = mulgul_engtim.time()\n",
        "print(\"\\n validation duration :\", mul_pd2-mul_pd1,\"\\n\")"
      ],
      "metadata": {
        "colab": {
          "base_uri": "https://localhost:8080/",
          "height": 723
        },
        "id": "RtKGbeKzVGHE",
        "outputId": "38f86987-ec03-4798-ad77-c5eefad01f36"
      },
      "execution_count": 22,
      "outputs": [
        {
          "output_type": "stream",
          "name": "stdout",
          "text": [
            "\n",
            " training duration : 0.0316774845123291 \n",
            "\n",
            "              precision    recall  f1-score   support\n",
            "\n",
            "           0       0.80      0.00      0.00      7768\n",
            "           1       0.48      1.00      0.65      7232\n",
            "\n",
            "    accuracy                           0.48     15000\n",
            "   macro avg       0.64      0.50      0.33     15000\n",
            "weighted avg       0.65      0.48      0.31     15000\n",
            "\n",
            "\n",
            " validation duration : 0.08418893814086914 \n",
            "\n"
          ]
        },
        {
          "output_type": "display_data",
          "data": {
            "text/plain": [
              "<Figure size 640x480 with 2 Axes>"
            ],
            "image/png": "[encoded data removed]"
          },
          "metadata": {}
        }
      ]
    },
    {
      "cell_type": "code",
      "source": [
        "mul_pd1 = mulgul_engtim.time()\n",
        "\n",
        "mulgul_Pcet = mulgul_Mll2.predict(mulgul_engXE)\n",
        "print(mulgul_engcla(mulgul_engYE,mulgul_Pcet))\n",
        "mul_pl = mulgul_engcon(mulgul_engYE,mulgul_Pcet)\n",
        "mul_wd = mulgul_engcma(confusion_matrix = mul_pl, display_labels = [0, 1])\n",
        "mul_wd.plot()\n",
        "\n",
        "mul_pd2 = mulgul_engtim.time()\n",
        "print(\"\\n testing duration :\", mul_pd2-mul_pd1,\"\\n\")"
      ],
      "metadata": {
        "colab": {
          "base_uri": "https://localhost:8080/",
          "height": 668
        },
        "id": "dYWTguUtVGM8",
        "outputId": "fa01ecd2-d1cd-4b5a-97ae-81c863f825a4"
      },
      "execution_count": 23,
      "outputs": [
        {
          "output_type": "stream",
          "name": "stdout",
          "text": [
            "              precision    recall  f1-score   support\n",
            "\n",
            "           0       0.62      0.00      0.00      7664\n",
            "           1       0.49      1.00      0.66      7336\n",
            "\n",
            "    accuracy                           0.49     15000\n",
            "   macro avg       0.56      0.50      0.33     15000\n",
            "weighted avg       0.56      0.49      0.32     15000\n",
            "\n",
            "\n",
            " testing duration : 0.12186026573181152 \n",
            "\n"
          ]
        },
        {
          "output_type": "display_data",
          "data": {
            "text/plain": [
              "<Figure size 640x480 with 2 Axes>"
            ],
            "image/png": "[encoded data removed]"
          },
          "metadata": {}
        }
      ]
    },
    {
      "cell_type": "markdown",
      "source": [
        "#### Decision tree"
      ],
      "metadata": {
        "id": "YPahW8C4XZD_"
      }
    },
    {
      "cell_type": "code",
      "source": [
        "from sklearn.tree import DecisionTreeClassifier as mulguldesi\n",
        "\n",
        "mulgul_Pa = {'max_features': ['sqrt','auto','log2'],\n",
        "            'criterion': ['entropy','gini','log_loss'],\n",
        "            'splitter': ['random','best']}\n",
        "\n",
        "mulgul_Pa_Vbs = mulguldesi(random_state= eng_rast)\n",
        "mulgul_Pa_Vbs = mulgul_enggri(mulgul_Pa_Vbs, mulgul_Pa,\n",
        "                         cv=2,\n",
        "                         verbose=1)\n",
        "mulgul_Pa_Vbs.fit(mulgul_gerX[:3000],mulgul_gerY[:3000])\n",
        "\n",
        "print(mulgul_Pa_Vbs.best_params_)\n",
        "print(\"Best Score-mulgul_ger : \", mulgul_Pa_Vbs.best_score_)"
      ],
      "metadata": {
        "colab": {
          "base_uri": "https://localhost:8080/"
        },
        "id": "pYUhxi45XZYk",
        "outputId": "01780f4b-0cd9-4fc8-b192-697ba0653bdd"
      },
      "execution_count": 24,
      "outputs": [
        {
          "output_type": "stream",
          "name": "stdout",
          "text": [
            "Fitting 2 folds for each of 18 candidates, totalling 36 fits\n",
            "{'criterion': 'gini', 'max_features': 'sqrt', 'splitter': 'best'}\n",
            "Best Score-mulgul_ger :  0.692\n"
          ]
        }
      ]
    },
    {
      "cell_type": "code",
      "source": [
        "mul_pd1 = mulgul_engtim.time()\n",
        "mulgul_Mll3 = mulguldesi(**mulgul_Pa_Vbs.best_params_)\n",
        "mulgul_Mll3.fit(mulgul_gerX,mulgul_gerY)\n",
        "mul_pd2 = mulgul_engtim.time()\n",
        "print(\"\\n training duration :\", mul_pd2-mul_pd1,\"\\n\")\n",
        "\n",
        "mul_pd1 = mulgul_engtim.time()\n",
        "\n",
        "mulgul_Pcet = mulgul_Mll3.predict(mulgul_engXL)\n",
        "print(mulgul_engcla(mulgul_engYL,mulgul_Pcet))\n",
        "mul_pl = mulgul_engcon(mulgul_engYL,mulgul_Pcet)\n",
        "mul_wd = mulgul_engcma(confusion_matrix = mul_pl, display_labels = [0, 1])\n",
        "mul_wd.plot()\n",
        "\n",
        "mul_pd2 = mulgul_engtim.time()\n",
        "print(\"\\n validation duration :\", mul_pd2-mul_pd1,\"\\n\")"
      ],
      "metadata": {
        "colab": {
          "base_uri": "https://localhost:8080/",
          "height": 723
        },
        "id": "cM2RIAXSXZZ-",
        "outputId": "4ae85369-81a2-46b5-d901-618bd90e32fa"
      },
      "execution_count": 25,
      "outputs": [
        {
          "output_type": "stream",
          "name": "stdout",
          "text": [
            "\n",
            " training duration : 0.3911552429199219 \n",
            "\n",
            "              precision    recall  f1-score   support\n",
            "\n",
            "           0       0.55      0.69      0.61      7768\n",
            "           1       0.54      0.39      0.45      7232\n",
            "\n",
            "    accuracy                           0.55     15000\n",
            "   macro avg       0.55      0.54      0.53     15000\n",
            "weighted avg       0.55      0.55      0.54     15000\n",
            "\n",
            "\n",
            " validation duration : 0.08051705360412598 \n",
            "\n"
          ]
        },
        {
          "output_type": "display_data",
          "data": {
            "text/plain": [
              "<Figure size 640x480 with 2 Axes>"
            ],
            "image/png": "[encoded data removed]"
          },
          "metadata": {}
        }
      ]
    },
    {
      "cell_type": "code",
      "source": [
        "mul_pd1 = mulgul_engtim.time()\n",
        "\n",
        "mulgul_Pcet = mulgul_Mll3.predict(mulgul_engXE)\n",
        "print(mulgul_engcla(mulgul_engYE,mulgul_Pcet))\n",
        "mul_pl = mulgul_engcon(mulgul_engYE,mulgul_Pcet)\n",
        "mul_wd = mulgul_engcma(confusion_matrix = mul_pl, display_labels = [0, 1])\n",
        "mul_wd.plot()\n",
        "\n",
        "mul_pd2 = mulgul_engtim.time()\n",
        "print(\"\\n testing duration :\", mul_pd2-mul_pd1,\"\\n\")"
      ],
      "metadata": {
        "colab": {
          "base_uri": "https://localhost:8080/",
          "height": 668
        },
        "id": "NPCLTlqwXZgh",
        "outputId": "8e4fa44f-40e4-4624-bdf5-2d478da3c5ee"
      },
      "execution_count": 26,
      "outputs": [
        {
          "output_type": "stream",
          "name": "stdout",
          "text": [
            "              precision    recall  f1-score   support\n",
            "\n",
            "           0       0.55      0.70      0.61      7664\n",
            "           1       0.55      0.39      0.46      7336\n",
            "\n",
            "    accuracy                           0.55     15000\n",
            "   macro avg       0.55      0.54      0.54     15000\n",
            "weighted avg       0.55      0.55      0.54     15000\n",
            "\n",
            "\n",
            " testing duration : 0.08423495292663574 \n",
            "\n"
          ]
        },
        {
          "output_type": "display_data",
          "data": {
            "text/plain": [
              "<Figure size 640x480 with 2 Axes>"
            ],
            "image/png": "[encoded data removed]"
          },
          "metadata": {}
        }
      ]
    },
    {
      "cell_type": "markdown",
      "source": [
        "#### Random forest"
      ],
      "metadata": {
        "id": "YRvKqAe1YpyM"
      }
    },
    {
      "cell_type": "code",
      "source": [
        "from sklearn.ensemble import RandomForestClassifier as mulgulromf\n",
        "\n",
        "mulgul_Pa = {'criterion': ['log_loss','entropy','gini'],\n",
        "            'n_estimators': [100,200,300,400,500],\n",
        "            'max_features': ['log2','sqrt',None]}\n",
        "\n",
        "mulgul_Pa_Vbs = mulgulromf(random_state= eng_rast)\n",
        "mulgul_Pa_Vbs = mulgul_enggri(mulgul_Pa_Vbs, mulgul_Pa,\n",
        "                         cv=2,\n",
        "                         verbose=1)\n",
        "mulgul_Pa_Vbs.fit(mulgul_gerX[2000:2100],mulgul_gerY[2000:2100])\n",
        "\n",
        "print(mulgul_Pa_Vbs.best_params_)\n",
        "print(\"Best Score-mulgul_ger : \", mulgul_Pa_Vbs.best_score_)"
      ],
      "metadata": {
        "colab": {
          "base_uri": "https://localhost:8080/"
        },
        "id": "zueeI38VYqEN",
        "outputId": "a4ebf042-83c2-4c69-e5c5-848bcc0f5745"
      },
      "execution_count": 27,
      "outputs": [
        {
          "output_type": "stream",
          "name": "stdout",
          "text": [
            "Fitting 2 folds for each of 45 candidates, totalling 90 fits\n",
            "{'criterion': 'gini', 'max_features': 'sqrt', 'n_estimators': 200}\n",
            "Best Score-mulgul_ger :  0.76\n"
          ]
        }
      ]
    },
    {
      "cell_type": "code",
      "source": [
        "mul_pd1 = mulgul_engtim.time()\n",
        "mulgul_Mll4 = mulgulromf(**mulgul_Pa_Vbs.best_params_)\n",
        "mulgul_Mll4.fit(mulgul_gerX,mulgul_gerY)\n",
        "mul_pd2 = mulgul_engtim.time()\n",
        "print(\"\\n training duration :\", mul_pd2-mul_pd1,\"\\n\")\n",
        "\n",
        "mul_pd1 = mulgul_engtim.time()\n",
        "\n",
        "mulgul_Pcet = mulgul_Mll4.predict(mulgul_engXL)\n",
        "print(mulgul_engcla(mulgul_engYL,mulgul_Pcet))\n",
        "mul_pl = mulgul_engcon(mulgul_engYL,mulgul_Pcet)\n",
        "mul_wd = mulgul_engcma(confusion_matrix = mul_pl, display_labels = [0, 1])\n",
        "mul_wd.plot()\n",
        "\n",
        "mul_pd2 = mulgul_engtim.time()\n",
        "print(\"\\n validation duration :\", mul_pd2-mul_pd1,\"\\n\")"
      ],
      "metadata": {
        "colab": {
          "base_uri": "https://localhost:8080/",
          "height": 723
        },
        "id": "-qP_sUoMYqFq",
        "outputId": "c53a567c-c01a-421a-f53e-13083a11210c"
      },
      "execution_count": 28,
      "outputs": [
        {
          "output_type": "stream",
          "name": "stdout",
          "text": [
            "\n",
            " training duration : 54.50257134437561 \n",
            "\n",
            "              precision    recall  f1-score   support\n",
            "\n",
            "           0       0.52      1.00      0.68      7768\n",
            "           1       0.69      0.00      0.01      7232\n",
            "\n",
            "    accuracy                           0.52     15000\n",
            "   macro avg       0.60      0.50      0.35     15000\n",
            "weighted avg       0.60      0.52      0.36     15000\n",
            "\n",
            "\n",
            " validation duration : 0.4334726333618164 \n",
            "\n"
          ]
        },
        {
          "output_type": "display_data",
          "data": {
            "text/plain": [
              "<Figure size 640x480 with 2 Axes>"
            ],
            "image/png": "[encoded data removed]"
          },
          "metadata": {}
        }
      ]
    },
    {
      "cell_type": "code",
      "source": [
        "mul_pd1 = mulgul_engtim.time()\n",
        "\n",
        "mulgul_Pcet = mulgul_Mll4.predict(mulgul_engXE)\n",
        "print(mulgul_engcla(mulgul_engYE,mulgul_Pcet))\n",
        "mul_pl = mulgul_engcon(mulgul_engYE,mulgul_Pcet)\n",
        "mul_wd = mulgul_engcma(confusion_matrix = mul_pl, display_labels = [0, 1])\n",
        "mul_wd.plot()\n",
        "\n",
        "mul_pd2 = mulgul_engtim.time()\n",
        "print(\"\\n testing duration :\", mul_pd2-mul_pd1,\"\\n\")"
      ],
      "metadata": {
        "colab": {
          "base_uri": "https://localhost:8080/",
          "height": 668
        },
        "id": "RuttynV4YqLp",
        "outputId": "762e2889-19e2-42f9-bfa8-8d623cf7c96b"
      },
      "execution_count": 29,
      "outputs": [
        {
          "output_type": "stream",
          "name": "stdout",
          "text": [
            "              precision    recall  f1-score   support\n",
            "\n",
            "           0       0.51      1.00      0.68      7664\n",
            "           1       0.74      0.01      0.01      7336\n",
            "\n",
            "    accuracy                           0.51     15000\n",
            "   macro avg       0.62      0.50      0.34     15000\n",
            "weighted avg       0.62      0.51      0.35     15000\n",
            "\n",
            "\n",
            " testing duration : 0.5531253814697266 \n",
            "\n"
          ]
        },
        {
          "output_type": "display_data",
          "data": {
            "text/plain": [
              "<Figure size 640x480 with 2 Axes>"
            ],
            "image/png": "[encoded data removed]"
          },
          "metadata": {}
        }
      ]
    },
    {
      "cell_type": "markdown",
      "source": [
        "#### KNN"
      ],
      "metadata": {
        "id": "68X7zziCZ95F"
      }
    },
    {
      "cell_type": "code",
      "source": [
        "from sklearn.neighbors import KNeighborsClassifier as mulgulkgh\n",
        "\n",
        "mulgul_Pa = {'weights': ['distance','uniform'],\n",
        "            'n_neighbors': [5,6,7,8,9],\n",
        "            'algorithm': ['ball_tree','kd_tree','auto','brute']}\n",
        "\n",
        "mulgul_Pa_Vbs = mulgulkgh()\n",
        "mulgul_Pa_Vbs = mulgul_enggri(mulgul_Pa_Vbs, mulgul_Pa,\n",
        "                         cv=2,\n",
        "                         verbose=1)\n",
        "mulgul_Pa_Vbs.fit(mulgul_gerX[:3000],mulgul_gerY[:3000])\n",
        "\n",
        "print(mulgul_Pa_Vbs.best_params_)\n",
        "print(\"Best Score-mulgul_ger : \", mulgul_Pa_Vbs.best_score_)"
      ],
      "metadata": {
        "colab": {
          "base_uri": "https://localhost:8080/"
        },
        "id": "MMCIjWT2Z-H5",
        "outputId": "69ac9baa-05b0-424c-ff83-ef01e1af93b4"
      },
      "execution_count": 30,
      "outputs": [
        {
          "output_type": "stream",
          "name": "stdout",
          "text": [
            "Fitting 2 folds for each of 40 candidates, totalling 80 fits\n",
            "{'algorithm': 'ball_tree', 'n_neighbors': 9, 'weights': 'distance'}\n",
            "Best Score-mulgul_ger :  0.7723333333333333\n"
          ]
        }
      ]
    },
    {
      "cell_type": "code",
      "source": [
        "mul_pd1 = mulgul_engtim.time()\n",
        "mulgul_Mll5 = mulgulkgh(**mulgul_Pa_Vbs.best_params_)\n",
        "mulgul_Mll5.fit(mulgul_gerX,mulgul_gerY)\n",
        "mul_pd2 = mulgul_engtim.time()\n",
        "print(\"\\n training duration :\", mul_pd2-mul_pd1,\"\\n\")\n",
        "\n",
        "mul_pd1 = mulgul_engtim.time()\n",
        "\n",
        "mulgul_Pcet = mulgul_Mll5.predict(mulgul_engXL)\n",
        "print(mulgul_engcla(mulgul_engYL,mulgul_Pcet))\n",
        "mul_pl = mulgul_engcon(mulgul_engYL,mulgul_Pcet)\n",
        "mul_wd = mulgul_engcma(confusion_matrix = mul_pl, display_labels = [0, 1])\n",
        "mul_wd.plot()\n",
        "\n",
        "mul_pd2 = mulgul_engtim.time()\n",
        "print(\"\\n validation duration :\", mul_pd2-mul_pd1,\"\\n\")"
      ],
      "metadata": {
        "colab": {
          "base_uri": "https://localhost:8080/",
          "height": 723
        },
        "id": "YtIZ_z5IZ-Ja",
        "outputId": "4275e385-454b-4216-89de-2f5646feacb3"
      },
      "execution_count": 31,
      "outputs": [
        {
          "output_type": "stream",
          "name": "stdout",
          "text": [
            "\n",
            " training duration : 0.2113194465637207 \n",
            "\n",
            "              precision    recall  f1-score   support\n",
            "\n",
            "           0       0.64      0.17      0.27      7768\n",
            "           1       0.50      0.90      0.64      7232\n",
            "\n",
            "    accuracy                           0.52     15000\n",
            "   macro avg       0.57      0.53      0.46     15000\n",
            "weighted avg       0.57      0.52      0.45     15000\n",
            "\n",
            "\n",
            " validation duration : 87.24151825904846 \n",
            "\n"
          ]
        },
        {
          "output_type": "display_data",
          "data": {
            "text/plain": [
              "<Figure size 640x480 with 2 Axes>"
            ],
            "image/png": "[encoded data removed]"
          },
          "metadata": {}
        }
      ]
    },
    {
      "cell_type": "code",
      "source": [
        "mul_pd1 = mulgul_engtim.time()\n",
        "\n",
        "mulgul_Pcet = mulgul_Mll5.predict(mulgul_engXE)\n",
        "print(mulgul_engcla(mulgul_engYE,mulgul_Pcet))\n",
        "mul_pl = mulgul_engcon(mulgul_engYE,mulgul_Pcet)\n",
        "mul_wd = mulgul_engcma(confusion_matrix = mul_pl, display_labels = [0, 1])\n",
        "mul_wd.plot()\n",
        "\n",
        "mul_pd2 = mulgul_engtim.time()\n",
        "print(\"\\n testing duration :\", mul_pd2-mul_pd1,\"\\n\")"
      ],
      "metadata": {
        "colab": {
          "base_uri": "https://localhost:8080/",
          "height": 668
        },
        "id": "huMhnfADZ-Ou",
        "outputId": "7cf06369-e1d8-4e1e-9a5a-b381a9c27d49"
      },
      "execution_count": 32,
      "outputs": [
        {
          "output_type": "stream",
          "name": "stdout",
          "text": [
            "              precision    recall  f1-score   support\n",
            "\n",
            "           0       0.64      0.17      0.27      7664\n",
            "           1       0.51      0.90      0.65      7336\n",
            "\n",
            "    accuracy                           0.53     15000\n",
            "   macro avg       0.58      0.54      0.46     15000\n",
            "weighted avg       0.58      0.53      0.46     15000\n",
            "\n",
            "\n",
            " testing duration : 84.25165867805481 \n",
            "\n"
          ]
        },
        {
          "output_type": "display_data",
          "data": {
            "text/plain": [
              "<Figure size 640x480 with 2 Axes>"
            ],
            "image/png": "[encoded data removed]"
          },
          "metadata": {}
        }
      ]
    },
    {
      "cell_type": "markdown",
      "source": [
        "#### MLP"
      ],
      "metadata": {
        "id": "hcrEWp6wa7Sl"
      }
    },
    {
      "cell_type": "code",
      "source": [
        "from sklearn.neural_network import MLPClassifier as mulgulmlt\n",
        "\n",
        "mulgul_Pa = {'solver': ['lbfgs','adam','sgd'],\n",
        "            'learning_rate': ['constant','adaptive','invscaling'],\n",
        "            'activation': ['tanh','relu','logistic','identity']}\n",
        "\n",
        "mulgul_Pa_Vbs = mulgulmlt(random_state= eng_rast)\n",
        "mulgul_Pa_Vbs = mulgul_enggri(mulgul_Pa_Vbs, mulgul_Pa,\n",
        "                         cv=2,\n",
        "                         verbose=1)\n",
        "mulgul_Pa_Vbs.fit(mulgul_gerX[:100],mulgul_gerY[:100])\n",
        "\n",
        "print(mulgul_Pa_Vbs.best_params_)\n",
        "print(\"Best Score-mulgul_ger : \", mulgul_Pa_Vbs.best_score_)"
      ],
      "metadata": {
        "colab": {
          "base_uri": "https://localhost:8080/"
        },
        "id": "nLMIWnb5a7hr",
        "outputId": "377eae42-cae6-43fc-f7c6-9410480199dd"
      },
      "execution_count": 33,
      "outputs": [
        {
          "output_type": "stream",
          "name": "stdout",
          "text": [
            "Fitting 2 folds for each of 36 candidates, totalling 72 fits\n",
            "{'activation': 'tanh', 'learning_rate': 'constant', 'solver': 'lbfgs'}\n",
            "Best Score-mulgul_ger :  1.0\n"
          ]
        }
      ]
    },
    {
      "cell_type": "code",
      "source": [
        "mul_pd1 = mulgul_engtim.time()\n",
        "mulgul_Mll6 = mulgulmlt(**mulgul_Pa_Vbs.best_params_)\n",
        "mulgul_Mll6.fit(mulgul_gerX,mulgul_gerY)\n",
        "mul_pd2 = mulgul_engtim.time()\n",
        "print(\"\\n training duration :\", mul_pd2-mul_pd1,\"\\n\")\n",
        "\n",
        "mul_pd1 = mulgul_engtim.time()\n",
        "\n",
        "mulgul_Pcet = mulgul_Mll6.predict(mulgul_engXL)\n",
        "print(mulgul_engcla(mulgul_engYL,mulgul_Pcet))\n",
        "mul_pl = mulgul_engcon(mulgul_engYL,mulgul_Pcet)\n",
        "mul_wd = mulgul_engcma(confusion_matrix = mul_pl, display_labels = [0, 1])\n",
        "mul_wd.plot()\n",
        "\n",
        "mul_pd2 = mulgul_engtim.time()\n",
        "print(\"\\n validation duration :\", mul_pd2-mul_pd1,\"\\n\")"
      ],
      "metadata": {
        "colab": {
          "base_uri": "https://localhost:8080/",
          "height": 723
        },
        "id": "iNLwuiHoa7jK",
        "outputId": "05bb8d1e-69b4-47d4-d50d-3ae5e665cc08"
      },
      "execution_count": 34,
      "outputs": [
        {
          "output_type": "stream",
          "name": "stdout",
          "text": [
            "\n",
            " training duration : 143.00339460372925 \n",
            "\n",
            "              precision    recall  f1-score   support\n",
            "\n",
            "           0       0.82      0.02      0.05      7768\n",
            "           1       0.49      0.99      0.65      7232\n",
            "\n",
            "    accuracy                           0.49     15000\n",
            "   macro avg       0.65      0.51      0.35     15000\n",
            "weighted avg       0.66      0.49      0.34     15000\n",
            "\n",
            "\n",
            " validation duration : 0.2251417636871338 \n",
            "\n"
          ]
        },
        {
          "output_type": "display_data",
          "data": {
            "text/plain": [
              "<Figure size 640x480 with 2 Axes>"
            ],
            "image/png": "[encoded data removed]"
          },
          "metadata": {}
        }
      ]
    },
    {
      "cell_type": "code",
      "source": [
        "mul_pd1 = mulgul_engtim.time()\n",
        "\n",
        "mulgul_Pcet = mulgul_Mll6.predict(mulgul_engXE)\n",
        "print(mulgul_engcla(mulgul_engYE,mulgul_Pcet))\n",
        "mul_pl = mulgul_engcon(mulgul_engYE,mulgul_Pcet)\n",
        "mul_wd = mulgul_engcma(confusion_matrix = mul_pl, display_labels = [0, 1])\n",
        "mul_wd.plot()\n",
        "\n",
        "mul_pd2 = mulgul_engtim.time()\n",
        "print(\"\\n testing duration :\", mul_pd2-mul_pd1,\"\\n\")"
      ],
      "metadata": {
        "colab": {
          "base_uri": "https://localhost:8080/",
          "height": 668
        },
        "id": "nUvs4HQQa7pC",
        "outputId": "d6a551b3-5127-4217-9742-49317ecce092"
      },
      "execution_count": 35,
      "outputs": [
        {
          "output_type": "stream",
          "name": "stdout",
          "text": [
            "              precision    recall  f1-score   support\n",
            "\n",
            "           0       0.75      0.02      0.04      7664\n",
            "           1       0.49      0.99      0.66      7336\n",
            "\n",
            "    accuracy                           0.50     15000\n",
            "   macro avg       0.62      0.51      0.35     15000\n",
            "weighted avg       0.62      0.50      0.34     15000\n",
            "\n",
            "\n",
            " testing duration : 0.2190408706665039 \n",
            "\n"
          ]
        },
        {
          "output_type": "display_data",
          "data": {
            "text/plain": [
              "<Figure size 640x480 with 2 Axes>"
            ],
            "image/png": "[encoded data removed]"
          },
          "metadata": {}
        }
      ]
    }
  ]
}