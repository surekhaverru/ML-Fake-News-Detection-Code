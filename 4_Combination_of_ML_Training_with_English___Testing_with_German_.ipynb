{
  "nbformat": 4,
  "nbformat_minor": 0,
  "metadata": {
    "colab": {
      "provenance": []
    },
    "kernelspec": {
      "name": "python3",
      "display_name": "Python 3"
    },
    "language_info": {
      "name": "python"
    }
  },
  "cells": [
    {
      "cell_type": "code",
      "execution_count": 1,
      "metadata": {
        "id": "ePD-7CbyT9WK",
        "colab": {
          "base_uri": "https://localhost:8080/",
          "height": 423
        },
        "outputId": "d3b5c1cd-3901-4a80-c783-5cd634ad7aa1"
      },
      "outputs": [
        {
          "output_type": "execute_result",
          "data": {
            "text/plain": [
              "                                                    text  label\n",
              "0      comment expected barack obama members fyf fuky...      1\n",
              "1                             post votes hillary already      1\n",
              "2      demonstrators gathered last night exercising c...      1\n",
              "3      dozen politically active pastors came private ...      0\n",
              "4      rs sarmat missile dubbed satan replace ss flie...      1\n",
              "...                                                  ...    ...\n",
              "29995  washington reuters u president donald trump fa...      0\n",
              "29996  thank goodness mandatory financial disclosures...      1\n",
              "29997  washington reuters vice president mike pence t...      0\n",
              "29998  share joe giambrone everything printed year do...      1\n",
              "29999  lima reuters former authoritarian leader alber...      0\n",
              "\n",
              "[30000 rows x 2 columns]"
            ],
            "text/html": [
              "\n",
              "  <div id=\"df-36d553bd-1bde-4893-9a02-2f5ab5b36a4d\" class=\"colab-df-container\">\n",
              "    <div>\n",
              "<style scoped>\n",
              "    .dataframe tbody tr th:only-of-type {\n",
              "        vertical-align: middle;\n",
              "    }\n",
              "\n",
              "    .dataframe tbody tr th {\n",
              "        vertical-align: top;\n",
              "    }\n",
              "\n",
              "    .dataframe thead th {\n",
              "        text-align: right;\n",
              "    }\n",
              "</style>\n",
              "<table border=\"1\" class=\"dataframe\">\n",
              "  <thead>\n",
              "    <tr style=\"text-align: right;\">\n",
              "      <th></th>\n",
              "      <th>text</th>\n",
              "      <th>label</th>\n",
              "    </tr>\n",
              "  </thead>\n",
              "  <tbody>\n",
              "    <tr>\n",
              "      <th>0</th>\n",
              "      <td>comment expected barack obama members fyf fuky...</td>\n",
              "      <td>1</td>\n",
              "    </tr>\n",
              "    <tr>\n",
              "      <th>1</th>\n",
              "      <td>post votes hillary already</td>\n",
              "      <td>1</td>\n",
              "    </tr>\n",
              "    <tr>\n",
              "      <th>2</th>\n",
              "      <td>demonstrators gathered last night exercising c...</td>\n",
              "      <td>1</td>\n",
              "    </tr>\n",
              "    <tr>\n",
              "      <th>3</th>\n",
              "      <td>dozen politically active pastors came private ...</td>\n",
              "      <td>0</td>\n",
              "    </tr>\n",
              "    <tr>\n",
              "      <th>4</th>\n",
              "      <td>rs sarmat missile dubbed satan replace ss flie...</td>\n",
              "      <td>1</td>\n",
              "    </tr>\n",
              "    <tr>\n",
              "      <th>...</th>\n",
              "      <td>...</td>\n",
              "      <td>...</td>\n",
              "    </tr>\n",
              "    <tr>\n",
              "      <th>29995</th>\n",
              "      <td>washington reuters u president donald trump fa...</td>\n",
              "      <td>0</td>\n",
              "    </tr>\n",
              "    <tr>\n",
              "      <th>29996</th>\n",
              "      <td>thank goodness mandatory financial disclosures...</td>\n",
              "      <td>1</td>\n",
              "    </tr>\n",
              "    <tr>\n",
              "      <th>29997</th>\n",
              "      <td>washington reuters vice president mike pence t...</td>\n",
              "      <td>0</td>\n",
              "    </tr>\n",
              "    <tr>\n",
              "      <th>29998</th>\n",
              "      <td>share joe giambrone everything printed year do...</td>\n",
              "      <td>1</td>\n",
              "    </tr>\n",
              "    <tr>\n",
              "      <th>29999</th>\n",
              "      <td>lima reuters former authoritarian leader alber...</td>\n",
              "      <td>0</td>\n",
              "    </tr>\n",
              "  </tbody>\n",
              "</table>\n",
              "<p>30000 rows × 2 columns</p>\n",
              "</div>\n",
              "    <div class=\"colab-df-buttons\">\n",
              "\n",
              "  <div class=\"colab-df-container\">\n",
              "    <button class=\"colab-df-convert\" onclick=\"convertToInteractive('df-36d553bd-1bde-4893-9a02-2f5ab5b36a4d')\"\n",
              "            title=\"Convert this dataframe to an interactive table.\"\n",
              "            style=\"display:none;\">\n",
              "\n",
              "  <svg xmlns=\"http://www.w3.org/2000/svg\" height=\"24px\" viewBox=\"0 -960 960 960\">\n",
              "    <path d=\"M120-120v-720h720v720H120Zm60-500h600v-160H180v160Zm220 220h160v-160H400v160Zm0 220h160v-160H400v160ZM180-400h160v-160H180v160Zm440 0h160v-160H620v160ZM180-180h160v-160H180v160Zm440 0h160v-160H620v160Z\"/>\n",
              "  </svg>\n",
              "    </button>\n",
              "\n",
              "  <style>\n",
              "    .colab-df-container {\n",
              "      display:flex;\n",
              "      gap: 12px;\n",
              "    }\n",
              "\n",
              "    .colab-df-convert {\n",
              "      background-color: #E8F0FE;\n",
              "      border: none;\n",
              "      border-radius: 50%;\n",
              "      cursor: pointer;\n",
              "      display: none;\n",
              "      fill: #1967D2;\n",
              "      height: 32px;\n",
              "      padding: 0 0 0 0;\n",
              "      width: 32px;\n",
              "    }\n",
              "\n",
              "    .colab-df-convert:hover {\n",
              "      background-color: #E2EBFA;\n",
              "      box-shadow: 0px 1px 2px rgba(60, 64, 67, 0.3), 0px 1px 3px 1px rgba(60, 64, 67, 0.15);\n",
              "      fill: #174EA6;\n",
              "    }\n",
              "\n",
              "    .colab-df-buttons div {\n",
              "      margin-bottom: 4px;\n",
              "    }\n",
              "\n",
              "    [theme=dark] .colab-df-convert {\n",
              "      background-color: #3B4455;\n",
              "      fill: #D2E3FC;\n",
              "    }\n",
              "\n",
              "    [theme=dark] .colab-df-convert:hover {\n",
              "      background-color: #434B5C;\n",
              "      box-shadow: 0px 1px 3px 1px rgba(0, 0, 0, 0.15);\n",
              "      filter: drop-shadow(0px 1px 2px rgba(0, 0, 0, 0.3));\n",
              "      fill: #FFFFFF;\n",
              "    }\n",
              "  </style>\n",
              "\n",
              "    <script>\n",
              "      const buttonEl =\n",
              "        document.querySelector('#df-36d553bd-1bde-4893-9a02-2f5ab5b36a4d button.colab-df-convert');\n",
              "      buttonEl.style.display =\n",
              "        google.colab.kernel.accessAllowed ? 'block' : 'none';\n",
              "\n",
              "      async function convertToInteractive(key) {\n",
              "        const element = document.querySelector('#df-36d553bd-1bde-4893-9a02-2f5ab5b36a4d');\n",
              "        const dataTable =\n",
              "          await google.colab.kernel.invokeFunction('convertToInteractive',\n",
              "                                                    [key], {});\n",
              "        if (!dataTable) return;\n",
              "\n",
              "        const docLinkHtml = 'Like what you see? Visit the ' +\n",
              "          '<a target=\"_blank\" href=https://colab.research.google.com/notebooks/data_table.ipynb>data table notebook</a>'\n",
              "          + ' to learn more about interactive tables.';\n",
              "        element.innerHTML = '';\n",
              "        dataTable['output_type'] = 'display_data';\n",
              "        await google.colab.output.renderOutput(dataTable, element);\n",
              "        const docLink = document.createElement('div');\n",
              "        docLink.innerHTML = docLinkHtml;\n",
              "        element.appendChild(docLink);\n",
              "      }\n",
              "    </script>\n",
              "  </div>\n",
              "\n",
              "\n",
              "<div id=\"df-967233aa-6802-4f5c-a11d-7ebe077375f3\">\n",
              "  <button class=\"colab-df-quickchart\" onclick=\"quickchart('df-967233aa-6802-4f5c-a11d-7ebe077375f3')\"\n",
              "            title=\"Suggest charts\"\n",
              "            style=\"display:none;\">\n",
              "\n",
              "<svg xmlns=\"http://www.w3.org/2000/svg\" height=\"24px\"viewBox=\"0 0 24 24\"\n",
              "     width=\"24px\">\n",
              "    <g>\n",
              "        <path d=\"M19 3H5c-1.1 0-2 .9-2 2v14c0 1.1.9 2 2 2h14c1.1 0 2-.9 2-2V5c0-1.1-.9-2-2-2zM9 17H7v-7h2v7zm4 0h-2V7h2v10zm4 0h-2v-4h2v4z\"/>\n",
              "    </g>\n",
              "</svg>\n",
              "  </button>\n",
              "\n",
              "<style>\n",
              "  .colab-df-quickchart {\n",
              "      --bg-color: #E8F0FE;\n",
              "      --fill-color: #1967D2;\n",
              "      --hover-bg-color: #E2EBFA;\n",
              "      --hover-fill-color: #174EA6;\n",
              "      --disabled-fill-color: #AAA;\n",
              "      --disabled-bg-color: #DDD;\n",
              "  }\n",
              "\n",
              "  [theme=dark] .colab-df-quickchart {\n",
              "      --bg-color: #3B4455;\n",
              "      --fill-color: #D2E3FC;\n",
              "      --hover-bg-color: #434B5C;\n",
              "      --hover-fill-color: #FFFFFF;\n",
              "      --disabled-bg-color: #3B4455;\n",
              "      --disabled-fill-color: #666;\n",
              "  }\n",
              "\n",
              "  .colab-df-quickchart {\n",
              "    background-color: var(--bg-color);\n",
              "    border: none;\n",
              "    border-radius: 50%;\n",
              "    cursor: pointer;\n",
              "    display: none;\n",
              "    fill: var(--fill-color);\n",
              "    height: 32px;\n",
              "    padding: 0;\n",
              "    width: 32px;\n",
              "  }\n",
              "\n",
              "  .colab-df-quickchart:hover {\n",
              "    background-color: var(--hover-bg-color);\n",
              "    box-shadow: 0 1px 2px rgba(60, 64, 67, 0.3), 0 1px 3px 1px rgba(60, 64, 67, 0.15);\n",
              "    fill: var(--button-hover-fill-color);\n",
              "  }\n",
              "\n",
              "  .colab-df-quickchart-complete:disabled,\n",
              "  .colab-df-quickchart-complete:disabled:hover {\n",
              "    background-color: var(--disabled-bg-color);\n",
              "    fill: var(--disabled-fill-color);\n",
              "    box-shadow: none;\n",
              "  }\n",
              "\n",
              "  .colab-df-spinner {\n",
              "    border: 2px solid var(--fill-color);\n",
              "    border-color: transparent;\n",
              "    border-bottom-color: var(--fill-color);\n",
              "    animation:\n",
              "      spin 1s steps(1) infinite;\n",
              "  }\n",
              "\n",
              "  @keyframes spin {\n",
              "    0% {\n",
              "      border-color: transparent;\n",
              "      border-bottom-color: var(--fill-color);\n",
              "      border-left-color: var(--fill-color);\n",
              "    }\n",
              "    20% {\n",
              "      border-color: transparent;\n",
              "      border-left-color: var(--fill-color);\n",
              "      border-top-color: var(--fill-color);\n",
              "    }\n",
              "    30% {\n",
              "      border-color: transparent;\n",
              "      border-left-color: var(--fill-color);\n",
              "      border-top-color: var(--fill-color);\n",
              "      border-right-color: var(--fill-color);\n",
              "    }\n",
              "    40% {\n",
              "      border-color: transparent;\n",
              "      border-right-color: var(--fill-color);\n",
              "      border-top-color: var(--fill-color);\n",
              "    }\n",
              "    60% {\n",
              "      border-color: transparent;\n",
              "      border-right-color: var(--fill-color);\n",
              "    }\n",
              "    80% {\n",
              "      border-color: transparent;\n",
              "      border-right-color: var(--fill-color);\n",
              "      border-bottom-color: var(--fill-color);\n",
              "    }\n",
              "    90% {\n",
              "      border-color: transparent;\n",
              "      border-bottom-color: var(--fill-color);\n",
              "    }\n",
              "  }\n",
              "</style>\n",
              "\n",
              "  <script>\n",
              "    async function quickchart(key) {\n",
              "      const quickchartButtonEl =\n",
              "        document.querySelector('#' + key + ' button');\n",
              "      quickchartButtonEl.disabled = true;  // To prevent multiple clicks.\n",
              "      quickchartButtonEl.classList.add('colab-df-spinner');\n",
              "      try {\n",
              "        const charts = await google.colab.kernel.invokeFunction(\n",
              "            'suggestCharts', [key], {});\n",
              "      } catch (error) {\n",
              "        console.error('Error during call to suggestCharts:', error);\n",
              "      }\n",
              "      quickchartButtonEl.classList.remove('colab-df-spinner');\n",
              "      quickchartButtonEl.classList.add('colab-df-quickchart-complete');\n",
              "    }\n",
              "    (() => {\n",
              "      let quickchartButtonEl =\n",
              "        document.querySelector('#df-967233aa-6802-4f5c-a11d-7ebe077375f3 button');\n",
              "      quickchartButtonEl.style.display =\n",
              "        google.colab.kernel.accessAllowed ? 'block' : 'none';\n",
              "    })();\n",
              "  </script>\n",
              "</div>\n",
              "    </div>\n",
              "  </div>\n"
            ]
          },
          "metadata": {},
          "execution_count": 1
        }
      ],
      "source": [
        "import pandas as mulgul_engpd\n",
        "\n",
        "mulgul_eng = mulgul_engpd.read_csv('mulgul_eng.csv',nrows=30000) # read English data\n",
        "mulgul_eng"
      ]
    },
    {
      "cell_type": "code",
      "source": [
        "import pandas as mulgul_engpd\n",
        "\n",
        "mulgul_ger = mulgul_engpd.read_csv('mulgul_german.csv',nrows=30000)\n",
        "mulgul_ger"
      ],
      "metadata": {
        "id": "UodRIhXvqaOt",
        "colab": {
          "base_uri": "https://localhost:8080/",
          "height": 423
        },
        "outputId": "7f5e473e-3dde-4380-93a4-06d67da7253f"
      },
      "execution_count": 2,
      "outputs": [
        {
          "output_type": "execute_result",
          "data": {
            "text/plain": [
              "                                                    Body  Fake\n",
              "0      sondierungsgespr che union spd endeten komprom...     1\n",
              "1      medizinisch offiziell best tigt milit r rztlic...     1\n",
              "2      z he verhandlungen freien demokraten k nnen zu...     1\n",
              "3      treibt immer sp t nacht herum joachim sauer be...     1\n",
              "4      parteivorstand dr ckt nochmal auge nachdem noa...     1\n",
              "...                                                  ...   ...\n",
              "29995  krisengebeutelte europ ische automobilmarkt ta...     0\n",
              "29996  us kabelkonzern liberty global bieterrennen ka...     0\n",
              "29997  angesichts tiefen rezession euro zone fasst ez...     0\n",
              "29998  commerzbank fallen n chsten jahren voraussicht...     0\n",
              "29999  bundesbank chef jens weidmann weiche auslegung...     0\n",
              "\n",
              "[30000 rows x 2 columns]"
            ],
            "text/html": [
              "\n",
              "  <div id=\"df-33e6e7dd-f94a-4778-bae8-0c4c59d13e60\" class=\"colab-df-container\">\n",
              "    <div>\n",
              "<style scoped>\n",
              "    .dataframe tbody tr th:only-of-type {\n",
              "        vertical-align: middle;\n",
              "    }\n",
              "\n",
              "    .dataframe tbody tr th {\n",
              "        vertical-align: top;\n",
              "    }\n",
              "\n",
              "    .dataframe thead th {\n",
              "        text-align: right;\n",
              "    }\n",
              "</style>\n",
              "<table border=\"1\" class=\"dataframe\">\n",
              "  <thead>\n",
              "    <tr style=\"text-align: right;\">\n",
              "      <th></th>\n",
              "      <th>Body</th>\n",
              "      <th>Fake</th>\n",
              "    </tr>\n",
              "  </thead>\n",
              "  <tbody>\n",
              "    <tr>\n",
              "      <th>0</th>\n",
              "      <td>sondierungsgespr che union spd endeten komprom...</td>\n",
              "      <td>1</td>\n",
              "    </tr>\n",
              "    <tr>\n",
              "      <th>1</th>\n",
              "      <td>medizinisch offiziell best tigt milit r rztlic...</td>\n",
              "      <td>1</td>\n",
              "    </tr>\n",
              "    <tr>\n",
              "      <th>2</th>\n",
              "      <td>z he verhandlungen freien demokraten k nnen zu...</td>\n",
              "      <td>1</td>\n",
              "    </tr>\n",
              "    <tr>\n",
              "      <th>3</th>\n",
              "      <td>treibt immer sp t nacht herum joachim sauer be...</td>\n",
              "      <td>1</td>\n",
              "    </tr>\n",
              "    <tr>\n",
              "      <th>4</th>\n",
              "      <td>parteivorstand dr ckt nochmal auge nachdem noa...</td>\n",
              "      <td>1</td>\n",
              "    </tr>\n",
              "    <tr>\n",
              "      <th>...</th>\n",
              "      <td>...</td>\n",
              "      <td>...</td>\n",
              "    </tr>\n",
              "    <tr>\n",
              "      <th>29995</th>\n",
              "      <td>krisengebeutelte europ ische automobilmarkt ta...</td>\n",
              "      <td>0</td>\n",
              "    </tr>\n",
              "    <tr>\n",
              "      <th>29996</th>\n",
              "      <td>us kabelkonzern liberty global bieterrennen ka...</td>\n",
              "      <td>0</td>\n",
              "    </tr>\n",
              "    <tr>\n",
              "      <th>29997</th>\n",
              "      <td>angesichts tiefen rezession euro zone fasst ez...</td>\n",
              "      <td>0</td>\n",
              "    </tr>\n",
              "    <tr>\n",
              "      <th>29998</th>\n",
              "      <td>commerzbank fallen n chsten jahren voraussicht...</td>\n",
              "      <td>0</td>\n",
              "    </tr>\n",
              "    <tr>\n",
              "      <th>29999</th>\n",
              "      <td>bundesbank chef jens weidmann weiche auslegung...</td>\n",
              "      <td>0</td>\n",
              "    </tr>\n",
              "  </tbody>\n",
              "</table>\n",
              "<p>30000 rows × 2 columns</p>\n",
              "</div>\n",
              "    <div class=\"colab-df-buttons\">\n",
              "\n",
              "  <div class=\"colab-df-container\">\n",
              "    <button class=\"colab-df-convert\" onclick=\"convertToInteractive('df-33e6e7dd-f94a-4778-bae8-0c4c59d13e60')\"\n",
              "            title=\"Convert this dataframe to an interactive table.\"\n",
              "            style=\"display:none;\">\n",
              "\n",
              "  <svg xmlns=\"http://www.w3.org/2000/svg\" height=\"24px\" viewBox=\"0 -960 960 960\">\n",
              "    <path d=\"M120-120v-720h720v720H120Zm60-500h600v-160H180v160Zm220 220h160v-160H400v160Zm0 220h160v-160H400v160ZM180-400h160v-160H180v160Zm440 0h160v-160H620v160ZM180-180h160v-160H180v160Zm440 0h160v-160H620v160Z\"/>\n",
              "  </svg>\n",
              "    </button>\n",
              "\n",
              "  <style>\n",
              "    .colab-df-container {\n",
              "      display:flex;\n",
              "      gap: 12px;\n",
              "    }\n",
              "\n",
              "    .colab-df-convert {\n",
              "      background-color: #E8F0FE;\n",
              "      border: none;\n",
              "      border-radius: 50%;\n",
              "      cursor: pointer;\n",
              "      display: none;\n",
              "      fill: #1967D2;\n",
              "      height: 32px;\n",
              "      padding: 0 0 0 0;\n",
              "      width: 32px;\n",
              "    }\n",
              "\n",
              "    .colab-df-convert:hover {\n",
              "      background-color: #E2EBFA;\n",
              "      box-shadow: 0px 1px 2px rgba(60, 64, 67, 0.3), 0px 1px 3px 1px rgba(60, 64, 67, 0.15);\n",
              "      fill: #174EA6;\n",
              "    }\n",
              "\n",
              "    .colab-df-buttons div {\n",
              "      margin-bottom: 4px;\n",
              "    }\n",
              "\n",
              "    [theme=dark] .colab-df-convert {\n",
              "      background-color: #3B4455;\n",
              "      fill: #D2E3FC;\n",
              "    }\n",
              "\n",
              "    [theme=dark] .colab-df-convert:hover {\n",
              "      background-color: #434B5C;\n",
              "      box-shadow: 0px 1px 3px 1px rgba(0, 0, 0, 0.15);\n",
              "      filter: drop-shadow(0px 1px 2px rgba(0, 0, 0, 0.3));\n",
              "      fill: #FFFFFF;\n",
              "    }\n",
              "  </style>\n",
              "\n",
              "    <script>\n",
              "      const buttonEl =\n",
              "        document.querySelector('#df-33e6e7dd-f94a-4778-bae8-0c4c59d13e60 button.colab-df-convert');\n",
              "      buttonEl.style.display =\n",
              "        google.colab.kernel.accessAllowed ? 'block' : 'none';\n",
              "\n",
              "      async function convertToInteractive(key) {\n",
              "        const element = document.querySelector('#df-33e6e7dd-f94a-4778-bae8-0c4c59d13e60');\n",
              "        const dataTable =\n",
              "          await google.colab.kernel.invokeFunction('convertToInteractive',\n",
              "                                                    [key], {});\n",
              "        if (!dataTable) return;\n",
              "\n",
              "        const docLinkHtml = 'Like what you see? Visit the ' +\n",
              "          '<a target=\"_blank\" href=https://colab.research.google.com/notebooks/data_table.ipynb>data table notebook</a>'\n",
              "          + ' to learn more about interactive tables.';\n",
              "        element.innerHTML = '';\n",
              "        dataTable['output_type'] = 'display_data';\n",
              "        await google.colab.output.renderOutput(dataTable, element);\n",
              "        const docLink = document.createElement('div');\n",
              "        docLink.innerHTML = docLinkHtml;\n",
              "        element.appendChild(docLink);\n",
              "      }\n",
              "    </script>\n",
              "  </div>\n",
              "\n",
              "\n",
              "<div id=\"df-d3e36212-c354-447f-aee9-5e1bd23d51a3\">\n",
              "  <button class=\"colab-df-quickchart\" onclick=\"quickchart('df-d3e36212-c354-447f-aee9-5e1bd23d51a3')\"\n",
              "            title=\"Suggest charts\"\n",
              "            style=\"display:none;\">\n",
              "\n",
              "<svg xmlns=\"http://www.w3.org/2000/svg\" height=\"24px\"viewBox=\"0 0 24 24\"\n",
              "     width=\"24px\">\n",
              "    <g>\n",
              "        <path d=\"M19 3H5c-1.1 0-2 .9-2 2v14c0 1.1.9 2 2 2h14c1.1 0 2-.9 2-2V5c0-1.1-.9-2-2-2zM9 17H7v-7h2v7zm4 0h-2V7h2v10zm4 0h-2v-4h2v4z\"/>\n",
              "    </g>\n",
              "</svg>\n",
              "  </button>\n",
              "\n",
              "<style>\n",
              "  .colab-df-quickchart {\n",
              "      --bg-color: #E8F0FE;\n",
              "      --fill-color: #1967D2;\n",
              "      --hover-bg-color: #E2EBFA;\n",
              "      --hover-fill-color: #174EA6;\n",
              "      --disabled-fill-color: #AAA;\n",
              "      --disabled-bg-color: #DDD;\n",
              "  }\n",
              "\n",
              "  [theme=dark] .colab-df-quickchart {\n",
              "      --bg-color: #3B4455;\n",
              "      --fill-color: #D2E3FC;\n",
              "      --hover-bg-color: #434B5C;\n",
              "      --hover-fill-color: #FFFFFF;\n",
              "      --disabled-bg-color: #3B4455;\n",
              "      --disabled-fill-color: #666;\n",
              "  }\n",
              "\n",
              "  .colab-df-quickchart {\n",
              "    background-color: var(--bg-color);\n",
              "    border: none;\n",
              "    border-radius: 50%;\n",
              "    cursor: pointer;\n",
              "    display: none;\n",
              "    fill: var(--fill-color);\n",
              "    height: 32px;\n",
              "    padding: 0;\n",
              "    width: 32px;\n",
              "  }\n",
              "\n",
              "  .colab-df-quickchart:hover {\n",
              "    background-color: var(--hover-bg-color);\n",
              "    box-shadow: 0 1px 2px rgba(60, 64, 67, 0.3), 0 1px 3px 1px rgba(60, 64, 67, 0.15);\n",
              "    fill: var(--button-hover-fill-color);\n",
              "  }\n",
              "\n",
              "  .colab-df-quickchart-complete:disabled,\n",
              "  .colab-df-quickchart-complete:disabled:hover {\n",
              "    background-color: var(--disabled-bg-color);\n",
              "    fill: var(--disabled-fill-color);\n",
              "    box-shadow: none;\n",
              "  }\n",
              "\n",
              "  .colab-df-spinner {\n",
              "    border: 2px solid var(--fill-color);\n",
              "    border-color: transparent;\n",
              "    border-bottom-color: var(--fill-color);\n",
              "    animation:\n",
              "      spin 1s steps(1) infinite;\n",
              "  }\n",
              "\n",
              "  @keyframes spin {\n",
              "    0% {\n",
              "      border-color: transparent;\n",
              "      border-bottom-color: var(--fill-color);\n",
              "      border-left-color: var(--fill-color);\n",
              "    }\n",
              "    20% {\n",
              "      border-color: transparent;\n",
              "      border-left-color: var(--fill-color);\n",
              "      border-top-color: var(--fill-color);\n",
              "    }\n",
              "    30% {\n",
              "      border-color: transparent;\n",
              "      border-left-color: var(--fill-color);\n",
              "      border-top-color: var(--fill-color);\n",
              "      border-right-color: var(--fill-color);\n",
              "    }\n",
              "    40% {\n",
              "      border-color: transparent;\n",
              "      border-right-color: var(--fill-color);\n",
              "      border-top-color: var(--fill-color);\n",
              "    }\n",
              "    60% {\n",
              "      border-color: transparent;\n",
              "      border-right-color: var(--fill-color);\n",
              "    }\n",
              "    80% {\n",
              "      border-color: transparent;\n",
              "      border-right-color: var(--fill-color);\n",
              "      border-bottom-color: var(--fill-color);\n",
              "    }\n",
              "    90% {\n",
              "      border-color: transparent;\n",
              "      border-bottom-color: var(--fill-color);\n",
              "    }\n",
              "  }\n",
              "</style>\n",
              "\n",
              "  <script>\n",
              "    async function quickchart(key) {\n",
              "      const quickchartButtonEl =\n",
              "        document.querySelector('#' + key + ' button');\n",
              "      quickchartButtonEl.disabled = true;  // To prevent multiple clicks.\n",
              "      quickchartButtonEl.classList.add('colab-df-spinner');\n",
              "      try {\n",
              "        const charts = await google.colab.kernel.invokeFunction(\n",
              "            'suggestCharts', [key], {});\n",
              "      } catch (error) {\n",
              "        console.error('Error during call to suggestCharts:', error);\n",
              "      }\n",
              "      quickchartButtonEl.classList.remove('colab-df-spinner');\n",
              "      quickchartButtonEl.classList.add('colab-df-quickchart-complete');\n",
              "    }\n",
              "    (() => {\n",
              "      let quickchartButtonEl =\n",
              "        document.querySelector('#df-d3e36212-c354-447f-aee9-5e1bd23d51a3 button');\n",
              "      quickchartButtonEl.style.display =\n",
              "        google.colab.kernel.accessAllowed ? 'block' : 'none';\n",
              "    })();\n",
              "  </script>\n",
              "</div>\n",
              "    </div>\n",
              "  </div>\n"
            ]
          },
          "metadata": {},
          "execution_count": 2
        }
      ]
    },
    {
      "cell_type": "code",
      "source": [
        "mulgul_eng['label'].value_counts()"
      ],
      "metadata": {
        "id": "9M-hwz5DUsoP",
        "colab": {
          "base_uri": "https://localhost:8080/"
        },
        "outputId": "0504b643-64d5-4ea5-cf01-6ef2be4f4294"
      },
      "execution_count": 3,
      "outputs": [
        {
          "output_type": "execute_result",
          "data": {
            "text/plain": [
              "0    15432\n",
              "1    14568\n",
              "Name: label, dtype: int64"
            ]
          },
          "metadata": {},
          "execution_count": 3
        }
      ]
    },
    {
      "cell_type": "code",
      "source": [
        "mulgul_ger['Fake'].value_counts()"
      ],
      "metadata": {
        "id": "ph9aCM7Kq8tJ",
        "colab": {
          "base_uri": "https://localhost:8080/"
        },
        "outputId": "0f051556-9598-4919-baa0-03d45e984f89"
      },
      "execution_count": 4,
      "outputs": [
        {
          "output_type": "execute_result",
          "data": {
            "text/plain": [
              "0    27960\n",
              "1     2040\n",
              "Name: Fake, dtype: int64"
            ]
          },
          "metadata": {},
          "execution_count": 4
        }
      ]
    },
    {
      "cell_type": "code",
      "source": [
        "mulgul_engX = mulgul_eng.drop('label',axis=1)\n",
        "mulgul_engX"
      ],
      "metadata": {
        "id": "7aiovJFpWZSD",
        "colab": {
          "base_uri": "https://localhost:8080/",
          "height": 423
        },
        "outputId": "191939e4-7f49-46c8-e933-48c86e541811"
      },
      "execution_count": 5,
      "outputs": [
        {
          "output_type": "execute_result",
          "data": {
            "text/plain": [
              "                                                    text\n",
              "0      comment expected barack obama members fyf fuky...\n",
              "1                             post votes hillary already\n",
              "2      demonstrators gathered last night exercising c...\n",
              "3      dozen politically active pastors came private ...\n",
              "4      rs sarmat missile dubbed satan replace ss flie...\n",
              "...                                                  ...\n",
              "29995  washington reuters u president donald trump fa...\n",
              "29996  thank goodness mandatory financial disclosures...\n",
              "29997  washington reuters vice president mike pence t...\n",
              "29998  share joe giambrone everything printed year do...\n",
              "29999  lima reuters former authoritarian leader alber...\n",
              "\n",
              "[30000 rows x 1 columns]"
            ],
            "text/html": [
              "\n",
              "  <div id=\"df-b8abfe72-a776-4a4d-87bb-2b7fb55d7040\" class=\"colab-df-container\">\n",
              "    <div>\n",
              "<style scoped>\n",
              "    .dataframe tbody tr th:only-of-type {\n",
              "        vertical-align: middle;\n",
              "    }\n",
              "\n",
              "    .dataframe tbody tr th {\n",
              "        vertical-align: top;\n",
              "    }\n",
              "\n",
              "    .dataframe thead th {\n",
              "        text-align: right;\n",
              "    }\n",
              "</style>\n",
              "<table border=\"1\" class=\"dataframe\">\n",
              "  <thead>\n",
              "    <tr style=\"text-align: right;\">\n",
              "      <th></th>\n",
              "      <th>text</th>\n",
              "    </tr>\n",
              "  </thead>\n",
              "  <tbody>\n",
              "    <tr>\n",
              "      <th>0</th>\n",
              "      <td>comment expected barack obama members fyf fuky...</td>\n",
              "    </tr>\n",
              "    <tr>\n",
              "      <th>1</th>\n",
              "      <td>post votes hillary already</td>\n",
              "    </tr>\n",
              "    <tr>\n",
              "      <th>2</th>\n",
              "      <td>demonstrators gathered last night exercising c...</td>\n",
              "    </tr>\n",
              "    <tr>\n",
              "      <th>3</th>\n",
              "      <td>dozen politically active pastors came private ...</td>\n",
              "    </tr>\n",
              "    <tr>\n",
              "      <th>4</th>\n",
              "      <td>rs sarmat missile dubbed satan replace ss flie...</td>\n",
              "    </tr>\n",
              "    <tr>\n",
              "      <th>...</th>\n",
              "      <td>...</td>\n",
              "    </tr>\n",
              "    <tr>\n",
              "      <th>29995</th>\n",
              "      <td>washington reuters u president donald trump fa...</td>\n",
              "    </tr>\n",
              "    <tr>\n",
              "      <th>29996</th>\n",
              "      <td>thank goodness mandatory financial disclosures...</td>\n",
              "    </tr>\n",
              "    <tr>\n",
              "      <th>29997</th>\n",
              "      <td>washington reuters vice president mike pence t...</td>\n",
              "    </tr>\n",
              "    <tr>\n",
              "      <th>29998</th>\n",
              "      <td>share joe giambrone everything printed year do...</td>\n",
              "    </tr>\n",
              "    <tr>\n",
              "      <th>29999</th>\n",
              "      <td>lima reuters former authoritarian leader alber...</td>\n",
              "    </tr>\n",
              "  </tbody>\n",
              "</table>\n",
              "<p>30000 rows × 1 columns</p>\n",
              "</div>\n",
              "    <div class=\"colab-df-buttons\">\n",
              "\n",
              "  <div class=\"colab-df-container\">\n",
              "    <button class=\"colab-df-convert\" onclick=\"convertToInteractive('df-b8abfe72-a776-4a4d-87bb-2b7fb55d7040')\"\n",
              "            title=\"Convert this dataframe to an interactive table.\"\n",
              "            style=\"display:none;\">\n",
              "\n",
              "  <svg xmlns=\"http://www.w3.org/2000/svg\" height=\"24px\" viewBox=\"0 -960 960 960\">\n",
              "    <path d=\"M120-120v-720h720v720H120Zm60-500h600v-160H180v160Zm220 220h160v-160H400v160Zm0 220h160v-160H400v160ZM180-400h160v-160H180v160Zm440 0h160v-160H620v160ZM180-180h160v-160H180v160Zm440 0h160v-160H620v160Z\"/>\n",
              "  </svg>\n",
              "    </button>\n",
              "\n",
              "  <style>\n",
              "    .colab-df-container {\n",
              "      display:flex;\n",
              "      gap: 12px;\n",
              "    }\n",
              "\n",
              "    .colab-df-convert {\n",
              "      background-color: #E8F0FE;\n",
              "      border: none;\n",
              "      border-radius: 50%;\n",
              "      cursor: pointer;\n",
              "      display: none;\n",
              "      fill: #1967D2;\n",
              "      height: 32px;\n",
              "      padding: 0 0 0 0;\n",
              "      width: 32px;\n",
              "    }\n",
              "\n",
              "    .colab-df-convert:hover {\n",
              "      background-color: #E2EBFA;\n",
              "      box-shadow: 0px 1px 2px rgba(60, 64, 67, 0.3), 0px 1px 3px 1px rgba(60, 64, 67, 0.15);\n",
              "      fill: #174EA6;\n",
              "    }\n",
              "\n",
              "    .colab-df-buttons div {\n",
              "      margin-bottom: 4px;\n",
              "    }\n",
              "\n",
              "    [theme=dark] .colab-df-convert {\n",
              "      background-color: #3B4455;\n",
              "      fill: #D2E3FC;\n",
              "    }\n",
              "\n",
              "    [theme=dark] .colab-df-convert:hover {\n",
              "      background-color: #434B5C;\n",
              "      box-shadow: 0px 1px 3px 1px rgba(0, 0, 0, 0.15);\n",
              "      filter: drop-shadow(0px 1px 2px rgba(0, 0, 0, 0.3));\n",
              "      fill: #FFFFFF;\n",
              "    }\n",
              "  </style>\n",
              "\n",
              "    <script>\n",
              "      const buttonEl =\n",
              "        document.querySelector('#df-b8abfe72-a776-4a4d-87bb-2b7fb55d7040 button.colab-df-convert');\n",
              "      buttonEl.style.display =\n",
              "        google.colab.kernel.accessAllowed ? 'block' : 'none';\n",
              "\n",
              "      async function convertToInteractive(key) {\n",
              "        const element = document.querySelector('#df-b8abfe72-a776-4a4d-87bb-2b7fb55d7040');\n",
              "        const dataTable =\n",
              "          await google.colab.kernel.invokeFunction('convertToInteractive',\n",
              "                                                    [key], {});\n",
              "        if (!dataTable) return;\n",
              "\n",
              "        const docLinkHtml = 'Like what you see? Visit the ' +\n",
              "          '<a target=\"_blank\" href=https://colab.research.google.com/notebooks/data_table.ipynb>data table notebook</a>'\n",
              "          + ' to learn more about interactive tables.';\n",
              "        element.innerHTML = '';\n",
              "        dataTable['output_type'] = 'display_data';\n",
              "        await google.colab.output.renderOutput(dataTable, element);\n",
              "        const docLink = document.createElement('div');\n",
              "        docLink.innerHTML = docLinkHtml;\n",
              "        element.appendChild(docLink);\n",
              "      }\n",
              "    </script>\n",
              "  </div>\n",
              "\n",
              "\n",
              "<div id=\"df-011da09c-e633-40ae-83ec-b4369c3b752c\">\n",
              "  <button class=\"colab-df-quickchart\" onclick=\"quickchart('df-011da09c-e633-40ae-83ec-b4369c3b752c')\"\n",
              "            title=\"Suggest charts\"\n",
              "            style=\"display:none;\">\n",
              "\n",
              "<svg xmlns=\"http://www.w3.org/2000/svg\" height=\"24px\"viewBox=\"0 0 24 24\"\n",
              "     width=\"24px\">\n",
              "    <g>\n",
              "        <path d=\"M19 3H5c-1.1 0-2 .9-2 2v14c0 1.1.9 2 2 2h14c1.1 0 2-.9 2-2V5c0-1.1-.9-2-2-2zM9 17H7v-7h2v7zm4 0h-2V7h2v10zm4 0h-2v-4h2v4z\"/>\n",
              "    </g>\n",
              "</svg>\n",
              "  </button>\n",
              "\n",
              "<style>\n",
              "  .colab-df-quickchart {\n",
              "      --bg-color: #E8F0FE;\n",
              "      --fill-color: #1967D2;\n",
              "      --hover-bg-color: #E2EBFA;\n",
              "      --hover-fill-color: #174EA6;\n",
              "      --disabled-fill-color: #AAA;\n",
              "      --disabled-bg-color: #DDD;\n",
              "  }\n",
              "\n",
              "  [theme=dark] .colab-df-quickchart {\n",
              "      --bg-color: #3B4455;\n",
              "      --fill-color: #D2E3FC;\n",
              "      --hover-bg-color: #434B5C;\n",
              "      --hover-fill-color: #FFFFFF;\n",
              "      --disabled-bg-color: #3B4455;\n",
              "      --disabled-fill-color: #666;\n",
              "  }\n",
              "\n",
              "  .colab-df-quickchart {\n",
              "    background-color: var(--bg-color);\n",
              "    border: none;\n",
              "    border-radius: 50%;\n",
              "    cursor: pointer;\n",
              "    display: none;\n",
              "    fill: var(--fill-color);\n",
              "    height: 32px;\n",
              "    padding: 0;\n",
              "    width: 32px;\n",
              "  }\n",
              "\n",
              "  .colab-df-quickchart:hover {\n",
              "    background-color: var(--hover-bg-color);\n",
              "    box-shadow: 0 1px 2px rgba(60, 64, 67, 0.3), 0 1px 3px 1px rgba(60, 64, 67, 0.15);\n",
              "    fill: var(--button-hover-fill-color);\n",
              "  }\n",
              "\n",
              "  .colab-df-quickchart-complete:disabled,\n",
              "  .colab-df-quickchart-complete:disabled:hover {\n",
              "    background-color: var(--disabled-bg-color);\n",
              "    fill: var(--disabled-fill-color);\n",
              "    box-shadow: none;\n",
              "  }\n",
              "\n",
              "  .colab-df-spinner {\n",
              "    border: 2px solid var(--fill-color);\n",
              "    border-color: transparent;\n",
              "    border-bottom-color: var(--fill-color);\n",
              "    animation:\n",
              "      spin 1s steps(1) infinite;\n",
              "  }\n",
              "\n",
              "  @keyframes spin {\n",
              "    0% {\n",
              "      border-color: transparent;\n",
              "      border-bottom-color: var(--fill-color);\n",
              "      border-left-color: var(--fill-color);\n",
              "    }\n",
              "    20% {\n",
              "      border-color: transparent;\n",
              "      border-left-color: var(--fill-color);\n",
              "      border-top-color: var(--fill-color);\n",
              "    }\n",
              "    30% {\n",
              "      border-color: transparent;\n",
              "      border-left-color: var(--fill-color);\n",
              "      border-top-color: var(--fill-color);\n",
              "      border-right-color: var(--fill-color);\n",
              "    }\n",
              "    40% {\n",
              "      border-color: transparent;\n",
              "      border-right-color: var(--fill-color);\n",
              "      border-top-color: var(--fill-color);\n",
              "    }\n",
              "    60% {\n",
              "      border-color: transparent;\n",
              "      border-right-color: var(--fill-color);\n",
              "    }\n",
              "    80% {\n",
              "      border-color: transparent;\n",
              "      border-right-color: var(--fill-color);\n",
              "      border-bottom-color: var(--fill-color);\n",
              "    }\n",
              "    90% {\n",
              "      border-color: transparent;\n",
              "      border-bottom-color: var(--fill-color);\n",
              "    }\n",
              "  }\n",
              "</style>\n",
              "\n",
              "  <script>\n",
              "    async function quickchart(key) {\n",
              "      const quickchartButtonEl =\n",
              "        document.querySelector('#' + key + ' button');\n",
              "      quickchartButtonEl.disabled = true;  // To prevent multiple clicks.\n",
              "      quickchartButtonEl.classList.add('colab-df-spinner');\n",
              "      try {\n",
              "        const charts = await google.colab.kernel.invokeFunction(\n",
              "            'suggestCharts', [key], {});\n",
              "      } catch (error) {\n",
              "        console.error('Error during call to suggestCharts:', error);\n",
              "      }\n",
              "      quickchartButtonEl.classList.remove('colab-df-spinner');\n",
              "      quickchartButtonEl.classList.add('colab-df-quickchart-complete');\n",
              "    }\n",
              "    (() => {\n",
              "      let quickchartButtonEl =\n",
              "        document.querySelector('#df-011da09c-e633-40ae-83ec-b4369c3b752c button');\n",
              "      quickchartButtonEl.style.display =\n",
              "        google.colab.kernel.accessAllowed ? 'block' : 'none';\n",
              "    })();\n",
              "  </script>\n",
              "</div>\n",
              "    </div>\n",
              "  </div>\n"
            ]
          },
          "metadata": {},
          "execution_count": 5
        }
      ]
    },
    {
      "cell_type": "code",
      "source": [
        "mulgul_engY = mulgul_eng['label']\n",
        "mulgul_engY"
      ],
      "metadata": {
        "id": "XrO11F-cWdj5",
        "colab": {
          "base_uri": "https://localhost:8080/"
        },
        "outputId": "2b3c40dd-ca85-46c1-8f09-c2f782a1f5f4"
      },
      "execution_count": 6,
      "outputs": [
        {
          "output_type": "execute_result",
          "data": {
            "text/plain": [
              "0        1\n",
              "1        1\n",
              "2        1\n",
              "3        0\n",
              "4        1\n",
              "        ..\n",
              "29995    0\n",
              "29996    1\n",
              "29997    0\n",
              "29998    1\n",
              "29999    0\n",
              "Name: label, Length: 30000, dtype: int64"
            ]
          },
          "metadata": {},
          "execution_count": 6
        }
      ]
    },
    {
      "cell_type": "code",
      "source": [
        "from sklearn.feature_extraction.text import TfidfVectorizer as mulgul_engcvt\n",
        "\n",
        "mulgul_eng_AY = mulgul_engcvt(analyzer='char', ngram_range= (1,1))\n",
        "mulgul_engX = mulgul_eng_AY.fit_transform(mulgul_eng['text'].values.astype('U')).toarray()"
      ],
      "metadata": {
        "id": "Bdntoczrr7kw"
      },
      "execution_count": 7,
      "outputs": []
    },
    {
      "cell_type": "code",
      "source": [
        "print(mulgul_engX)"
      ],
      "metadata": {
        "id": "i8MUk89wsYw4",
        "colab": {
          "base_uri": "https://localhost:8080/"
        },
        "outputId": "48acc4e3-21a7-4587-f377-11ee94598f7d"
      },
      "execution_count": 8,
      "outputs": [
        {
          "output_type": "stream",
          "name": "stdout",
          "text": [
            "[[0.57892077 0.2611502  0.0672667  ... 0.01424629 0.06197869 0.00488827]\n",
            " [0.39981329 0.39977331 0.         ... 0.         0.26913124 0.        ]\n",
            " [0.4510741  0.24806595 0.         ... 0.02669597 0.02277278 0.        ]\n",
            " ...\n",
            " [0.49078218 0.26848079 0.05059424 ... 0.00420957 0.04488672 0.        ]\n",
            " [0.52501742 0.28544968 0.04668153 ... 0.00699124 0.07222846 0.00799625]\n",
            " [0.51391005 0.24052959 0.0296293  ... 0.01294247 0.04416186 0.01973731]]\n"
          ]
        }
      ]
    },
    {
      "cell_type": "code",
      "source": [
        "mulgul_gerX = mulgul_ger.drop('Fake',axis=1)\n",
        "mulgul_gerX"
      ],
      "metadata": {
        "colab": {
          "base_uri": "https://localhost:8080/",
          "height": 423
        },
        "id": "Lxxk2xvyIziq",
        "outputId": "06f19bb8-ea69-4386-8b41-c1a455cb14fa"
      },
      "execution_count": 9,
      "outputs": [
        {
          "output_type": "execute_result",
          "data": {
            "text/plain": [
              "                                                    Body\n",
              "0      sondierungsgespr che union spd endeten komprom...\n",
              "1      medizinisch offiziell best tigt milit r rztlic...\n",
              "2      z he verhandlungen freien demokraten k nnen zu...\n",
              "3      treibt immer sp t nacht herum joachim sauer be...\n",
              "4      parteivorstand dr ckt nochmal auge nachdem noa...\n",
              "...                                                  ...\n",
              "29995  krisengebeutelte europ ische automobilmarkt ta...\n",
              "29996  us kabelkonzern liberty global bieterrennen ka...\n",
              "29997  angesichts tiefen rezession euro zone fasst ez...\n",
              "29998  commerzbank fallen n chsten jahren voraussicht...\n",
              "29999  bundesbank chef jens weidmann weiche auslegung...\n",
              "\n",
              "[30000 rows x 1 columns]"
            ],
            "text/html": [
              "\n",
              "  <div id=\"df-bbe5c0d3-d3c0-4248-bf66-d12ff4bee23e\" class=\"colab-df-container\">\n",
              "    <div>\n",
              "<style scoped>\n",
              "    .dataframe tbody tr th:only-of-type {\n",
              "        vertical-align: middle;\n",
              "    }\n",
              "\n",
              "    .dataframe tbody tr th {\n",
              "        vertical-align: top;\n",
              "    }\n",
              "\n",
              "    .dataframe thead th {\n",
              "        text-align: right;\n",
              "    }\n",
              "</style>\n",
              "<table border=\"1\" class=\"dataframe\">\n",
              "  <thead>\n",
              "    <tr style=\"text-align: right;\">\n",
              "      <th></th>\n",
              "      <th>Body</th>\n",
              "    </tr>\n",
              "  </thead>\n",
              "  <tbody>\n",
              "    <tr>\n",
              "      <th>0</th>\n",
              "      <td>sondierungsgespr che union spd endeten komprom...</td>\n",
              "    </tr>\n",
              "    <tr>\n",
              "      <th>1</th>\n",
              "      <td>medizinisch offiziell best tigt milit r rztlic...</td>\n",
              "    </tr>\n",
              "    <tr>\n",
              "      <th>2</th>\n",
              "      <td>z he verhandlungen freien demokraten k nnen zu...</td>\n",
              "    </tr>\n",
              "    <tr>\n",
              "      <th>3</th>\n",
              "      <td>treibt immer sp t nacht herum joachim sauer be...</td>\n",
              "    </tr>\n",
              "    <tr>\n",
              "      <th>4</th>\n",
              "      <td>parteivorstand dr ckt nochmal auge nachdem noa...</td>\n",
              "    </tr>\n",
              "    <tr>\n",
              "      <th>...</th>\n",
              "      <td>...</td>\n",
              "    </tr>\n",
              "    <tr>\n",
              "      <th>29995</th>\n",
              "      <td>krisengebeutelte europ ische automobilmarkt ta...</td>\n",
              "    </tr>\n",
              "    <tr>\n",
              "      <th>29996</th>\n",
              "      <td>us kabelkonzern liberty global bieterrennen ka...</td>\n",
              "    </tr>\n",
              "    <tr>\n",
              "      <th>29997</th>\n",
              "      <td>angesichts tiefen rezession euro zone fasst ez...</td>\n",
              "    </tr>\n",
              "    <tr>\n",
              "      <th>29998</th>\n",
              "      <td>commerzbank fallen n chsten jahren voraussicht...</td>\n",
              "    </tr>\n",
              "    <tr>\n",
              "      <th>29999</th>\n",
              "      <td>bundesbank chef jens weidmann weiche auslegung...</td>\n",
              "    </tr>\n",
              "  </tbody>\n",
              "</table>\n",
              "<p>30000 rows × 1 columns</p>\n",
              "</div>\n",
              "    <div class=\"colab-df-buttons\">\n",
              "\n",
              "  <div class=\"colab-df-container\">\n",
              "    <button class=\"colab-df-convert\" onclick=\"convertToInteractive('df-bbe5c0d3-d3c0-4248-bf66-d12ff4bee23e')\"\n",
              "            title=\"Convert this dataframe to an interactive table.\"\n",
              "            style=\"display:none;\">\n",
              "\n",
              "  <svg xmlns=\"http://www.w3.org/2000/svg\" height=\"24px\" viewBox=\"0 -960 960 960\">\n",
              "    <path d=\"M120-120v-720h720v720H120Zm60-500h600v-160H180v160Zm220 220h160v-160H400v160Zm0 220h160v-160H400v160ZM180-400h160v-160H180v160Zm440 0h160v-160H620v160ZM180-180h160v-160H180v160Zm440 0h160v-160H620v160Z\"/>\n",
              "  </svg>\n",
              "    </button>\n",
              "\n",
              "  <style>\n",
              "    .colab-df-container {\n",
              "      display:flex;\n",
              "      gap: 12px;\n",
              "    }\n",
              "\n",
              "    .colab-df-convert {\n",
              "      background-color: #E8F0FE;\n",
              "      border: none;\n",
              "      border-radius: 50%;\n",
              "      cursor: pointer;\n",
              "      display: none;\n",
              "      fill: #1967D2;\n",
              "      height: 32px;\n",
              "      padding: 0 0 0 0;\n",
              "      width: 32px;\n",
              "    }\n",
              "\n",
              "    .colab-df-convert:hover {\n",
              "      background-color: #E2EBFA;\n",
              "      box-shadow: 0px 1px 2px rgba(60, 64, 67, 0.3), 0px 1px 3px 1px rgba(60, 64, 67, 0.15);\n",
              "      fill: #174EA6;\n",
              "    }\n",
              "\n",
              "    .colab-df-buttons div {\n",
              "      margin-bottom: 4px;\n",
              "    }\n",
              "\n",
              "    [theme=dark] .colab-df-convert {\n",
              "      background-color: #3B4455;\n",
              "      fill: #D2E3FC;\n",
              "    }\n",
              "\n",
              "    [theme=dark] .colab-df-convert:hover {\n",
              "      background-color: #434B5C;\n",
              "      box-shadow: 0px 1px 3px 1px rgba(0, 0, 0, 0.15);\n",
              "      filter: drop-shadow(0px 1px 2px rgba(0, 0, 0, 0.3));\n",
              "      fill: #FFFFFF;\n",
              "    }\n",
              "  </style>\n",
              "\n",
              "    <script>\n",
              "      const buttonEl =\n",
              "        document.querySelector('#df-bbe5c0d3-d3c0-4248-bf66-d12ff4bee23e button.colab-df-convert');\n",
              "      buttonEl.style.display =\n",
              "        google.colab.kernel.accessAllowed ? 'block' : 'none';\n",
              "\n",
              "      async function convertToInteractive(key) {\n",
              "        const element = document.querySelector('#df-bbe5c0d3-d3c0-4248-bf66-d12ff4bee23e');\n",
              "        const dataTable =\n",
              "          await google.colab.kernel.invokeFunction('convertToInteractive',\n",
              "                                                    [key], {});\n",
              "        if (!dataTable) return;\n",
              "\n",
              "        const docLinkHtml = 'Like what you see? Visit the ' +\n",
              "          '<a target=\"_blank\" href=https://colab.research.google.com/notebooks/data_table.ipynb>data table notebook</a>'\n",
              "          + ' to learn more about interactive tables.';\n",
              "        element.innerHTML = '';\n",
              "        dataTable['output_type'] = 'display_data';\n",
              "        await google.colab.output.renderOutput(dataTable, element);\n",
              "        const docLink = document.createElement('div');\n",
              "        docLink.innerHTML = docLinkHtml;\n",
              "        element.appendChild(docLink);\n",
              "      }\n",
              "    </script>\n",
              "  </div>\n",
              "\n",
              "\n",
              "<div id=\"df-954b37f6-cbad-4418-9fdc-b069004d0c74\">\n",
              "  <button class=\"colab-df-quickchart\" onclick=\"quickchart('df-954b37f6-cbad-4418-9fdc-b069004d0c74')\"\n",
              "            title=\"Suggest charts\"\n",
              "            style=\"display:none;\">\n",
              "\n",
              "<svg xmlns=\"http://www.w3.org/2000/svg\" height=\"24px\"viewBox=\"0 0 24 24\"\n",
              "     width=\"24px\">\n",
              "    <g>\n",
              "        <path d=\"M19 3H5c-1.1 0-2 .9-2 2v14c0 1.1.9 2 2 2h14c1.1 0 2-.9 2-2V5c0-1.1-.9-2-2-2zM9 17H7v-7h2v7zm4 0h-2V7h2v10zm4 0h-2v-4h2v4z\"/>\n",
              "    </g>\n",
              "</svg>\n",
              "  </button>\n",
              "\n",
              "<style>\n",
              "  .colab-df-quickchart {\n",
              "      --bg-color: #E8F0FE;\n",
              "      --fill-color: #1967D2;\n",
              "      --hover-bg-color: #E2EBFA;\n",
              "      --hover-fill-color: #174EA6;\n",
              "      --disabled-fill-color: #AAA;\n",
              "      --disabled-bg-color: #DDD;\n",
              "  }\n",
              "\n",
              "  [theme=dark] .colab-df-quickchart {\n",
              "      --bg-color: #3B4455;\n",
              "      --fill-color: #D2E3FC;\n",
              "      --hover-bg-color: #434B5C;\n",
              "      --hover-fill-color: #FFFFFF;\n",
              "      --disabled-bg-color: #3B4455;\n",
              "      --disabled-fill-color: #666;\n",
              "  }\n",
              "\n",
              "  .colab-df-quickchart {\n",
              "    background-color: var(--bg-color);\n",
              "    border: none;\n",
              "    border-radius: 50%;\n",
              "    cursor: pointer;\n",
              "    display: none;\n",
              "    fill: var(--fill-color);\n",
              "    height: 32px;\n",
              "    padding: 0;\n",
              "    width: 32px;\n",
              "  }\n",
              "\n",
              "  .colab-df-quickchart:hover {\n",
              "    background-color: var(--hover-bg-color);\n",
              "    box-shadow: 0 1px 2px rgba(60, 64, 67, 0.3), 0 1px 3px 1px rgba(60, 64, 67, 0.15);\n",
              "    fill: var(--button-hover-fill-color);\n",
              "  }\n",
              "\n",
              "  .colab-df-quickchart-complete:disabled,\n",
              "  .colab-df-quickchart-complete:disabled:hover {\n",
              "    background-color: var(--disabled-bg-color);\n",
              "    fill: var(--disabled-fill-color);\n",
              "    box-shadow: none;\n",
              "  }\n",
              "\n",
              "  .colab-df-spinner {\n",
              "    border: 2px solid var(--fill-color);\n",
              "    border-color: transparent;\n",
              "    border-bottom-color: var(--fill-color);\n",
              "    animation:\n",
              "      spin 1s steps(1) infinite;\n",
              "  }\n",
              "\n",
              "  @keyframes spin {\n",
              "    0% {\n",
              "      border-color: transparent;\n",
              "      border-bottom-color: var(--fill-color);\n",
              "      border-left-color: var(--fill-color);\n",
              "    }\n",
              "    20% {\n",
              "      border-color: transparent;\n",
              "      border-left-color: var(--fill-color);\n",
              "      border-top-color: var(--fill-color);\n",
              "    }\n",
              "    30% {\n",
              "      border-color: transparent;\n",
              "      border-left-color: var(--fill-color);\n",
              "      border-top-color: var(--fill-color);\n",
              "      border-right-color: var(--fill-color);\n",
              "    }\n",
              "    40% {\n",
              "      border-color: transparent;\n",
              "      border-right-color: var(--fill-color);\n",
              "      border-top-color: var(--fill-color);\n",
              "    }\n",
              "    60% {\n",
              "      border-color: transparent;\n",
              "      border-right-color: var(--fill-color);\n",
              "    }\n",
              "    80% {\n",
              "      border-color: transparent;\n",
              "      border-right-color: var(--fill-color);\n",
              "      border-bottom-color: var(--fill-color);\n",
              "    }\n",
              "    90% {\n",
              "      border-color: transparent;\n",
              "      border-bottom-color: var(--fill-color);\n",
              "    }\n",
              "  }\n",
              "</style>\n",
              "\n",
              "  <script>\n",
              "    async function quickchart(key) {\n",
              "      const quickchartButtonEl =\n",
              "        document.querySelector('#' + key + ' button');\n",
              "      quickchartButtonEl.disabled = true;  // To prevent multiple clicks.\n",
              "      quickchartButtonEl.classList.add('colab-df-spinner');\n",
              "      try {\n",
              "        const charts = await google.colab.kernel.invokeFunction(\n",
              "            'suggestCharts', [key], {});\n",
              "      } catch (error) {\n",
              "        console.error('Error during call to suggestCharts:', error);\n",
              "      }\n",
              "      quickchartButtonEl.classList.remove('colab-df-spinner');\n",
              "      quickchartButtonEl.classList.add('colab-df-quickchart-complete');\n",
              "    }\n",
              "    (() => {\n",
              "      let quickchartButtonEl =\n",
              "        document.querySelector('#df-954b37f6-cbad-4418-9fdc-b069004d0c74 button');\n",
              "      quickchartButtonEl.style.display =\n",
              "        google.colab.kernel.accessAllowed ? 'block' : 'none';\n",
              "    })();\n",
              "  </script>\n",
              "</div>\n",
              "    </div>\n",
              "  </div>\n"
            ]
          },
          "metadata": {},
          "execution_count": 9
        }
      ]
    },
    {
      "cell_type": "code",
      "source": [
        "mulgul_gerY = mulgul_ger['Fake']\n",
        "mulgul_gerY"
      ],
      "metadata": {
        "colab": {
          "base_uri": "https://localhost:8080/"
        },
        "id": "A4w2bpRKJjrc",
        "outputId": "3cdb68fa-4edc-4fe7-ec05-8f5f3ac2a330"
      },
      "execution_count": 10,
      "outputs": [
        {
          "output_type": "execute_result",
          "data": {
            "text/plain": [
              "0        1\n",
              "1        1\n",
              "2        1\n",
              "3        1\n",
              "4        1\n",
              "        ..\n",
              "29995    0\n",
              "29996    0\n",
              "29997    0\n",
              "29998    0\n",
              "29999    0\n",
              "Name: Fake, Length: 30000, dtype: int64"
            ]
          },
          "metadata": {},
          "execution_count": 10
        }
      ]
    },
    {
      "cell_type": "code",
      "source": [
        "mulgul_ger_AY = mulgul_engcvt(analyzer='char', ngram_range= (1,1))\n",
        "mulgul_gerX = mulgul_ger_AY.fit_transform(mulgul_ger['Body'].values.astype('U')).toarray()"
      ],
      "metadata": {
        "id": "r1jHWXFNKBUJ"
      },
      "execution_count": 11,
      "outputs": []
    },
    {
      "cell_type": "code",
      "source": [
        "print(mulgul_gerX)"
      ],
      "metadata": {
        "colab": {
          "base_uri": "https://localhost:8080/"
        },
        "id": "-Q6ENXYIKtfX",
        "outputId": "a0c062c8-f69a-47a6-e075-9e6823b00d07"
      },
      "execution_count": 12,
      "outputs": [
        {
          "output_type": "stream",
          "name": "stdout",
          "text": [
            "[[0.43000932 0.20495771 0.04822856 ... 0.00622332 0.01132334 0.03620037]\n",
            " [0.51844098 0.16040163 0.05442561 ... 0.0133067  0.00807052 0.03440158]\n",
            " [0.53275549 0.1717627  0.03202569 ... 0.         0.         0.07284391]\n",
            " ...\n",
            " [0.47660857 0.19210243 0.07052332 ... 0.0037656  0.         0.09005003]\n",
            " [0.44799407 0.2315475  0.14598533 ... 0.         0.01418283 0.06045607]\n",
            " [0.48860776 0.19906242 0.06635856 ... 0.         0.         0.08452394]]\n"
          ]
        }
      ]
    },
    {
      "cell_type": "code",
      "source": [
        "from imblearn.over_sampling import RandomOverSampler as mulgul_gerrmo\n",
        "from collections import Counter as mulgul_gerctr\n",
        "print('In starting mulgul_ger datashape %s' % mulgul_gerctr(mulgul_gerY))\n",
        "Mdd= mulgul_gerrmo()\n",
        "mulgul_gerX, mulgul_gerY = Mdd.fit_resample(mulgul_gerX, mulgul_gerY)\n",
        "print('After applying random oversampling mulgul_ger datashape %s' % mulgul_gerctr(mulgul_gerY))"
      ],
      "metadata": {
        "colab": {
          "base_uri": "https://localhost:8080/"
        },
        "id": "zyjnVXCD6xKa",
        "outputId": "11b22099-676e-420a-ca83-a6f714ea56cd"
      },
      "execution_count": 13,
      "outputs": [
        {
          "output_type": "stream",
          "name": "stdout",
          "text": [
            "In starting mulgul_ger datashape Counter({0: 27960, 1: 2040})\n",
            "After applying random oversampling mulgul_ger datashape Counter({1: 27960, 0: 27960})\n"
          ]
        }
      ]
    },
    {
      "cell_type": "code",
      "source": [
        "from sklearn.model_selection import train_test_split as mulgul_engnst\n",
        "from sklearn.metrics import classification_report as mulgul_engcla\n",
        "from sklearn.metrics import confusion_matrix as mulgul_engcon\n",
        "from sklearn.metrics import ConfusionMatrixDisplay as mulgul_engcma\n",
        "import time as mulgul_engtim\n",
        "from sklearn.model_selection import GridSearchCV as mulgul_enggri\n",
        "from sklearn.ensemble import VotingClassifier as mulgul_engvtg\n",
        "import numpy as mulgul_engny\n",
        "from sklearn.svm import SVC as mulgul_engsvet\n",
        "from sklearn.naive_bayes import GaussianNB as mulgulnvbs\n",
        "from sklearn.tree import DecisionTreeClassifier as mulguldesi\n",
        "from sklearn.ensemble import RandomForestClassifier as mulgulromf\n",
        "from sklearn.neighbors import KNeighborsClassifier as mulgulkgh\n",
        "from sklearn.neural_network import MLPClassifier as mulgulmlt"
      ],
      "metadata": {
        "id": "n7g25HI7W5TT"
      },
      "execution_count": 14,
      "outputs": []
    },
    {
      "cell_type": "code",
      "source": [
        "ger_rast= 42\n",
        "ger_tze=0.5\n",
        "# {{{test,validation=50%,50%}}}\n",
        "mulgul_gerXL, mulgul_gerXE, mulgul_gerYL, mulgul_gerYE = mulgul_engnst(mulgul_gerX, mulgul_gerY, test_size= ger_tze, random_state= ger_rast)"
      ],
      "metadata": {
        "id": "AkmYQPTRWz8M"
      },
      "execution_count": 15,
      "outputs": []
    },
    {
      "cell_type": "code",
      "source": [
        "print(mulgul_gerXL.shape)\n",
        "print(mulgul_gerXE.shape)"
      ],
      "metadata": {
        "colab": {
          "base_uri": "https://localhost:8080/"
        },
        "id": "Hh9jHYA1YqVe",
        "outputId": "ccd4debf-551c-4af8-efa9-17ffc1d6a304"
      },
      "execution_count": 16,
      "outputs": [
        {
          "output_type": "stream",
          "name": "stdout",
          "text": [
            "(27960, 27)\n",
            "(27960, 27)\n"
          ]
        }
      ]
    },
    {
      "cell_type": "code",
      "source": [
        "import warnings as mulgul_engww\n",
        "mulgul_engww.filterwarnings(\"ignore\")"
      ],
      "metadata": {
        "id": "IwHnQsBdbzVN"
      },
      "execution_count": 17,
      "outputs": []
    },
    {
      "cell_type": "markdown",
      "source": [
        "#### Voting algorithm"
      ],
      "metadata": {
        "id": "btdyUujWY6Pp"
      }
    },
    {
      "cell_type": "markdown",
      "source": [
        "#### SVM & Naive bayes"
      ],
      "metadata": {
        "id": "OaILgGnx4H1r"
      }
    },
    {
      "cell_type": "code",
      "source": [
        "mulgul_Bst = {'voting': ['hard', 'soft']}\n",
        "\n",
        "mulgul_Mll1 = mulgul_engsvet(C=2.0,gamma='scale',kernel='rbf')\n",
        "\n",
        "mulgul_Mll2 = mulgulnvbs(var_smoothing=1e-09)\n",
        "\n",
        "mulgul_Mll = mulgul_engvtg(estimators=[('SVM', mulgul_Mll1), ('NB', mulgul_Mll2)])\n",
        "\n",
        "mulgul_Bst_Mll = mulgul_enggri(mulgul_Mll, mulgul_Bst,\n",
        "                         cv=2,\n",
        "                         verbose=1)\n",
        "mulgul_Bst_Mll.fit(mulgul_engX[:3000],mulgul_engY[:3000])\n",
        "\n",
        "print(\"Best parameters-mulgul_eng :\", mulgul_Bst_Mll.best_params_)\n",
        "print(\"Best Score : \", mulgul_Bst_Mll.best_score_)"
      ],
      "metadata": {
        "colab": {
          "base_uri": "https://localhost:8080/"
        },
        "id": "R_esoW8u4GoD",
        "outputId": "f6549844-b61d-4c5c-fcdc-7126d27ea13b"
      },
      "execution_count": 18,
      "outputs": [
        {
          "output_type": "stream",
          "name": "stdout",
          "text": [
            "Fitting 2 folds for each of 2 candidates, totalling 4 fits\n",
            "Best parameters-mulgul_eng : {'voting': 'hard'}\n",
            "Best Score :  0.6133333333333333\n"
          ]
        }
      ]
    },
    {
      "cell_type": "code",
      "source": [
        "mulgul_Bst_Mll.best_params_"
      ],
      "metadata": {
        "colab": {
          "base_uri": "https://localhost:8080/"
        },
        "id": "LMc09X5V641b",
        "outputId": "75ac30e9-fd9c-42f5-9b8a-80cf87e2adc5"
      },
      "execution_count": 19,
      "outputs": [
        {
          "output_type": "execute_result",
          "data": {
            "text/plain": [
              "{'voting': 'hard'}"
            ]
          },
          "metadata": {},
          "execution_count": 19
        }
      ]
    },
    {
      "cell_type": "code",
      "source": [
        "mul_pd1 = mulgul_engtim.time()\n",
        "\n",
        "mulgul_Mll = mulgul_engvtg(estimators=[('SVM', mulgul_Mll1), ('NB', mulgul_Mll2)], voting='hard')\n",
        "mulgul_Mll.fit(mulgul_engX,mulgul_engY)\n",
        "\n",
        "mul_pd2 = mulgul_engtim.time()\n",
        "print(\"\\n training duration :\", mul_pd2-mul_pd1,\"\\n\")\n",
        "\n",
        "mul_pd1 = mulgul_engtim.time()\n",
        "\n",
        "mulgul_Pcet = mulgul_Mll.predict(mulgul_gerXL)\n",
        "print(mulgul_engcla(mulgul_gerYL,mulgul_Pcet))\n",
        "mul_pl = mulgul_engcon(mulgul_gerYL,mulgul_Pcet)\n",
        "mul_wd = mulgul_engcma(confusion_matrix = mul_pl, display_labels = [0, 1])\n",
        "mul_wd.plot()\n",
        "\n",
        "mul_pd2 = mulgul_engtim.time()\n",
        "print(\"\\n validation duration :\", mul_pd2-mul_pd1,\"\\n\")"
      ],
      "metadata": {
        "colab": {
          "base_uri": "https://localhost:8080/",
          "height": 723
        },
        "id": "H9HhjYsE6_CD",
        "outputId": "b1797913-bb33-480b-8e31-f543e7e7f311"
      },
      "execution_count": 20,
      "outputs": [
        {
          "output_type": "stream",
          "name": "stdout",
          "text": [
            "\n",
            " training duration : 54.47314977645874 \n",
            "\n",
            "              precision    recall  f1-score   support\n",
            "\n",
            "           0       0.82      0.05      0.10     14006\n",
            "           1       0.51      0.99      0.67     13954\n",
            "\n",
            "    accuracy                           0.52     27960\n",
            "   macro avg       0.67      0.52      0.39     27960\n",
            "weighted avg       0.67      0.52      0.38     27960\n",
            "\n",
            "\n",
            " validation duration : 49.39089298248291 \n",
            "\n"
          ]
        },
        {
          "output_type": "display_data",
          "data": {
            "text/plain": [
              "<Figure size 640x480 with 2 Axes>"
            ],
            "image/png": "[encoded data removed]"
          },
          "metadata": {}
        }
      ]
    },
    {
      "cell_type": "code",
      "source": [
        "mul_pd1 = mulgul_engtim.time()\n",
        "\n",
        "mulgul_Pcet = mulgul_Mll.predict(mulgul_gerXE)\n",
        "print(mulgul_engcla(mulgul_gerYE,mulgul_Pcet))\n",
        "mul_pl = mulgul_engcon(mulgul_gerYE,mulgul_Pcet)\n",
        "mul_wd = mulgul_engcma(confusion_matrix = mul_pl, display_labels = [0, 1])\n",
        "mul_wd.plot()\n",
        "\n",
        "mul_pd2 = mulgul_engtim.time()\n",
        "print(\"\\n testing duration :\", mul_pd2-mul_pd1,\"\\n\")"
      ],
      "metadata": {
        "colab": {
          "base_uri": "https://localhost:8080/",
          "height": 668
        },
        "id": "_jGNx9hQ7uPn",
        "outputId": "6cee42bd-3b8e-4816-e4dc-6c2c782b0ce4"
      },
      "execution_count": 21,
      "outputs": [
        {
          "output_type": "stream",
          "name": "stdout",
          "text": [
            "              precision    recall  f1-score   support\n",
            "\n",
            "           0       0.82      0.05      0.10     13954\n",
            "           1       0.51      0.99      0.67     14006\n",
            "\n",
            "    accuracy                           0.52     27960\n",
            "   macro avg       0.67      0.52      0.39     27960\n",
            "weighted avg       0.67      0.52      0.39     27960\n",
            "\n",
            "\n",
            " testing duration : 48.16839289665222 \n",
            "\n"
          ]
        },
        {
          "output_type": "display_data",
          "data": {
            "text/plain": [
              "<Figure size 640x480 with 2 Axes>"
            ],
            "image/png": "[encoded data removed]"
          },
          "metadata": {}
        }
      ]
    },
    {
      "cell_type": "markdown",
      "source": [
        "#### Naive bayes & Decision tree"
      ],
      "metadata": {
        "id": "xLKEW-UG8IML"
      }
    },
    {
      "cell_type": "code",
      "source": [
        "mulgul_Bst = {'voting': ['hard', 'soft']}\n",
        "\n",
        "mulgul_Mll1 = mulgulnvbs(var_smoothing=1e-09)\n",
        "\n",
        "mulgul_Mll2 = mulguldesi(criterion='gini',max_features='sqrt',splitter='best')\n",
        "\n",
        "mulgul_Mll = mulgul_engvtg(estimators=[('NB', mulgul_Mll1), ('DT', mulgul_Mll2)])\n",
        "\n",
        "mulgul_Bst_Mll = mulgul_enggri(mulgul_Mll, mulgul_Bst,\n",
        "                         cv=2,\n",
        "                         verbose=1)\n",
        "mulgul_Bst_Mll.fit(mulgul_engX[:3000],mulgul_engY[:3000])\n",
        "\n",
        "print(\"Best parameters-mulgul_eng :\", mulgul_Bst_Mll.best_params_)\n",
        "print(\"Best Score : \", mulgul_Bst_Mll.best_score_)"
      ],
      "metadata": {
        "colab": {
          "base_uri": "https://localhost:8080/"
        },
        "id": "7NHP-yD38IqH",
        "outputId": "e4a1be45-38a4-4dc5-f3b8-62e002b714da"
      },
      "execution_count": 22,
      "outputs": [
        {
          "output_type": "stream",
          "name": "stdout",
          "text": [
            "Fitting 2 folds for each of 2 candidates, totalling 4 fits\n",
            "Best parameters-mulgul_eng : {'voting': 'soft'}\n",
            "Best Score :  0.5743333333333334\n"
          ]
        }
      ]
    },
    {
      "cell_type": "code",
      "source": [
        "mulgul_Bst_Mll.best_params_"
      ],
      "metadata": {
        "colab": {
          "base_uri": "https://localhost:8080/"
        },
        "id": "4oCT_i9S8XUZ",
        "outputId": "8864d781-3c7d-473b-f2e2-968d8af83010"
      },
      "execution_count": 23,
      "outputs": [
        {
          "output_type": "execute_result",
          "data": {
            "text/plain": [
              "{'voting': 'soft'}"
            ]
          },
          "metadata": {},
          "execution_count": 23
        }
      ]
    },
    {
      "cell_type": "code",
      "source": [
        "mul_pd1 = mulgul_engtim.time()\n",
        "\n",
        "mulgul_Mll = mulgul_engvtg(estimators=[('NB', mulgul_Mll1), ('DT', mulgul_Mll2)], voting='soft')\n",
        "mulgul_Mll.fit(mulgul_engX,mulgul_engY)\n",
        "\n",
        "mul_pd2 = mulgul_engtim.time()\n",
        "print(\"\\n training duration :\", mul_pd2-mul_pd1,\"\\n\")\n",
        "\n",
        "mul_pd1 = mulgul_engtim.time()\n",
        "\n",
        "mulgul_Pcet = mulgul_Mll.predict(mulgul_gerXL)\n",
        "print(mulgul_engcla(mulgul_gerYL,mulgul_Pcet))\n",
        "mul_pl = mulgul_engcon(mulgul_gerYL,mulgul_Pcet)\n",
        "mul_wd = mulgul_engcma(confusion_matrix = mul_pl, display_labels = [0, 1])\n",
        "mul_wd.plot()\n",
        "\n",
        "mul_pd2 = mulgul_engtim.time()\n",
        "print(\"\\n validation duration :\", mul_pd2-mul_pd1,\"\\n\")"
      ],
      "metadata": {
        "colab": {
          "base_uri": "https://localhost:8080/",
          "height": 728
        },
        "id": "YfT4cfyC9ADX",
        "outputId": "ec219263-dfb5-461e-ce62-9534841dfc22"
      },
      "execution_count": 24,
      "outputs": [
        {
          "output_type": "stream",
          "name": "stdout",
          "text": [
            "\n",
            " training duration : 0.3736889362335205 \n",
            "\n",
            "              precision    recall  f1-score   support\n",
            "\n",
            "           0       0.52      0.23      0.32     14006\n",
            "           1       0.51      0.79      0.62     13954\n",
            "\n",
            "    accuracy                           0.51     27960\n",
            "   macro avg       0.52      0.51      0.47     27960\n",
            "weighted avg       0.52      0.51      0.47     27960\n",
            "\n",
            "\n",
            " validation duration : 0.1389937400817871 \n",
            "\n"
          ]
        },
        {
          "output_type": "display_data",
          "data": {
            "text/plain": [
              "<Figure size 640x480 with 2 Axes>"
            ],
            "image/png": "[encoded data removed]"
          },
          "metadata": {}
        }
      ]
    },
    {
      "cell_type": "code",
      "source": [
        "mul_pd1 = mulgul_engtim.time()\n",
        "\n",
        "mulgul_Pcet = mulgul_Mll.predict(mulgul_gerXE)\n",
        "print(mulgul_engcla(mulgul_gerYE,mulgul_Pcet))\n",
        "mul_pl = mulgul_engcon(mulgul_gerYE,mulgul_Pcet)\n",
        "mul_wd = mulgul_engcma(confusion_matrix = mul_pl, display_labels = [0, 1])\n",
        "mul_wd.plot()\n",
        "\n",
        "mul_pd2 = mulgul_engtim.time()\n",
        "print(\"\\n testing duration :\", mul_pd2-mul_pd1,\"\\n\")"
      ],
      "metadata": {
        "colab": {
          "base_uri": "https://localhost:8080/",
          "height": 672
        },
        "id": "54cvXql39Wu-",
        "outputId": "48302937-03dc-4870-d9cf-df6c41e500c4"
      },
      "execution_count": 25,
      "outputs": [
        {
          "output_type": "stream",
          "name": "stdout",
          "text": [
            "              precision    recall  f1-score   support\n",
            "\n",
            "           0       0.50      0.22      0.30     13954\n",
            "           1       0.50      0.79      0.61     14006\n",
            "\n",
            "    accuracy                           0.50     27960\n",
            "   macro avg       0.50      0.50      0.46     27960\n",
            "weighted avg       0.50      0.50      0.46     27960\n",
            "\n",
            "\n",
            " testing duration : 0.14098072052001953 \n",
            "\n"
          ]
        },
        {
          "output_type": "display_data",
          "data": {
            "text/plain": [
              "<Figure size 640x480 with 2 Axes>"
            ],
            "image/png": "[encoded data removed]"
          },
          "metadata": {}
        }
      ]
    },
    {
      "cell_type": "markdown",
      "source": [
        "#### Decision tree & Random forest"
      ],
      "metadata": {
        "id": "Ls24nvJc9d-m"
      }
    },
    {
      "cell_type": "code",
      "source": [
        "mulgul_Bst = {'voting': ['hard', 'soft']}\n",
        "\n",
        "mulgul_Mll1 = mulguldesi(criterion='gini',max_features='sqrt',splitter='best')\n",
        "\n",
        "mulgul_Mll2 = mulgulromf(criterion='gini',max_features='log2',n_estimators=200)\n",
        "\n",
        "mulgul_Mll = mulgul_engvtg(estimators=[('DT', mulgul_Mll1), ('RF', mulgul_Mll2)])\n",
        "\n",
        "mulgul_Bst_Mll = mulgul_enggri(mulgul_Mll, mulgul_Bst,\n",
        "                         cv=2,\n",
        "                         verbose=1)\n",
        "mulgul_Bst_Mll.fit(mulgul_engX[:3000],mulgul_engY[:3000])\n",
        "\n",
        "print(\"Best parameters-mulgul_eng :\", mulgul_Bst_Mll.best_params_)\n",
        "print(\"Best Score : \", mulgul_Bst_Mll.best_score_)"
      ],
      "metadata": {
        "colab": {
          "base_uri": "https://localhost:8080/"
        },
        "id": "l06W74m69nQV",
        "outputId": "8fe5a72f-6260-45f7-9914-4666a223f129"
      },
      "execution_count": 26,
      "outputs": [
        {
          "output_type": "stream",
          "name": "stdout",
          "text": [
            "Fitting 2 folds for each of 2 candidates, totalling 4 fits\n",
            "Best parameters-mulgul_eng : {'voting': 'hard'}\n",
            "Best Score :  0.645\n"
          ]
        }
      ]
    },
    {
      "cell_type": "code",
      "source": [
        "mulgul_Bst_Mll.best_params_"
      ],
      "metadata": {
        "colab": {
          "base_uri": "https://localhost:8080/"
        },
        "id": "cHGOXCKd-ZFc",
        "outputId": "ef25f5ed-8e38-4f38-db00-777e12d26b65"
      },
      "execution_count": 27,
      "outputs": [
        {
          "output_type": "execute_result",
          "data": {
            "text/plain": [
              "{'voting': 'hard'}"
            ]
          },
          "metadata": {},
          "execution_count": 27
        }
      ]
    },
    {
      "cell_type": "code",
      "source": [
        "mul_pd1 = mulgul_engtim.time()\n",
        "\n",
        "mulgul_Mll = mulgul_engvtg(estimators=[('DT', mulgul_Mll1), ('RF', mulgul_Mll2)], voting='hard')\n",
        "mulgul_Mll.fit(mulgul_engX,mulgul_engY)\n",
        "\n",
        "mul_pd2 = mulgul_engtim.time()\n",
        "print(\"\\n training duration :\", mul_pd2-mul_pd1,\"\\n\")\n",
        "\n",
        "mul_pd1 = mulgul_engtim.time()\n",
        "\n",
        "mulgul_Pcet = mulgul_Mll.predict(mulgul_gerXL)\n",
        "print(mulgul_engcla(mulgul_gerYL,mulgul_Pcet))\n",
        "mul_pl = mulgul_engcon(mulgul_gerYL,mulgul_Pcet)\n",
        "mul_wd = mulgul_engcma(confusion_matrix = mul_pl, display_labels = [0, 1])\n",
        "mul_wd.plot()\n",
        "\n",
        "mul_pd2 = mulgul_engtim.time()\n",
        "print(\"\\n validation duration :\", mul_pd2-mul_pd1,\"\\n\")"
      ],
      "metadata": {
        "colab": {
          "base_uri": "https://localhost:8080/",
          "height": 723
        },
        "id": "gJwZdVea-fWl",
        "outputId": "c9d861ca-ae2c-4fe1-cf4b-41c4392f3419"
      },
      "execution_count": 28,
      "outputs": [
        {
          "output_type": "stream",
          "name": "stdout",
          "text": [
            "\n",
            " training duration : 37.76397633552551 \n",
            "\n",
            "              precision    recall  f1-score   support\n",
            "\n",
            "           0       0.57      0.28      0.38     14006\n",
            "           1       0.52      0.79      0.63     13954\n",
            "\n",
            "    accuracy                           0.53     27960\n",
            "   macro avg       0.54      0.53      0.50     27960\n",
            "weighted avg       0.54      0.53      0.50     27960\n",
            "\n",
            "\n",
            " validation duration : 0.9556410312652588 \n",
            "\n"
          ]
        },
        {
          "output_type": "display_data",
          "data": {
            "text/plain": [
              "<Figure size 640x480 with 2 Axes>"
            ],
            "image/png": "[encoded data removed]"
          },
          "metadata": {}
        }
      ]
    },
    {
      "cell_type": "code",
      "source": [
        "mul_pd1 = mulgul_engtim.time()\n",
        "\n",
        "mulgul_Pcet = mulgul_Mll.predict(mulgul_gerXE)\n",
        "print(mulgul_engcla(mulgul_gerYE,mulgul_Pcet))\n",
        "mul_pl = mulgul_engcon(mulgul_gerYE,mulgul_Pcet)\n",
        "mul_wd = mulgul_engcma(confusion_matrix = mul_pl, display_labels = [0, 1])\n",
        "mul_wd.plot()\n",
        "\n",
        "mul_pd2 = mulgul_engtim.time()\n",
        "print(\"\\n testing duration :\", mul_pd2-mul_pd1,\"\\n\")"
      ],
      "metadata": {
        "colab": {
          "base_uri": "https://localhost:8080/",
          "height": 668
        },
        "id": "4T92iQiR-fjJ",
        "outputId": "b19da150-fa6e-4e39-9d19-85034d7751c2"
      },
      "execution_count": 29,
      "outputs": [
        {
          "output_type": "stream",
          "name": "stdout",
          "text": [
            "              precision    recall  f1-score   support\n",
            "\n",
            "           0       0.56      0.28      0.37     13954\n",
            "           1       0.52      0.78      0.62     14006\n",
            "\n",
            "    accuracy                           0.53     27960\n",
            "   macro avg       0.54      0.53      0.50     27960\n",
            "weighted avg       0.54      0.53      0.50     27960\n",
            "\n",
            "\n",
            " testing duration : 1.1464910507202148 \n",
            "\n"
          ]
        },
        {
          "output_type": "display_data",
          "data": {
            "text/plain": [
              "<Figure size 640x480 with 2 Axes>"
            ],
            "image/png": "[encoded data removed]"
          },
          "metadata": {}
        }
      ]
    },
    {
      "cell_type": "markdown",
      "source": [
        "#### Random forest & KNN"
      ],
      "metadata": {
        "id": "MvQhZRZ3_BaN"
      }
    },
    {
      "cell_type": "code",
      "source": [
        "mulgul_Bst = {'voting': ['hard', 'soft']}\n",
        "\n",
        "mulgul_Mll1 = mulgulromf(criterion='gini',max_features='log2',n_estimators=200)\n",
        "\n",
        "mulgul_Mll2 = mulgulkgh(algorithm='ball_tree',n_neighbors=8,weights='distance')\n",
        "\n",
        "mulgul_Mll = mulgul_engvtg(estimators=[('RF', mulgul_Mll1), ('KNN', mulgul_Mll2)])\n",
        "\n",
        "mulgul_Bst_Mll = mulgul_enggri(mulgul_Mll, mulgul_Bst,\n",
        "                         cv=2,\n",
        "                         verbose=1)\n",
        "mulgul_Bst_Mll.fit(mulgul_engX[:3000],mulgul_engY[:3000])\n",
        "\n",
        "print(\"Best parameters-mulgul_eng :\", mulgul_Bst_Mll.best_params_)\n",
        "print(\"Best Score : \", mulgul_Bst_Mll.best_score_)"
      ],
      "metadata": {
        "colab": {
          "base_uri": "https://localhost:8080/"
        },
        "id": "-SssrP1h_G9n",
        "outputId": "61e923a2-8eed-4408-d8a1-a12881c0a1b0"
      },
      "execution_count": 30,
      "outputs": [
        {
          "output_type": "stream",
          "name": "stdout",
          "text": [
            "Fitting 2 folds for each of 2 candidates, totalling 4 fits\n",
            "Best parameters-mulgul_eng : {'voting': 'soft'}\n",
            "Best Score :  0.6796666666666666\n"
          ]
        }
      ]
    },
    {
      "cell_type": "code",
      "source": [
        "mulgul_Bst_Mll.best_params_"
      ],
      "metadata": {
        "colab": {
          "base_uri": "https://localhost:8080/"
        },
        "id": "egbnwjen_HFI",
        "outputId": "fa53242e-f261-46ea-d147-29e402cc4d56"
      },
      "execution_count": 31,
      "outputs": [
        {
          "output_type": "execute_result",
          "data": {
            "text/plain": [
              "{'voting': 'soft'}"
            ]
          },
          "metadata": {},
          "execution_count": 31
        }
      ]
    },
    {
      "cell_type": "code",
      "source": [
        "mul_pd1 = mulgul_engtim.time()\n",
        "\n",
        "mulgul_Mll = mulgul_engvtg(estimators=[('RF', mulgul_Mll1), ('KNN', mulgul_Mll2)], voting='soft')\n",
        "mulgul_Mll.fit(mulgul_engX,mulgul_engY)\n",
        "\n",
        "mul_pd2 = mulgul_engtim.time()\n",
        "print(\"\\n training duration :\", mul_pd2-mul_pd1,\"\\n\")\n",
        "\n",
        "mul_pd1 = mulgul_engtim.time()\n",
        "\n",
        "mulgul_Pcet = mulgul_Mll.predict(mulgul_gerXL)\n",
        "print(mulgul_engcla(mulgul_gerYL,mulgul_Pcet))\n",
        "mul_pl = mulgul_engcon(mulgul_gerYL,mulgul_Pcet)\n",
        "mul_wd = mulgul_engcma(confusion_matrix = mul_pl, display_labels = [0, 1])\n",
        "mul_wd.plot()\n",
        "\n",
        "mul_pd2 = mulgul_engtim.time()\n",
        "print(\"\\n validation duration :\", mul_pd2-mul_pd1,\"\\n\")"
      ],
      "metadata": {
        "colab": {
          "base_uri": "https://localhost:8080/",
          "height": 723
        },
        "id": "bzCkunTXAAog",
        "outputId": "ea5b8617-ac13-4f51-c607-2de7c83e1e4c"
      },
      "execution_count": 32,
      "outputs": [
        {
          "output_type": "stream",
          "name": "stdout",
          "text": [
            "\n",
            " training duration : 52.461891174316406 \n",
            "\n",
            "              precision    recall  f1-score   support\n",
            "\n",
            "           0       0.80      0.04      0.08     14006\n",
            "           1       0.51      0.99      0.67     13954\n",
            "\n",
            "    accuracy                           0.51     27960\n",
            "   macro avg       0.65      0.51      0.37     27960\n",
            "weighted avg       0.65      0.51      0.37     27960\n",
            "\n",
            "\n",
            " validation duration : 67.01520490646362 \n",
            "\n"
          ]
        },
        {
          "output_type": "display_data",
          "data": {
            "text/plain": [
              "<Figure size 640x480 with 2 Axes>"
            ],
            "image/png": "[encoded data removed]"
          },
          "metadata": {}
        }
      ]
    },
    {
      "cell_type": "code",
      "source": [
        "mul_pd1 = mulgul_engtim.time()\n",
        "\n",
        "mulgul_Pcet = mulgul_Mll.predict(mulgul_gerXE)\n",
        "print(mulgul_engcla(mulgul_gerYE,mulgul_Pcet))\n",
        "mul_pl = mulgul_engcon(mulgul_gerYE,mulgul_Pcet)\n",
        "mul_wd = mulgul_engcma(confusion_matrix = mul_pl, display_labels = [0, 1])\n",
        "mul_wd.plot()\n",
        "\n",
        "mul_pd2 = mulgul_engtim.time()\n",
        "print(\"\\n testing duration :\", mul_pd2-mul_pd1,\"\\n\")"
      ],
      "metadata": {
        "colab": {
          "base_uri": "https://localhost:8080/",
          "height": 668
        },
        "id": "rAOcABan_HHF",
        "outputId": "9e31584c-5a74-4027-ab4a-91554d143c48"
      },
      "execution_count": 33,
      "outputs": [
        {
          "output_type": "stream",
          "name": "stdout",
          "text": [
            "              precision    recall  f1-score   support\n",
            "\n",
            "           0       0.79      0.04      0.07     13954\n",
            "           1       0.51      0.99      0.67     14006\n",
            "\n",
            "    accuracy                           0.51     27960\n",
            "   macro avg       0.65      0.51      0.37     27960\n",
            "weighted avg       0.65      0.51      0.37     27960\n",
            "\n",
            "\n",
            " testing duration : 71.46445608139038 \n",
            "\n"
          ]
        },
        {
          "output_type": "display_data",
          "data": {
            "text/plain": [
              "<Figure size 640x480 with 2 Axes>"
            ],
            "image/png": "[encoded data removed]"
          },
          "metadata": {}
        }
      ]
    },
    {
      "cell_type": "markdown",
      "source": [
        "#### KNN & MLP"
      ],
      "metadata": {
        "id": "ZeNta_raAqjy"
      }
    },
    {
      "cell_type": "code",
      "source": [
        "mulgul_Bst = {'voting': ['hard', 'soft']}\n",
        "\n",
        "mulgul_Mll1 = mulgulkgh(algorithm='ball_tree',n_neighbors=8,weights='distance')\n",
        "\n",
        "mulgul_Mll2 = mulgulmlt(activation='logistic',learning_rate='constant',solver='adam')\n",
        "\n",
        "mulgul_Mll = mulgul_engvtg(estimators=[('KNN', mulgul_Mll1), ('MLP', mulgul_Mll2)])\n",
        "\n",
        "mulgul_Bst_Mll = mulgul_enggri(mulgul_Mll, mulgul_Bst,\n",
        "                         cv=2,\n",
        "                         verbose=1)\n",
        "mulgul_Bst_Mll.fit(mulgul_engX[:3000],mulgul_engY[:3000])\n",
        "\n",
        "print(\"Best parameters-mulgul_eng :\", mulgul_Bst_Mll.best_params_)\n",
        "print(\"Best Score : \", mulgul_Bst_Mll.best_score_)"
      ],
      "metadata": {
        "colab": {
          "base_uri": "https://localhost:8080/"
        },
        "id": "-kib1MNyAxV5",
        "outputId": "2e3f59de-73d0-4177-e108-105b8bf472b4"
      },
      "execution_count": 34,
      "outputs": [
        {
          "output_type": "stream",
          "name": "stdout",
          "text": [
            "Fitting 2 folds for each of 2 candidates, totalling 4 fits\n",
            "Best parameters-mulgul_eng : {'voting': 'soft'}\n",
            "Best Score :  0.667\n"
          ]
        }
      ]
    },
    {
      "cell_type": "code",
      "source": [
        "mulgul_Bst_Mll.best_params_"
      ],
      "metadata": {
        "colab": {
          "base_uri": "https://localhost:8080/"
        },
        "id": "tP69kdQ5CM8b",
        "outputId": "9191b3e6-f9ed-453f-abab-c86b738e3706"
      },
      "execution_count": 35,
      "outputs": [
        {
          "output_type": "execute_result",
          "data": {
            "text/plain": [
              "{'voting': 'soft'}"
            ]
          },
          "metadata": {},
          "execution_count": 35
        }
      ]
    },
    {
      "cell_type": "code",
      "source": [
        "mul_pd1 = mulgul_engtim.time()\n",
        "\n",
        "mulgul_Mll = mulgul_engvtg(estimators=[('KNN', mulgul_Mll1), ('MLP', mulgul_Mll2)], voting='soft')\n",
        "mulgul_Mll.fit(mulgul_engX,mulgul_engY)\n",
        "\n",
        "mul_pd2 = mulgul_engtim.time()\n",
        "print(\"\\n training duration :\", mul_pd2-mul_pd1,\"\\n\")\n",
        "\n",
        "mul_pd1 = mulgul_engtim.time()\n",
        "\n",
        "mulgul_Pcet = mulgul_Mll.predict(mulgul_gerXL)\n",
        "print(mulgul_engcla(mulgul_gerYL,mulgul_Pcet))\n",
        "mul_pl = mulgul_engcon(mulgul_gerYL,mulgul_Pcet)\n",
        "mul_wd = mulgul_engcma(confusion_matrix = mul_pl, display_labels = [0, 1])\n",
        "mul_wd.plot()\n",
        "\n",
        "mul_pd2 = mulgul_engtim.time()\n",
        "print(\"\\n validation duration :\", mul_pd2-mul_pd1,\"\\n\")"
      ],
      "metadata": {
        "colab": {
          "base_uri": "https://localhost:8080/",
          "height": 723
        },
        "id": "CJd0ICFpCR4t",
        "outputId": "b829ec6a-c699-4437-9551-19a3f9727609"
      },
      "execution_count": 36,
      "outputs": [
        {
          "output_type": "stream",
          "name": "stdout",
          "text": [
            "\n",
            " training duration : 41.64416289329529 \n",
            "\n",
            "              precision    recall  f1-score   support\n",
            "\n",
            "           0       0.77      0.06      0.11     14006\n",
            "           1       0.51      0.98      0.67     13954\n",
            "\n",
            "    accuracy                           0.52     27960\n",
            "   macro avg       0.64      0.52      0.39     27960\n",
            "weighted avg       0.64      0.52      0.39     27960\n",
            "\n",
            "\n",
            " validation duration : 63.201839208602905 \n",
            "\n"
          ]
        },
        {
          "output_type": "display_data",
          "data": {
            "text/plain": [
              "<Figure size 640x480 with 2 Axes>"
            ],
            "image/png": "[encoded data removed]"
          },
          "metadata": {}
        }
      ]
    },
    {
      "cell_type": "code",
      "source": [
        "mul_pd1 = mulgul_engtim.time()\n",
        "\n",
        "mulgul_Pcet = mulgul_Mll.predict(mulgul_gerXE)\n",
        "print(mulgul_engcla(mulgul_gerYE,mulgul_Pcet))\n",
        "mul_pl = mulgul_engcon(mulgul_gerYE,mulgul_Pcet)\n",
        "mul_wd = mulgul_engcma(confusion_matrix = mul_pl, display_labels = [0, 1])\n",
        "mul_wd.plot()\n",
        "\n",
        "mul_pd2 = mulgul_engtim.time()\n",
        "print(\"\\n testing duration :\", mul_pd2-mul_pd1,\"\\n\")"
      ],
      "metadata": {
        "colab": {
          "base_uri": "https://localhost:8080/",
          "height": 668
        },
        "id": "EvHocysSCdD6",
        "outputId": "6ac2c4d1-11ba-4461-ec7e-13da9cf8617c"
      },
      "execution_count": 37,
      "outputs": [
        {
          "output_type": "stream",
          "name": "stdout",
          "text": [
            "              precision    recall  f1-score   support\n",
            "\n",
            "           0       0.76      0.06      0.11     13954\n",
            "           1       0.51      0.98      0.67     14006\n",
            "\n",
            "    accuracy                           0.52     27960\n",
            "   macro avg       0.64      0.52      0.39     27960\n",
            "weighted avg       0.64      0.52      0.39     27960\n",
            "\n",
            "\n",
            " testing duration : 65.54244995117188 \n",
            "\n"
          ]
        },
        {
          "output_type": "display_data",
          "data": {
            "text/plain": [
              "<Figure size 640x480 with 2 Axes>"
            ],
            "image/png": "[encoded data removed]"
          },
          "metadata": {}
        }
      ]
    },
    {
      "cell_type": "markdown",
      "source": [
        "#### SVM, Naive bayes & Decision tree"
      ],
      "metadata": {
        "id": "2jMxRFfxCou4"
      }
    },
    {
      "cell_type": "code",
      "source": [
        "mulgul_Bst = {'voting': ['hard', 'soft']}\n",
        "\n",
        "mulgul_Mll1 = mulgul_engsvet(C=2.0,gamma='scale',kernel='rbf')\n",
        "\n",
        "mulgul_Mll2 = mulgulnvbs(var_smoothing=1e-09)\n",
        "\n",
        "mulgul_Mll3 = mulguldesi(criterion='gini',max_features='sqrt',splitter='best')\n",
        "\n",
        "mulgul_Mll = mulgul_engvtg(estimators=[('SVM', mulgul_Mll1), ('NB', mulgul_Mll2), ('DT', mulgul_Mll3)])\n",
        "\n",
        "mulgul_Bst_Mll = mulgul_enggri(mulgul_Mll, mulgul_Bst,\n",
        "                         cv=2,\n",
        "                         verbose=1)\n",
        "mulgul_Bst_Mll.fit(mulgul_engX[:3000],mulgul_engY[:3000])\n",
        "\n",
        "print(\"Best parameters-mulgul_eng :\", mulgul_Bst_Mll.best_params_)\n",
        "print(\"Best Score : \", mulgul_Bst_Mll.best_score_)"
      ],
      "metadata": {
        "colab": {
          "base_uri": "https://localhost:8080/"
        },
        "id": "yI8s39ljCwaU",
        "outputId": "2cca4257-cbc9-4da9-b0c2-d7e2e03174a2"
      },
      "execution_count": 38,
      "outputs": [
        {
          "output_type": "stream",
          "name": "stdout",
          "text": [
            "Fitting 2 folds for each of 2 candidates, totalling 4 fits\n",
            "Best parameters-mulgul_eng : {'voting': 'hard'}\n",
            "Best Score :  0.6693333333333333\n"
          ]
        }
      ]
    },
    {
      "cell_type": "code",
      "source": [
        "mulgul_Bst_Mll.best_params_"
      ],
      "metadata": {
        "colab": {
          "base_uri": "https://localhost:8080/"
        },
        "id": "_qfRV8uzDO4P",
        "outputId": "1c16cfaa-dda2-4171-fc78-1c38d03e67d3"
      },
      "execution_count": 39,
      "outputs": [
        {
          "output_type": "execute_result",
          "data": {
            "text/plain": [
              "{'voting': 'hard'}"
            ]
          },
          "metadata": {},
          "execution_count": 39
        }
      ]
    },
    {
      "cell_type": "code",
      "source": [
        "mul_pd1 = mulgul_engtim.time()\n",
        "\n",
        "mulgul_Mll = mulgul_engvtg(estimators=[('SVM', mulgul_Mll1), ('NB', mulgul_Mll2), ('DT', mulgul_Mll3)], voting='hard')\n",
        "mulgul_Mll.fit(mulgul_engX,mulgul_engY)\n",
        "\n",
        "mul_pd2 = mulgul_engtim.time()\n",
        "print(\"\\n training duration :\", mul_pd2-mul_pd1,\"\\n\")\n",
        "\n",
        "mul_pd1 = mulgul_engtim.time()\n",
        "\n",
        "mulgul_Pcet = mulgul_Mll.predict(mulgul_gerXL)\n",
        "print(mulgul_engcla(mulgul_gerYL,mulgul_Pcet))\n",
        "mul_pl = mulgul_engcon(mulgul_gerYL,mulgul_Pcet)\n",
        "mul_wd = mulgul_engcma(confusion_matrix = mul_pl, display_labels = [0, 1])\n",
        "mul_wd.plot()\n",
        "\n",
        "mul_pd2 = mulgul_engtim.time()\n",
        "print(\"\\n validation duration :\", mul_pd2-mul_pd1,\"\\n\")"
      ],
      "metadata": {
        "colab": {
          "base_uri": "https://localhost:8080/",
          "height": 723
        },
        "id": "Jr_D7815DUCH",
        "outputId": "4f564c0f-cfcb-4693-efbe-c39464937946"
      },
      "execution_count": 40,
      "outputs": [
        {
          "output_type": "stream",
          "name": "stdout",
          "text": [
            "\n",
            " training duration : 53.421154499053955 \n",
            "\n",
            "              precision    recall  f1-score   support\n",
            "\n",
            "           0       0.82      0.04      0.08     14006\n",
            "           1       0.51      0.99      0.67     13954\n",
            "\n",
            "    accuracy                           0.52     27960\n",
            "   macro avg       0.66      0.52      0.37     27960\n",
            "weighted avg       0.66      0.52      0.37     27960\n",
            "\n",
            "\n",
            " validation duration : 49.44715595245361 \n",
            "\n"
          ]
        },
        {
          "output_type": "display_data",
          "data": {
            "text/plain": [
              "<Figure size 640x480 with 2 Axes>"
            ],
            "image/png": "[encoded data removed]"
          },
          "metadata": {}
        }
      ]
    },
    {
      "cell_type": "code",
      "source": [
        "mul_pd1 = mulgul_engtim.time()\n",
        "\n",
        "mulgul_Pcet = mulgul_Mll.predict(mulgul_gerXE)\n",
        "print(mulgul_engcla(mulgul_gerYE,mulgul_Pcet))\n",
        "mul_pl = mulgul_engcon(mulgul_gerYE,mulgul_Pcet)\n",
        "mul_wd = mulgul_engcma(confusion_matrix = mul_pl, display_labels = [0, 1])\n",
        "mul_wd.plot()\n",
        "\n",
        "mul_pd2 = mulgul_engtim.time()\n",
        "print(\"\\n testing duration :\", mul_pd2-mul_pd1,\"\\n\")"
      ],
      "metadata": {
        "colab": {
          "base_uri": "https://localhost:8080/",
          "height": 668
        },
        "id": "wgzR5naYDh4P",
        "outputId": "527942d2-20e4-4f34-e304-c6a7769053a3"
      },
      "execution_count": 41,
      "outputs": [
        {
          "output_type": "stream",
          "name": "stdout",
          "text": [
            "              precision    recall  f1-score   support\n",
            "\n",
            "           0       0.82      0.04      0.08     13954\n",
            "           1       0.51      0.99      0.67     14006\n",
            "\n",
            "    accuracy                           0.52     27960\n",
            "   macro avg       0.67      0.52      0.38     27960\n",
            "weighted avg       0.67      0.52      0.38     27960\n",
            "\n",
            "\n",
            " testing duration : 48.52042365074158 \n",
            "\n"
          ]
        },
        {
          "output_type": "display_data",
          "data": {
            "text/plain": [
              "<Figure size 640x480 with 2 Axes>"
            ],
            "image/png": "[encoded data removed]"
          },
          "metadata": {}
        }
      ]
    },
    {
      "cell_type": "markdown",
      "source": [
        "#### Random forest, KNN & MLP"
      ],
      "metadata": {
        "id": "KtM2tRGhDneX"
      }
    },
    {
      "cell_type": "code",
      "source": [
        "mulgul_Bst = {'voting': ['hard', 'soft']}\n",
        "\n",
        "mulgul_Mll1 = mulgulromf(criterion='gini',max_features='log2',n_estimators=200)\n",
        "\n",
        "mulgul_Mll2 = mulgulkgh(algorithm='ball_tree',n_neighbors=8,weights='distance')\n",
        "\n",
        "mulgul_Mll3 = mulgulmlt(activation='logistic',learning_rate='constant',solver='adam')\n",
        "\n",
        "mulgul_Mll = mulgul_engvtg(estimators=[('RF', mulgul_Mll1), ('KNN', mulgul_Mll2), ('MLP', mulgul_Mll3)])\n",
        "\n",
        "mulgul_Bst_Mll = mulgul_enggri(mulgul_Mll, mulgul_Bst,\n",
        "                         cv=2,\n",
        "                         verbose=1)\n",
        "mulgul_Bst_Mll.fit(mulgul_engX[:3000],mulgul_engY[:3000])\n",
        "\n",
        "print(\"Best parameters-mulgul_eng :\", mulgul_Bst_Mll.best_params_)\n",
        "print(\"Best Score : \", mulgul_Bst_Mll.best_score_)"
      ],
      "metadata": {
        "colab": {
          "base_uri": "https://localhost:8080/"
        },
        "id": "gAawTlDiDwt8",
        "outputId": "904d3a82-2a25-4d36-b7fa-e5d7f46a8613"
      },
      "execution_count": 42,
      "outputs": [
        {
          "output_type": "stream",
          "name": "stdout",
          "text": [
            "Fitting 2 folds for each of 2 candidates, totalling 4 fits\n",
            "Best parameters-mulgul_eng : {'voting': 'hard'}\n",
            "Best Score :  0.6963333333333332\n"
          ]
        }
      ]
    },
    {
      "cell_type": "code",
      "source": [
        "mulgul_Bst_Mll.best_params_"
      ],
      "metadata": {
        "colab": {
          "base_uri": "https://localhost:8080/"
        },
        "id": "heRWisQWDwvf",
        "outputId": "f0650744-b89b-45d7-a757-2ade6ee88fa6"
      },
      "execution_count": 43,
      "outputs": [
        {
          "output_type": "execute_result",
          "data": {
            "text/plain": [
              "{'voting': 'hard'}"
            ]
          },
          "metadata": {},
          "execution_count": 43
        }
      ]
    },
    {
      "cell_type": "code",
      "source": [
        "mul_pd1 = mulgul_engtim.time()\n",
        "\n",
        "mulgul_Mll = mulgul_engvtg(estimators=[('RF', mulgul_Mll1), ('KNN', mulgul_Mll2), ('MLP', mulgul_Mll3)], voting='hard')\n",
        "mulgul_Mll.fit(mulgul_engX,mulgul_engY)\n",
        "\n",
        "mul_pd2 = mulgul_engtim.time()\n",
        "print(\"\\n training duration :\", mul_pd2-mul_pd1,\"\\n\")\n",
        "\n",
        "mul_pd1 = mulgul_engtim.time()\n",
        "\n",
        "mulgul_Pcet = mulgul_Mll.predict(mulgul_gerXL)\n",
        "print(mulgul_engcla(mulgul_gerYL,mulgul_Pcet))\n",
        "mul_pl = mulgul_engcon(mulgul_gerYL,mulgul_Pcet)\n",
        "mul_wd = mulgul_engcma(confusion_matrix = mul_pl, display_labels = [0, 1])\n",
        "mul_wd.plot()\n",
        "\n",
        "mul_pd2 = mulgul_engtim.time()\n",
        "print(\"\\n validation duration :\", mul_pd2-mul_pd1,\"\\n\")"
      ],
      "metadata": {
        "colab": {
          "base_uri": "https://localhost:8080/",
          "height": 723
        },
        "id": "YFf9scF2DxCE",
        "outputId": "046c1df7-4c00-418d-8694-414c77e2bbb4"
      },
      "execution_count": 44,
      "outputs": [
        {
          "output_type": "stream",
          "name": "stdout",
          "text": [
            "\n",
            " training duration : 83.0557873249054 \n",
            "\n",
            "              precision    recall  f1-score   support\n",
            "\n",
            "           0       0.79      0.08      0.15     14006\n",
            "           1       0.51      0.98      0.67     13954\n",
            "\n",
            "    accuracy                           0.53     27960\n",
            "   macro avg       0.65      0.53      0.41     27960\n",
            "weighted avg       0.65      0.53      0.41     27960\n",
            "\n",
            "\n",
            " validation duration : 69.45622897148132 \n",
            "\n"
          ]
        },
        {
          "output_type": "display_data",
          "data": {
            "text/plain": [
              "<Figure size 640x480 with 2 Axes>"
            ],
            "image/png": "[encoded data removed]"
          },
          "metadata": {}
        }
      ]
    },
    {
      "cell_type": "code",
      "source": [
        "mul_pd1 = mulgul_engtim.time()\n",
        "\n",
        "mulgul_Pcet = mulgul_Mll.predict(mulgul_gerXE)\n",
        "print(mulgul_engcla(mulgul_gerYE,mulgul_Pcet))\n",
        "mul_pl = mulgul_engcon(mulgul_gerYE,mulgul_Pcet)\n",
        "mul_wd = mulgul_engcma(confusion_matrix = mul_pl, display_labels = [0, 1])\n",
        "mul_wd.plot()\n",
        "\n",
        "mul_pd2 = mulgul_engtim.time()\n",
        "print(\"\\n testing duration :\", mul_pd2-mul_pd1,\"\\n\")"
      ],
      "metadata": {
        "colab": {
          "base_uri": "https://localhost:8080/",
          "height": 668
        },
        "id": "xToeAOQGDtrc",
        "outputId": "b4a15251-eee4-4206-cc69-b90c79860354"
      },
      "execution_count": 45,
      "outputs": [
        {
          "output_type": "stream",
          "name": "stdout",
          "text": [
            "              precision    recall  f1-score   support\n",
            "\n",
            "           0       0.79      0.08      0.14     13954\n",
            "           1       0.52      0.98      0.68     14006\n",
            "\n",
            "    accuracy                           0.53     27960\n",
            "   macro avg       0.65      0.53      0.41     27960\n",
            "weighted avg       0.65      0.53      0.41     27960\n",
            "\n",
            "\n",
            " testing duration : 67.21222972869873 \n",
            "\n"
          ]
        },
        {
          "output_type": "display_data",
          "data": {
            "text/plain": [
              "<Figure size 640x480 with 2 Axes>"
            ],
            "image/png": "[encoded data removed]"
          },
          "metadata": {}
        }
      ]
    }
  ]
}